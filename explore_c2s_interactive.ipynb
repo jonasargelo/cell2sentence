{
 "cells": [
  {
   "cell_type": "markdown",
   "id": "0ec56f49",
   "metadata": {},
   "source": [
    "# Interactive Cell2Sentence Exploration\n",
    "\n",
    "This notebook helps you understand how Cell2Sentence works by allowing you to:\n",
    "1. Load a pretrained C2S model\n",
    "2. Query it interactively with gene lists\n",
    "3. Generate new cells conditioned on cell types\n",
    "4. Understand the prompt structure\n",
    "\n",
    "## Key Concepts:\n",
    "- **Cell Sentences**: Space-separated gene names ordered by expression level\n",
    "- **Cell Type Prediction**: Given genes → predict cell type\n",
    "- **Cell Generation**: Given cell type → generate gene list\n",
    "- **Embeddings**: Convert cells to numerical representations"
   ]
  },
  {
   "cell_type": "code",
   "execution_count": 2,
   "id": "7c28ee81",
   "metadata": {},
   "outputs": [],
   "source": [
    "# Import necessary libraries\n",
    "import os\n",
    "import torch\n",
    "from transformers import AutoModelForCausalLM\n",
    "import cell2sentence as cs\n",
    "from cell2sentence.prompt_formatter import C2SPromptFormatter, C2SMultiCellPromptFormatter\n",
    "import json"
   ]
  },
  {
   "cell_type": "code",
   "execution_count": null,
   "id": "570c9cbc",
   "metadata": {},
   "outputs": [
    {
     "name": "stdout",
     "output_type": "stream",
     "text": [
      "Available devices: 7 GPUs\n"
     ]
    }
   ],
   "source": [
    "# Print available devices\n",
    "print(\"Available devices:\", torch.cuda.device_count(), \"GPUs\")"
   ]
  },
  {
   "cell_type": "code",
   "execution_count": 3,
   "id": "97ee0ce3",
   "metadata": {},
   "outputs": [
    {
     "name": "stdout",
     "output_type": "stream",
     "text": [
      "Loading model from: models/C2S-Pythia-410m-diverse-single-and-multi-cell-tasks\n",
      "Using device: cuda\n"
     ]
    }
   ],
   "source": [
    "# Load the downloaded model\n",
    "model_path = \"models/C2S-Pythia-410m-diverse-single-and-multi-cell-tasks\"\n",
    "\n",
    "print(f\"Loading model from: {model_path}\")\n",
    "save_dir = \"./temp_interactive_model\"\n",
    "os.makedirs(save_dir, exist_ok=True)\n",
    "\n",
    "csmodel = cs.CSModel(\n",
    "    model_name_or_path=model_path,\n",
    "    save_dir=save_dir,\n",
    "    save_name=\"interactive_model\"\n",
    ")"
   ]
  },
  {
   "cell_type": "code",
   "execution_count": 4,
   "id": "a3617842",
   "metadata": {},
   "outputs": [
    {
     "name": "stdout",
     "output_type": "stream",
     "text": [
      "Model loaded on device: cuda\n"
     ]
    }
   ],
   "source": [
    "# Load the model for inference\n",
    "model = AutoModelForCausalLM.from_pretrained(\n",
    "    csmodel.save_path,\n",
    "    torch_dtype=torch.bfloat16,\n",
    "    trust_remote_code=True\n",
    ")\n",
    "model = model.to(csmodel.device)\n",
    "print(f\"Model loaded on device: {csmodel.device}\")"
   ]
  },
  {
   "cell_type": "markdown",
   "id": "06822292",
   "metadata": {},
   "source": [
    "## Understanding Prompt Templates\n",
    "\n",
    "Let's first look at how Cell2Sentence structures its prompts in the single and multi cell settings:"
   ]
  },
  {
   "cell_type": "code",
   "execution_count": 5,
   "id": "225610fb",
   "metadata": {},
   "outputs": [
    {
     "ename": "FileNotFoundError",
     "evalue": "[Errno 2] No such file or directory: '/home/j.argelo/cell2sentence/src/cell2sentence/cell2sentence/prompts/single_cell_cell_type_prediction_prompts.json'",
     "output_type": "error",
     "traceback": [
      "\u001b[0;31m---------------------------------------------------------------------------\u001b[0m",
      "\u001b[0;31mFileNotFoundError\u001b[0m                         Traceback (most recent call last)",
      "Cell \u001b[0;32mIn[5], line 2\u001b[0m\n\u001b[1;32m      1\u001b[0m \u001b[38;5;66;03m# Examine cell type prediction prompts\u001b[39;00m\n\u001b[0;32m----> 2\u001b[0m cell_type_formatter \u001b[38;5;241m=\u001b[39m \u001b[43mC2SPromptFormatter\u001b[49m\u001b[43m(\u001b[49m\u001b[43mtask\u001b[49m\u001b[38;5;241;43m=\u001b[39;49m\u001b[38;5;124;43m\"\u001b[39;49m\u001b[38;5;124;43mcell_type_prediction\u001b[39;49m\u001b[38;5;124;43m\"\u001b[39;49m\u001b[43m,\u001b[49m\u001b[43m \u001b[49m\u001b[43mtop_k_genes\u001b[49m\u001b[38;5;241;43m=\u001b[39;49m\u001b[38;5;241;43m100\u001b[39;49m\u001b[43m)\u001b[49m\n\u001b[1;32m      4\u001b[0m \u001b[38;5;28mprint\u001b[39m(\u001b[38;5;124m\"\u001b[39m\u001b[38;5;124mCell Type Prediction Prompts:\u001b[39m\u001b[38;5;124m\"\u001b[39m)\n\u001b[1;32m      5\u001b[0m \u001b[38;5;28mprint\u001b[39m(\u001b[38;5;124m\"\u001b[39m\u001b[38;5;124m=\u001b[39m\u001b[38;5;124m\"\u001b[39m \u001b[38;5;241m*\u001b[39m \u001b[38;5;241m50\u001b[39m)\n",
      "File \u001b[0;32m~/cell2sentence/src/cell2sentence/cell2sentence/prompt_formatter.py:92\u001b[0m, in \u001b[0;36mC2SPromptFormatter.__init__\u001b[0;34m(self, task, top_k_genes, random_seed)\u001b[0m\n\u001b[1;32m     90\u001b[0m \u001b[38;5;28mself\u001b[39m\u001b[38;5;241m.\u001b[39mprompts_dict \u001b[38;5;241m=\u001b[39m {}\n\u001b[1;32m     91\u001b[0m \u001b[38;5;28;01mif\u001b[39;00m task \u001b[38;5;241m==\u001b[39m \u001b[38;5;124m\"\u001b[39m\u001b[38;5;124mcell_type_prediction\u001b[39m\u001b[38;5;124m\"\u001b[39m:\n\u001b[0;32m---> 92\u001b[0m     \u001b[38;5;28;01mwith\u001b[39;00m \u001b[38;5;28;43mopen\u001b[39;49m\u001b[43m(\u001b[49m\u001b[43mHERE\u001b[49m\u001b[43m \u001b[49m\u001b[38;5;241;43m/\u001b[39;49m\u001b[43m \u001b[49m\u001b[38;5;124;43m\"\u001b[39;49m\u001b[38;5;124;43mprompts/single_cell_cell_type_prediction_prompts.json\u001b[39;49m\u001b[38;5;124;43m\"\u001b[39;49m\u001b[43m,\u001b[49m\u001b[43m \u001b[49m\u001b[38;5;124;43m\"\u001b[39;49m\u001b[38;5;124;43mr\u001b[39;49m\u001b[38;5;124;43m\"\u001b[39;49m\u001b[43m)\u001b[49m \u001b[38;5;28;01mas\u001b[39;00m f:\n\u001b[1;32m     93\u001b[0m         \u001b[38;5;28mself\u001b[39m\u001b[38;5;241m.\u001b[39mprompts_dict \u001b[38;5;241m=\u001b[39m json\u001b[38;5;241m.\u001b[39mload(f)\n\u001b[1;32m     94\u001b[0m \u001b[38;5;28;01melif\u001b[39;00m task \u001b[38;5;241m==\u001b[39m \u001b[38;5;124m\"\u001b[39m\u001b[38;5;124mcell_type_generation\u001b[39m\u001b[38;5;124m\"\u001b[39m:\n",
      "\u001b[0;31mFileNotFoundError\u001b[0m: [Errno 2] No such file or directory: '/home/j.argelo/cell2sentence/src/cell2sentence/cell2sentence/prompts/single_cell_cell_type_prediction_prompts.json'"
     ]
    }
   ],
   "source": [
    "# Examine cell type prediction prompts\n",
    "cell_type_formatter = C2SPromptFormatter(task=\"cell_type_prediction\", top_k_genes=100)\n",
    "\n",
    "print(\"Cell Type Prediction Prompts:\")\n",
    "print(\"=\" * 50)\n",
    "for i, template in enumerate(cell_type_formatter.prompts_dict[\"model_input\"][:3]):  # Show first 3\n",
    "    print(f\"Template {i+1}:\")\n",
    "    print(template)\n",
    "    print()\n",
    "\n",
    "print(\"Response format:\")\n",
    "print(cell_type_formatter.prompts_dict[\"response\"][0])"
   ]
  },
  {
   "cell_type": "code",
   "execution_count": 7,
   "id": "21657eff",
   "metadata": {},
   "outputs": [
    {
     "name": "stdout",
     "output_type": "stream",
     "text": [
      "Cell Generation Prompts:\n",
      "==================================================\n",
      "Template 1:\n",
      "Generate a list of {num_genes} genes in order of descending expression which represent a {organism} cell of cell type {cell_type}.\n",
      "Cell sentence:\n",
      "\n",
      "Template 2:\n",
      "Produce a list of {num_genes} gene names in descending order of expression which represent the expressed genes of a {organism} {cell_type} cell.\n",
      "Cell sentence:\n",
      "\n",
      "Response format:\n",
      "{cell_sentence}.\n"
     ]
    }
   ],
   "source": [
    "# Examine cell generation prompts\n",
    "cell_gen_formatter = C2SPromptFormatter(task=\"cell_type_generation\", top_k_genes=200)\n",
    "\n",
    "print(\"Cell Generation Prompts:\")\n",
    "print(\"=\" * 50)\n",
    "for i, template in enumerate(cell_gen_formatter.prompts_dict[\"model_input\"][:2]):  # Show first 2\n",
    "    print(f\"Template {i+1}:\")\n",
    "    print(template)\n",
    "    print()\n",
    "\n",
    "print(\"Response format:\")\n",
    "print(cell_gen_formatter.prompts_dict[\"response\"][0])"
   ]
  },
  {
   "cell_type": "code",
   "execution_count": 8,
   "id": "0a1690cc",
   "metadata": {},
   "outputs": [
    {
     "name": "stdout",
     "output_type": "stream",
     "text": [
      "Multi cell tissue prediction prompts:\n",
      "==================================================\n",
      "Template 1:\n",
      "The following is a list of {num_genes} gene names ordered by descending expression level for {num_cells} different {organism} cells. Your task is to give the tissue which these cells belong to based on their gene expression.\n",
      "Cell sentences:\n",
      "{multi_cell_sentences}.\n",
      "The tissue which these cells belong to is:\n",
      "\n",
      "Template 2:\n",
      "Below is a list of {num_genes} genes in decreasing order of expression in {num_cells} {organism} cells. Given this, predict the tissue which these cells belongs to.\n",
      "Cell sentences:\n",
      "{multi_cell_sentences}.\n",
      "The tissue which these cells originate from is:\n",
      "\n",
      "Response format:\n",
      "{tissue}.\n"
     ]
    }
   ],
   "source": [
    "# Examine tissue preditcion with multi cell prompts\n",
    "multi_cell_type_formatter = C2SMultiCellPromptFormatter(task=\"tissue_prediction\", top_k_genes=100)\n",
    "\n",
    "print(\"Multi cell tissue prediction prompts:\")\n",
    "print(\"=\" * 50)\n",
    "for i, template in enumerate(multi_cell_type_formatter.prompts_dict[\"model_input\"][:2]):  # Show first 2\n",
    "    print(f\"Template {i+1}:\")\n",
    "    print(template)\n",
    "    print()\n",
    "\n",
    "print(\"Response format:\")\n",
    "print(multi_cell_type_formatter.prompts_dict[\"response\"][0])"
   ]
  },
  {
   "cell_type": "markdown",
   "id": "0af66283",
   "metadata": {},
   "source": [
    "## Cell Type Prediction\n",
    "\n",
    "Now let's try predicting cell types from gene lists. Here are some example gene signatures:"
   ]
  },
  {
   "cell_type": "code",
   "execution_count": 9,
   "id": "346ad0e4",
   "metadata": {},
   "outputs": [
    {
     "name": "stdout",
     "output_type": "stream",
     "text": [
      "T cell signature: CD3D CD3E CD3G IL7R CCR7 LEF1 TCF7 LTB\n",
      "B cell signature: CD19 MS4A1 CD79A CD79B IGHM IGKC IGLC2 PAX5\n",
      "Monocyte signature: CD14 FCGR3A S100A8 S100A9 LYZ VCAN FCN1 CTSS\n",
      "NK cell signature: KLRD1 KLRF1 NCR1 GZMA GZMB PRF1 GNLY NKG7\n",
      "Dendritic cell signature: FCER1A CLEC4C IRF7 IRF8 CLEC10A CD1C CLEC9A\n"
     ]
    }
   ],
   "source": [
    "# Example gene signatures for different cell types\n",
    "example_signatures = {\n",
    "    \"T cell signature\": \"CD3D CD3E CD3G IL7R CCR7 LEF1 TCF7 LTB\",\n",
    "    \"B cell signature\": \"CD19 MS4A1 CD79A CD79B IGHM IGKC IGLC2 PAX5\",\n",
    "    \"Monocyte signature\": \"CD14 FCGR3A S100A8 S100A9 LYZ VCAN FCN1 CTSS\",\n",
    "    \"NK cell signature\": \"KLRD1 KLRF1 NCR1 GZMA GZMB PRF1 GNLY NKG7\",\n",
    "    \"Dendritic cell signature\": \"FCER1A CLEC4C IRF7 IRF8 CLEC10A CD1C CLEC9A\"\n",
    "}\n",
    "\n",
    "for cell_type, genes in example_signatures.items():\n",
    "    print(f\"{cell_type}: {genes}\")"
   ]
  },
  {
   "cell_type": "code",
   "execution_count": 10,
   "id": "31123cb8",
   "metadata": {},
   "outputs": [
    {
     "name": "stdout",
     "output_type": "stream",
     "text": [
      "Prompt:\n",
      "--------------------------------------------------\n",
      "The following is a list of 8 gene names ordered by descending expression level in a Homo sapiens cell. Your task is to give the cell type which this cell belongs to based on its gene expression.\n",
      "Cell sentence: CD3D CD3E CD3G IL7R CCR7 LEF1 TCF7 LTB.\n",
      "The cell type corresponding to these genes is:\n",
      "--------------------------------------------------\n",
      "\n",
      "Prediction: CD8-positive, alpha-beta memory T cell.\n",
      "Cell sentence: MALAT1 RPLP1 RPL41 RPL10 RPS12 RPL13 RPL28 RPS27 RPS18 RPL32 RPS15\n"
     ]
    }
   ],
   "source": [
    "def predict_cell_type(gene_list, organism=\"Homo sapiens\", verbose=True):\n",
    "    \"\"\"Predict cell type from a list of genes.\"\"\"\n",
    "    n_genes = len(gene_list.split())\n",
    "    \n",
    "    # Create prompt\n",
    "    formatter = C2SPromptFormatter(task=\"cell_type_prediction\", top_k_genes=n_genes)\n",
    "    prompt_template = formatter.prompts_dict[\"model_input\"][0]\n",
    "    prompt = prompt_template.format(\n",
    "        num_genes=n_genes,\n",
    "        organism=organism,\n",
    "        cell_sentence=gene_list\n",
    "    )\n",
    "    \n",
    "    if verbose:\n",
    "        print(f\"Prompt:\")\n",
    "        print(\"-\" * 50)\n",
    "        print(prompt)\n",
    "        print(\"-\" * 50)\n",
    "    \n",
    "    # Generate prediction\n",
    "    response = csmodel.generate_from_prompt(\n",
    "        model=model,\n",
    "        prompt=prompt,\n",
    "        max_num_tokens=50,\n",
    "        temperature=0.1,  # Low temperature for consistent predictions\n",
    "        do_sample=True\n",
    "    )\n",
    "    \n",
    "    return response.strip()\n",
    "\n",
    "# Test with T cell signature\n",
    "t_cell_genes = \"CD3D CD3E CD3G IL7R CCR7 LEF1 TCF7 LTB\"\n",
    "prediction = predict_cell_type(t_cell_genes)\n",
    "print(f\"\\nPrediction: {prediction}\")"
   ]
  },
  {
   "cell_type": "code",
   "execution_count": 11,
   "id": "393c7b8b",
   "metadata": {},
   "outputs": [
    {
     "name": "stdout",
     "output_type": "stream",
     "text": [
      "Prompt:\n",
      "--------------------------------------------------\n",
      "The following is a list of 8 gene names ordered by descending expression level in a Homo sapiens cell. Your task is to give the cell type which this cell belongs to based on its gene expression.\n",
      "Cell sentence: CD19 MS4A1 CD79A CD79B IGHM IGKC IGLC2 PAX5.\n",
      "The cell type corresponding to these genes is:\n",
      "--------------------------------------------------\n",
      "\n",
      "Prediction: plasma cell.\n",
      "Cell sentence: MALAT1 RPLP1 RPL41 RPL10 RPS27 EEF1A1 RPL13 RPL13A RPS18 RPS6 RPL18A RPL34 RPS\n"
     ]
    }
   ],
   "source": [
    "# Test with B cell signature\n",
    "b_cell_genes = \"CD19 MS4A1 CD79A CD79B IGHM IGKC IGLC2 PAX5\"\n",
    "prediction = predict_cell_type(b_cell_genes)\n",
    "print(f\"\\nPrediction: {prediction}\")"
   ]
  },
  {
   "cell_type": "code",
   "execution_count": 12,
   "id": "4efc0ff6",
   "metadata": {},
   "outputs": [
    {
     "name": "stdout",
     "output_type": "stream",
     "text": [
      "Prompt:\n",
      "--------------------------------------------------\n",
      "The following is a list of 152 gene names ordered by descending expression level in a Homo sapiens cell. Your task is to give the cell type which this cell belongs to based on its gene expression.\n",
      "Cell sentence: MALAT1 B2M TMSB4X RPS27 TMSB10 RPLP1 RPL13 RPL10 RPS3 MT-CO1 RPL21 RPS19 RPS23 RPL31 IL32 RPL13A EIF1 RPS3A RPL5 RPL18A RPS2 RPS15A RPL19 RPS4X RPS28 RPLP2 RPS27A RPS14 RPL35 RPL30 RPL15 RPS6 ACTB RPL23A RPL3 RPS15 RPL34 RPS18 RPS29 RPL27A RPL28 RPL26 RPL14 RPL39 RPS12 RPS7 RPL7 RPS8 RPL11 RPL18 MT-ND1 RPL32 RPL29 RPS16 RPL10A RPL9 GPR183 RPL36 PFN1 MT-ND4 RACK1 RPL7A RPS24 ATP5E ACTG1 MT-CYB RPS13 HLA-A RPS20 RPL37A RPS26 HLA-B ACTR2 RPL12 RPL37 RPL41 RPL38 RPLP0 RPL6 FTH1 RPL4 RPL27 RPL36AL RPL8 S100A6 S100A4 RPSA MT-CO2 RPL22 RPL23 ZFP36L2 EEF1A1 RPL24 PTMA UBA52 NACA RPS25 RPL17 HINT1 RPS9 MYL6 TRBC2 NOP53 CD52 PFDN5 EEF1B2 ITM2B MT-RNR2 CORO1A RPL35A DDX5 EEF1D LTB MT-ATP6 RPL36A TOMM7 FTL HLA-C MT-ND2 TPT1 RPS10 BTG1 MT-ND3 RPS5 FAU MT-CO3 RPS11 RPS17 CD3D EEF2 RPL9P9 BTF3 COX7C HLA-E PPIA EIF3E CORO1B MYL12A ARHGDIB RPL7P9 ITGB1 LDHB FXYD5 CD3E UQCRB ARHGEF1 PPDPF HNRNPA1 HNRNPA2B1 CD2 PABPC1 MT-RNR1.\n",
      "The cell type corresponding to these genes is:\n",
      "--------------------------------------------------\n",
      "\n",
      "Prediction: T cell.\n"
     ]
    }
   ],
   "source": [
    "# Try your own gene list!\n",
    "# Modify this cell to test different gene combinations\n",
    "custom_genes = \"MALAT1 B2M TMSB4X RPS27 TMSB10 RPLP1 RPL13 RPL10 RPS3 MT-CO1 RPL21 RPS19 RPS23 RPL31 IL32 RPL13A EIF1 RPS3A RPL5 RPL18A RPS2 RPS15A RPL19 RPS4X RPS28 RPLP2 RPS27A RPS14 RPL35 RPL30 RPL15 RPS6 ACTB RPL23A RPL3 RPS15 RPL34 RPS18 RPS29 RPL27A RPL28 RPL26 RPL14 RPL39 RPS12 RPS7 RPL7 RPS8 RPL11 RPL18 MT-ND1 RPL32 RPL29 RPS16 RPL10A RPL9 GPR183 RPL36 PFN1 MT-ND4 RACK1 RPL7A RPS24 ATP5E ACTG1 MT-CYB RPS13 HLA-A RPS20 RPL37A RPS26 HLA-B ACTR2 RPL12 RPL37 RPL41 RPL38 RPLP0 RPL6 FTH1 RPL4 RPL27 RPL36AL RPL8 S100A6 S100A4 RPSA MT-CO2 RPL22 RPL23 ZFP36L2 EEF1A1 RPL24 PTMA UBA52 NACA RPS25 RPL17 HINT1 RPS9 MYL6 TRBC2 NOP53 CD52 PFDN5 EEF1B2 ITM2B MT-RNR2 CORO1A RPL35A DDX5 EEF1D LTB MT-ATP6 RPL36A TOMM7 FTL HLA-C MT-ND2 TPT1 RPS10 BTG1 MT-ND3 RPS5 FAU MT-CO3 RPS11 RPS17 CD3D EEF2 RPL9P9 BTF3 COX7C HLA-E PPIA EIF3E CORO1B MYL12A ARHGDIB RPL7P9 ITGB1 LDHB FXYD5 CD3E UQCRB ARHGEF1 PPDPF HNRNPA1 HNRNPA2B1 CD2 PABPC1 MT-RNR1\"  # Change this\n",
    "prediction = predict_cell_type(custom_genes)\n",
    "print(f\"\\nPrediction: {prediction}\")"
   ]
  },
  {
   "cell_type": "markdown",
   "id": "97500a92",
   "metadata": {},
   "source": [
    "## Cell Generation\n",
    "\n",
    "Now let's try generating cells conditioned on cell types:"
   ]
  },
  {
   "cell_type": "code",
   "execution_count": 13,
   "id": "61dc6ceb",
   "metadata": {},
   "outputs": [
    {
     "name": "stdout",
     "output_type": "stream",
     "text": [
      "Prompt:\n",
      "--------------------------------------------------\n",
      "Generate a list of 30 genes in order of descending expression which represent a Homo sapiens cell of cell type T cell.\n",
      "Cell sentence:\n",
      "--------------------------------------------------\n",
      "\n",
      "Generated T cell: MALAT1 RPL10 MT-CO3 RPS12 RPLP1 RPS3 RPL13 RPS2 RPS27 RPL11 RPLP2 RPL30 RPS14 RPS15A RPL39 RPL32 MT-CO1 RPL28 RPS19 RPL37 RPS27A RPS3A RPL34 RPL19 RPL14 RPL29 RPL12 RPL35A RPL18A RPS15 RPL13A TPT1 RPS23 RPS8 RPL26 RPS13 EEF1A1 RPS4X RPS16 RPS28 MT-ND1 RPS18 RPL3 RPL18 TMSB4X MT-CO2 MT-ND3 RPS6 RPS25 RPL36 RPL7A B2M RPS5 RPS7 RPL24 RPS9 RPL41 TMSB10 MT-ND4 RPL23A RPL9 RPL5 CD74 RPL8 RPS24 RPL21 RPL27A RPL35 FAU RPS29 RPL27 PFDN5 MT-ATP6 RPSA RPL38 RPS21 RPL7 RPS11 NACA RPL31 RPL17 RPL15 S100A4 HLA-DRA HLA-B RPS20 PTMA EIF1 IGHM BTF3 SARAF EEF1B2 HLA-C FTL MT-RNR2 RPL36A HLA-A PABPC1 COX4I1 HLA-DRB1 PFN1 ATP5MG MT-CYB CD52 RACK1 RPL37A COX7C RPL23 MT-RNR1 UBA52 HLA-DPB1 ACTB SNHG29 COX7B BTG1 RPL10A TOMM7 CD37 TOMM20 GNAS NOP53 FTH1 SLC25A6 FXYD5 PPP1R2 RPL4 ZFAS1 LTB EEF1D GYPC RPS4Y1 CORO1A NOP10 ATP5F1E LDHB EEF2 SERF2 UBC ARPC2 HNRNPA1 POU2F2 ITM2B RPL22 CD48 HSP90AB1 EEF1G COX7A2 PNRC1 RPS17 HNRNPA2B1 LAMTOR4\n"
     ]
    }
   ],
   "source": [
    "def generate_cell(cell_type, n_genes=50, organism=\"Homo sapiens\", verbose=True):\n",
    "    \"\"\"Generate a cell sentence given a cell type.\"\"\"\n",
    "    \n",
    "    # Create prompt\n",
    "    formatter = C2SPromptFormatter(task=\"cell_type_generation\", top_k_genes=n_genes)\n",
    "    prompt_template = formatter.prompts_dict[\"model_input\"][0]\n",
    "    prompt = prompt_template.format(\n",
    "        num_genes=n_genes,\n",
    "        organism=organism,\n",
    "        cell_type=cell_type\n",
    "    )\n",
    "    \n",
    "    if verbose:\n",
    "        print(f\"Prompt:\")\n",
    "        print(\"-\" * 50)\n",
    "        print(prompt)\n",
    "        print(\"-\" * 50)\n",
    "    \n",
    "    # Generate cell\n",
    "    response = csmodel.generate_from_prompt(\n",
    "        model=model,\n",
    "        prompt=prompt,\n",
    "        max_num_tokens=512,\n",
    "        temperature=0.8,\n",
    "        do_sample=True\n",
    "    )\n",
    "    \n",
    "    return response.strip()\n",
    "\n",
    "# Generate a T cell\n",
    "generated_cell = generate_cell(\"T cell\", n_genes=30)\n",
    "print(f\"\\nGenerated T cell: {generated_cell}\")"
   ]
  },
  {
   "cell_type": "code",
   "execution_count": 14,
   "id": "342767ea",
   "metadata": {},
   "outputs": [
    {
     "name": "stdout",
     "output_type": "stream",
     "text": [
      "\n",
      "==================================================\n",
      "Generating B cell:\n",
      "Generated: FTL FTH1 CD74 CSTB EEF1A1 MALAT1 RPLP1 TPT1 RPL10 RPS18 RPL13 RPS6 C1QC RPL28 RPL13A TMSB4X RPS12 RPL41 RPS2 RPL32 RPS23 RPL19 RPS14 RPL11 RPL18A RPL12 RPS8 TMSB10 RPS3A RPL3 RPL8 RPS19 RPS15 RPL37A RPL29 RPS4X RPS27 RPS3 RPL21 RPL30 RPS24 RPL34 B2M RPL15 RPL7A RPS15A RPL9 RPLP0 RPL18 RPL27A RPS28 RPS7 RPS27A RPS9 RPS25 RPSA GAPDH RPL23A RPL39 RPLP2 RPL26 RPL35A RPL10A RACK1 RPL6 RPL5 ACTB RPS13 RPS16 RPS5 RPL35 RPL37 RPL14 RPL36 AIF1 RPL7 C1QA RPL24 RPS29 UBA52 HLA-DRA RPS20 RPL27 FAU RPL38 TYROBP RPL4 RPS17 RPS11 RPL31 RPS26 RPL22 RPL23 PSAP SLC40A1 PFN1 TIMP1 APOE RPL36A RPL31-AS1 S100A11 ACTG1 COX4I1 HLA-DPA1 RPS21 H3-3A CD5L HLA-E HNRNPA1 OAZ1 ATP5F1E RPS10 FCGRT HSP90AB1 CORO1A PABPC1 SLC25A6 EEF2 ZFP36L1 NACA SERF2 PFDN5 ZFP36L2 MT-CO3 TOMM7 COTL1 TALDO1 SRGN ZFP36 LST1 MT-CO2 MS4A6A SELENOP MS4A7 CD68 EEF1B2 MT-ND4L MT-ND4 TKT H3-3B GSTP1 CFL1 PYCARD EIF3E CYBA BTF3 EIF1 ATP5MC2 ATP5MG PTMA PLD4 HMGB1 HSP90AA\n",
      "\n",
      "==================================================\n",
      "Generating monocyte:\n",
      "Generated: RPLP1 RPL28 RPS12 RPL32 RPL10 RPL30 RPL34 RPS8 RPS13 MT-CO1 RPL11 RPS14 RPS28 RPL39 RPS15 RPL36 RPL12 RPL13 RPSA RPL41 RPS3 RPS19 RPL29 RPS4X RPS27A RPL19 ACTB TPT1 RPL35A RPL37 RPS26 RPL18 RPS3A RPS5 RPL21 RPS2 RPL7A RPL8 RPS23 RPL18A RPL24 RPS15A RPLP2 RPS24 TMSB4X RPS6 MT-CO3 RPL9 RPS18 RPS16 RPL13A FAU RPL6 MT-ND3 RPS21 RPS27 FTL RPL3 RPL15 RPL23A RPL37A RPL5 EEF1A1 MT-CO2 B2M RPL22 RPS7 FTH1 RPL14 NACA EEF1B2 RPS9 RPL26 RPL27A MT-ND4 RPL31 S100A4 COX7C MT-ATP6 MTRNR2L12 RPL35 COX4I1 RPL38 RPS20 EIF3E UBA52 COTL1 LRRC75A RPL28P7 TMSB10 PFN1 TOMM7 ATP5E RPL36AL RPL7 RPS11 UQCRB BTF3 PFDN5 COX7A2 GAPDH RPL10A ATP5G2 RPLP0 SRP14 MT-ND1 RPS25 RPS29 UQCRQ RPL23 RPS17 ATP5L RPL36A MT-CYB PTMA RPL27 RACK1 SERF2 RPL31P9 RPL4 ZFAS1 LDHB CHCHD2 ATP5G3 EEF2 SNHG8 RPL9P9 SRGN MT-ND2 MYL6 RPL18AP3 UQCR11 S100A11 RPL10P9 HINT1 SH3BGRL3 EEF1D ZFP36L1 COMMD6 ATP6V1G1 MYL12A CD52 ACTG1 DDX5 GZMM CD37 ACTR3 VAMP2 COMMD3 H3\n",
      "\n",
      "==================================================\n",
      "Generating NK cell:\n",
      "Generated: MALAT1 TMSB4X HLA-B RPL10 RPS27 B2M RPL41 RPS29 RPS18 RPL13A RPL13 EEF1A1 RPLP1 RPS15A RPS12 RPL34 DUSP2 RPS15 RPL11 RPLP2 RPL27A RPS19 RPL37A RPS27A ACTB RPL39 RPS3A RPL3 TPT1 RPL15 TMSB10 RPL9 RPS3 RPL32 RPS28 RPS24 RPL21 RPS21 RPL19 RPL18A RPS6 RPL30 TXNIP RPL23A RPL26 MT-CO1 RPS2 RPS23 RPS13 RPL35A RPL8 RPL14 JUN RPL37 RPL7 FAU RPS7 PTMA RPSA RPL28 CCL4 RPL7A RPL31 RPL10A RPS9 RPL29 BTG1 RPS25 RPS8 RPS16 RPS5 ACTG1 RPL27 MT-ND4 RPL18 RPL36 RPL5 RPL6 RPL4 MT-CO2 SERF2 RPS4X GAPDH RPLP0 MT-ATP6 MT-CO3 RPL38 RACK1 RPS14 CD52 RPL22 EIF1 UBA52 JUNB H3-3B ZFP36L2 RPL12 IL32 PFN1 RPL35 RPL24 PABPC1 RPS17 RPS20 FOS UBC TOMM7 UQCRB RPS11 ARHGDIB FTH1 RPS26 HLA-E MT-ND2 EEF1D S100A4 RPL23 HLA-A BTF3 JUND CFL1 MT-ND1 CD3D HNRNPA1 CORO1A RPL36A ZFP36 TOMM20 RPS10 SRP14 LTB ZFAS1 LINC01871 SLC2A3 HINT1 GZMK NPM1 RPL17 C1ORF56 RPL36AL PFDN5 MTRNR2L12 CD74 BTG2 CD3E SH3BGRL3 CALM1 CD48 HLA-C RBM3 NACA GADD45B JCHAIN CALM2 TPM3 UQCRH HSP\n",
      "\n",
      "==================================================\n",
      "Generating dendritic cell:\n",
      "Generated: MALAT1 TMSB10 RPLP1 RPL10 TPT1 RPS27 RPS6 RPL13 RPS3A RPS18 RPS14 RPL32 RPL41 RPL37 RPL18A RPS12 RPL34 RPS23 RPS4X RPS15A RPL30 RPL39 RPL18 RPS15 RPS2 MT-ND3 MT-CO3 RPS24 MT-CO1 RPS3 RPL3 RPL11 RPS25 RPL35A RPL8 RPS27A RPL19 RPL12 RPS29 RPL21 RPL9 RPL26 RPL13A RPL23A RPS8 EEF1A1 RPS13 RPL7 RPS5 RPL14 RPL5 RPSA RPL28 RPL35 RPS16 FTH1 RPS19 RPL37A RPL27A RPL10A MT-CYB RPS9 RPL38 RPL22 RACK1 RPL27 RPS28 MT-ND4 RPL24 PTMA RPL36 RPS21 RPS20 MT-CO2 RPS7 RPL7A FAU RPL31 RPL29 RPL23 RPS11 RPL6 NACA RPL15 GAPDH RPLP2 B2M UBA52 RPL36A COX7C NPM1 MT-ATP6 H3-3A BTF3 MT-ND2 ACTB PFDN5 RPS17 EIF1 NOP53 HSP90AB1 EIF3E COX4I1 CD3E LTB MT-ND1 HSP90AA1 ACTG1 RPL4 TMSB4X HINT1 COX6A1 BTG1 COX6B1 CD3D EEF1B2 HNRNPA1 RPLP0 EIF3H SNHG32 SLC25A6 FTL EEF1D HLA-B SRP14 COX7A2 UQCRB LDHB PFN1 SERF2 HSPA8 SLC25A5 TOMM7 EEF2 CD3G HSPB1 H3-3B PPA1 HNRNPC FXYD5 NAP1L1 COX5B AIF1 TMA7 PABPC1 UQCRH TSC22D3 HLA-A ATP5MG PPDPF ARL6IP4 HNRN\n"
     ]
    }
   ],
   "source": [
    "# Generate different cell types\n",
    "cell_types_to_generate = [\"B cell\", \"monocyte\", \"NK cell\", \"dendritic cell\"]\n",
    "\n",
    "for cell_type in cell_types_to_generate:\n",
    "    print(f\"\\n{'='*50}\")\n",
    "    print(f\"Generating {cell_type}:\")\n",
    "    generated = generate_cell(cell_type, n_genes=20, verbose=False)\n",
    "    print(f\"Generated: {generated}\")"
   ]
  },
  {
   "cell_type": "markdown",
   "id": "e26cfda8",
   "metadata": {},
   "source": [
    "## Multi cell tissue prediction"
   ]
  },
  {
   "cell_type": "code",
   "execution_count": 15,
   "id": "a51cb734",
   "metadata": {},
   "outputs": [
    {
     "name": "stdout",
     "output_type": "stream",
     "text": [
      "The following is a list of {num_genes} gene names ordered by descending expression level for {num_cells} different {organism} cells. Your task is to give the tissue which these cells belong to based on their gene expression.\n",
      "Cell sentences:\n",
      "{multi_cell_sentences}.\n",
      "The tissue which these cells belong to is:\n"
     ]
    }
   ],
   "source": [
    "task_name = \"tissue_prediction\"\n",
    "multi_cell_tissue_formatter = C2SMultiCellPromptFormatter(\n",
    "    task=task_name,\n",
    "    top_k_genes=100\n",
    ")\n",
    "\n",
    "multi_cell_tissue_prompt = multi_cell_tissue_formatter.prompts_dict[\"model_input\"][0]\n",
    "print(multi_cell_tissue_prompt)"
   ]
  },
  {
   "cell_type": "code",
   "execution_count": 16,
   "id": "1c7c0bb7",
   "metadata": {},
   "outputs": [],
   "source": [
    "# Control and perturbed (CEBPE+CEBPB) from norman dataset\n",
    "control_cell = \"MT-CO2 MT-CO3 RPLP1 RPS27 RPS18 MT-CO1 RPS12 RPS8 RPS2 RPL13A MT-ND4 EEF1A1 RPL34 RPS23 RPS19 FTL RPS29 RPL32 RPS14 RPL19 RPS28 RPL37A MT-ATP6 RPS16 RPL21 RPL7 RPS3 MT-ND2 RPL3 RPS27A YBX1 RPL28 RPL39 RPL15 RPLP0 RPL35A RPS4X RPL13 RPL37 RPLP2 RPL9 RPS3A FTH1 RPS15 RPS15A RPL18A RPL29 RPL12 RPL8 RPS25 RPS7 RPS24 RPS17 RPL27A RPS13 RPS21 MT-ND1 RPL4 RPL11 RPL36 RPS6 RPSA RPS5 RPS20 RPL38 RPL7A MT-CYB RPL10 RPL18 RPL10A RPL14 RPL30 RPL24 UQCRH RPL6 RPL35 RPL31 TMA7 RPL22 FAU MT-ND3 RPL23A GAPDH RPL41 RPL26 TMSB4X RPL23 PPIA UBA52 OAZ1 HINT1 TPT1 RPS11 SERF2 EEF2 SDF2L1 RPS9 NACA RPL5 HMGN1 HSPE1 RANBP1 PTMA HMGA1 COX7A2 RPL27 APOC1 BTF3 NDUFB10 SNRPG HNRNPA1 PABPC1 EEF1B2 YDJC PPP1R14B PFN1 HSPD1 CALR DDX1 CHCHD2 PITX1 HSP90AB1 MT-ND5 COX7C GPX4 EIF3K UBL5 SET UBAC1 B2M SERBP1 UQCR11 UBB EIF5B PGP RPS26 NPM1 NEDD8 APRT TMEM14B ENO1 COX4I1 COX5B NDUFAB1 SLIRP GYPC CST3 HNRNPC HSP90B1 APOBEC3C DDX21 NCL TUBA1B PSMA4 JTB LDHA AP2B1 SRM COX6B1 EIF5A CCDC28B MT-ND4L EIF3I COX7B GADD45GIP1 SERPINB6 TRMT2A NME4 UBE2L3 UQCRQ NDUFB9 GOT2 COX5A SOD1 SON PEBP1 NAP1L1 NSA2 ATP1B3 NDUFA11 ACTG1 RPL36AL TMEM258 MTPN SRSF9 TUBA1C C19orf53 CCNI BCAT1 ATP6V0B SNRPE TMSB10 RBBP7 HMGN3 TOMM20 OST4 PA2G4 ROMO1 COMT EIF3H POMP IMMP1L ACTB PRELID1 ENY2 PARK7 MRPL36 EIF3F PPA1 GSTP1 ANP32B FADS1 GTF3A TMEM160 SUMO1 METTL5 SNX5 SNX3 NDUFB1 NDUFAF2 EIF3E GMPR CCT8 SNRPF SNRPD1 PGK1 EMC6 NDUFS5 ARL15 GTF3C6 GTPBP4 CFL1 GYPB SRRM1 RAN SRSF5 HBZ ZNF22 HDDC2 ATP6V1F DNAJA1 HNRNPA2B1 HES6 SDHC HMGB1 SUB1 SUMO3 NDUFS6 CMSS1 NDUFS7 NDUFS8 PFDN5 UQCRFS1 UQCRC1 FAM200B COA1 TADA3 LYL1 YIF1B AKIRIN1 CMBL RGS10 IMP3 PCBD1 YBX3 LUC7L3 SNRPD2 CCT4 KRT18 RPS27L CUTA MRPL52 MRPL57 DDT MRPS21 MRPS34 SMARCA4 SLC25A6 MRPL35 LSMEM2 PTBP1 ACP1 POLR1D CBX3 LSM12 SLC25A5 SLC25A37 CAPZA1 MARCKSL1 MTDH TOR1AIP2 METAP2 TOP2A C1QBP PSMA5 C4orf3 LDHB PSMA7 MIEN1 PSMB2 CAP1 C9orf78 LAPTM4B LAMTOR5 PPP1CA TPM3 ZNHIT1 PSMD11 PRAME ZBTB8OS POLR2L ATF7IP2 NAA10 RNF126 YWHAZ KIFAP3 THOC2 SNF8 PTP4A2 KIAA0319L SNRNP25 PKIG COQ4 SSU72 BNIP3L MYC SFPQ SNRPB PICALM DSTN COX6C SRP14 PRPF40A PSMC6 CTAG2 SRSF1 PAFAH1B2 CTU1 SRRM2 OSBPL9 CISD2 DDB1 DCUN1D5 DAZAP1 SEC62 YWHAB DIS3 SIVA1 DAP SRSF10 PHF20 GUK1 ZC3HAV1 SLC7A5 FBXO9 DCTN3 SRSF11 FBXL20 HIGD2A HGS PPP1R18 ANAPC16 CSTF3 YRDC BID PIM2 ANAPC11 SFXN1 ASH1L XPR1 EZH2 RANBP10 ANXA2 PTS HDDC3 ALDOA HDAC6 SRSF7 HDAC1 VDAC1 SLC38A5 CKB PHKB CSNK2A1 SRSF3 RAD21 PGAM1 GTF2A2 PDCD10 DEK PDE4DIP POLR2E CMTM6 UPF3B CNBP CNOT7 PDLIM7 CNPY2 FKBP8 ARPC1A QPRT PLTP VBP1 PTGES3 ZNF131 SMIM4 FKBP3 FIS1 UQCRB PRKAR2A COX7A2L GALNT1 PRR13 COX8A CYCS GOLGB1 PFDN2 PNN COX20 FAM120AOS SLC27A5 GNG5 PPDPF PPARGC1B PAK2 GAL PRRC2B PWP1 GSPT1 DDX46 PRDX1 SPN PARP1 PRDX2 SMYD3 PRDX3 COX14 PRMT2 FUS ATF4 PSME3 FBL PSMG3 FAM222B SNRPC CLPX GPS1 POLR2J CLTA PCGF6 PCNP COX6A1 UBL7 EIF1AX TIMM8B CCDC59 APOE RNF181 TXNL4A THRAP3 DYNLL1 CCDC137 TIMM13 TIMM44 ZNF664 MTCH2 EEF1D MT1X MRPS12 TIMMDC1 CBX5 ACP5 APPL1 KPNA6 KPNB1 KRT10 TMA16 ZNF706 MRPS33 TMED4 MRPS15 MYL12A RSF1 MYL6 MYL6B CDC42 EIF4B CDC16 EIF3M NDUFC1 NDUFB7 EIF3J NDUFB4 NDUFA8 EIF3D NDUFA3 S100A4 S100A13 CCT7 KCNH2\"\n",
    "perturbed_cell = \"MT-CO3 TMSB4X FTL MT-CO2 RPS27 MT-CO1 EEF1A1 RPS14 RPL34 FTH1 RPS18 MT-ND4 RPLP1 RPL37 RPS29 MT-ATP6 RPS4X RPL13A MT-CYB RPS8 RPS2 RPS19 TPT1 RPL28 RPL32 RPS3 RPS7 RPS27A MT-ND1 RPL37A MT-ND2 RPS12 RPS3A RPL21 RPL13 ACTB RPL39 RPL6 RPL9 RPS24 RPL27A RPL11 RPS28 RPS15 RPS11 RPL15 RPLP0 OAZ1 RPL10 RPL30 MT-ND3 RPS20 RPS15A RPL35 RPL41 YBX1 RPL5 RPS23 RPL29 RPL8 RPL19 RPL14 TMA7 RPL4 RPL10A RPL18A TYROBP RPLP2 RPS17 RPL7 UBA52 GAPDH UQCRH PTMA CFD HMGB1 RPL12 PFN1 RPS25 RPL35A RPSA B2M RPL24 COX7C UQCR11 SUB1 RPL36 HMGN1 RPL18 COX5B SRP14 VIM LST1 PTP4A2 CFL1 SUMO2 NACA RPL7A SH3BGRL3 PRAME SERF2 TMSB10 COX8A FAU CEBPE RPL23 EDF1 CSF3R CHCHD2 SNX3 MPC2 LMO4 PRR13 MSN DBI FAM118A NDUFS5 UBE2L3 MTCH1 COX7A2 FKBP1A RPS6 EIF2S2 RPS21 RPS26 GPX4 LSM6 CAP1 RPL22 HMGN2 MS4A3 PET100 PFDN5 UBL5 RPL23A LSM2 CDCA7 NUCKS1 ITM2B LDHB HMGN3 AURKAIP1 LAMTOR4 RPL27 RPS16 COTL1 PGAM1 ZNF207 UBB UBC COX4I1 GTF2I SLC25A3 PPIA RPS13 PGP TMBIM6 COX7B MYL6 ARHGDIB LGALS1 AGO1 HSP90AA1 SLC25A6 TMED9 MT-ND5 CLIC1 RPL3 SNRPG YWHAH SRSF9 BSG USP20 SRSF3 ARPC5 SRRM2 ARPC3 MYO1F ARPC2 ARPC1B MORF4L1 CIRBP MSRB1 CLC CALM2 DEK MARCKSL1 COMMD6 IQGAP2 CHAF1A RABL6 SAT1 CD63 NDUFA4 FAM89A POMP EIF3K COX6C PNRC1 TMEM219 MRPS16 TUBA1B SERBP1 BUD31 MRPL13 SLC39A3 CCT5 TEX30 COX6A1 SVIP PKM BANF1 UQCRFS1 PHF19 EIF3F SON CELF2 COX17 METTL9 PPIL2 RPS5 SET MYL12A RAB4A CMTM7 RPL38 COX6B1 PCBP2 CIZ1 UCP2 DGCR6L PGLS GPBP1 LIMD2 PEBP1 SOX4 PPP1CA HINT1 NCL PPP6R1 RPL26 BTG1 CCNI HNRNPA1 RSF1 PPP1CB RMI2 PRDX5 ALDOA PYCARD MBOAT7 PPP1R18 TNNT1 TOMM7 ATP6V1F CKLF ATP6V1G1 ACTG1 EEF2 RPL31 WASF2 ELF1 SRSF11 DGUOK SRSF10 POLR2J3 METTL23 HPRT1 FAM32A COPS7A GLIPR1 TKT ANKRD28 CORO1A MFHAS1 NOTCH1 RAB1A CTSC QPRT TOR1A TRA2B TIMM17A SLC35E2B C14orf119 MRPL20 MIB2 BEST1 ANXA2 PPDPF ANP32B MRPL47 MRPL10 PPHLN1 SNX5 CCDC124 YTHDC1 LMNA TPM3 POLR2L ADRM1 COMMD9 EEF1B2 RPL36AL LARP1B SNRPE CANX CALM1 DYRK1A TRPM4 USP32 HVCN1 PPP3R1 NUDT22 LCP1 TMEM167A ISY1 RSL24D1 BTF3 PLEK TMEM14C TMEM14B CAPNS1 DNMT1 PLD3 ICMT SMC4 ZMAT2 BRI3 ZDHHC12 ANAPC13 ANAPC11 PMVK MORF4L2 SCAND1 SLIRP BRK1 RTN4 IDH2 RTN3 CRLS1 TRMT112 SMAD4 LAPTM5 OAZ2 SMAD5 FAM89B NUDT1 NUDCD2 AIF1 SNRNP25 BIRC2 CSTB PPM1G S100A11 ANKRD11 NONO PTPN7 MRPS33 NSRP1 SLBP NOP10 CYBA PPIG WDR62 SNRPB2 TLN1 SNRPD1 CBX3 CBFA2T3 TNFAIP8 BMI1 CASP8AP2 C4orf48 HSPB11 HSPB1 HSPA8 LENG8 ZMYND8 HSP90AB1 TMED5 WDR83OS RUNX1 RANBP1 C4orf3 RPS9 ALAS1 ZNF138 ZC3H15 PPM1N FUS TMA16 EEF1D COMMD3 PARK7 SPG21 SPI1 PRMT2 PARL CD37 GOLIM4 CLPX DDX52 HDDC2 UBE2D2 UBE2M MCCC2 FLCN ATP11B UBE2I PSMA3 EIF5A ETFB HDAC3 VAMP8 CLU RNF130 UQCR10 HEPH BAG6 CHP1 KCNE3 NAA38 RBM26 STAU2 CNIH4 NDUFA3 NDUFA2 SETD2 CCT4 MTRF1L ARIH2 EIF3I EIF3J RNF145 HES6 ATOX1 CMTM6 DECR2 SPN TXNIP RING1 CCDC174 RCC2 SRA1 PAIP2 LSM3 ATRX SRI TAOK3 EMP3 SSR2 RBMX SSNA1 SRSF2 P4HB SSH2 SSBP1 MYB ERH ATP6AP1 TAF10 OSTC OST4 OSBPL9 CDCA7L ACTN1 PAPOLA RNASEH2C PGK1 RHEB TBL1XR1 PSMA7 PGD ARL15 TBCA VPS16 PSMB1 VPS13C UBE2S RHOA RMND5B GYG1 ZNF83 TBC1D20 NDUFAF3 KIAA0100 PIP4K2A MZT2B ATG16L2 RGS10 NDUFS7 TFDP2 HMGA1 HMGB2 NDUFV2 PCBP1 EPM2AIP1 PRKAG1 PIM1 DHFR\"\n",
    "n_genes = len(control_cell.split())\n"
   ]
  },
  {
   "cell_type": "code",
   "execution_count": 17,
   "id": "6e321237",
   "metadata": {},
   "outputs": [],
   "source": [
    "multi_cell_sentences = f\"Cell 1:\\n{control_cell}\\nCell 2:\\n{perturbed_cell}\\n\"\n",
    "\n",
    "filled_prompt = multi_cell_tissue_prompt.format(\n",
    "    num_genes=n_genes,\n",
    "    num_cells=2,\n",
    "    organism='human',\n",
    "    multi_cell_sentences=multi_cell_sentences\n",
    ")\n"
   ]
  },
  {
   "cell_type": "code",
   "execution_count": 18,
   "id": "e2daab6b",
   "metadata": {},
   "outputs": [],
   "source": [
    "def query_model(prompt, max_tokens=50, temperature=0.1):\n",
    "    \"\"\"Send a custom prompt to the model.\"\"\"\n",
    "    response = csmodel.generate_from_prompt(\n",
    "        model=model,\n",
    "        prompt=prompt,\n",
    "        max_num_tokens=max_tokens,\n",
    "        temperature=temperature,\n",
    "        do_sample=True\n",
    "    )\n",
    "    return response.strip()"
   ]
  },
  {
   "cell_type": "code",
   "execution_count": 19,
   "id": "2835eae4",
   "metadata": {},
   "outputs": [
    {
     "name": "stdout",
     "output_type": "stream",
     "text": [
      "Prompt:\n",
      "--------------------------------------------------\n",
      "The following is a list of 500 gene names ordered by descending expression level for 2 different human cells. Your task is to give the tissue which these cells belong to based on their gene expression.\n",
      "Cell sentences:\n",
      "Cell 1:\n",
      "MT-CO2 MT-CO3 RPLP1 RPS27 RPS18 MT-CO1 RPS12 RPS8 RPS2 RPL13A MT-ND4 EEF1A1 RPL34 RPS23 RPS19 FTL RPS29 RPL32 RPS14 RPL19 RPS28 RPL37A MT-ATP6 RPS16 RPL21 RPL7 RPS3 MT-ND2 RPL3 RPS27A YBX1 RPL28 RPL39 RPL15 RPLP0 RPL35A RPS4X RPL13 RPL37 RPLP2 RPL9 RPS3A FTH1 RPS15 RPS15A RPL18A RPL29 RPL12 RPL8 RPS25 RPS7 RPS24 RPS17 RPL27A RPS13 RPS21 MT-ND1 RPL4 RPL11 RPL36 RPS6 RPSA RPS5 RPS20 RPL38 RPL7A MT-CYB RPL10 RPL18 RPL10A RPL14 RPL30 RPL24 UQCRH RPL6 RPL35 RPL31 TMA7 RPL22 FAU MT-ND3 RPL23A GAPDH RPL41 RPL26 TMSB4X RPL23 PPIA UBA52 OAZ1 HINT1 TPT1 RPS11 SERF2 EEF2 SDF2L1 RPS9 NACA RPL5 HMGN1 HSPE1 RANBP1 PTMA HMGA1 COX7A2 RPL27 APOC1 BTF3 NDUFB10 SNRPG HNRNPA1 PABPC1 EEF1B2 YDJC PPP1R14B PFN1 HSPD1 CALR DDX1 CHCHD2 PITX1 HSP90AB1 MT-ND5 COX7C GPX4 EIF3K UBL5 SET UBAC1 B2M SERBP1 UQCR11 UBB EIF5B PGP RPS26 NPM1 NEDD8 APRT TMEM14B ENO1 COX4I1 COX5B NDUFAB1 SLIRP GYPC CST3 HNRNPC HSP90B1 APOBEC3C DDX21 NCL TUBA1B PSMA4 JTB LDHA AP2B1 SRM COX6B1 EIF5A CCDC28B MT-ND4L EIF3I COX7B GADD45GIP1 SERPINB6 TRMT2A NME4 UBE2L3 UQCRQ NDUFB9 GOT2 COX5A SOD1 SON PEBP1 NAP1L1 NSA2 ATP1B3 NDUFA11 ACTG1 RPL36AL TMEM258 MTPN SRSF9 TUBA1C C19orf53 CCNI BCAT1 ATP6V0B SNRPE TMSB10 RBBP7 HMGN3 TOMM20 OST4 PA2G4 ROMO1 COMT EIF3H POMP IMMP1L ACTB PRELID1 ENY2 PARK7 MRPL36 EIF3F PPA1 GSTP1 ANP32B FADS1 GTF3A TMEM160 SUMO1 METTL5 SNX5 SNX3 NDUFB1 NDUFAF2 EIF3E GMPR CCT8 SNRPF SNRPD1 PGK1 EMC6 NDUFS5 ARL15 GTF3C6 GTPBP4 CFL1 GYPB SRRM1 RAN SRSF5 HBZ ZNF22 HDDC2 ATP6V1F DNAJA1 HNRNPA2B1 HES6 SDHC HMGB1 SUB1 SUMO3 NDUFS6 CMSS1 NDUFS7 NDUFS8 PFDN5 UQCRFS1 UQCRC1 FAM200B COA1 TADA3 LYL1 YIF1B AKIRIN1 CMBL RGS10 IMP3 PCBD1 YBX3 LUC7L3 SNRPD2 CCT4 KRT18 RPS27L CUTA MRPL52 MRPL57 DDT MRPS21 MRPS34 SMARCA4 SLC25A6 MRPL35 LSMEM2 PTBP1 ACP1 POLR1D CBX3 LSM12 SLC25A5 SLC25A37 CAPZA1 MARCKSL1 MTDH TOR1AIP2 METAP2 TOP2A C1QBP PSMA5 C4orf3 LDHB PSMA7 MIEN1 PSMB2 CAP1 C9orf78 LAPTM4B LAMTOR5 PPP1CA TPM3 ZNHIT1 PSMD11 PRAME ZBTB8OS POLR2L ATF7IP2 NAA10 RNF126 YWHAZ KIFAP3 THOC2 SNF8 PTP4A2 KIAA0319L SNRNP25 PKIG COQ4 SSU72 BNIP3L MYC SFPQ SNRPB PICALM DSTN COX6C SRP14 PRPF40A PSMC6 CTAG2 SRSF1 PAFAH1B2 CTU1 SRRM2 OSBPL9 CISD2 DDB1 DCUN1D5 DAZAP1 SEC62 YWHAB DIS3 SIVA1 DAP SRSF10 PHF20 GUK1 ZC3HAV1 SLC7A5 FBXO9 DCTN3 SRSF11 FBXL20 HIGD2A HGS PPP1R18 ANAPC16 CSTF3 YRDC BID PIM2 ANAPC11 SFXN1 ASH1L XPR1 EZH2 RANBP10 ANXA2 PTS HDDC3 ALDOA HDAC6 SRSF7 HDAC1 VDAC1 SLC38A5 CKB PHKB CSNK2A1 SRSF3 RAD21 PGAM1 GTF2A2 PDCD10 DEK PDE4DIP POLR2E CMTM6 UPF3B CNBP CNOT7 PDLIM7 CNPY2 FKBP8 ARPC1A QPRT PLTP VBP1 PTGES3 ZNF131 SMIM4 FKBP3 FIS1 UQCRB PRKAR2A COX7A2L GALNT1 PRR13 COX8A CYCS GOLGB1 PFDN2 PNN COX20 FAM120AOS SLC27A5 GNG5 PPDPF PPARGC1B PAK2 GAL PRRC2B PWP1 GSPT1 DDX46 PRDX1 SPN PARP1 PRDX2 SMYD3 PRDX3 COX14 PRMT2 FUS ATF4 PSME3 FBL PSMG3 FAM222B SNRPC CLPX GPS1 POLR2J CLTA PCGF6 PCNP COX6A1 UBL7 EIF1AX TIMM8B CCDC59 APOE RNF181 TXNL4A THRAP3 DYNLL1 CCDC137 TIMM13 TIMM44 ZNF664 MTCH2 EEF1D MT1X MRPS12 TIMMDC1 CBX5 ACP5 APPL1 KPNA6 KPNB1 KRT10 TMA16 ZNF706 MRPS33 TMED4 MRPS15 MYL12A RSF1 MYL6 MYL6B CDC42 EIF4B CDC16 EIF3M NDUFC1 NDUFB7 EIF3J NDUFB4 NDUFA8 EIF3D NDUFA3 S100A4 S100A13 CCT7 KCNH2\n",
      "Cell 2:\n",
      "MT-CO3 TMSB4X FTL MT-CO2 RPS27 MT-CO1 EEF1A1 RPS14 RPL34 FTH1 RPS18 MT-ND4 RPLP1 RPL37 RPS29 MT-ATP6 RPS4X RPL13A MT-CYB RPS8 RPS2 RPS19 TPT1 RPL28 RPL32 RPS3 RPS7 RPS27A MT-ND1 RPL37A MT-ND2 RPS12 RPS3A RPL21 RPL13 ACTB RPL39 RPL6 RPL9 RPS24 RPL27A RPL11 RPS28 RPS15 RPS11 RPL15 RPLP0 OAZ1 RPL10 RPL30 MT-ND3 RPS20 RPS15A RPL35 RPL41 YBX1 RPL5 RPS23 RPL29 RPL8 RPL19 RPL14 TMA7 RPL4 RPL10A RPL18A TYROBP RPLP2 RPS17 RPL7 UBA52 GAPDH UQCRH PTMA CFD HMGB1 RPL12 PFN1 RPS25 RPL35A RPSA B2M RPL24 COX7C UQCR11 SUB1 RPL36 HMGN1 RPL18 COX5B SRP14 VIM LST1 PTP4A2 CFL1 SUMO2 NACA RPL7A SH3BGRL3 PRAME SERF2 TMSB10 COX8A FAU CEBPE RPL23 EDF1 CSF3R CHCHD2 SNX3 MPC2 LMO4 PRR13 MSN DBI FAM118A NDUFS5 UBE2L3 MTCH1 COX7A2 FKBP1A RPS6 EIF2S2 RPS21 RPS26 GPX4 LSM6 CAP1 RPL22 HMGN2 MS4A3 PET100 PFDN5 UBL5 RPL23A LSM2 CDCA7 NUCKS1 ITM2B LDHB HMGN3 AURKAIP1 LAMTOR4 RPL27 RPS16 COTL1 PGAM1 ZNF207 UBB UBC COX4I1 GTF2I SLC25A3 PPIA RPS13 PGP TMBIM6 COX7B MYL6 ARHGDIB LGALS1 AGO1 HSP90AA1 SLC25A6 TMED9 MT-ND5 CLIC1 RPL3 SNRPG YWHAH SRSF9 BSG USP20 SRSF3 ARPC5 SRRM2 ARPC3 MYO1F ARPC2 ARPC1B MORF4L1 CIRBP MSRB1 CLC CALM2 DEK MARCKSL1 COMMD6 IQGAP2 CHAF1A RABL6 SAT1 CD63 NDUFA4 FAM89A POMP EIF3K COX6C PNRC1 TMEM219 MRPS16 TUBA1B SERBP1 BUD31 MRPL13 SLC39A3 CCT5 TEX30 COX6A1 SVIP PKM BANF1 UQCRFS1 PHF19 EIF3F SON CELF2 COX17 METTL9 PPIL2 RPS5 SET MYL12A RAB4A CMTM7 RPL38 COX6B1 PCBP2 CIZ1 UCP2 DGCR6L PGLS GPBP1 LIMD2 PEBP1 SOX4 PPP1CA HINT1 NCL PPP6R1 RPL26 BTG1 CCNI HNRNPA1 RSF1 PPP1CB RMI2 PRDX5 ALDOA PYCARD MBOAT7 PPP1R18 TNNT1 TOMM7 ATP6V1F CKLF ATP6V1G1 ACTG1 EEF2 RPL31 WASF2 ELF1 SRSF11 DGUOK SRSF10 POLR2J3 METTL23 HPRT1 FAM32A COPS7A GLIPR1 TKT ANKRD28 CORO1A MFHAS1 NOTCH1 RAB1A CTSC QPRT TOR1A TRA2B TIMM17A SLC35E2B C14orf119 MRPL20 MIB2 BEST1 ANXA2 PPDPF ANP32B MRPL47 MRPL10 PPHLN1 SNX5 CCDC124 YTHDC1 LMNA TPM3 POLR2L ADRM1 COMMD9 EEF1B2 RPL36AL LARP1B SNRPE CANX CALM1 DYRK1A TRPM4 USP32 HVCN1 PPP3R1 NUDT22 LCP1 TMEM167A ISY1 RSL24D1 BTF3 PLEK TMEM14C TMEM14B CAPNS1 DNMT1 PLD3 ICMT SMC4 ZMAT2 BRI3 ZDHHC12 ANAPC13 ANAPC11 PMVK MORF4L2 SCAND1 SLIRP BRK1 RTN4 IDH2 RTN3 CRLS1 TRMT112 SMAD4 LAPTM5 OAZ2 SMAD5 FAM89B NUDT1 NUDCD2 AIF1 SNRNP25 BIRC2 CSTB PPM1G S100A11 ANKRD11 NONO PTPN7 MRPS33 NSRP1 SLBP NOP10 CYBA PPIG WDR62 SNRPB2 TLN1 SNRPD1 CBX3 CBFA2T3 TNFAIP8 BMI1 CASP8AP2 C4orf48 HSPB11 HSPB1 HSPA8 LENG8 ZMYND8 HSP90AB1 TMED5 WDR83OS RUNX1 RANBP1 C4orf3 RPS9 ALAS1 ZNF138 ZC3H15 PPM1N FUS TMA16 EEF1D COMMD3 PARK7 SPG21 SPI1 PRMT2 PARL CD37 GOLIM4 CLPX DDX52 HDDC2 UBE2D2 UBE2M MCCC2 FLCN ATP11B UBE2I PSMA3 EIF5A ETFB HDAC3 VAMP8 CLU RNF130 UQCR10 HEPH BAG6 CHP1 KCNE3 NAA38 RBM26 STAU2 CNIH4 NDUFA3 NDUFA2 SETD2 CCT4 MTRF1L ARIH2 EIF3I EIF3J RNF145 HES6 ATOX1 CMTM6 DECR2 SPN TXNIP RING1 CCDC174 RCC2 SRA1 PAIP2 LSM3 ATRX SRI TAOK3 EMP3 SSR2 RBMX SSNA1 SRSF2 P4HB SSH2 SSBP1 MYB ERH ATP6AP1 TAF10 OSTC OST4 OSBPL9 CDCA7L ACTN1 PAPOLA RNASEH2C PGK1 RHEB TBL1XR1 PSMA7 PGD ARL15 TBCA VPS16 PSMB1 VPS13C UBE2S RHOA RMND5B GYG1 ZNF83 TBC1D20 NDUFAF3 KIAA0100 PIP4K2A MZT2B ATG16L2 RGS10 NDUFS7 TFDP2 HMGA1 HMGB2 NDUFV2 PCBP1 EPM2AIP1 PRKAG1 PIM1 DHFR\n",
      ".\n",
      "The tissue which these cells belong to is:\n",
      "--------------------------------------------------\n",
      "\n",
      "\n",
      "Response:\n",
      "--------------------------------------------------\n",
      "islet of Langerhans.\n"
     ]
    }
   ],
   "source": [
    "print(f\"Prompt:\")\n",
    "print(\"-\" * 50)\n",
    "print(filled_prompt)\n",
    "print(\"-\" * 50)\n",
    "\n",
    "print()\n",
    "print()\n",
    "response = query_model(filled_prompt, max_tokens=50, temperature=0.1)\n",
    "print(f\"Response:\")\n",
    "print(\"-\" * 50)\n",
    "print(response)"
   ]
  },
  {
   "cell_type": "code",
   "execution_count": 20,
   "id": "1c6e71d5",
   "metadata": {},
   "outputs": [],
   "source": [
    "custom_prompt = \"\"\"The following is a list of 500 gene names ordered by descending expression level for 2 different human cells. Your task is to provide the tissue which these cells belong to based on their gene expression.\n",
    "Cell sentences:\n",
    "Cell 1:\n",
    "MT-CO2 MT-CO3 RPLP1 RPS27 RPS18 MT-CO1 RPS12 RPS8 RPS2 RPL13A MT-ND4 EEF1A1 RPL34 RPS23 RPS19 FTL RPS29 RPL32 RPS14 RPL19 RPS28 RPL37A MT-ATP6 RPS16 RPL21 RPL7 RPS3 MT-ND2 RPL3 RPS27A YBX1 RPL28 RPL39 RPL15 RPLP0 RPL35A RPS4X RPL13 RPL37 RPLP2 RPL9 RPS3A FTH1 RPS15 RPS15A RPL18A RPL29 RPL12 RPL8 RPS25 RPS7 RPS24 RPS17 RPL27A RPS13 RPS21 MT-ND1 RPL4 RPL11 RPL36 RPS6 RPSA RPS5 RPS20 RPL38 RPL7A MT-CYB RPL10 RPL18 RPL10A RPL14 RPL30 RPL24 UQCRH RPL6 RPL35 RPL31 TMA7 RPL22 FAU MT-ND3 RPL23A GAPDH RPL41 RPL26 TMSB4X RPL23 PPIA UBA52 OAZ1 HINT1 TPT1 RPS11 SERF2 EEF2 SDF2L1 RPS9 NACA RPL5 HMGN1 HSPE1 RANBP1 PTMA HMGA1 COX7A2 RPL27 APOC1 BTF3 NDUFB10 SNRPG HNRNPA1 PABPC1 EEF1B2 YDJC PPP1R14B PFN1 HSPD1 CALR DDX1 CHCHD2 PITX1 HSP90AB1 MT-ND5 COX7C GPX4 EIF3K UBL5 SET UBAC1 B2M SERBP1 UQCR11 UBB EIF5B PGP RPS26 NPM1 NEDD8 APRT TMEM14B ENO1 COX4I1 COX5B NDUFAB1 SLIRP GYPC CST3 HNRNPC HSP90B1 APOBEC3C DDX21 NCL TUBA1B PSMA4 JTB LDHA AP2B1 SRM COX6B1 EIF5A CCDC28B MT-ND4L EIF3I COX7B GADD45GIP1 SERPINB6 TRMT2A NME4 UBE2L3 UQCRQ NDUFB9 GOT2 COX5A SOD1 SON PEBP1 NAP1L1 NSA2 ATP1B3 NDUFA11 ACTG1 RPL36AL TMEM258 MTPN SRSF9 TUBA1C C19orf53 CCNI BCAT1 ATP6V0B SNRPE TMSB10 RBBP7 HMGN3 TOMM20 OST4 PA2G4 ROMO1 COMT EIF3H POMP IMMP1L ACTB PRELID1 ENY2 PARK7 MRPL36 EIF3F PPA1 GSTP1 ANP32B FADS1 GTF3A TMEM160 SUMO1 METTL5 SNX5 SNX3 NDUFB1 NDUFAF2 EIF3E GMPR CCT8 SNRPF SNRPD1 PGK1 EMC6 NDUFS5 ARL15 GTF3C6 GTPBP4 CFL1 GYPB SRRM1 RAN SRSF5 HBZ ZNF22 HDDC2 ATP6V1F DNAJA1 HNRNPA2B1 HES6 SDHC HMGB1 SUB1 SUMO3 NDUFS6 CMSS1 NDUFS7 NDUFS8 PFDN5 UQCRFS1 UQCRC1 FAM200B COA1 TADA3 LYL1 YIF1B AKIRIN1 CMBL RGS10 IMP3 PCBD1 YBX3 LUC7L3 SNRPD2 CCT4 KRT18 RPS27L CUTA MRPL52 MRPL57 DDT MRPS21 MRPS34 SMARCA4 SLC25A6 MRPL35 LSMEM2 PTBP1 ACP1 POLR1D CBX3 LSM12 SLC25A5 SLC25A37 CAPZA1 MARCKSL1 MTDH TOR1AIP2 METAP2 TOP2A C1QBP PSMA5 C4orf3 LDHB PSMA7 MIEN1 PSMB2 CAP1 C9orf78 LAPTM4B LAMTOR5 PPP1CA TPM3 ZNHIT1 PSMD11 PRAME ZBTB8OS POLR2L ATF7IP2 NAA10 RNF126 YWHAZ KIFAP3 THOC2 SNF8 PTP4A2 KIAA0319L SNRNP25 PKIG COQ4 SSU72 BNIP3L MYC SFPQ SNRPB PICALM DSTN COX6C SRP14 PRPF40A PSMC6 CTAG2 SRSF1 PAFAH1B2 CTU1 SRRM2 OSBPL9 CISD2 DDB1 DCUN1D5 DAZAP1 SEC62 YWHAB DIS3 SIVA1 DAP SRSF10 PHF20 GUK1 ZC3HAV1 SLC7A5 FBXO9 DCTN3 SRSF11 FBXL20 HIGD2A HGS PPP1R18 ANAPC16 CSTF3 YRDC BID PIM2 ANAPC11 SFXN1 ASH1L XPR1 EZH2 RANBP10 ANXA2 PTS HDDC3 ALDOA HDAC6 SRSF7 HDAC1 VDAC1 SLC38A5 CKB PHKB CSNK2A1 SRSF3 RAD21 PGAM1 GTF2A2 PDCD10 DEK PDE4DIP POLR2E CMTM6 UPF3B CNBP CNOT7 PDLIM7 CNPY2 FKBP8 ARPC1A QPRT PLTP VBP1 PTGES3 ZNF131 SMIM4 FKBP3 FIS1 UQCRB PRKAR2A COX7A2L GALNT1 PRR13 COX8A CYCS GOLGB1 PFDN2 PNN COX20 FAM120AOS SLC27A5 GNG5 PPDPF PPARGC1B PAK2 GAL PRRC2B PWP1 GSPT1 DDX46 PRDX1 SPN PARP1 PRDX2 SMYD3 PRDX3 COX14 PRMT2 FUS ATF4 PSME3 FBL PSMG3 FAM222B SNRPC CLPX GPS1 POLR2J CLTA PCGF6 PCNP COX6A1 UBL7 EIF1AX TIMM8B CCDC59 APOE RNF181 TXNL4A THRAP3 DYNLL1 CCDC137 TIMM13 TIMM44 ZNF664 MTCH2 EEF1D MT1X MRPS12 TIMMDC1 CBX5 ACP5 APPL1 KPNA6 KPNB1 KRT10 TMA16 ZNF706 MRPS33 TMED4 MRPS15 MYL12A RSF1 MYL6 MYL6B CDC42 EIF4B CDC16 EIF3M NDUFC1 NDUFB7 EIF3J NDUFB4 NDUFA8 EIF3D NDUFA3 S100A4 S100A13 CCT7 KCNH2\n",
    "Cell 2:\n",
    "MT-CO3 TMSB4X FTL MT-CO2 RPS27 MT-CO1 EEF1A1 RPS14 RPL34 FTH1 RPS18 MT-ND4 RPLP1 RPL37 RPS29 MT-ATP6 RPS4X RPL13A MT-CYB RPS8 RPS2 RPS19 TPT1 RPL28 RPL32 RPS3 RPS7 RPS27A MT-ND1 RPL37A MT-ND2 RPS12 RPS3A RPL21 RPL13 ACTB RPL39 RPL6 RPL9 RPS24 RPL27A RPL11 RPS28 RPS15 RPS11 RPL15 RPLP0 OAZ1 RPL10 RPL30 MT-ND3 RPS20 RPS15A RPL35 RPL41 YBX1 RPL5 RPS23 RPL29 RPL8 RPL19 RPL14 TMA7 RPL4 RPL10A RPL18A TYROBP RPLP2 RPS17 RPL7 UBA52 GAPDH UQCRH PTMA CFD HMGB1 RPL12 PFN1 RPS25 RPL35A RPSA B2M RPL24 COX7C UQCR11 SUB1 RPL36 HMGN1 RPL18 COX5B SRP14 VIM LST1 PTP4A2 CFL1 SUMO2 NACA RPL7A SH3BGRL3 PRAME SERF2 TMSB10 COX8A FAU CEBPE RPL23 EDF1 CSF3R CHCHD2 SNX3 MPC2 LMO4 PRR13 MSN DBI FAM118A NDUFS5 UBE2L3 MTCH1 COX7A2 FKBP1A RPS6 EIF2S2 RPS21 RPS26 GPX4 LSM6 CAP1 RPL22 HMGN2 MS4A3 PET100 PFDN5 UBL5 RPL23A LSM2 CDCA7 NUCKS1 ITM2B LDHB HMGN3 AURKAIP1 LAMTOR4 RPL27 RPS16 COTL1 PGAM1 ZNF207 UBB UBC COX4I1 GTF2I SLC25A3 PPIA RPS13 PGP TMBIM6 COX7B MYL6 ARHGDIB LGALS1 AGO1 HSP90AA1 SLC25A6 TMED9 MT-ND5 CLIC1 RPL3 SNRPG YWHAH SRSF9 BSG USP20 SRSF3 ARPC5 SRRM2 ARPC3 MYO1F ARPC2 ARPC1B MORF4L1 CIRBP MSRB1 CLC CALM2 DEK MARCKSL1 COMMD6 IQGAP2 CHAF1A RABL6 SAT1 CD63 NDUFA4 FAM89A POMP EIF3K COX6C PNRC1 TMEM219 MRPS16 TUBA1B SERBP1 BUD31 MRPL13 SLC39A3 CCT5 TEX30 COX6A1 SVIP PKM BANF1 UQCRFS1 PHF19 EIF3F SON CELF2 COX17 METTL9 PPIL2 RPS5 SET MYL12A RAB4A CMTM7 RPL38 COX6B1 PCBP2 CIZ1 UCP2 DGCR6L PGLS GPBP1 LIMD2 PEBP1 SOX4 PPP1CA HINT1 NCL PPP6R1 RPL26 BTG1 CCNI HNRNPA1 RSF1 PPP1CB RMI2 PRDX5 ALDOA PYCARD MBOAT7 PPP1R18 TNNT1 TOMM7 ATP6V1F CKLF ATP6V1G1 ACTG1 EEF2 RPL31 WASF2 ELF1 SRSF11 DGUOK SRSF10 POLR2J3 METTL23 HPRT1 FAM32A COPS7A GLIPR1 TKT ANKRD28 CORO1A MFHAS1 NOTCH1 RAB1A CTSC QPRT TOR1A TRA2B TIMM17A SLC35E2B C14orf119 MRPL20 MIB2 BEST1 ANXA2 PPDPF ANP32B MRPL47 MRPL10 PPHLN1 SNX5 CCDC124 YTHDC1 LMNA TPM3 POLR2L ADRM1 COMMD9 EEF1B2 RPL36AL LARP1B SNRPE CANX CALM1 DYRK1A TRPM4 USP32 HVCN1 PPP3R1 NUDT22 LCP1 TMEM167A ISY1 RSL24D1 BTF3 PLEK TMEM14C TMEM14B CAPNS1 DNMT1 PLD3 ICMT SMC4 ZMAT2 BRI3 ZDHHC12 ANAPC13 ANAPC11 PMVK MORF4L2 SCAND1 SLIRP BRK1 RTN4 IDH2 RTN3 CRLS1 TRMT112 SMAD4 LAPTM5 OAZ2 SMAD5 FAM89B NUDT1 NUDCD2 AIF1 SNRNP25 BIRC2 CSTB PPM1G S100A11 ANKRD11 NONO PTPN7 MRPS33 NSRP1 SLBP NOP10 CYBA PPIG WDR62 SNRPB2 TLN1 SNRPD1 CBX3 CBFA2T3 TNFAIP8 BMI1 CASP8AP2 C4orf48 HSPB11 HSPB1 HSPA8 LENG8 ZMYND8 HSP90AB1 TMED5 WDR83OS RUNX1 RANBP1 C4orf3 RPS9 ALAS1 ZNF138 ZC3H15 PPM1N FUS TMA16 EEF1D COMMD3 PARK7 SPG21 SPI1 PRMT2 PARL CD37 GOLIM4 CLPX DDX52 HDDC2 UBE2D2 UBE2M MCCC2 FLCN ATP11B UBE2I PSMA3 EIF5A ETFB HDAC3 VAMP8 CLU RNF130 UQCR10 HEPH BAG6 CHP1 KCNE3 NAA38 RBM26 STAU2 CNIH4 NDUFA3 NDUFA2 SETD2 CCT4 MTRF1L ARIH2 EIF3I EIF3J RNF145 HES6 ATOX1 CMTM6 DECR2 SPN TXNIP RING1 CCDC174 RCC2 SRA1 PAIP2 LSM3 ATRX SRI TAOK3 EMP3 SSR2 RBMX SSNA1 SRSF2 P4HB SSH2 SSBP1 MYB ERH ATP6AP1 TAF10 OSTC OST4 OSBPL9 CDCA7L ACTN1 PAPOLA RNASEH2C PGK1 RHEB TBL1XR1 PSMA7 PGD ARL15 TBCA VPS16 PSMB1 VPS13C UBE2S RHOA RMND5B GYG1 ZNF83 TBC1D20 NDUFAF3 KIAA0100 PIP4K2A MZT2B ATG16L2 RGS10 NDUFS7 TFDP2 HMGA1 HMGB2 NDUFV2 PCBP1 EPM2AIP1 PRKAG1 PIM1 DHFR\n",
    ".\n",
    "These cells are from the:\"\"\""
   ]
  },
  {
   "cell_type": "code",
   "execution_count": 21,
   "id": "456cee4a",
   "metadata": {},
   "outputs": [
    {
     "name": "stdout",
     "output_type": "stream",
     "text": [
      "Prompt:\n",
      "--------------------------------------------------\n",
      "The capital of France is\n",
      "--------------------------------------------------\n",
      "\n",
      "\n",
      "Response:\n",
      "--------------------------------------------------\n",
      "a list of genes ordered by descending expression level in a Homo sapiens cell. Use this information to determine the cell type.\n",
      "Cell sentence: MALAT1 KCNIP4 RBFOX1 CSMD1 DLG2 NR\n"
     ]
    }
   ],
   "source": [
    "print(f\"Prompt:\")\n",
    "print(\"-\" * 50)\n",
    "custom_prompt = \"The capital of France is\"\n",
    "print(custom_prompt)\n",
    "print(\"-\" * 50)\n",
    "\n",
    "print()\n",
    "print()\n",
    "response = query_model(custom_prompt, max_tokens=50, temperature=0.1)\n",
    "print(f\"Response:\")\n",
    "print(\"-\" * 50)\n",
    "print(response)"
   ]
  },
  {
   "cell_type": "markdown",
   "id": "bccd242a",
   "metadata": {},
   "source": [
    "## Custom Prompts\n",
    "\n",
    "You can also send completely custom prompts to explore the model's capabilities:"
   ]
  },
  {
   "cell_type": "code",
   "execution_count": 22,
   "id": "acac8562",
   "metadata": {},
   "outputs": [
    {
     "name": "stdout",
     "output_type": "stream",
     "text": [
      "Prompt:\n",
      "--------------------------------------------------\n",
      "The following is a list of 500 gene names ordered by descending expression level in a human cell. Your task is to classify the cell as fast or slow growing.\n",
      "Cell sentence: MT-CO3 TMSB4X FTL MT-CO2 RPS27 MT-CO1 EEF1A1 RPS14 RPL34 FTH1 RPS18 MT-ND4 RPLP1 RPL37 RPS29 MT-ATP6 RPS4X RPL13A MT-CYB RPS8 RPS2 RPS19 TPT1 RPL28 RPL32 RPS3 RPS7 RPS27A MT-ND1 RPL37A MT-ND2 RPS12 RPS3A RPL21 RPL13 ACTB RPL39 RPL6 RPL9 RPS24 RPL27A RPL11 RPS28 RPS15 RPS11 RPL15 RPLP0 OAZ1 RPL10 RPL30 MT-ND3 RPS20 RPS15A RPL35 RPL41 YBX1 RPL5 RPS23 RPL29 RPL8 RPL19 RPL14 TMA7 RPL4 RPL10A RPL18A TYROBP RPLP2 RPS17 RPL7 UBA52 GAPDH UQCRH PTMA CFD HMGB1 RPL12 PFN1 RPS25 RPL35A RPSA B2M RPL24 COX7C UQCR11 SUB1 RPL36 HMGN1 RPL18 COX5B SRP14 VIM LST1 PTP4A2 CFL1 SUMO2 NACA RPL7A SH3BGRL3 PRAME SERF2 TMSB10 COX8A FAU CEBPE RPL23 EDF1 CSF3R CHCHD2 SNX3 MPC2 LMO4 PRR13 MSN DBI FAM118A NDUFS5 UBE2L3 MTCH1 COX7A2 FKBP1A RPS6 EIF2S2 RPS21 RPS26 GPX4 LSM6 CAP1 RPL22 HMGN2 MS4A3 PET100 PFDN5 UBL5 RPL23A LSM2 CDCA7 NUCKS1 ITM2B LDHB HMGN3 AURKAIP1 LAMTOR4 RPL27 RPS16 COTL1 PGAM1 ZNF207 UBB UBC COX4I1 GTF2I SLC25A3 PPIA RPS13 PGP TMBIM6 COX7B MYL6 ARHGDIB LGALS1 AGO1 HSP90AA1 SLC25A6 TMED9 MT-ND5 CLIC1 RPL3 SNRPG YWHAH SRSF9 BSG USP20 SRSF3 ARPC5 SRRM2 ARPC3 MYO1F ARPC2 ARPC1B MORF4L1 CIRBP MSRB1 CLC CALM2 DEK MARCKSL1 COMMD6 IQGAP2 CHAF1A RABL6 SAT1 CD63 NDUFA4 FAM89A POMP EIF3K COX6C PNRC1 TMEM219 MRPS16 TUBA1B SERBP1 BUD31 MRPL13 SLC39A3 CCT5 TEX30 COX6A1 SVIP PKM BANF1 UQCRFS1 PHF19 EIF3F SON CELF2 COX17 METTL9 PPIL2 RPS5 SET MYL12A RAB4A CMTM7 RPL38 COX6B1 PCBP2 CIZ1 UCP2 DGCR6L PGLS GPBP1 LIMD2 PEBP1 SOX4 PPP1CA HINT1 NCL PPP6R1 RPL26 BTG1 CCNI HNRNPA1 RSF1 PPP1CB RMI2 PRDX5 ALDOA PYCARD MBOAT7 PPP1R18 TNNT1 TOMM7 ATP6V1F CKLF ATP6V1G1 ACTG1 EEF2 RPL31 WASF2 ELF1 SRSF11 DGUOK SRSF10 POLR2J3 METTL23 HPRT1 FAM32A COPS7A GLIPR1 TKT ANKRD28 CORO1A MFHAS1 NOTCH1 RAB1A CTSC QPRT TOR1A TRA2B TIMM17A SLC35E2B C14orf119 MRPL20 MIB2 BEST1 ANXA2 PPDPF ANP32B MRPL47 MRPL10 PPHLN1 SNX5 CCDC124 YTHDC1 LMNA TPM3 POLR2L ADRM1 COMMD9 EEF1B2 RPL36AL LARP1B SNRPE CANX CALM1 DYRK1A TRPM4 USP32 HVCN1 PPP3R1 NUDT22 LCP1 TMEM167A ISY1 RSL24D1 BTF3 PLEK TMEM14C TMEM14B CAPNS1 DNMT1 PLD3 ICMT SMC4 ZMAT2 BRI3 ZDHHC12 ANAPC13 ANAPC11 PMVK MORF4L2 SCAND1 SLIRP BRK1 RTN4 IDH2 RTN3 CRLS1 TRMT112 SMAD4 LAPTM5 OAZ2 SMAD5 FAM89B NUDT1 NUDCD2 AIF1 SNRNP25 BIRC2 CSTB PPM1G S100A11 ANKRD11 NONO PTPN7 MRPS33 NSRP1 SLBP NOP10 CYBA PPIG WDR62 SNRPB2 TLN1 SNRPD1 CBX3 CBFA2T3 TNFAIP8 BMI1 CASP8AP2 C4orf48 HSPB11 HSPB1 HSPA8 LENG8 ZMYND8 HSP90AB1 TMED5 WDR83OS RUNX1 RANBP1 C4orf3 RPS9 ALAS1 ZNF138 ZC3H15 PPM1N FUS TMA16 EEF1D COMMD3 PARK7 SPG21 SPI1 PRMT2 PARL CD37 GOLIM4 CLPX DDX52 HDDC2 UBE2D2 UBE2M MCCC2 FLCN ATP11B UBE2I PSMA3 EIF5A ETFB HDAC3 VAMP8 CLU RNF130 UQCR10 HEPH BAG6 CHP1 KCNE3 NAA38 RBM26 STAU2 CNIH4 NDUFA3 NDUFA2 SETD2 CCT4 MTRF1L ARIH2 EIF3I EIF3J RNF145 HES6 ATOX1 CMTM6 DECR2 SPN TXNIP RING1 CCDC174 RCC2 SRA1 PAIP2 LSM3 ATRX SRI TAOK3 EMP3 SSR2 RBMX SSNA1 SRSF2 P4HB SSH2 SSBP1 MYB ERH ATP6AP1 TAF10 OSTC OST4 OSBPL9 CDCA7L ACTN1 PAPOLA RNASEH2C PGK1 RHEB TBL1XR1 PSMA7 PGD ARL15 TBCA VPS16 PSMB1 VPS13C UBE2S RHOA RMND5B GYG1 ZNF83 TBC1D20 NDUFAF3 KIAA0100 PIP4K2A MZT2B ATG16L2 RGS10 NDUFS7 TFDP2 HMGA1 HMGB2 NDUFV2 PCBP1 EPM2AIP1 PRKAG1 PIM1 DHFR\n",
      "The cell grows:\n",
      "--------------------------------------------------\n",
      "\n",
      "\n",
      "Response:\n",
      "--------------------------------------------------\n",
      "Cell 1:\n",
      "MALAT1 MT-CO1 MT-CO3 MT-CO2 MT-ND4 MT-ATP6 MT-ND2 MT-ND3 MT-CYB MT-ND1 RPL13 RPL\n"
     ]
    }
   ],
   "source": [
    "# formatter = C2SPromptFormatter(task=\"cell_type_prediction\", top_k_genes=n_genes)\n",
    "# prompt_template = formatter.prompts_dict[\"model_input\"][0]\n",
    "# custom_prompt = prompt_template.format(\n",
    "#     num_genes=n_genes,\n",
    "#     organism='human',\n",
    "#     cell_sentence=control_cell\n",
    "# )\n",
    "\n",
    "custom_prompt = f\"\"\"The following is a list of {n_genes} gene names ordered by descending expression level in a human cell. Your task is to classify the cell as fast or slow growing.\n",
    "Cell sentence: {perturbed_cell}\n",
    "The cell grows:\"\"\"\n",
    "\n",
    "print(f\"Prompt:\")\n",
    "print(\"-\" * 50)\n",
    "print(custom_prompt)\n",
    "print(\"-\" * 50)\n",
    "\n",
    "print()\n",
    "print()\n",
    "response = query_model(custom_prompt)\n",
    "print(f\"Response:\")\n",
    "print(\"-\" * 50)\n",
    "print(response)"
   ]
  },
  {
   "cell_type": "code",
   "execution_count": 23,
   "id": "a042f3ed",
   "metadata": {},
   "outputs": [
    {
     "name": "stdout",
     "output_type": "stream",
     "text": [
      "Using device: cuda\n",
      "Model loaded on device: cuda:0\n",
      "The following is a list of around 200 gene names ordered by descending expression level in a human cell. Your task is to classify the cell as fast or slow growing. Respond either with \"fast\" or \"slow\".\n",
      "Cell sentence: MT-CO3 TMSB4X FTL MT-CO2 RPS27 MT-CO1 EEF1A1 RPS14 RPL34 FTH1 RPS18 MT-ND4 RPLP1 RPL37 RPS29 MT-ATP6 RPS4X RPL13A MT-CYB RPS8 RPS2 RPS19 TPT1 RPL28 RPL32 RPS3 RPS7 RPS27A MT-ND1 RPL37A MT-ND2 RPS12 RPS3A RPL21 RPL13 ACTB RPL39 RPL6 RPL9 RPS24 RPL27A RPL11 RPS28 RPS15 RPS11 RPL15 RPLP0 OAZ1 RPL10 RPL30 MT-ND3 RPS20 RPS15A RPL35 RPL41 YBX1 RPL5 RPS23 RPL29 RPL8 RPL19 RPL14 TMA7 RPL4 RPL10A RPL18A TYROBP RPLP2 RPS17 RPL7 UBA52 GAPDH UQCRH PTMA CFD HMGB1 RPL12 PFN1 RPS25 RPL35A RPSA B2M RPL24 COX7C UQCR11 SUB1 RPL36 HMGN1 RPL18 COX5B SRP14 VIM LST1 PTP4A2 CFL1 SUMO2 NACA RPL7A SH3BGRL3 PRAME SERF2 TMSB10 COX8A FAU CEBPE RPL23 EDF1 CSF3R CHCHD2 SNX3 MPC2 LMO4 PRR13 MSN DBI FAM118A NDUFS5 UBE2L3 MTCH1 COX7A2 FKBP1A RPS6 EIF2S2 RPS21 RPS26 GPX4 LSM6 CAP1 RPL22 HMGN2 MS4A3 PET100 PFDN5 UBL5 RPL23A LSM2 CDCA7 NUCKS1 ITM2B LDHB HMGN3 AURKAIP1 LAMTOR4 RPL27 RPS16 COTL1 PGAM1 ZNF207 UBB UBC COX4I1 GTF2I SLC25A3 PPIA RPS13 PGP TMBIM6 COX7B MYL6 ARHGDIB LGALS1 AGO1 HSP90AA1\n",
      "The cell grows:\n",
      "1) In the fast growing cells, there will be a high expression of proteins that are important for DNA replication\n",
      "2) In the slow growing cells, there will be a high expression of proteins that are important for cell cycle progression\n",
      "\n",
      "A\n"
     ]
    }
   ],
   "source": [
    "from transformers import GPTNeoXForCausalLM, AutoTokenizer\n",
    "import torch\n",
    "\n",
    "# Check if CUDA is available and set device\n",
    "device = torch.device(\"cuda\" if torch.cuda.is_available() else \"cpu\")\n",
    "print(f\"Using device: {device}\")\n",
    "\n",
    "model = GPTNeoXForCausalLM.from_pretrained(\n",
    "  \"EleutherAI/pythia-1b-deduped\",\n",
    "  revision=\"step143000\",\n",
    "  cache_dir=\"./models/pythia/pythia-1b-deduped/step143000\",\n",
    "  torch_dtype=torch.bfloat16 if device.type == \"cuda\" else torch.float32\n",
    ")\n",
    "\n",
    "# Move model to GPU\n",
    "model = model.to(device)\n",
    "print(f\"Model loaded on device: {model.device}\")\n",
    "\n",
    "tokenizer = AutoTokenizer.from_pretrained(\n",
    "  \"EleutherAI/pythia-1b-deduped\",\n",
    "  revision=\"step143000\",\n",
    "  cache_dir=\"./models/pythia/pythia-1b-deduped/step143000\",\n",
    ")\n",
    "\n",
    "input_prompt = \"\"\"The following is a list of around 200 gene names ordered by descending expression level in a human cell. Your task is to classify the cell as fast or slow growing. Respond either with \"fast\" or \"slow\".\n",
    "Cell sentence: MT-CO3 TMSB4X FTL MT-CO2 RPS27 MT-CO1 EEF1A1 RPS14 RPL34 FTH1 RPS18 MT-ND4 RPLP1 RPL37 RPS29 MT-ATP6 RPS4X RPL13A MT-CYB RPS8 RPS2 RPS19 TPT1 RPL28 RPL32 RPS3 RPS7 RPS27A MT-ND1 RPL37A MT-ND2 RPS12 RPS3A RPL21 RPL13 ACTB RPL39 RPL6 RPL9 RPS24 RPL27A RPL11 RPS28 RPS15 RPS11 RPL15 RPLP0 OAZ1 RPL10 RPL30 MT-ND3 RPS20 RPS15A RPL35 RPL41 YBX1 RPL5 RPS23 RPL29 RPL8 RPL19 RPL14 TMA7 RPL4 RPL10A RPL18A TYROBP RPLP2 RPS17 RPL7 UBA52 GAPDH UQCRH PTMA CFD HMGB1 RPL12 PFN1 RPS25 RPL35A RPSA B2M RPL24 COX7C UQCR11 SUB1 RPL36 HMGN1 RPL18 COX5B SRP14 VIM LST1 PTP4A2 CFL1 SUMO2 NACA RPL7A SH3BGRL3 PRAME SERF2 TMSB10 COX8A FAU CEBPE RPL23 EDF1 CSF3R CHCHD2 SNX3 MPC2 LMO4 PRR13 MSN DBI FAM118A NDUFS5 UBE2L3 MTCH1 COX7A2 FKBP1A RPS6 EIF2S2 RPS21 RPS26 GPX4 LSM6 CAP1 RPL22 HMGN2 MS4A3 PET100 PFDN5 UBL5 RPL23A LSM2 CDCA7 NUCKS1 ITM2B LDHB HMGN3 AURKAIP1 LAMTOR4 RPL27 RPS16 COTL1 PGAM1 ZNF207 UBB UBC COX4I1 GTF2I SLC25A3 PPIA RPS13 PGP TMBIM6 COX7B MYL6 ARHGDIB LGALS1 AGO1 HSP90AA1\n",
    "The cell grows:\"\"\"\n",
    "\n",
    "inputs = tokenizer(input_prompt, return_tensors=\"pt\", truncation=True, max_length=1024)\n",
    "# Move inputs to the same device as model\n",
    "inputs = {k: v.to(device) for k, v in inputs.items()}\n",
    "\n",
    "tokens = model.generate(\n",
    "    **inputs, \n",
    "    max_new_tokens=50,  # Generate up to 50 new tokens\n",
    "    temperature=0.7,\n",
    "    do_sample=True,\n",
    "    pad_token_id=tokenizer.eos_token_id\n",
    ")\n",
    "print(tokenizer.decode(tokens[0]))"
   ]
  }
 ],
 "metadata": {
  "kernelspec": {
   "display_name": "cell2sentence",
   "language": "python",
   "name": "python3"
  },
  "language_info": {
   "codemirror_mode": {
    "name": "ipython",
    "version": 3
   },
   "file_extension": ".py",
   "mimetype": "text/x-python",
   "name": "python",
   "nbconvert_exporter": "python",
   "pygments_lexer": "ipython3",
   "version": "3.8.20"
  }
 },
 "nbformat": 4,
 "nbformat_minor": 5
}
