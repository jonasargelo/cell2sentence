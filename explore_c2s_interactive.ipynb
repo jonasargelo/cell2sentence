{
 "cells": [
  {
   "cell_type": "markdown",
   "id": "0ec56f49",
   "metadata": {},
   "source": [
    "# Interactive Cell2Sentence Exploration\n",
    "\n",
    "This notebook helps you understand how Cell2Sentence works by allowing you to:\n",
    "1. Load a pretrained C2S model\n",
    "2. Query it interactively with gene lists\n",
    "3. Generate new cells conditioned on cell types\n",
    "4. Understand the prompt structure\n",
    "\n",
    "## Key Concepts:\n",
    "- **Cell Sentences**: Space-separated gene names ordered by expression level\n",
    "- **Cell Type Prediction**: Given genes → predict cell type\n",
    "- **Cell Generation**: Given cell type → generate gene list\n",
    "- **Embeddings**: Convert cells to numerical representations"
   ]
  },
  {
   "cell_type": "code",
   "execution_count": 1,
   "id": "0cfb9ac3",
   "metadata": {},
   "outputs": [
    {
     "name": "stdout",
     "output_type": "stream",
     "text": [
      "cell2sentence\n"
     ]
    }
   ],
   "source": [
    "# Print the conda environment name\n",
    "import os\n",
    "print(os.environ.get('CONDA_DEFAULT_ENV', 'No conda environment found'))"
   ]
  },
  {
   "cell_type": "code",
   "execution_count": 2,
   "id": "7c28ee81",
   "metadata": {},
   "outputs": [
    {
     "name": "stderr",
     "output_type": "stream",
     "text": [
      "/home/j.argelo/.conda/envs/cell2sentence/lib/python3.8/site-packages/tqdm/auto.py:21: TqdmWarning: IProgress not found. Please update jupyter and ipywidgets. See https://ipywidgets.readthedocs.io/en/stable/user_install.html\n",
      "  from .autonotebook import tqdm as notebook_tqdm\n"
     ]
    }
   ],
   "source": [
    "# Import necessary libraries\n",
    "import os\n",
    "import torch\n",
    "from transformers import AutoModelForCausalLM\n",
    "import cell2sentence as cs\n",
    "from cell2sentence.prompt_formatter import C2SPromptFormatter, C2SMultiCellPromptFormatter"
   ]
  },
  {
   "cell_type": "code",
   "execution_count": 3,
   "id": "570c9cbc",
   "metadata": {},
   "outputs": [
    {
     "name": "stdout",
     "output_type": "stream",
     "text": [
      "Available devices: 2 GPUs\n"
     ]
    }
   ],
   "source": [
    "# Print available devices\n",
    "print(\"Available devices:\", torch.cuda.device_count(), \"GPUs\")"
   ]
  },
  {
   "cell_type": "code",
   "execution_count": 6,
   "id": "97ee0ce3",
   "metadata": {},
   "outputs": [
    {
     "name": "stdout",
     "output_type": "stream",
     "text": [
      "Using device: cuda\n"
     ]
    },
    {
     "name": "stderr",
     "output_type": "stream",
     "text": [
      "Downloading shards:   0%|                                                                                                          | 0/12 [00:00<?, ?it/s]Cancellation requested; stopping current tasks.\n",
      "Cancellation requested; stopping current tasks.\n",
      "Downloading shards:   0%|                                                                                                          | 0/12 [02:39<?, ?it/s]\n",
      "\n"
     ]
    },
    {
     "ename": "KeyboardInterrupt",
     "evalue": "",
     "output_type": "error",
     "traceback": [
      "\u001b[0;31m---------------------------------------------------------------------------\u001b[0m",
      "\u001b[0;31mKeyboardInterrupt\u001b[0m                         Traceback (most recent call last)",
      "File \u001b[0;32m~/.conda/envs/cell2sentence/lib/python3.8/site-packages/huggingface_hub/file_download.py:629\u001b[0m, in \u001b[0;36mxet_get\u001b[0;34m(incomplete_path, xet_file_data, headers, expected_size, displayed_filename, _tqdm_bar)\u001b[0m\n\u001b[1;32m    627\u001b[0m     progress\u001b[38;5;241m.\u001b[39mupdate(progress_bytes)\n\u001b[0;32m--> 629\u001b[0m \u001b[43mdownload_files\u001b[49m\u001b[43m(\u001b[49m\n\u001b[1;32m    630\u001b[0m \u001b[43m    \u001b[49m\u001b[43mxet_download_info\u001b[49m\u001b[43m,\u001b[49m\n\u001b[1;32m    631\u001b[0m \u001b[43m    \u001b[49m\u001b[43mendpoint\u001b[49m\u001b[38;5;241;43m=\u001b[39;49m\u001b[43mconnection_info\u001b[49m\u001b[38;5;241;43m.\u001b[39;49m\u001b[43mendpoint\u001b[49m\u001b[43m,\u001b[49m\n\u001b[1;32m    632\u001b[0m \u001b[43m    \u001b[49m\u001b[43mtoken_info\u001b[49m\u001b[38;5;241;43m=\u001b[39;49m\u001b[43m(\u001b[49m\u001b[43mconnection_info\u001b[49m\u001b[38;5;241;43m.\u001b[39;49m\u001b[43maccess_token\u001b[49m\u001b[43m,\u001b[49m\u001b[43m \u001b[49m\u001b[43mconnection_info\u001b[49m\u001b[38;5;241;43m.\u001b[39;49m\u001b[43mexpiration_unix_epoch\u001b[49m\u001b[43m)\u001b[49m\u001b[43m,\u001b[49m\n\u001b[1;32m    633\u001b[0m \u001b[43m    \u001b[49m\u001b[43mtoken_refresher\u001b[49m\u001b[38;5;241;43m=\u001b[39;49m\u001b[43mtoken_refresher\u001b[49m\u001b[43m,\u001b[49m\n\u001b[1;32m    634\u001b[0m \u001b[43m    \u001b[49m\u001b[43mprogress_updater\u001b[49m\u001b[38;5;241;43m=\u001b[39;49m\u001b[43m[\u001b[49m\u001b[43mprogress_updater\u001b[49m\u001b[43m]\u001b[49m\u001b[43m,\u001b[49m\n\u001b[1;32m    635\u001b[0m \u001b[43m\u001b[49m\u001b[43m)\u001b[49m\n",
      "\u001b[0;31mKeyboardInterrupt\u001b[0m: ",
      "\nDuring handling of the above exception, another exception occurred:\n",
      "\u001b[0;31mKeyboardInterrupt\u001b[0m                         Traceback (most recent call last)",
      "Cell \u001b[0;32mIn[6], line 4\u001b[0m\n\u001b[1;32m      1\u001b[0m \u001b[38;5;66;03m# Initialize CSModel wrapper for helper functions and device management\u001b[39;00m\n\u001b[1;32m      2\u001b[0m model_path \u001b[38;5;241m=\u001b[39m \u001b[38;5;124m\"\u001b[39m\u001b[38;5;124mvandijklab/C2S-Scale-Gemma-2-27B\u001b[39m\u001b[38;5;124m\"\u001b[39m\n\u001b[0;32m----> 4\u001b[0m csmodel \u001b[38;5;241m=\u001b[39m \u001b[43mcs\u001b[49m\u001b[38;5;241;43m.\u001b[39;49m\u001b[43mCSModel\u001b[49m\u001b[43m(\u001b[49m\n\u001b[1;32m      5\u001b[0m \u001b[43m    \u001b[49m\u001b[43mmodel_name_or_path\u001b[49m\u001b[38;5;241;43m=\u001b[39;49m\u001b[43mmodel_path\u001b[49m\u001b[43m,\u001b[49m\n\u001b[1;32m      6\u001b[0m \u001b[43m    \u001b[49m\u001b[43msave_dir\u001b[49m\u001b[38;5;241;43m=\u001b[39;49m\u001b[38;5;124;43m\"\u001b[39;49m\u001b[38;5;124;43mmodels\u001b[39;49m\u001b[38;5;124;43m\"\u001b[39;49m\u001b[43m,\u001b[49m\u001b[43m  \u001b[49m\u001b[38;5;66;43;03m# Don't need local saving\u001b[39;49;00m\n\u001b[1;32m      7\u001b[0m \u001b[43m    \u001b[49m\u001b[43msave_name\u001b[49m\u001b[38;5;241;43m=\u001b[39;49m\u001b[38;5;124;43m\"\u001b[39;49m\u001b[38;5;124;43mC2S-Scale-Gemma-2-27B\u001b[39;49m\u001b[38;5;124;43m\"\u001b[39;49m\n\u001b[1;32m      8\u001b[0m \u001b[43m    \u001b[49m\u001b[43m)\u001b[49m\n\u001b[1;32m     10\u001b[0m \u001b[38;5;28mprint\u001b[39m(\u001b[38;5;124mf\u001b[39m\u001b[38;5;124m\"\u001b[39m\u001b[38;5;124mCSModel initialized. Will use device: \u001b[39m\u001b[38;5;132;01m{\u001b[39;00mcsmodel\u001b[38;5;241m.\u001b[39mdevice\u001b[38;5;132;01m}\u001b[39;00m\u001b[38;5;124m\"\u001b[39m)\n",
      "File \u001b[0;32m~/llm_scFMs/cell2sentence/src/cell2sentence/csmodel.py:64\u001b[0m, in \u001b[0;36mCSModel.__init__\u001b[0;34m(self, model_name_or_path, save_dir, save_name)\u001b[0m\n\u001b[1;32m     61\u001b[0m     \u001b[38;5;28mself\u001b[39m\u001b[38;5;241m.\u001b[39mtokenizer\u001b[38;5;241m.\u001b[39mpad_token \u001b[38;5;241m=\u001b[39m \u001b[38;5;28mself\u001b[39m\u001b[38;5;241m.\u001b[39mtokenizer\u001b[38;5;241m.\u001b[39meos_token\n\u001b[1;32m     63\u001b[0m \u001b[38;5;66;03m# Load model - either a pretrained C2S model path, or a Huggingface LLM name (if want to train from scratch on your own dataset)\u001b[39;00m\n\u001b[0;32m---> 64\u001b[0m model \u001b[38;5;241m=\u001b[39m \u001b[43mAutoModelForCausalLM\u001b[49m\u001b[38;5;241;43m.\u001b[39;49m\u001b[43mfrom_pretrained\u001b[49m\u001b[43m(\u001b[49m\n\u001b[1;32m     65\u001b[0m \u001b[43m    \u001b[49m\u001b[43mmodel_name_or_path\u001b[49m\u001b[43m,\u001b[49m\n\u001b[1;32m     66\u001b[0m \u001b[43m    \u001b[49m\u001b[43mcache_dir\u001b[49m\u001b[38;5;241;43m=\u001b[39;49m\u001b[43mos\u001b[49m\u001b[38;5;241;43m.\u001b[39;49m\u001b[43mpath\u001b[49m\u001b[38;5;241;43m.\u001b[39;49m\u001b[43mjoin\u001b[49m\u001b[43m(\u001b[49m\u001b[43msave_dir\u001b[49m\u001b[43m,\u001b[49m\u001b[43m \u001b[49m\u001b[38;5;124;43m\"\u001b[39;49m\u001b[38;5;124;43m.cache\u001b[39;49m\u001b[38;5;124;43m\"\u001b[39;49m\u001b[43m)\u001b[49m\u001b[43m,\u001b[49m\u001b[43m  \u001b[49m\u001b[38;5;66;43;03m# model file takes up several GB if loading default Huggignface LLM models\u001b[39;49;00m\n\u001b[1;32m     67\u001b[0m \u001b[43m    \u001b[49m\u001b[43mtrust_remote_code\u001b[49m\u001b[38;5;241;43m=\u001b[39;49m\u001b[38;5;28;43;01mTrue\u001b[39;49;00m\n\u001b[1;32m     68\u001b[0m \u001b[43m\u001b[49m\u001b[43m)\u001b[49m\n\u001b[1;32m     69\u001b[0m model\u001b[38;5;241m.\u001b[39msave_pretrained(\u001b[38;5;28mself\u001b[39m\u001b[38;5;241m.\u001b[39msave_path)\n",
      "File \u001b[0;32m~/.conda/envs/cell2sentence/lib/python3.8/site-packages/transformers/models/auto/auto_factory.py:564\u001b[0m, in \u001b[0;36m_BaseAutoModelClass.from_pretrained\u001b[0;34m(cls, pretrained_model_name_or_path, *model_args, **kwargs)\u001b[0m\n\u001b[1;32m    562\u001b[0m \u001b[38;5;28;01melif\u001b[39;00m \u001b[38;5;28mtype\u001b[39m(config) \u001b[38;5;129;01min\u001b[39;00m \u001b[38;5;28mcls\u001b[39m\u001b[38;5;241m.\u001b[39m_model_mapping\u001b[38;5;241m.\u001b[39mkeys():\n\u001b[1;32m    563\u001b[0m     model_class \u001b[38;5;241m=\u001b[39m _get_model_class(config, \u001b[38;5;28mcls\u001b[39m\u001b[38;5;241m.\u001b[39m_model_mapping)\n\u001b[0;32m--> 564\u001b[0m     \u001b[38;5;28;01mreturn\u001b[39;00m \u001b[43mmodel_class\u001b[49m\u001b[38;5;241;43m.\u001b[39;49m\u001b[43mfrom_pretrained\u001b[49m\u001b[43m(\u001b[49m\n\u001b[1;32m    565\u001b[0m \u001b[43m        \u001b[49m\u001b[43mpretrained_model_name_or_path\u001b[49m\u001b[43m,\u001b[49m\u001b[43m \u001b[49m\u001b[38;5;241;43m*\u001b[39;49m\u001b[43mmodel_args\u001b[49m\u001b[43m,\u001b[49m\u001b[43m \u001b[49m\u001b[43mconfig\u001b[49m\u001b[38;5;241;43m=\u001b[39;49m\u001b[43mconfig\u001b[49m\u001b[43m,\u001b[49m\u001b[43m \u001b[49m\u001b[38;5;241;43m*\u001b[39;49m\u001b[38;5;241;43m*\u001b[39;49m\u001b[43mhub_kwargs\u001b[49m\u001b[43m,\u001b[49m\u001b[43m \u001b[49m\u001b[38;5;241;43m*\u001b[39;49m\u001b[38;5;241;43m*\u001b[39;49m\u001b[43mkwargs\u001b[49m\n\u001b[1;32m    566\u001b[0m \u001b[43m    \u001b[49m\u001b[43m)\u001b[49m\n\u001b[1;32m    567\u001b[0m \u001b[38;5;28;01mraise\u001b[39;00m \u001b[38;5;167;01mValueError\u001b[39;00m(\n\u001b[1;32m    568\u001b[0m     \u001b[38;5;124mf\u001b[39m\u001b[38;5;124m\"\u001b[39m\u001b[38;5;124mUnrecognized configuration class \u001b[39m\u001b[38;5;132;01m{\u001b[39;00mconfig\u001b[38;5;241m.\u001b[39m\u001b[38;5;18m__class__\u001b[39m\u001b[38;5;132;01m}\u001b[39;00m\u001b[38;5;124m for this kind of AutoModel: \u001b[39m\u001b[38;5;132;01m{\u001b[39;00m\u001b[38;5;28mcls\u001b[39m\u001b[38;5;241m.\u001b[39m\u001b[38;5;18m__name__\u001b[39m\u001b[38;5;132;01m}\u001b[39;00m\u001b[38;5;124m.\u001b[39m\u001b[38;5;130;01m\\n\u001b[39;00m\u001b[38;5;124m\"\u001b[39m\n\u001b[1;32m    569\u001b[0m     \u001b[38;5;124mf\u001b[39m\u001b[38;5;124m\"\u001b[39m\u001b[38;5;124mModel type should be one of \u001b[39m\u001b[38;5;132;01m{\u001b[39;00m\u001b[38;5;124m'\u001b[39m\u001b[38;5;124m, \u001b[39m\u001b[38;5;124m'\u001b[39m\u001b[38;5;241m.\u001b[39mjoin(c\u001b[38;5;241m.\u001b[39m\u001b[38;5;18m__name__\u001b[39m\u001b[38;5;250m \u001b[39m\u001b[38;5;28;01mfor\u001b[39;00m\u001b[38;5;250m \u001b[39mc\u001b[38;5;250m \u001b[39m\u001b[38;5;129;01min\u001b[39;00m\u001b[38;5;250m \u001b[39m\u001b[38;5;28mcls\u001b[39m\u001b[38;5;241m.\u001b[39m_model_mapping\u001b[38;5;241m.\u001b[39mkeys())\u001b[38;5;132;01m}\u001b[39;00m\u001b[38;5;124m.\u001b[39m\u001b[38;5;124m\"\u001b[39m\n\u001b[1;32m    570\u001b[0m )\n",
      "File \u001b[0;32m~/.conda/envs/cell2sentence/lib/python3.8/site-packages/transformers/modeling_utils.py:3974\u001b[0m, in \u001b[0;36mPreTrainedModel.from_pretrained\u001b[0;34m(cls, pretrained_model_name_or_path, config, cache_dir, ignore_mismatched_sizes, force_download, local_files_only, token, revision, use_safetensors, weights_only, *model_args, **kwargs)\u001b[0m\n\u001b[1;32m   3971\u001b[0m \u001b[38;5;66;03m# We'll need to download and cache each checkpoint shard if the checkpoint is sharded.\u001b[39;00m\n\u001b[1;32m   3972\u001b[0m \u001b[38;5;28;01mif\u001b[39;00m is_sharded:\n\u001b[1;32m   3973\u001b[0m     \u001b[38;5;66;03m# resolved_archive_file becomes a list of files that point to the different checkpoint shards in this case.\u001b[39;00m\n\u001b[0;32m-> 3974\u001b[0m     resolved_archive_file, sharded_metadata \u001b[38;5;241m=\u001b[39m \u001b[43mget_checkpoint_shard_files\u001b[49m\u001b[43m(\u001b[49m\n\u001b[1;32m   3975\u001b[0m \u001b[43m        \u001b[49m\u001b[43mpretrained_model_name_or_path\u001b[49m\u001b[43m,\u001b[49m\n\u001b[1;32m   3976\u001b[0m \u001b[43m        \u001b[49m\u001b[43mresolved_archive_file\u001b[49m\u001b[43m,\u001b[49m\n\u001b[1;32m   3977\u001b[0m \u001b[43m        \u001b[49m\u001b[43mcache_dir\u001b[49m\u001b[38;5;241;43m=\u001b[39;49m\u001b[43mcache_dir\u001b[49m\u001b[43m,\u001b[49m\n\u001b[1;32m   3978\u001b[0m \u001b[43m        \u001b[49m\u001b[43mforce_download\u001b[49m\u001b[38;5;241;43m=\u001b[39;49m\u001b[43mforce_download\u001b[49m\u001b[43m,\u001b[49m\n\u001b[1;32m   3979\u001b[0m \u001b[43m        \u001b[49m\u001b[43mproxies\u001b[49m\u001b[38;5;241;43m=\u001b[39;49m\u001b[43mproxies\u001b[49m\u001b[43m,\u001b[49m\n\u001b[1;32m   3980\u001b[0m \u001b[43m        \u001b[49m\u001b[43mresume_download\u001b[49m\u001b[38;5;241;43m=\u001b[39;49m\u001b[43mresume_download\u001b[49m\u001b[43m,\u001b[49m\n\u001b[1;32m   3981\u001b[0m \u001b[43m        \u001b[49m\u001b[43mlocal_files_only\u001b[49m\u001b[38;5;241;43m=\u001b[39;49m\u001b[43mlocal_files_only\u001b[49m\u001b[43m,\u001b[49m\n\u001b[1;32m   3982\u001b[0m \u001b[43m        \u001b[49m\u001b[43mtoken\u001b[49m\u001b[38;5;241;43m=\u001b[39;49m\u001b[43mtoken\u001b[49m\u001b[43m,\u001b[49m\n\u001b[1;32m   3983\u001b[0m \u001b[43m        \u001b[49m\u001b[43muser_agent\u001b[49m\u001b[38;5;241;43m=\u001b[39;49m\u001b[43muser_agent\u001b[49m\u001b[43m,\u001b[49m\n\u001b[1;32m   3984\u001b[0m \u001b[43m        \u001b[49m\u001b[43mrevision\u001b[49m\u001b[38;5;241;43m=\u001b[39;49m\u001b[43mrevision\u001b[49m\u001b[43m,\u001b[49m\n\u001b[1;32m   3985\u001b[0m \u001b[43m        \u001b[49m\u001b[43msubfolder\u001b[49m\u001b[38;5;241;43m=\u001b[39;49m\u001b[43msubfolder\u001b[49m\u001b[43m,\u001b[49m\n\u001b[1;32m   3986\u001b[0m \u001b[43m        \u001b[49m\u001b[43m_commit_hash\u001b[49m\u001b[38;5;241;43m=\u001b[39;49m\u001b[43mcommit_hash\u001b[49m\u001b[43m,\u001b[49m\n\u001b[1;32m   3987\u001b[0m \u001b[43m    \u001b[49m\u001b[43m)\u001b[49m\n\u001b[1;32m   3989\u001b[0m \u001b[38;5;28;01mif\u001b[39;00m (\n\u001b[1;32m   3990\u001b[0m     is_safetensors_available()\n\u001b[1;32m   3991\u001b[0m     \u001b[38;5;129;01mand\u001b[39;00m \u001b[38;5;28misinstance\u001b[39m(resolved_archive_file, \u001b[38;5;28mstr\u001b[39m)\n\u001b[1;32m   3992\u001b[0m     \u001b[38;5;129;01mand\u001b[39;00m resolved_archive_file\u001b[38;5;241m.\u001b[39mendswith(\u001b[38;5;124m\"\u001b[39m\u001b[38;5;124m.safetensors\u001b[39m\u001b[38;5;124m\"\u001b[39m)\n\u001b[1;32m   3993\u001b[0m ):\n\u001b[1;32m   3994\u001b[0m     \u001b[38;5;28;01mwith\u001b[39;00m safe_open(resolved_archive_file, framework\u001b[38;5;241m=\u001b[39m\u001b[38;5;124m\"\u001b[39m\u001b[38;5;124mpt\u001b[39m\u001b[38;5;124m\"\u001b[39m) \u001b[38;5;28;01mas\u001b[39;00m f:\n",
      "File \u001b[0;32m~/.conda/envs/cell2sentence/lib/python3.8/site-packages/transformers/utils/hub.py:1098\u001b[0m, in \u001b[0;36mget_checkpoint_shard_files\u001b[0;34m(pretrained_model_name_or_path, index_filename, cache_dir, force_download, proxies, resume_download, local_files_only, token, user_agent, revision, subfolder, _commit_hash, **deprecated_kwargs)\u001b[0m\n\u001b[1;32m   1095\u001b[0m \u001b[38;5;28;01mfor\u001b[39;00m shard_filename \u001b[38;5;129;01min\u001b[39;00m tqdm(shard_filenames, desc\u001b[38;5;241m=\u001b[39m\u001b[38;5;124m\"\u001b[39m\u001b[38;5;124mDownloading shards\u001b[39m\u001b[38;5;124m\"\u001b[39m, disable\u001b[38;5;241m=\u001b[39m\u001b[38;5;129;01mnot\u001b[39;00m show_progress_bar):\n\u001b[1;32m   1096\u001b[0m     \u001b[38;5;28;01mtry\u001b[39;00m:\n\u001b[1;32m   1097\u001b[0m         \u001b[38;5;66;03m# Load from URL\u001b[39;00m\n\u001b[0;32m-> 1098\u001b[0m         cached_filename \u001b[38;5;241m=\u001b[39m \u001b[43mcached_file\u001b[49m\u001b[43m(\u001b[49m\n\u001b[1;32m   1099\u001b[0m \u001b[43m            \u001b[49m\u001b[43mpretrained_model_name_or_path\u001b[49m\u001b[43m,\u001b[49m\n\u001b[1;32m   1100\u001b[0m \u001b[43m            \u001b[49m\u001b[43mshard_filename\u001b[49m\u001b[43m,\u001b[49m\n\u001b[1;32m   1101\u001b[0m \u001b[43m            \u001b[49m\u001b[43mcache_dir\u001b[49m\u001b[38;5;241;43m=\u001b[39;49m\u001b[43mcache_dir\u001b[49m\u001b[43m,\u001b[49m\n\u001b[1;32m   1102\u001b[0m \u001b[43m            \u001b[49m\u001b[43mforce_download\u001b[49m\u001b[38;5;241;43m=\u001b[39;49m\u001b[43mforce_download\u001b[49m\u001b[43m,\u001b[49m\n\u001b[1;32m   1103\u001b[0m \u001b[43m            \u001b[49m\u001b[43mproxies\u001b[49m\u001b[38;5;241;43m=\u001b[39;49m\u001b[43mproxies\u001b[49m\u001b[43m,\u001b[49m\n\u001b[1;32m   1104\u001b[0m \u001b[43m            \u001b[49m\u001b[43mresume_download\u001b[49m\u001b[38;5;241;43m=\u001b[39;49m\u001b[43mresume_download\u001b[49m\u001b[43m,\u001b[49m\n\u001b[1;32m   1105\u001b[0m \u001b[43m            \u001b[49m\u001b[43mlocal_files_only\u001b[49m\u001b[38;5;241;43m=\u001b[39;49m\u001b[43mlocal_files_only\u001b[49m\u001b[43m,\u001b[49m\n\u001b[1;32m   1106\u001b[0m \u001b[43m            \u001b[49m\u001b[43mtoken\u001b[49m\u001b[38;5;241;43m=\u001b[39;49m\u001b[43mtoken\u001b[49m\u001b[43m,\u001b[49m\n\u001b[1;32m   1107\u001b[0m \u001b[43m            \u001b[49m\u001b[43muser_agent\u001b[49m\u001b[38;5;241;43m=\u001b[39;49m\u001b[43muser_agent\u001b[49m\u001b[43m,\u001b[49m\n\u001b[1;32m   1108\u001b[0m \u001b[43m            \u001b[49m\u001b[43mrevision\u001b[49m\u001b[38;5;241;43m=\u001b[39;49m\u001b[43mrevision\u001b[49m\u001b[43m,\u001b[49m\n\u001b[1;32m   1109\u001b[0m \u001b[43m            \u001b[49m\u001b[43msubfolder\u001b[49m\u001b[38;5;241;43m=\u001b[39;49m\u001b[43msubfolder\u001b[49m\u001b[43m,\u001b[49m\n\u001b[1;32m   1110\u001b[0m \u001b[43m            \u001b[49m\u001b[43m_commit_hash\u001b[49m\u001b[38;5;241;43m=\u001b[39;49m\u001b[43m_commit_hash\u001b[49m\u001b[43m,\u001b[49m\n\u001b[1;32m   1111\u001b[0m \u001b[43m        \u001b[49m\u001b[43m)\u001b[49m\n\u001b[1;32m   1112\u001b[0m     \u001b[38;5;66;03m# We have already dealt with RepositoryNotFoundError and RevisionNotFoundError when getting the index, so\u001b[39;00m\n\u001b[1;32m   1113\u001b[0m     \u001b[38;5;66;03m# we don't have to catch them here.\u001b[39;00m\n\u001b[1;32m   1114\u001b[0m     \u001b[38;5;28;01mexcept\u001b[39;00m EntryNotFoundError:\n",
      "File \u001b[0;32m~/.conda/envs/cell2sentence/lib/python3.8/site-packages/transformers/utils/hub.py:403\u001b[0m, in \u001b[0;36mcached_file\u001b[0;34m(path_or_repo_id, filename, cache_dir, force_download, resume_download, proxies, token, revision, local_files_only, subfolder, repo_type, user_agent, _raise_exceptions_for_gated_repo, _raise_exceptions_for_missing_entries, _raise_exceptions_for_connection_errors, _commit_hash, **deprecated_kwargs)\u001b[0m\n\u001b[1;32m    400\u001b[0m user_agent \u001b[38;5;241m=\u001b[39m http_user_agent(user_agent)\n\u001b[1;32m    401\u001b[0m \u001b[38;5;28;01mtry\u001b[39;00m:\n\u001b[1;32m    402\u001b[0m     \u001b[38;5;66;03m# Load from URL or cache if already cached\u001b[39;00m\n\u001b[0;32m--> 403\u001b[0m     resolved_file \u001b[38;5;241m=\u001b[39m \u001b[43mhf_hub_download\u001b[49m\u001b[43m(\u001b[49m\n\u001b[1;32m    404\u001b[0m \u001b[43m        \u001b[49m\u001b[43mpath_or_repo_id\u001b[49m\u001b[43m,\u001b[49m\n\u001b[1;32m    405\u001b[0m \u001b[43m        \u001b[49m\u001b[43mfilename\u001b[49m\u001b[43m,\u001b[49m\n\u001b[1;32m    406\u001b[0m \u001b[43m        \u001b[49m\u001b[43msubfolder\u001b[49m\u001b[38;5;241;43m=\u001b[39;49m\u001b[38;5;28;43;01mNone\u001b[39;49;00m\u001b[43m \u001b[49m\u001b[38;5;28;43;01mif\u001b[39;49;00m\u001b[43m \u001b[49m\u001b[38;5;28;43mlen\u001b[39;49m\u001b[43m(\u001b[49m\u001b[43msubfolder\u001b[49m\u001b[43m)\u001b[49m\u001b[43m \u001b[49m\u001b[38;5;241;43m==\u001b[39;49m\u001b[43m \u001b[49m\u001b[38;5;241;43m0\u001b[39;49m\u001b[43m \u001b[49m\u001b[38;5;28;43;01melse\u001b[39;49;00m\u001b[43m \u001b[49m\u001b[43msubfolder\u001b[49m\u001b[43m,\u001b[49m\n\u001b[1;32m    407\u001b[0m \u001b[43m        \u001b[49m\u001b[43mrepo_type\u001b[49m\u001b[38;5;241;43m=\u001b[39;49m\u001b[43mrepo_type\u001b[49m\u001b[43m,\u001b[49m\n\u001b[1;32m    408\u001b[0m \u001b[43m        \u001b[49m\u001b[43mrevision\u001b[49m\u001b[38;5;241;43m=\u001b[39;49m\u001b[43mrevision\u001b[49m\u001b[43m,\u001b[49m\n\u001b[1;32m    409\u001b[0m \u001b[43m        \u001b[49m\u001b[43mcache_dir\u001b[49m\u001b[38;5;241;43m=\u001b[39;49m\u001b[43mcache_dir\u001b[49m\u001b[43m,\u001b[49m\n\u001b[1;32m    410\u001b[0m \u001b[43m        \u001b[49m\u001b[43muser_agent\u001b[49m\u001b[38;5;241;43m=\u001b[39;49m\u001b[43muser_agent\u001b[49m\u001b[43m,\u001b[49m\n\u001b[1;32m    411\u001b[0m \u001b[43m        \u001b[49m\u001b[43mforce_download\u001b[49m\u001b[38;5;241;43m=\u001b[39;49m\u001b[43mforce_download\u001b[49m\u001b[43m,\u001b[49m\n\u001b[1;32m    412\u001b[0m \u001b[43m        \u001b[49m\u001b[43mproxies\u001b[49m\u001b[38;5;241;43m=\u001b[39;49m\u001b[43mproxies\u001b[49m\u001b[43m,\u001b[49m\n\u001b[1;32m    413\u001b[0m \u001b[43m        \u001b[49m\u001b[43mresume_download\u001b[49m\u001b[38;5;241;43m=\u001b[39;49m\u001b[43mresume_download\u001b[49m\u001b[43m,\u001b[49m\n\u001b[1;32m    414\u001b[0m \u001b[43m        \u001b[49m\u001b[43mtoken\u001b[49m\u001b[38;5;241;43m=\u001b[39;49m\u001b[43mtoken\u001b[49m\u001b[43m,\u001b[49m\n\u001b[1;32m    415\u001b[0m \u001b[43m        \u001b[49m\u001b[43mlocal_files_only\u001b[49m\u001b[38;5;241;43m=\u001b[39;49m\u001b[43mlocal_files_only\u001b[49m\u001b[43m,\u001b[49m\n\u001b[1;32m    416\u001b[0m \u001b[43m    \u001b[49m\u001b[43m)\u001b[49m\n\u001b[1;32m    417\u001b[0m \u001b[38;5;28;01mexcept\u001b[39;00m GatedRepoError \u001b[38;5;28;01mas\u001b[39;00m e:\n\u001b[1;32m    418\u001b[0m     resolved_file \u001b[38;5;241m=\u001b[39m _get_cache_file_to_return(path_or_repo_id, full_filename, cache_dir, revision)\n",
      "File \u001b[0;32m~/.conda/envs/cell2sentence/lib/python3.8/site-packages/huggingface_hub/utils/_validators.py:114\u001b[0m, in \u001b[0;36mvalidate_hf_hub_args.<locals>._inner_fn\u001b[0;34m(*args, **kwargs)\u001b[0m\n\u001b[1;32m    111\u001b[0m \u001b[38;5;28;01mif\u001b[39;00m check_use_auth_token:\n\u001b[1;32m    112\u001b[0m     kwargs \u001b[38;5;241m=\u001b[39m smoothly_deprecate_use_auth_token(fn_name\u001b[38;5;241m=\u001b[39mfn\u001b[38;5;241m.\u001b[39m\u001b[38;5;18m__name__\u001b[39m, has_token\u001b[38;5;241m=\u001b[39mhas_token, kwargs\u001b[38;5;241m=\u001b[39mkwargs)\n\u001b[0;32m--> 114\u001b[0m \u001b[38;5;28;01mreturn\u001b[39;00m \u001b[43mfn\u001b[49m\u001b[43m(\u001b[49m\u001b[38;5;241;43m*\u001b[39;49m\u001b[43margs\u001b[49m\u001b[43m,\u001b[49m\u001b[43m \u001b[49m\u001b[38;5;241;43m*\u001b[39;49m\u001b[38;5;241;43m*\u001b[39;49m\u001b[43mkwargs\u001b[49m\u001b[43m)\u001b[49m\n",
      "File \u001b[0;32m~/.conda/envs/cell2sentence/lib/python3.8/site-packages/huggingface_hub/file_download.py:1010\u001b[0m, in \u001b[0;36mhf_hub_download\u001b[0;34m(repo_id, filename, subfolder, repo_type, revision, library_name, library_version, cache_dir, local_dir, user_agent, force_download, proxies, etag_timeout, token, local_files_only, headers, endpoint, resume_download, force_filename, local_dir_use_symlinks)\u001b[0m\n\u001b[1;32m    990\u001b[0m     \u001b[38;5;28;01mreturn\u001b[39;00m _hf_hub_download_to_local_dir(\n\u001b[1;32m    991\u001b[0m         \u001b[38;5;66;03m# Destination\u001b[39;00m\n\u001b[1;32m    992\u001b[0m         local_dir\u001b[38;5;241m=\u001b[39mlocal_dir,\n\u001b[0;32m   (...)\u001b[0m\n\u001b[1;32m   1007\u001b[0m         local_files_only\u001b[38;5;241m=\u001b[39mlocal_files_only,\n\u001b[1;32m   1008\u001b[0m     )\n\u001b[1;32m   1009\u001b[0m \u001b[38;5;28;01melse\u001b[39;00m:\n\u001b[0;32m-> 1010\u001b[0m     \u001b[38;5;28;01mreturn\u001b[39;00m \u001b[43m_hf_hub_download_to_cache_dir\u001b[49m\u001b[43m(\u001b[49m\n\u001b[1;32m   1011\u001b[0m \u001b[43m        \u001b[49m\u001b[38;5;66;43;03m# Destination\u001b[39;49;00m\n\u001b[1;32m   1012\u001b[0m \u001b[43m        \u001b[49m\u001b[43mcache_dir\u001b[49m\u001b[38;5;241;43m=\u001b[39;49m\u001b[43mcache_dir\u001b[49m\u001b[43m,\u001b[49m\n\u001b[1;32m   1013\u001b[0m \u001b[43m        \u001b[49m\u001b[38;5;66;43;03m# File info\u001b[39;49;00m\n\u001b[1;32m   1014\u001b[0m \u001b[43m        \u001b[49m\u001b[43mrepo_id\u001b[49m\u001b[38;5;241;43m=\u001b[39;49m\u001b[43mrepo_id\u001b[49m\u001b[43m,\u001b[49m\n\u001b[1;32m   1015\u001b[0m \u001b[43m        \u001b[49m\u001b[43mfilename\u001b[49m\u001b[38;5;241;43m=\u001b[39;49m\u001b[43mfilename\u001b[49m\u001b[43m,\u001b[49m\n\u001b[1;32m   1016\u001b[0m \u001b[43m        \u001b[49m\u001b[43mrepo_type\u001b[49m\u001b[38;5;241;43m=\u001b[39;49m\u001b[43mrepo_type\u001b[49m\u001b[43m,\u001b[49m\n\u001b[1;32m   1017\u001b[0m \u001b[43m        \u001b[49m\u001b[43mrevision\u001b[49m\u001b[38;5;241;43m=\u001b[39;49m\u001b[43mrevision\u001b[49m\u001b[43m,\u001b[49m\n\u001b[1;32m   1018\u001b[0m \u001b[43m        \u001b[49m\u001b[38;5;66;43;03m# HTTP info\u001b[39;49;00m\n\u001b[1;32m   1019\u001b[0m \u001b[43m        \u001b[49m\u001b[43mendpoint\u001b[49m\u001b[38;5;241;43m=\u001b[39;49m\u001b[43mendpoint\u001b[49m\u001b[43m,\u001b[49m\n\u001b[1;32m   1020\u001b[0m \u001b[43m        \u001b[49m\u001b[43metag_timeout\u001b[49m\u001b[38;5;241;43m=\u001b[39;49m\u001b[43metag_timeout\u001b[49m\u001b[43m,\u001b[49m\n\u001b[1;32m   1021\u001b[0m \u001b[43m        \u001b[49m\u001b[43mheaders\u001b[49m\u001b[38;5;241;43m=\u001b[39;49m\u001b[43mhf_headers\u001b[49m\u001b[43m,\u001b[49m\n\u001b[1;32m   1022\u001b[0m \u001b[43m        \u001b[49m\u001b[43mproxies\u001b[49m\u001b[38;5;241;43m=\u001b[39;49m\u001b[43mproxies\u001b[49m\u001b[43m,\u001b[49m\n\u001b[1;32m   1023\u001b[0m \u001b[43m        \u001b[49m\u001b[43mtoken\u001b[49m\u001b[38;5;241;43m=\u001b[39;49m\u001b[43mtoken\u001b[49m\u001b[43m,\u001b[49m\n\u001b[1;32m   1024\u001b[0m \u001b[43m        \u001b[49m\u001b[38;5;66;43;03m# Additional options\u001b[39;49;00m\n\u001b[1;32m   1025\u001b[0m \u001b[43m        \u001b[49m\u001b[43mlocal_files_only\u001b[49m\u001b[38;5;241;43m=\u001b[39;49m\u001b[43mlocal_files_only\u001b[49m\u001b[43m,\u001b[49m\n\u001b[1;32m   1026\u001b[0m \u001b[43m        \u001b[49m\u001b[43mforce_download\u001b[49m\u001b[38;5;241;43m=\u001b[39;49m\u001b[43mforce_download\u001b[49m\u001b[43m,\u001b[49m\n\u001b[1;32m   1027\u001b[0m \u001b[43m    \u001b[49m\u001b[43m)\u001b[49m\n",
      "File \u001b[0;32m~/.conda/envs/cell2sentence/lib/python3.8/site-packages/huggingface_hub/file_download.py:1171\u001b[0m, in \u001b[0;36m_hf_hub_download_to_cache_dir\u001b[0;34m(cache_dir, repo_id, filename, repo_type, revision, endpoint, etag_timeout, headers, proxies, token, local_files_only, force_download)\u001b[0m\n\u001b[1;32m   1168\u001b[0m \u001b[38;5;66;03m# Local file doesn't exist or etag isn't a match => retrieve file from remote (or cache)\u001b[39;00m\n\u001b[1;32m   1170\u001b[0m \u001b[38;5;28;01mwith\u001b[39;00m WeakFileLock(lock_path):\n\u001b[0;32m-> 1171\u001b[0m     \u001b[43m_download_to_tmp_and_move\u001b[49m\u001b[43m(\u001b[49m\n\u001b[1;32m   1172\u001b[0m \u001b[43m        \u001b[49m\u001b[43mincomplete_path\u001b[49m\u001b[38;5;241;43m=\u001b[39;49m\u001b[43mPath\u001b[49m\u001b[43m(\u001b[49m\u001b[43mblob_path\u001b[49m\u001b[43m \u001b[49m\u001b[38;5;241;43m+\u001b[39;49m\u001b[43m \u001b[49m\u001b[38;5;124;43m\"\u001b[39;49m\u001b[38;5;124;43m.incomplete\u001b[39;49m\u001b[38;5;124;43m\"\u001b[39;49m\u001b[43m)\u001b[49m\u001b[43m,\u001b[49m\n\u001b[1;32m   1173\u001b[0m \u001b[43m        \u001b[49m\u001b[43mdestination_path\u001b[49m\u001b[38;5;241;43m=\u001b[39;49m\u001b[43mPath\u001b[49m\u001b[43m(\u001b[49m\u001b[43mblob_path\u001b[49m\u001b[43m)\u001b[49m\u001b[43m,\u001b[49m\n\u001b[1;32m   1174\u001b[0m \u001b[43m        \u001b[49m\u001b[43murl_to_download\u001b[49m\u001b[38;5;241;43m=\u001b[39;49m\u001b[43murl_to_download\u001b[49m\u001b[43m,\u001b[49m\n\u001b[1;32m   1175\u001b[0m \u001b[43m        \u001b[49m\u001b[43mproxies\u001b[49m\u001b[38;5;241;43m=\u001b[39;49m\u001b[43mproxies\u001b[49m\u001b[43m,\u001b[49m\n\u001b[1;32m   1176\u001b[0m \u001b[43m        \u001b[49m\u001b[43mheaders\u001b[49m\u001b[38;5;241;43m=\u001b[39;49m\u001b[43mheaders\u001b[49m\u001b[43m,\u001b[49m\n\u001b[1;32m   1177\u001b[0m \u001b[43m        \u001b[49m\u001b[43mexpected_size\u001b[49m\u001b[38;5;241;43m=\u001b[39;49m\u001b[43mexpected_size\u001b[49m\u001b[43m,\u001b[49m\n\u001b[1;32m   1178\u001b[0m \u001b[43m        \u001b[49m\u001b[43mfilename\u001b[49m\u001b[38;5;241;43m=\u001b[39;49m\u001b[43mfilename\u001b[49m\u001b[43m,\u001b[49m\n\u001b[1;32m   1179\u001b[0m \u001b[43m        \u001b[49m\u001b[43mforce_download\u001b[49m\u001b[38;5;241;43m=\u001b[39;49m\u001b[43mforce_download\u001b[49m\u001b[43m,\u001b[49m\n\u001b[1;32m   1180\u001b[0m \u001b[43m        \u001b[49m\u001b[43metag\u001b[49m\u001b[38;5;241;43m=\u001b[39;49m\u001b[43metag\u001b[49m\u001b[43m,\u001b[49m\n\u001b[1;32m   1181\u001b[0m \u001b[43m        \u001b[49m\u001b[43mxet_file_data\u001b[49m\u001b[38;5;241;43m=\u001b[39;49m\u001b[43mxet_file_data\u001b[49m\u001b[43m,\u001b[49m\n\u001b[1;32m   1182\u001b[0m \u001b[43m    \u001b[49m\u001b[43m)\u001b[49m\n\u001b[1;32m   1183\u001b[0m     \u001b[38;5;28;01mif\u001b[39;00m \u001b[38;5;129;01mnot\u001b[39;00m os\u001b[38;5;241m.\u001b[39mpath\u001b[38;5;241m.\u001b[39mexists(pointer_path):\n\u001b[1;32m   1184\u001b[0m         _create_symlink(blob_path, pointer_path, new_blob\u001b[38;5;241m=\u001b[39m\u001b[38;5;28;01mTrue\u001b[39;00m)\n",
      "File \u001b[0;32m~/.conda/envs/cell2sentence/lib/python3.8/site-packages/huggingface_hub/file_download.py:1723\u001b[0m, in \u001b[0;36m_download_to_tmp_and_move\u001b[0;34m(incomplete_path, destination_path, url_to_download, proxies, headers, expected_size, filename, force_download, etag, xet_file_data)\u001b[0m\n\u001b[1;32m   1721\u001b[0m \u001b[38;5;28;01mif\u001b[39;00m xet_file_data \u001b[38;5;129;01mis\u001b[39;00m \u001b[38;5;129;01mnot\u001b[39;00m \u001b[38;5;28;01mNone\u001b[39;00m \u001b[38;5;129;01mand\u001b[39;00m is_xet_available():\n\u001b[1;32m   1722\u001b[0m     logger\u001b[38;5;241m.\u001b[39mdebug(\u001b[38;5;124m\"\u001b[39m\u001b[38;5;124mXet Storage is enabled for this repo. Downloading file from Xet Storage..\u001b[39m\u001b[38;5;124m\"\u001b[39m)\n\u001b[0;32m-> 1723\u001b[0m     \u001b[43mxet_get\u001b[49m\u001b[43m(\u001b[49m\n\u001b[1;32m   1724\u001b[0m \u001b[43m        \u001b[49m\u001b[43mincomplete_path\u001b[49m\u001b[38;5;241;43m=\u001b[39;49m\u001b[43mincomplete_path\u001b[49m\u001b[43m,\u001b[49m\n\u001b[1;32m   1725\u001b[0m \u001b[43m        \u001b[49m\u001b[43mxet_file_data\u001b[49m\u001b[38;5;241;43m=\u001b[39;49m\u001b[43mxet_file_data\u001b[49m\u001b[43m,\u001b[49m\n\u001b[1;32m   1726\u001b[0m \u001b[43m        \u001b[49m\u001b[43mheaders\u001b[49m\u001b[38;5;241;43m=\u001b[39;49m\u001b[43mheaders\u001b[49m\u001b[43m,\u001b[49m\n\u001b[1;32m   1727\u001b[0m \u001b[43m        \u001b[49m\u001b[43mexpected_size\u001b[49m\u001b[38;5;241;43m=\u001b[39;49m\u001b[43mexpected_size\u001b[49m\u001b[43m,\u001b[49m\n\u001b[1;32m   1728\u001b[0m \u001b[43m        \u001b[49m\u001b[43mdisplayed_filename\u001b[49m\u001b[38;5;241;43m=\u001b[39;49m\u001b[43mfilename\u001b[49m\u001b[43m,\u001b[49m\n\u001b[1;32m   1729\u001b[0m \u001b[43m    \u001b[49m\u001b[43m)\u001b[49m\n\u001b[1;32m   1730\u001b[0m \u001b[38;5;28;01melse\u001b[39;00m:\n\u001b[1;32m   1731\u001b[0m     \u001b[38;5;28;01mif\u001b[39;00m xet_file_data \u001b[38;5;129;01mis\u001b[39;00m \u001b[38;5;129;01mnot\u001b[39;00m \u001b[38;5;28;01mNone\u001b[39;00m \u001b[38;5;129;01mand\u001b[39;00m \u001b[38;5;129;01mnot\u001b[39;00m constants\u001b[38;5;241m.\u001b[39mHF_HUB_DISABLE_XET:\n",
      "File \u001b[0;32m~/.conda/envs/cell2sentence/lib/python3.8/site-packages/huggingface_hub/file_download.py:629\u001b[0m, in \u001b[0;36mxet_get\u001b[0;34m(incomplete_path, xet_file_data, headers, expected_size, displayed_filename, _tqdm_bar)\u001b[0m\n\u001b[1;32m    626\u001b[0m \u001b[38;5;28;01mdef\u001b[39;00m \u001b[38;5;21mprogress_updater\u001b[39m(progress_bytes: \u001b[38;5;28mfloat\u001b[39m):\n\u001b[1;32m    627\u001b[0m     progress\u001b[38;5;241m.\u001b[39mupdate(progress_bytes)\n\u001b[0;32m--> 629\u001b[0m \u001b[43mdownload_files\u001b[49m\u001b[43m(\u001b[49m\n\u001b[1;32m    630\u001b[0m \u001b[43m    \u001b[49m\u001b[43mxet_download_info\u001b[49m\u001b[43m,\u001b[49m\n\u001b[1;32m    631\u001b[0m \u001b[43m    \u001b[49m\u001b[43mendpoint\u001b[49m\u001b[38;5;241;43m=\u001b[39;49m\u001b[43mconnection_info\u001b[49m\u001b[38;5;241;43m.\u001b[39;49m\u001b[43mendpoint\u001b[49m\u001b[43m,\u001b[49m\n\u001b[1;32m    632\u001b[0m \u001b[43m    \u001b[49m\u001b[43mtoken_info\u001b[49m\u001b[38;5;241;43m=\u001b[39;49m\u001b[43m(\u001b[49m\u001b[43mconnection_info\u001b[49m\u001b[38;5;241;43m.\u001b[39;49m\u001b[43maccess_token\u001b[49m\u001b[43m,\u001b[49m\u001b[43m \u001b[49m\u001b[43mconnection_info\u001b[49m\u001b[38;5;241;43m.\u001b[39;49m\u001b[43mexpiration_unix_epoch\u001b[49m\u001b[43m)\u001b[49m\u001b[43m,\u001b[49m\n\u001b[1;32m    633\u001b[0m \u001b[43m    \u001b[49m\u001b[43mtoken_refresher\u001b[49m\u001b[38;5;241;43m=\u001b[39;49m\u001b[43mtoken_refresher\u001b[49m\u001b[43m,\u001b[49m\n\u001b[1;32m    634\u001b[0m \u001b[43m    \u001b[49m\u001b[43mprogress_updater\u001b[49m\u001b[38;5;241;43m=\u001b[39;49m\u001b[43m[\u001b[49m\u001b[43mprogress_updater\u001b[49m\u001b[43m]\u001b[49m\u001b[43m,\u001b[49m\n\u001b[1;32m    635\u001b[0m \u001b[43m\u001b[49m\u001b[43m)\u001b[49m\n",
      "\u001b[0;31mKeyboardInterrupt\u001b[0m: "
     ]
    }
   ],
   "source": [
    "# Initialize CSModel wrapper for helper functions and device management\n",
    "model_path = \"vandijklab/C2S-Scale-Gemma-2-27B\"\n",
    "\n",
    "csmodel = cs.CSModel(\n",
    "    model_name_or_path=model_path,\n",
    "    save_dir=\"models\",  # Don't need local saving\n",
    "    save_name=\"C2S-Scale-Gemma-2-27B\"\n",
    "    )\n",
    "\n",
    "print(f\"CSModel initialized. Will use device: {csmodel.device}\")\n"
   ]
  },
  {
   "cell_type": "code",
   "execution_count": null,
   "id": "a3617842",
   "metadata": {},
   "outputs": [
    {
     "name": "stderr",
     "output_type": "stream",
     "text": [
      "Downloading shards:   0%|                                                                                                                                  | 0/12 [00:00<?, ?it/s]Cancellation requested; stopping current tasks.\n",
      "Downloading shards:   0%|                                                                                                                                  | 0/12 [00:03<?, ?it/s]\n",
      "\n",
      "thread 'hf-xet-1' panicked at /home/runner/work/xet-core/xet-core/cas_client/src/download_utils.rs:333:54:\n",
      "index out of bounds: the len is 56 but the index is 1192\n",
      "note: run with `RUST_BACKTRACE=1` environment variable to display a backtrace\n"
     ]
    },
    {
     "ename": "KeyboardInterrupt",
     "evalue": "",
     "output_type": "error",
     "traceback": [
      "\u001b[0;31m---------------------------------------------------------------------------\u001b[0m",
      "\u001b[0;31mKeyboardInterrupt\u001b[0m                         Traceback (most recent call last)",
      "File \u001b[0;32m~/.conda/envs/cell2sentence/lib/python3.8/site-packages/huggingface_hub/file_download.py:629\u001b[0m, in \u001b[0;36mxet_get\u001b[0;34m(incomplete_path, xet_file_data, headers, expected_size, displayed_filename, _tqdm_bar)\u001b[0m\n\u001b[1;32m    627\u001b[0m     progress\u001b[38;5;241m.\u001b[39mupdate(progress_bytes)\n\u001b[0;32m--> 629\u001b[0m \u001b[43mdownload_files\u001b[49m\u001b[43m(\u001b[49m\n\u001b[1;32m    630\u001b[0m \u001b[43m    \u001b[49m\u001b[43mxet_download_info\u001b[49m\u001b[43m,\u001b[49m\n\u001b[1;32m    631\u001b[0m \u001b[43m    \u001b[49m\u001b[43mendpoint\u001b[49m\u001b[38;5;241;43m=\u001b[39;49m\u001b[43mconnection_info\u001b[49m\u001b[38;5;241;43m.\u001b[39;49m\u001b[43mendpoint\u001b[49m\u001b[43m,\u001b[49m\n\u001b[1;32m    632\u001b[0m \u001b[43m    \u001b[49m\u001b[43mtoken_info\u001b[49m\u001b[38;5;241;43m=\u001b[39;49m\u001b[43m(\u001b[49m\u001b[43mconnection_info\u001b[49m\u001b[38;5;241;43m.\u001b[39;49m\u001b[43maccess_token\u001b[49m\u001b[43m,\u001b[49m\u001b[43m \u001b[49m\u001b[43mconnection_info\u001b[49m\u001b[38;5;241;43m.\u001b[39;49m\u001b[43mexpiration_unix_epoch\u001b[49m\u001b[43m)\u001b[49m\u001b[43m,\u001b[49m\n\u001b[1;32m    633\u001b[0m \u001b[43m    \u001b[49m\u001b[43mtoken_refresher\u001b[49m\u001b[38;5;241;43m=\u001b[39;49m\u001b[43mtoken_refresher\u001b[49m\u001b[43m,\u001b[49m\n\u001b[1;32m    634\u001b[0m \u001b[43m    \u001b[49m\u001b[43mprogress_updater\u001b[49m\u001b[38;5;241;43m=\u001b[39;49m\u001b[43m[\u001b[49m\u001b[43mprogress_updater\u001b[49m\u001b[43m]\u001b[49m\u001b[43m,\u001b[49m\n\u001b[1;32m    635\u001b[0m \u001b[43m\u001b[49m\u001b[43m)\u001b[49m\n",
      "\u001b[0;31mKeyboardInterrupt\u001b[0m: ",
      "\nDuring handling of the above exception, another exception occurred:\n",
      "\u001b[0;31mKeyboardInterrupt\u001b[0m                         Traceback (most recent call last)",
      "Cell \u001b[0;32mIn[5], line 6\u001b[0m\n\u001b[1;32m      2\u001b[0m model_id \u001b[38;5;241m=\u001b[39m \u001b[38;5;124m\"\u001b[39m\u001b[38;5;124mvandijklab/C2S-Scale-Gemma-2-27B\u001b[39m\u001b[38;5;124m\"\u001b[39m\n\u001b[1;32m      4\u001b[0m tokenizer \u001b[38;5;241m=\u001b[39m AutoTokenizer\u001b[38;5;241m.\u001b[39mfrom_pretrained(model_id)\n\u001b[0;32m----> 6\u001b[0m csmodel \u001b[38;5;241m=\u001b[39m \u001b[43mAutoModelForCausalLM\u001b[49m\u001b[38;5;241;43m.\u001b[39;49m\u001b[43mfrom_pretrained\u001b[49m\u001b[43m(\u001b[49m\n\u001b[1;32m      7\u001b[0m \u001b[43m    \u001b[49m\u001b[43mmodel_id\u001b[49m\u001b[43m,\u001b[49m\n\u001b[1;32m      8\u001b[0m \u001b[43m    \u001b[49m\u001b[43mdevice_map\u001b[49m\u001b[38;5;241;43m=\u001b[39;49m\u001b[38;5;124;43m\"\u001b[39;49m\u001b[38;5;124;43mauto\u001b[39;49m\u001b[38;5;124;43m\"\u001b[39;49m\u001b[43m,\u001b[49m\n\u001b[1;32m      9\u001b[0m \u001b[43m    \u001b[49m\u001b[43mtorch_dtype\u001b[49m\u001b[38;5;241;43m=\u001b[39;49m\u001b[43mtorch\u001b[49m\u001b[38;5;241;43m.\u001b[39;49m\u001b[43mbfloat16\u001b[49m\u001b[43m,\u001b[49m\n\u001b[1;32m     10\u001b[0m \u001b[43m    \u001b[49m\u001b[43mtrust_remote_code\u001b[49m\u001b[38;5;241;43m=\u001b[39;49m\u001b[38;5;28;43;01mTrue\u001b[39;49;00m\n\u001b[1;32m     11\u001b[0m \u001b[43m)\u001b[49m\n\u001b[1;32m     12\u001b[0m model \u001b[38;5;241m=\u001b[39m model\u001b[38;5;241m.\u001b[39mto(\u001b[38;5;124m\"\u001b[39m\u001b[38;5;124mcuda\u001b[39m\u001b[38;5;124m\"\u001b[39m)\n\u001b[1;32m     13\u001b[0m \u001b[38;5;28mprint\u001b[39m(\u001b[38;5;124mf\u001b[39m\u001b[38;5;124m\"\u001b[39m\u001b[38;5;124mModel loaded on device: \u001b[39m\u001b[38;5;132;01m{\u001b[39;00mmodel\u001b[38;5;241m.\u001b[39mdevice\u001b[38;5;132;01m}\u001b[39;00m\u001b[38;5;124m\"\u001b[39m)\n",
      "File \u001b[0;32m~/.conda/envs/cell2sentence/lib/python3.8/site-packages/transformers/models/auto/auto_factory.py:564\u001b[0m, in \u001b[0;36m_BaseAutoModelClass.from_pretrained\u001b[0;34m(cls, pretrained_model_name_or_path, *model_args, **kwargs)\u001b[0m\n\u001b[1;32m    562\u001b[0m \u001b[38;5;28;01melif\u001b[39;00m \u001b[38;5;28mtype\u001b[39m(config) \u001b[38;5;129;01min\u001b[39;00m \u001b[38;5;28mcls\u001b[39m\u001b[38;5;241m.\u001b[39m_model_mapping\u001b[38;5;241m.\u001b[39mkeys():\n\u001b[1;32m    563\u001b[0m     model_class \u001b[38;5;241m=\u001b[39m _get_model_class(config, \u001b[38;5;28mcls\u001b[39m\u001b[38;5;241m.\u001b[39m_model_mapping)\n\u001b[0;32m--> 564\u001b[0m     \u001b[38;5;28;01mreturn\u001b[39;00m \u001b[43mmodel_class\u001b[49m\u001b[38;5;241;43m.\u001b[39;49m\u001b[43mfrom_pretrained\u001b[49m\u001b[43m(\u001b[49m\n\u001b[1;32m    565\u001b[0m \u001b[43m        \u001b[49m\u001b[43mpretrained_model_name_or_path\u001b[49m\u001b[43m,\u001b[49m\u001b[43m \u001b[49m\u001b[38;5;241;43m*\u001b[39;49m\u001b[43mmodel_args\u001b[49m\u001b[43m,\u001b[49m\u001b[43m \u001b[49m\u001b[43mconfig\u001b[49m\u001b[38;5;241;43m=\u001b[39;49m\u001b[43mconfig\u001b[49m\u001b[43m,\u001b[49m\u001b[43m \u001b[49m\u001b[38;5;241;43m*\u001b[39;49m\u001b[38;5;241;43m*\u001b[39;49m\u001b[43mhub_kwargs\u001b[49m\u001b[43m,\u001b[49m\u001b[43m \u001b[49m\u001b[38;5;241;43m*\u001b[39;49m\u001b[38;5;241;43m*\u001b[39;49m\u001b[43mkwargs\u001b[49m\n\u001b[1;32m    566\u001b[0m \u001b[43m    \u001b[49m\u001b[43m)\u001b[49m\n\u001b[1;32m    567\u001b[0m \u001b[38;5;28;01mraise\u001b[39;00m \u001b[38;5;167;01mValueError\u001b[39;00m(\n\u001b[1;32m    568\u001b[0m     \u001b[38;5;124mf\u001b[39m\u001b[38;5;124m\"\u001b[39m\u001b[38;5;124mUnrecognized configuration class \u001b[39m\u001b[38;5;132;01m{\u001b[39;00mconfig\u001b[38;5;241m.\u001b[39m\u001b[38;5;18m__class__\u001b[39m\u001b[38;5;132;01m}\u001b[39;00m\u001b[38;5;124m for this kind of AutoModel: \u001b[39m\u001b[38;5;132;01m{\u001b[39;00m\u001b[38;5;28mcls\u001b[39m\u001b[38;5;241m.\u001b[39m\u001b[38;5;18m__name__\u001b[39m\u001b[38;5;132;01m}\u001b[39;00m\u001b[38;5;124m.\u001b[39m\u001b[38;5;130;01m\\n\u001b[39;00m\u001b[38;5;124m\"\u001b[39m\n\u001b[1;32m    569\u001b[0m     \u001b[38;5;124mf\u001b[39m\u001b[38;5;124m\"\u001b[39m\u001b[38;5;124mModel type should be one of \u001b[39m\u001b[38;5;132;01m{\u001b[39;00m\u001b[38;5;124m'\u001b[39m\u001b[38;5;124m, \u001b[39m\u001b[38;5;124m'\u001b[39m\u001b[38;5;241m.\u001b[39mjoin(c\u001b[38;5;241m.\u001b[39m\u001b[38;5;18m__name__\u001b[39m\u001b[38;5;250m \u001b[39m\u001b[38;5;28;01mfor\u001b[39;00m\u001b[38;5;250m \u001b[39mc\u001b[38;5;250m \u001b[39m\u001b[38;5;129;01min\u001b[39;00m\u001b[38;5;250m \u001b[39m\u001b[38;5;28mcls\u001b[39m\u001b[38;5;241m.\u001b[39m_model_mapping\u001b[38;5;241m.\u001b[39mkeys())\u001b[38;5;132;01m}\u001b[39;00m\u001b[38;5;124m.\u001b[39m\u001b[38;5;124m\"\u001b[39m\n\u001b[1;32m    570\u001b[0m )\n",
      "File \u001b[0;32m~/.conda/envs/cell2sentence/lib/python3.8/site-packages/transformers/modeling_utils.py:3974\u001b[0m, in \u001b[0;36mPreTrainedModel.from_pretrained\u001b[0;34m(cls, pretrained_model_name_or_path, config, cache_dir, ignore_mismatched_sizes, force_download, local_files_only, token, revision, use_safetensors, weights_only, *model_args, **kwargs)\u001b[0m\n\u001b[1;32m   3971\u001b[0m \u001b[38;5;66;03m# We'll need to download and cache each checkpoint shard if the checkpoint is sharded.\u001b[39;00m\n\u001b[1;32m   3972\u001b[0m \u001b[38;5;28;01mif\u001b[39;00m is_sharded:\n\u001b[1;32m   3973\u001b[0m     \u001b[38;5;66;03m# resolved_archive_file becomes a list of files that point to the different checkpoint shards in this case.\u001b[39;00m\n\u001b[0;32m-> 3974\u001b[0m     resolved_archive_file, sharded_metadata \u001b[38;5;241m=\u001b[39m \u001b[43mget_checkpoint_shard_files\u001b[49m\u001b[43m(\u001b[49m\n\u001b[1;32m   3975\u001b[0m \u001b[43m        \u001b[49m\u001b[43mpretrained_model_name_or_path\u001b[49m\u001b[43m,\u001b[49m\n\u001b[1;32m   3976\u001b[0m \u001b[43m        \u001b[49m\u001b[43mresolved_archive_file\u001b[49m\u001b[43m,\u001b[49m\n\u001b[1;32m   3977\u001b[0m \u001b[43m        \u001b[49m\u001b[43mcache_dir\u001b[49m\u001b[38;5;241;43m=\u001b[39;49m\u001b[43mcache_dir\u001b[49m\u001b[43m,\u001b[49m\n\u001b[1;32m   3978\u001b[0m \u001b[43m        \u001b[49m\u001b[43mforce_download\u001b[49m\u001b[38;5;241;43m=\u001b[39;49m\u001b[43mforce_download\u001b[49m\u001b[43m,\u001b[49m\n\u001b[1;32m   3979\u001b[0m \u001b[43m        \u001b[49m\u001b[43mproxies\u001b[49m\u001b[38;5;241;43m=\u001b[39;49m\u001b[43mproxies\u001b[49m\u001b[43m,\u001b[49m\n\u001b[1;32m   3980\u001b[0m \u001b[43m        \u001b[49m\u001b[43mresume_download\u001b[49m\u001b[38;5;241;43m=\u001b[39;49m\u001b[43mresume_download\u001b[49m\u001b[43m,\u001b[49m\n\u001b[1;32m   3981\u001b[0m \u001b[43m        \u001b[49m\u001b[43mlocal_files_only\u001b[49m\u001b[38;5;241;43m=\u001b[39;49m\u001b[43mlocal_files_only\u001b[49m\u001b[43m,\u001b[49m\n\u001b[1;32m   3982\u001b[0m \u001b[43m        \u001b[49m\u001b[43mtoken\u001b[49m\u001b[38;5;241;43m=\u001b[39;49m\u001b[43mtoken\u001b[49m\u001b[43m,\u001b[49m\n\u001b[1;32m   3983\u001b[0m \u001b[43m        \u001b[49m\u001b[43muser_agent\u001b[49m\u001b[38;5;241;43m=\u001b[39;49m\u001b[43muser_agent\u001b[49m\u001b[43m,\u001b[49m\n\u001b[1;32m   3984\u001b[0m \u001b[43m        \u001b[49m\u001b[43mrevision\u001b[49m\u001b[38;5;241;43m=\u001b[39;49m\u001b[43mrevision\u001b[49m\u001b[43m,\u001b[49m\n\u001b[1;32m   3985\u001b[0m \u001b[43m        \u001b[49m\u001b[43msubfolder\u001b[49m\u001b[38;5;241;43m=\u001b[39;49m\u001b[43msubfolder\u001b[49m\u001b[43m,\u001b[49m\n\u001b[1;32m   3986\u001b[0m \u001b[43m        \u001b[49m\u001b[43m_commit_hash\u001b[49m\u001b[38;5;241;43m=\u001b[39;49m\u001b[43mcommit_hash\u001b[49m\u001b[43m,\u001b[49m\n\u001b[1;32m   3987\u001b[0m \u001b[43m    \u001b[49m\u001b[43m)\u001b[49m\n\u001b[1;32m   3989\u001b[0m \u001b[38;5;28;01mif\u001b[39;00m (\n\u001b[1;32m   3990\u001b[0m     is_safetensors_available()\n\u001b[1;32m   3991\u001b[0m     \u001b[38;5;129;01mand\u001b[39;00m \u001b[38;5;28misinstance\u001b[39m(resolved_archive_file, \u001b[38;5;28mstr\u001b[39m)\n\u001b[1;32m   3992\u001b[0m     \u001b[38;5;129;01mand\u001b[39;00m resolved_archive_file\u001b[38;5;241m.\u001b[39mendswith(\u001b[38;5;124m\"\u001b[39m\u001b[38;5;124m.safetensors\u001b[39m\u001b[38;5;124m\"\u001b[39m)\n\u001b[1;32m   3993\u001b[0m ):\n\u001b[1;32m   3994\u001b[0m     \u001b[38;5;28;01mwith\u001b[39;00m safe_open(resolved_archive_file, framework\u001b[38;5;241m=\u001b[39m\u001b[38;5;124m\"\u001b[39m\u001b[38;5;124mpt\u001b[39m\u001b[38;5;124m\"\u001b[39m) \u001b[38;5;28;01mas\u001b[39;00m f:\n",
      "File \u001b[0;32m~/.conda/envs/cell2sentence/lib/python3.8/site-packages/transformers/utils/hub.py:1098\u001b[0m, in \u001b[0;36mget_checkpoint_shard_files\u001b[0;34m(pretrained_model_name_or_path, index_filename, cache_dir, force_download, proxies, resume_download, local_files_only, token, user_agent, revision, subfolder, _commit_hash, **deprecated_kwargs)\u001b[0m\n\u001b[1;32m   1095\u001b[0m \u001b[38;5;28;01mfor\u001b[39;00m shard_filename \u001b[38;5;129;01min\u001b[39;00m tqdm(shard_filenames, desc\u001b[38;5;241m=\u001b[39m\u001b[38;5;124m\"\u001b[39m\u001b[38;5;124mDownloading shards\u001b[39m\u001b[38;5;124m\"\u001b[39m, disable\u001b[38;5;241m=\u001b[39m\u001b[38;5;129;01mnot\u001b[39;00m show_progress_bar):\n\u001b[1;32m   1096\u001b[0m     \u001b[38;5;28;01mtry\u001b[39;00m:\n\u001b[1;32m   1097\u001b[0m         \u001b[38;5;66;03m# Load from URL\u001b[39;00m\n\u001b[0;32m-> 1098\u001b[0m         cached_filename \u001b[38;5;241m=\u001b[39m \u001b[43mcached_file\u001b[49m\u001b[43m(\u001b[49m\n\u001b[1;32m   1099\u001b[0m \u001b[43m            \u001b[49m\u001b[43mpretrained_model_name_or_path\u001b[49m\u001b[43m,\u001b[49m\n\u001b[1;32m   1100\u001b[0m \u001b[43m            \u001b[49m\u001b[43mshard_filename\u001b[49m\u001b[43m,\u001b[49m\n\u001b[1;32m   1101\u001b[0m \u001b[43m            \u001b[49m\u001b[43mcache_dir\u001b[49m\u001b[38;5;241;43m=\u001b[39;49m\u001b[43mcache_dir\u001b[49m\u001b[43m,\u001b[49m\n\u001b[1;32m   1102\u001b[0m \u001b[43m            \u001b[49m\u001b[43mforce_download\u001b[49m\u001b[38;5;241;43m=\u001b[39;49m\u001b[43mforce_download\u001b[49m\u001b[43m,\u001b[49m\n\u001b[1;32m   1103\u001b[0m \u001b[43m            \u001b[49m\u001b[43mproxies\u001b[49m\u001b[38;5;241;43m=\u001b[39;49m\u001b[43mproxies\u001b[49m\u001b[43m,\u001b[49m\n\u001b[1;32m   1104\u001b[0m \u001b[43m            \u001b[49m\u001b[43mresume_download\u001b[49m\u001b[38;5;241;43m=\u001b[39;49m\u001b[43mresume_download\u001b[49m\u001b[43m,\u001b[49m\n\u001b[1;32m   1105\u001b[0m \u001b[43m            \u001b[49m\u001b[43mlocal_files_only\u001b[49m\u001b[38;5;241;43m=\u001b[39;49m\u001b[43mlocal_files_only\u001b[49m\u001b[43m,\u001b[49m\n\u001b[1;32m   1106\u001b[0m \u001b[43m            \u001b[49m\u001b[43mtoken\u001b[49m\u001b[38;5;241;43m=\u001b[39;49m\u001b[43mtoken\u001b[49m\u001b[43m,\u001b[49m\n\u001b[1;32m   1107\u001b[0m \u001b[43m            \u001b[49m\u001b[43muser_agent\u001b[49m\u001b[38;5;241;43m=\u001b[39;49m\u001b[43muser_agent\u001b[49m\u001b[43m,\u001b[49m\n\u001b[1;32m   1108\u001b[0m \u001b[43m            \u001b[49m\u001b[43mrevision\u001b[49m\u001b[38;5;241;43m=\u001b[39;49m\u001b[43mrevision\u001b[49m\u001b[43m,\u001b[49m\n\u001b[1;32m   1109\u001b[0m \u001b[43m            \u001b[49m\u001b[43msubfolder\u001b[49m\u001b[38;5;241;43m=\u001b[39;49m\u001b[43msubfolder\u001b[49m\u001b[43m,\u001b[49m\n\u001b[1;32m   1110\u001b[0m \u001b[43m            \u001b[49m\u001b[43m_commit_hash\u001b[49m\u001b[38;5;241;43m=\u001b[39;49m\u001b[43m_commit_hash\u001b[49m\u001b[43m,\u001b[49m\n\u001b[1;32m   1111\u001b[0m \u001b[43m        \u001b[49m\u001b[43m)\u001b[49m\n\u001b[1;32m   1112\u001b[0m     \u001b[38;5;66;03m# We have already dealt with RepositoryNotFoundError and RevisionNotFoundError when getting the index, so\u001b[39;00m\n\u001b[1;32m   1113\u001b[0m     \u001b[38;5;66;03m# we don't have to catch them here.\u001b[39;00m\n\u001b[1;32m   1114\u001b[0m     \u001b[38;5;28;01mexcept\u001b[39;00m EntryNotFoundError:\n",
      "File \u001b[0;32m~/.conda/envs/cell2sentence/lib/python3.8/site-packages/transformers/utils/hub.py:403\u001b[0m, in \u001b[0;36mcached_file\u001b[0;34m(path_or_repo_id, filename, cache_dir, force_download, resume_download, proxies, token, revision, local_files_only, subfolder, repo_type, user_agent, _raise_exceptions_for_gated_repo, _raise_exceptions_for_missing_entries, _raise_exceptions_for_connection_errors, _commit_hash, **deprecated_kwargs)\u001b[0m\n\u001b[1;32m    400\u001b[0m user_agent \u001b[38;5;241m=\u001b[39m http_user_agent(user_agent)\n\u001b[1;32m    401\u001b[0m \u001b[38;5;28;01mtry\u001b[39;00m:\n\u001b[1;32m    402\u001b[0m     \u001b[38;5;66;03m# Load from URL or cache if already cached\u001b[39;00m\n\u001b[0;32m--> 403\u001b[0m     resolved_file \u001b[38;5;241m=\u001b[39m \u001b[43mhf_hub_download\u001b[49m\u001b[43m(\u001b[49m\n\u001b[1;32m    404\u001b[0m \u001b[43m        \u001b[49m\u001b[43mpath_or_repo_id\u001b[49m\u001b[43m,\u001b[49m\n\u001b[1;32m    405\u001b[0m \u001b[43m        \u001b[49m\u001b[43mfilename\u001b[49m\u001b[43m,\u001b[49m\n\u001b[1;32m    406\u001b[0m \u001b[43m        \u001b[49m\u001b[43msubfolder\u001b[49m\u001b[38;5;241;43m=\u001b[39;49m\u001b[38;5;28;43;01mNone\u001b[39;49;00m\u001b[43m \u001b[49m\u001b[38;5;28;43;01mif\u001b[39;49;00m\u001b[43m \u001b[49m\u001b[38;5;28;43mlen\u001b[39;49m\u001b[43m(\u001b[49m\u001b[43msubfolder\u001b[49m\u001b[43m)\u001b[49m\u001b[43m \u001b[49m\u001b[38;5;241;43m==\u001b[39;49m\u001b[43m \u001b[49m\u001b[38;5;241;43m0\u001b[39;49m\u001b[43m \u001b[49m\u001b[38;5;28;43;01melse\u001b[39;49;00m\u001b[43m \u001b[49m\u001b[43msubfolder\u001b[49m\u001b[43m,\u001b[49m\n\u001b[1;32m    407\u001b[0m \u001b[43m        \u001b[49m\u001b[43mrepo_type\u001b[49m\u001b[38;5;241;43m=\u001b[39;49m\u001b[43mrepo_type\u001b[49m\u001b[43m,\u001b[49m\n\u001b[1;32m    408\u001b[0m \u001b[43m        \u001b[49m\u001b[43mrevision\u001b[49m\u001b[38;5;241;43m=\u001b[39;49m\u001b[43mrevision\u001b[49m\u001b[43m,\u001b[49m\n\u001b[1;32m    409\u001b[0m \u001b[43m        \u001b[49m\u001b[43mcache_dir\u001b[49m\u001b[38;5;241;43m=\u001b[39;49m\u001b[43mcache_dir\u001b[49m\u001b[43m,\u001b[49m\n\u001b[1;32m    410\u001b[0m \u001b[43m        \u001b[49m\u001b[43muser_agent\u001b[49m\u001b[38;5;241;43m=\u001b[39;49m\u001b[43muser_agent\u001b[49m\u001b[43m,\u001b[49m\n\u001b[1;32m    411\u001b[0m \u001b[43m        \u001b[49m\u001b[43mforce_download\u001b[49m\u001b[38;5;241;43m=\u001b[39;49m\u001b[43mforce_download\u001b[49m\u001b[43m,\u001b[49m\n\u001b[1;32m    412\u001b[0m \u001b[43m        \u001b[49m\u001b[43mproxies\u001b[49m\u001b[38;5;241;43m=\u001b[39;49m\u001b[43mproxies\u001b[49m\u001b[43m,\u001b[49m\n\u001b[1;32m    413\u001b[0m \u001b[43m        \u001b[49m\u001b[43mresume_download\u001b[49m\u001b[38;5;241;43m=\u001b[39;49m\u001b[43mresume_download\u001b[49m\u001b[43m,\u001b[49m\n\u001b[1;32m    414\u001b[0m \u001b[43m        \u001b[49m\u001b[43mtoken\u001b[49m\u001b[38;5;241;43m=\u001b[39;49m\u001b[43mtoken\u001b[49m\u001b[43m,\u001b[49m\n\u001b[1;32m    415\u001b[0m \u001b[43m        \u001b[49m\u001b[43mlocal_files_only\u001b[49m\u001b[38;5;241;43m=\u001b[39;49m\u001b[43mlocal_files_only\u001b[49m\u001b[43m,\u001b[49m\n\u001b[1;32m    416\u001b[0m \u001b[43m    \u001b[49m\u001b[43m)\u001b[49m\n\u001b[1;32m    417\u001b[0m \u001b[38;5;28;01mexcept\u001b[39;00m GatedRepoError \u001b[38;5;28;01mas\u001b[39;00m e:\n\u001b[1;32m    418\u001b[0m     resolved_file \u001b[38;5;241m=\u001b[39m _get_cache_file_to_return(path_or_repo_id, full_filename, cache_dir, revision)\n",
      "File \u001b[0;32m~/.conda/envs/cell2sentence/lib/python3.8/site-packages/huggingface_hub/utils/_validators.py:114\u001b[0m, in \u001b[0;36mvalidate_hf_hub_args.<locals>._inner_fn\u001b[0;34m(*args, **kwargs)\u001b[0m\n\u001b[1;32m    111\u001b[0m \u001b[38;5;28;01mif\u001b[39;00m check_use_auth_token:\n\u001b[1;32m    112\u001b[0m     kwargs \u001b[38;5;241m=\u001b[39m smoothly_deprecate_use_auth_token(fn_name\u001b[38;5;241m=\u001b[39mfn\u001b[38;5;241m.\u001b[39m\u001b[38;5;18m__name__\u001b[39m, has_token\u001b[38;5;241m=\u001b[39mhas_token, kwargs\u001b[38;5;241m=\u001b[39mkwargs)\n\u001b[0;32m--> 114\u001b[0m \u001b[38;5;28;01mreturn\u001b[39;00m \u001b[43mfn\u001b[49m\u001b[43m(\u001b[49m\u001b[38;5;241;43m*\u001b[39;49m\u001b[43margs\u001b[49m\u001b[43m,\u001b[49m\u001b[43m \u001b[49m\u001b[38;5;241;43m*\u001b[39;49m\u001b[38;5;241;43m*\u001b[39;49m\u001b[43mkwargs\u001b[49m\u001b[43m)\u001b[49m\n",
      "File \u001b[0;32m~/.conda/envs/cell2sentence/lib/python3.8/site-packages/huggingface_hub/file_download.py:1010\u001b[0m, in \u001b[0;36mhf_hub_download\u001b[0;34m(repo_id, filename, subfolder, repo_type, revision, library_name, library_version, cache_dir, local_dir, user_agent, force_download, proxies, etag_timeout, token, local_files_only, headers, endpoint, resume_download, force_filename, local_dir_use_symlinks)\u001b[0m\n\u001b[1;32m    990\u001b[0m     \u001b[38;5;28;01mreturn\u001b[39;00m _hf_hub_download_to_local_dir(\n\u001b[1;32m    991\u001b[0m         \u001b[38;5;66;03m# Destination\u001b[39;00m\n\u001b[1;32m    992\u001b[0m         local_dir\u001b[38;5;241m=\u001b[39mlocal_dir,\n\u001b[0;32m   (...)\u001b[0m\n\u001b[1;32m   1007\u001b[0m         local_files_only\u001b[38;5;241m=\u001b[39mlocal_files_only,\n\u001b[1;32m   1008\u001b[0m     )\n\u001b[1;32m   1009\u001b[0m \u001b[38;5;28;01melse\u001b[39;00m:\n\u001b[0;32m-> 1010\u001b[0m     \u001b[38;5;28;01mreturn\u001b[39;00m \u001b[43m_hf_hub_download_to_cache_dir\u001b[49m\u001b[43m(\u001b[49m\n\u001b[1;32m   1011\u001b[0m \u001b[43m        \u001b[49m\u001b[38;5;66;43;03m# Destination\u001b[39;49;00m\n\u001b[1;32m   1012\u001b[0m \u001b[43m        \u001b[49m\u001b[43mcache_dir\u001b[49m\u001b[38;5;241;43m=\u001b[39;49m\u001b[43mcache_dir\u001b[49m\u001b[43m,\u001b[49m\n\u001b[1;32m   1013\u001b[0m \u001b[43m        \u001b[49m\u001b[38;5;66;43;03m# File info\u001b[39;49;00m\n\u001b[1;32m   1014\u001b[0m \u001b[43m        \u001b[49m\u001b[43mrepo_id\u001b[49m\u001b[38;5;241;43m=\u001b[39;49m\u001b[43mrepo_id\u001b[49m\u001b[43m,\u001b[49m\n\u001b[1;32m   1015\u001b[0m \u001b[43m        \u001b[49m\u001b[43mfilename\u001b[49m\u001b[38;5;241;43m=\u001b[39;49m\u001b[43mfilename\u001b[49m\u001b[43m,\u001b[49m\n\u001b[1;32m   1016\u001b[0m \u001b[43m        \u001b[49m\u001b[43mrepo_type\u001b[49m\u001b[38;5;241;43m=\u001b[39;49m\u001b[43mrepo_type\u001b[49m\u001b[43m,\u001b[49m\n\u001b[1;32m   1017\u001b[0m \u001b[43m        \u001b[49m\u001b[43mrevision\u001b[49m\u001b[38;5;241;43m=\u001b[39;49m\u001b[43mrevision\u001b[49m\u001b[43m,\u001b[49m\n\u001b[1;32m   1018\u001b[0m \u001b[43m        \u001b[49m\u001b[38;5;66;43;03m# HTTP info\u001b[39;49;00m\n\u001b[1;32m   1019\u001b[0m \u001b[43m        \u001b[49m\u001b[43mendpoint\u001b[49m\u001b[38;5;241;43m=\u001b[39;49m\u001b[43mendpoint\u001b[49m\u001b[43m,\u001b[49m\n\u001b[1;32m   1020\u001b[0m \u001b[43m        \u001b[49m\u001b[43metag_timeout\u001b[49m\u001b[38;5;241;43m=\u001b[39;49m\u001b[43metag_timeout\u001b[49m\u001b[43m,\u001b[49m\n\u001b[1;32m   1021\u001b[0m \u001b[43m        \u001b[49m\u001b[43mheaders\u001b[49m\u001b[38;5;241;43m=\u001b[39;49m\u001b[43mhf_headers\u001b[49m\u001b[43m,\u001b[49m\n\u001b[1;32m   1022\u001b[0m \u001b[43m        \u001b[49m\u001b[43mproxies\u001b[49m\u001b[38;5;241;43m=\u001b[39;49m\u001b[43mproxies\u001b[49m\u001b[43m,\u001b[49m\n\u001b[1;32m   1023\u001b[0m \u001b[43m        \u001b[49m\u001b[43mtoken\u001b[49m\u001b[38;5;241;43m=\u001b[39;49m\u001b[43mtoken\u001b[49m\u001b[43m,\u001b[49m\n\u001b[1;32m   1024\u001b[0m \u001b[43m        \u001b[49m\u001b[38;5;66;43;03m# Additional options\u001b[39;49;00m\n\u001b[1;32m   1025\u001b[0m \u001b[43m        \u001b[49m\u001b[43mlocal_files_only\u001b[49m\u001b[38;5;241;43m=\u001b[39;49m\u001b[43mlocal_files_only\u001b[49m\u001b[43m,\u001b[49m\n\u001b[1;32m   1026\u001b[0m \u001b[43m        \u001b[49m\u001b[43mforce_download\u001b[49m\u001b[38;5;241;43m=\u001b[39;49m\u001b[43mforce_download\u001b[49m\u001b[43m,\u001b[49m\n\u001b[1;32m   1027\u001b[0m \u001b[43m    \u001b[49m\u001b[43m)\u001b[49m\n",
      "File \u001b[0;32m~/.conda/envs/cell2sentence/lib/python3.8/site-packages/huggingface_hub/file_download.py:1171\u001b[0m, in \u001b[0;36m_hf_hub_download_to_cache_dir\u001b[0;34m(cache_dir, repo_id, filename, repo_type, revision, endpoint, etag_timeout, headers, proxies, token, local_files_only, force_download)\u001b[0m\n\u001b[1;32m   1168\u001b[0m \u001b[38;5;66;03m# Local file doesn't exist or etag isn't a match => retrieve file from remote (or cache)\u001b[39;00m\n\u001b[1;32m   1170\u001b[0m \u001b[38;5;28;01mwith\u001b[39;00m WeakFileLock(lock_path):\n\u001b[0;32m-> 1171\u001b[0m     \u001b[43m_download_to_tmp_and_move\u001b[49m\u001b[43m(\u001b[49m\n\u001b[1;32m   1172\u001b[0m \u001b[43m        \u001b[49m\u001b[43mincomplete_path\u001b[49m\u001b[38;5;241;43m=\u001b[39;49m\u001b[43mPath\u001b[49m\u001b[43m(\u001b[49m\u001b[43mblob_path\u001b[49m\u001b[43m \u001b[49m\u001b[38;5;241;43m+\u001b[39;49m\u001b[43m \u001b[49m\u001b[38;5;124;43m\"\u001b[39;49m\u001b[38;5;124;43m.incomplete\u001b[39;49m\u001b[38;5;124;43m\"\u001b[39;49m\u001b[43m)\u001b[49m\u001b[43m,\u001b[49m\n\u001b[1;32m   1173\u001b[0m \u001b[43m        \u001b[49m\u001b[43mdestination_path\u001b[49m\u001b[38;5;241;43m=\u001b[39;49m\u001b[43mPath\u001b[49m\u001b[43m(\u001b[49m\u001b[43mblob_path\u001b[49m\u001b[43m)\u001b[49m\u001b[43m,\u001b[49m\n\u001b[1;32m   1174\u001b[0m \u001b[43m        \u001b[49m\u001b[43murl_to_download\u001b[49m\u001b[38;5;241;43m=\u001b[39;49m\u001b[43murl_to_download\u001b[49m\u001b[43m,\u001b[49m\n\u001b[1;32m   1175\u001b[0m \u001b[43m        \u001b[49m\u001b[43mproxies\u001b[49m\u001b[38;5;241;43m=\u001b[39;49m\u001b[43mproxies\u001b[49m\u001b[43m,\u001b[49m\n\u001b[1;32m   1176\u001b[0m \u001b[43m        \u001b[49m\u001b[43mheaders\u001b[49m\u001b[38;5;241;43m=\u001b[39;49m\u001b[43mheaders\u001b[49m\u001b[43m,\u001b[49m\n\u001b[1;32m   1177\u001b[0m \u001b[43m        \u001b[49m\u001b[43mexpected_size\u001b[49m\u001b[38;5;241;43m=\u001b[39;49m\u001b[43mexpected_size\u001b[49m\u001b[43m,\u001b[49m\n\u001b[1;32m   1178\u001b[0m \u001b[43m        \u001b[49m\u001b[43mfilename\u001b[49m\u001b[38;5;241;43m=\u001b[39;49m\u001b[43mfilename\u001b[49m\u001b[43m,\u001b[49m\n\u001b[1;32m   1179\u001b[0m \u001b[43m        \u001b[49m\u001b[43mforce_download\u001b[49m\u001b[38;5;241;43m=\u001b[39;49m\u001b[43mforce_download\u001b[49m\u001b[43m,\u001b[49m\n\u001b[1;32m   1180\u001b[0m \u001b[43m        \u001b[49m\u001b[43metag\u001b[49m\u001b[38;5;241;43m=\u001b[39;49m\u001b[43metag\u001b[49m\u001b[43m,\u001b[49m\n\u001b[1;32m   1181\u001b[0m \u001b[43m        \u001b[49m\u001b[43mxet_file_data\u001b[49m\u001b[38;5;241;43m=\u001b[39;49m\u001b[43mxet_file_data\u001b[49m\u001b[43m,\u001b[49m\n\u001b[1;32m   1182\u001b[0m \u001b[43m    \u001b[49m\u001b[43m)\u001b[49m\n\u001b[1;32m   1183\u001b[0m     \u001b[38;5;28;01mif\u001b[39;00m \u001b[38;5;129;01mnot\u001b[39;00m os\u001b[38;5;241m.\u001b[39mpath\u001b[38;5;241m.\u001b[39mexists(pointer_path):\n\u001b[1;32m   1184\u001b[0m         _create_symlink(blob_path, pointer_path, new_blob\u001b[38;5;241m=\u001b[39m\u001b[38;5;28;01mTrue\u001b[39;00m)\n",
      "File \u001b[0;32m~/.conda/envs/cell2sentence/lib/python3.8/site-packages/huggingface_hub/file_download.py:1723\u001b[0m, in \u001b[0;36m_download_to_tmp_and_move\u001b[0;34m(incomplete_path, destination_path, url_to_download, proxies, headers, expected_size, filename, force_download, etag, xet_file_data)\u001b[0m\n\u001b[1;32m   1721\u001b[0m \u001b[38;5;28;01mif\u001b[39;00m xet_file_data \u001b[38;5;129;01mis\u001b[39;00m \u001b[38;5;129;01mnot\u001b[39;00m \u001b[38;5;28;01mNone\u001b[39;00m \u001b[38;5;129;01mand\u001b[39;00m is_xet_available():\n\u001b[1;32m   1722\u001b[0m     logger\u001b[38;5;241m.\u001b[39mdebug(\u001b[38;5;124m\"\u001b[39m\u001b[38;5;124mXet Storage is enabled for this repo. Downloading file from Xet Storage..\u001b[39m\u001b[38;5;124m\"\u001b[39m)\n\u001b[0;32m-> 1723\u001b[0m     \u001b[43mxet_get\u001b[49m\u001b[43m(\u001b[49m\n\u001b[1;32m   1724\u001b[0m \u001b[43m        \u001b[49m\u001b[43mincomplete_path\u001b[49m\u001b[38;5;241;43m=\u001b[39;49m\u001b[43mincomplete_path\u001b[49m\u001b[43m,\u001b[49m\n\u001b[1;32m   1725\u001b[0m \u001b[43m        \u001b[49m\u001b[43mxet_file_data\u001b[49m\u001b[38;5;241;43m=\u001b[39;49m\u001b[43mxet_file_data\u001b[49m\u001b[43m,\u001b[49m\n\u001b[1;32m   1726\u001b[0m \u001b[43m        \u001b[49m\u001b[43mheaders\u001b[49m\u001b[38;5;241;43m=\u001b[39;49m\u001b[43mheaders\u001b[49m\u001b[43m,\u001b[49m\n\u001b[1;32m   1727\u001b[0m \u001b[43m        \u001b[49m\u001b[43mexpected_size\u001b[49m\u001b[38;5;241;43m=\u001b[39;49m\u001b[43mexpected_size\u001b[49m\u001b[43m,\u001b[49m\n\u001b[1;32m   1728\u001b[0m \u001b[43m        \u001b[49m\u001b[43mdisplayed_filename\u001b[49m\u001b[38;5;241;43m=\u001b[39;49m\u001b[43mfilename\u001b[49m\u001b[43m,\u001b[49m\n\u001b[1;32m   1729\u001b[0m \u001b[43m    \u001b[49m\u001b[43m)\u001b[49m\n\u001b[1;32m   1730\u001b[0m \u001b[38;5;28;01melse\u001b[39;00m:\n\u001b[1;32m   1731\u001b[0m     \u001b[38;5;28;01mif\u001b[39;00m xet_file_data \u001b[38;5;129;01mis\u001b[39;00m \u001b[38;5;129;01mnot\u001b[39;00m \u001b[38;5;28;01mNone\u001b[39;00m \u001b[38;5;129;01mand\u001b[39;00m \u001b[38;5;129;01mnot\u001b[39;00m constants\u001b[38;5;241m.\u001b[39mHF_HUB_DISABLE_XET:\n",
      "File \u001b[0;32m~/.conda/envs/cell2sentence/lib/python3.8/site-packages/huggingface_hub/file_download.py:629\u001b[0m, in \u001b[0;36mxet_get\u001b[0;34m(incomplete_path, xet_file_data, headers, expected_size, displayed_filename, _tqdm_bar)\u001b[0m\n\u001b[1;32m    626\u001b[0m \u001b[38;5;28;01mdef\u001b[39;00m \u001b[38;5;21mprogress_updater\u001b[39m(progress_bytes: \u001b[38;5;28mfloat\u001b[39m):\n\u001b[1;32m    627\u001b[0m     progress\u001b[38;5;241m.\u001b[39mupdate(progress_bytes)\n\u001b[0;32m--> 629\u001b[0m \u001b[43mdownload_files\u001b[49m\u001b[43m(\u001b[49m\n\u001b[1;32m    630\u001b[0m \u001b[43m    \u001b[49m\u001b[43mxet_download_info\u001b[49m\u001b[43m,\u001b[49m\n\u001b[1;32m    631\u001b[0m \u001b[43m    \u001b[49m\u001b[43mendpoint\u001b[49m\u001b[38;5;241;43m=\u001b[39;49m\u001b[43mconnection_info\u001b[49m\u001b[38;5;241;43m.\u001b[39;49m\u001b[43mendpoint\u001b[49m\u001b[43m,\u001b[49m\n\u001b[1;32m    632\u001b[0m \u001b[43m    \u001b[49m\u001b[43mtoken_info\u001b[49m\u001b[38;5;241;43m=\u001b[39;49m\u001b[43m(\u001b[49m\u001b[43mconnection_info\u001b[49m\u001b[38;5;241;43m.\u001b[39;49m\u001b[43maccess_token\u001b[49m\u001b[43m,\u001b[49m\u001b[43m \u001b[49m\u001b[43mconnection_info\u001b[49m\u001b[38;5;241;43m.\u001b[39;49m\u001b[43mexpiration_unix_epoch\u001b[49m\u001b[43m)\u001b[49m\u001b[43m,\u001b[49m\n\u001b[1;32m    633\u001b[0m \u001b[43m    \u001b[49m\u001b[43mtoken_refresher\u001b[49m\u001b[38;5;241;43m=\u001b[39;49m\u001b[43mtoken_refresher\u001b[49m\u001b[43m,\u001b[49m\n\u001b[1;32m    634\u001b[0m \u001b[43m    \u001b[49m\u001b[43mprogress_updater\u001b[49m\u001b[38;5;241;43m=\u001b[39;49m\u001b[43m[\u001b[49m\u001b[43mprogress_updater\u001b[49m\u001b[43m]\u001b[49m\u001b[43m,\u001b[49m\n\u001b[1;32m    635\u001b[0m \u001b[43m\u001b[49m\u001b[43m)\u001b[49m\n",
      "\u001b[0;31mKeyboardInterrupt\u001b[0m: "
     ]
    }
   ],
   "source": [
    "# Load the model into memory\n",
    "\n",
    "model = AutoModelForCausalLM.from_pretrained(\n",
    "    \"vandijklab/C2S-Scale-Gemma-2-27B\",\n",
    "    torch_dtype=torch.bfloat16,\n",
    "    trust_remote_code=True\n",
    ")\n",
    "\n",
    "model = model.to(csmodel.device)\n",
    "print(f\"Model loaded on device: {csmodel.device}\")\n"
   ]
  },
  {
   "cell_type": "markdown",
   "id": "06822292",
   "metadata": {},
   "source": [
    "## Understanding Prompt Templates\n",
    "\n",
    "Let's first look at how Cell2Sentence structures its prompts in the single and multi cell settings:"
   ]
  },
  {
   "cell_type": "code",
   "execution_count": null,
   "id": "225610fb",
   "metadata": {},
   "outputs": [
    {
     "name": "stdout",
     "output_type": "stream",
     "text": [
      "Cell Type Prediction Prompts:\n",
      "==================================================\n",
      "Template 1:\n",
      "The following is a list of {num_genes} gene names ordered by descending expression level in a {organism} cell. Your task is to give the cell type which this cell belongs to based on its gene expression.\n",
      "Cell sentence: {cell_sentence}.\n",
      "The cell type corresponding to these genes is:\n",
      "\n",
      "Template 2:\n",
      "Below is a list of {num_genes} gene names in order of descending expression level from a {organism} cell. Based on this, predict what the cell type of this cell is.\n",
      "Cell sentence: {cell_sentence}.\n",
      "These genes are most likely associated with cell type:\n",
      "\n",
      "Template 3:\n",
      "Given the list of {num_genes} gene names ordered by descending expression level from a {organism} cell, identify the cell type.\n",
      "Cell sentence: {cell_sentence}.\n",
      "The probable cell type for these genes is:\n",
      "\n",
      "Response format:\n",
      "{cell_type}.\n"
     ]
    }
   ],
   "source": [
    "# Examine cell type prediction prompts\n",
    "cell_type_formatter = C2SPromptFormatter(task=\"cell_type_prediction\", top_k_genes=100)\n",
    "\n",
    "print(\"Cell Type Prediction Prompts:\")\n",
    "print(\"=\" * 50)\n",
    "for i, template in enumerate(cell_type_formatter.prompts_dict[\"model_input\"][:3]):  # Show first 3\n",
    "    print(f\"Template {i+1}:\")\n",
    "    print(template)\n",
    "    print()\n",
    "\n",
    "print(\"Response format:\")\n",
    "print(cell_type_formatter.prompts_dict[\"response\"][0])"
   ]
  },
  {
   "cell_type": "code",
   "execution_count": null,
   "id": "21657eff",
   "metadata": {},
   "outputs": [
    {
     "name": "stdout",
     "output_type": "stream",
     "text": [
      "Cell Generation Prompts:\n",
      "==================================================\n",
      "Template 1:\n",
      "Generate a list of {num_genes} genes in order of descending expression which represent a {organism} cell of cell type {cell_type}.\n",
      "Cell sentence:\n",
      "\n",
      "Template 2:\n",
      "Produce a list of {num_genes} gene names in descending order of expression which represent the expressed genes of a {organism} {cell_type} cell.\n",
      "Cell sentence:\n",
      "\n",
      "Response format:\n",
      "{cell_sentence}.\n"
     ]
    }
   ],
   "source": [
    "# Examine cell generation prompts\n",
    "cell_gen_formatter = C2SPromptFormatter(task=\"cell_type_generation\", top_k_genes=200)\n",
    "\n",
    "print(\"Cell Generation Prompts:\")\n",
    "print(\"=\" * 50)\n",
    "for i, template in enumerate(cell_gen_formatter.prompts_dict[\"model_input\"][:2]):  # Show first 2\n",
    "    print(f\"Template {i+1}:\")\n",
    "    print(template)\n",
    "    print()\n",
    "\n",
    "print(\"Response format:\")\n",
    "print(cell_gen_formatter.prompts_dict[\"response\"][0])"
   ]
  },
  {
   "cell_type": "code",
   "execution_count": null,
   "id": "0a1690cc",
   "metadata": {},
   "outputs": [
    {
     "name": "stdout",
     "output_type": "stream",
     "text": [
      "Multi cell tissue prediction prompts:\n",
      "==================================================\n",
      "Template 1:\n",
      "The following is a list of {num_genes} gene names ordered by descending expression level for {num_cells} different {organism} cells. Your task is to give the tissue which these cells belong to based on their gene expression.\n",
      "Cell sentences:\n",
      "{multi_cell_sentences}.\n",
      "The tissue which these cells belong to is:\n",
      "\n",
      "Template 2:\n",
      "Below is a list of {num_genes} genes in decreasing order of expression in {num_cells} {organism} cells. Given this, predict the tissue which these cells belongs to.\n",
      "Cell sentences:\n",
      "{multi_cell_sentences}.\n",
      "The tissue which these cells originate from is:\n",
      "\n",
      "Response format:\n",
      "{tissue}.\n"
     ]
    }
   ],
   "source": [
    "# Examine tissue preditcion with multi cell prompts\n",
    "multi_cell_type_formatter = C2SMultiCellPromptFormatter(task=\"tissue_prediction\", top_k_genes=100)\n",
    "\n",
    "print(\"Multi cell tissue prediction prompts:\")\n",
    "print(\"=\" * 50)\n",
    "for i, template in enumerate(multi_cell_type_formatter.prompts_dict[\"model_input\"][:2]):  # Show first 2\n",
    "    print(f\"Template {i+1}:\")\n",
    "    print(template)\n",
    "    print()\n",
    "\n",
    "print(\"Response format:\")\n",
    "print(multi_cell_type_formatter.prompts_dict[\"response\"][0])"
   ]
  },
  {
   "cell_type": "markdown",
   "id": "0af66283",
   "metadata": {},
   "source": [
    "## Cell Type Prediction\n",
    "\n",
    "Now let's try predicting cell types from gene lists. Here are some example gene signatures:"
   ]
  },
  {
   "cell_type": "code",
   "execution_count": null,
   "id": "346ad0e4",
   "metadata": {},
   "outputs": [
    {
     "name": "stdout",
     "output_type": "stream",
     "text": [
      "T cell signature: CD3D CD3E CD3G IL7R CCR7 LEF1 TCF7 LTB\n",
      "B cell signature: CD19 MS4A1 CD79A CD79B IGHM IGKC IGLC2 PAX5\n",
      "Monocyte signature: CD14 FCGR3A S100A8 S100A9 LYZ VCAN FCN1 CTSS\n",
      "NK cell signature: KLRD1 KLRF1 NCR1 GZMA GZMB PRF1 GNLY NKG7\n",
      "Dendritic cell signature: FCER1A CLEC4C IRF7 IRF8 CLEC10A CD1C CLEC9A\n"
     ]
    }
   ],
   "source": [
    "# Example gene signatures for different cell types\n",
    "example_signatures = {\n",
    "    \"T cell signature\": \"CD3D CD3E CD3G IL7R CCR7 LEF1 TCF7 LTB\",\n",
    "    \"B cell signature\": \"CD19 MS4A1 CD79A CD79B IGHM IGKC IGLC2 PAX5\",\n",
    "    \"Monocyte signature\": \"CD14 FCGR3A S100A8 S100A9 LYZ VCAN FCN1 CTSS\",\n",
    "    \"NK cell signature\": \"KLRD1 KLRF1 NCR1 GZMA GZMB PRF1 GNLY NKG7\",\n",
    "    \"Dendritic cell signature\": \"FCER1A CLEC4C IRF7 IRF8 CLEC10A CD1C CLEC9A\"\n",
    "}\n",
    "\n",
    "for cell_type, genes in example_signatures.items():\n",
    "    print(f\"{cell_type}: {genes}\")"
   ]
  },
  {
   "cell_type": "code",
   "execution_count": null,
   "id": "31123cb8",
   "metadata": {},
   "outputs": [
    {
     "name": "stdout",
     "output_type": "stream",
     "text": [
      "Prompt:\n",
      "--------------------------------------------------\n",
      "The following is a list of 8 gene names ordered by descending expression level in a Homo sapiens cell. Your task is to give the cell type which this cell belongs to based on its gene expression.\n",
      "Cell sentence: CD3D CD3E CD3G IL7R CCR7 LEF1 TCF7 LTB.\n",
      "The cell type corresponding to these genes is:\n",
      "--------------------------------------------------\n",
      "\n",
      "Prediction: thymocyte.<ctrl100>\n"
     ]
    }
   ],
   "source": [
    "def predict_cell_type(gene_list, organism=\"Homo sapiens\", verbose=True):\n",
    "    \"\"\"Predict cell type from a list of genes.\"\"\"\n",
    "    n_genes = len(gene_list.split())\n",
    "    \n",
    "    # Create prompt\n",
    "    formatter = C2SPromptFormatter(task=\"cell_type_prediction\", top_k_genes=n_genes)\n",
    "    prompt_template = formatter.prompts_dict[\"model_input\"][0]\n",
    "    prompt = prompt_template.format(\n",
    "        num_genes=n_genes,\n",
    "        organism=organism,\n",
    "        cell_sentence=gene_list\n",
    "    )\n",
    "    \n",
    "    if verbose:\n",
    "        print(f\"Prompt:\")\n",
    "        print(\"-\" * 50)\n",
    "        print(prompt)\n",
    "        print(\"-\" * 50)\n",
    "    \n",
    "    # Generate prediction\n",
    "    response = csmodel.generate_from_prompt(\n",
    "        model=model,\n",
    "        prompt=prompt,\n",
    "        max_num_tokens=50,\n",
    "        temperature=0.1,  # Low temperature for consistent predictions\n",
    "        do_sample=True\n",
    "    )\n",
    "    \n",
    "    return response.strip()\n",
    "\n",
    "# Test with T cell signature\n",
    "t_cell_genes = \"CD3D CD3E CD3G IL7R CCR7 LEF1 TCF7 LTB\"\n",
    "prediction = predict_cell_type(t_cell_genes)\n",
    "print(f\"\\nPrediction: {prediction}\")"
   ]
  },
  {
   "cell_type": "code",
   "execution_count": null,
   "id": "393c7b8b",
   "metadata": {},
   "outputs": [
    {
     "name": "stdout",
     "output_type": "stream",
     "text": [
      "Prompt:\n",
      "--------------------------------------------------\n",
      "The following is a list of 3 gene names ordered by descending expression level in a Homo sapiens cell. Your task is to give the cell type which this cell belongs to based on its gene expression.\n",
      "Cell sentence: LDHA H2BC5 SORCS2.\n",
      "The cell type corresponding to these genes is:\n",
      "--------------------------------------------------\n",
      "\n",
      "Prediction: native cell.<ctrl100>\n"
     ]
    }
   ],
   "source": [
    "# Test with B cell signature\n",
    "b_cell_genes = \"LDHA H2BC5 SORCS2\"\n",
    "prediction = predict_cell_type(b_cell_genes)\n",
    "print(f\"\\nPrediction: {prediction}\")"
   ]
  },
  {
   "cell_type": "code",
   "execution_count": null,
   "id": "4efc0ff6",
   "metadata": {},
   "outputs": [
    {
     "name": "stdout",
     "output_type": "stream",
     "text": [
      "Prompt:\n",
      "--------------------------------------------------\n",
      "The following is a list of 152 gene names ordered by descending expression level in a Homo sapiens cell. Your task is to give the cell type which this cell belongs to based on its gene expression.\n",
      "Cell sentence: MALAT1 B2M TMSB4X RPS27 TMSB10 RPLP1 RPL13 RPL10 RPS3 MT-CO1 RPL21 RPS19 RPS23 RPL31 IL32 RPL13A EIF1 RPS3A RPL5 RPL18A RPS2 RPS15A RPL19 RPS4X RPS28 RPLP2 RPS27A RPS14 RPL35 RPL30 RPL15 RPS6 ACTB RPL23A RPL3 RPS15 RPL34 RPS18 RPS29 RPL27A RPL28 RPL26 RPL14 RPL39 RPS12 RPS7 RPL7 RPS8 RPL11 RPL18 MT-ND1 RPL32 RPL29 RPS16 RPL10A RPL9 GPR183 RPL36 PFN1 MT-ND4 RACK1 RPL7A RPS24 ATP5E ACTG1 MT-CYB RPS13 HLA-A RPS20 RPL37A RPS26 HLA-B ACTR2 RPL12 RPL37 RPL41 RPL38 RPLP0 RPL6 FTH1 RPL4 RPL27 RPL36AL RPL8 S100A6 S100A4 RPSA MT-CO2 RPL22 RPL23 ZFP36L2 EEF1A1 RPL24 PTMA UBA52 NACA RPS25 RPL17 HINT1 RPS9 MYL6 TRBC2 NOP53 CD52 PFDN5 EEF1B2 ITM2B MT-RNR2 CORO1A RPL35A DDX5 EEF1D LTB MT-ATP6 RPL36A TOMM7 FTL HLA-C MT-ND2 TPT1 RPS10 BTG1 MT-ND3 RPS5 FAU MT-CO3 RPS11 RPS17 CD3D EEF2 RPL9P9 BTF3 COX7C HLA-E PPIA EIF3E CORO1B MYL12A ARHGDIB RPL7P9 ITGB1 LDHB FXYD5 CD3E UQCRB ARHGEF1 PPDPF HNRNPA1 HNRNPA2B1 CD2 PABPC1 MT-RNR1.\n",
      "The cell type corresponding to these genes is:\n",
      "--------------------------------------------------\n",
      "\n",
      "Prediction: CD4-positive, alpha-beta T cell.<ctrl100>\n"
     ]
    }
   ],
   "source": [
    "# Try your own gene list!\n",
    "# Modify this cell to test different gene combinations\n",
    "custom_genes = \"MALAT1 B2M TMSB4X RPS27 TMSB10 RPLP1 RPL13 RPL10 RPS3 MT-CO1 RPL21 RPS19 RPS23 RPL31 IL32 RPL13A EIF1 RPS3A RPL5 RPL18A RPS2 RPS15A RPL19 RPS4X RPS28 RPLP2 RPS27A RPS14 RPL35 RPL30 RPL15 RPS6 ACTB RPL23A RPL3 RPS15 RPL34 RPS18 RPS29 RPL27A RPL28 RPL26 RPL14 RPL39 RPS12 RPS7 RPL7 RPS8 RPL11 RPL18 MT-ND1 RPL32 RPL29 RPS16 RPL10A RPL9 GPR183 RPL36 PFN1 MT-ND4 RACK1 RPL7A RPS24 ATP5E ACTG1 MT-CYB RPS13 HLA-A RPS20 RPL37A RPS26 HLA-B ACTR2 RPL12 RPL37 RPL41 RPL38 RPLP0 RPL6 FTH1 RPL4 RPL27 RPL36AL RPL8 S100A6 S100A4 RPSA MT-CO2 RPL22 RPL23 ZFP36L2 EEF1A1 RPL24 PTMA UBA52 NACA RPS25 RPL17 HINT1 RPS9 MYL6 TRBC2 NOP53 CD52 PFDN5 EEF1B2 ITM2B MT-RNR2 CORO1A RPL35A DDX5 EEF1D LTB MT-ATP6 RPL36A TOMM7 FTL HLA-C MT-ND2 TPT1 RPS10 BTG1 MT-ND3 RPS5 FAU MT-CO3 RPS11 RPS17 CD3D EEF2 RPL9P9 BTF3 COX7C HLA-E PPIA EIF3E CORO1B MYL12A ARHGDIB RPL7P9 ITGB1 LDHB FXYD5 CD3E UQCRB ARHGEF1 PPDPF HNRNPA1 HNRNPA2B1 CD2 PABPC1 MT-RNR1\"  # Change this\n",
    "prediction = predict_cell_type(custom_genes)\n",
    "print(f\"\\nPrediction: {prediction}\")"
   ]
  },
  {
   "cell_type": "markdown",
   "id": "97500a92",
   "metadata": {},
   "source": [
    "## Cell Generation\n",
    "\n",
    "Now let's try generating cells conditioned on cell types:"
   ]
  },
  {
   "cell_type": "code",
   "execution_count": null,
   "id": "61dc6ceb",
   "metadata": {},
   "outputs": [
    {
     "name": "stdout",
     "output_type": "stream",
     "text": [
      "Prompt:\n",
      "--------------------------------------------------\n",
      "Generate a list of 30 genes in order of descending expression which represent a Homo sapiens cell of cell type T cell.\n",
      "Cell sentence:\n",
      "--------------------------------------------------\n",
      "\n",
      "Generated T cell: EEF1A1 RPLP0 RPL10 ACTB RPL41 RPL13 MT-CO1 RPLP1 MT-CO2 RPS27 RPS18 RPS8 B2M MT-CO3 RPS12 RPL37 RPL28 RPS6 TMSB4X RPS3 RPL32 RPL19 RPL3 RPS23 ACTG1 RPS3A RPS19 RPS4X MALAT1 RPL39 GAPDH RPL30 RPL18A RPS28 RPL11 RPS15A RPSA RPL7A RPL34 RPL29 RPS24 LTB RPL12 RACK1 RPS29 RPS27A RPS14 MT-ATP8 TPT1 RPL6 RPS7 RPL37A PTMA MT-CYB RPL15 RPL5 RPS13 RPS16 RPLP2 MT-ND3 RPS26 RPS9 RPS15 RPL18 RPS25 RPL21 RPS21 RPL35A PPIA RPL10A RPL8 RPL22 RPL9 RPL4 MT-ND4L PFN1 RPL23A RPL36 RPL35 RPS5 EEF2 HLA-B PABPC1 IFITM1 RPL14 MT-ATP6 TMSB10 TRBV5-1 FAU RPL7 LDHB RPS2 UBA52 NACA RPL27 RPL26 HLA-A RPL24 RPL13A HNRNPA1 RPL38 EEF1B2 RPL27A RPS11 PCBP2 CD3E HLA-C RPL31 ARHGDIB NPM1 SLC25A6 CFL1 RPL17 LIMD2 MT-ND1 CORO1A HSPA8 BTF3 H3-3A SERF2 COX7C CD52 CCR7 EEF1D RGS10 PGK1 AQP3 ATP5F1E CD3D HSP90AB1 HLA-E FYB1 LSP1 CD8A HSP90AA1 COX4I1 RPL23 CD74 ATP5F1A ATP5MC2 CD7 EIF1 H3-3B ANP32B CD3G EIF3L ATP5\n"
     ]
    }
   ],
   "source": [
    "def generate_cell(cell_type, n_genes=50, organism=\"Homo sapiens\", verbose=True):\n",
    "    \"\"\"Generate a cell sentence given a cell type.\"\"\"\n",
    "    \n",
    "    # Create prompt\n",
    "    formatter = C2SPromptFormatter(task=\"cell_type_generation\", top_k_genes=n_genes)\n",
    "    prompt_template = formatter.prompts_dict[\"model_input\"][0]\n",
    "    prompt = prompt_template.format(\n",
    "        num_genes=n_genes,\n",
    "        organism=organism,\n",
    "        cell_type=cell_type\n",
    "    )\n",
    "    \n",
    "    if verbose:\n",
    "        print(f\"Prompt:\")\n",
    "        print(\"-\" * 50)\n",
    "        print(prompt)\n",
    "        print(\"-\" * 50)\n",
    "    \n",
    "    # Generate cell\n",
    "    response = csmodel.generate_from_prompt(\n",
    "        model=model,\n",
    "        prompt=prompt,\n",
    "        max_num_tokens=512,\n",
    "        temperature=0.8,\n",
    "        do_sample=True\n",
    "    )\n",
    "    \n",
    "    return response.strip()\n",
    "\n",
    "# Generate a T cell\n",
    "generated_cell = generate_cell(\"T cell\", n_genes=30)\n",
    "print(f\"\\nGenerated T cell: {generated_cell}\")"
   ]
  },
  {
   "cell_type": "code",
   "execution_count": null,
   "id": "342767ea",
   "metadata": {},
   "outputs": [
    {
     "name": "stdout",
     "output_type": "stream",
     "text": [
      "\n",
      "==================================================\n",
      "Generating B cell:\n",
      "Generated: MALAT1 MT-RNR2 RPLP1 MT-CO1 MT-CO2 RPL41 EEF1A1 MT-ATP6 RPS18 RPS8 RPL13 MT-ND3 RPS27 TPT1 MT-ND4 RPL34 RPL13A RPLP2 RPL10 MT-CYB RPL32 RPS12 RPL11 RPL39 RPL30 B2M RPS27A RPL37 MT-CO3 RPS2 RPS14 RPS3 RPL21 RPS29 RPS15A MT-RNR1 RPL19 RPS6 RPL18A RPL28 RPS4X RPS19 RPL3 RPS3A RPS16 RPL23A RPS28 RPL37A RPL12 RPS23 RPS11 RPL27A RPL26 RPL8 RPL35A RPS21 RPL29 RPL9 MT-ND1 RPL36 RPL7A RPS15 RPL14 RPSA RPL18 EEF1B2 RPS25 BTG1 RPL23 RPS24 RPL5 RPS9 RPL15 UBA52 CD74 FAU RPL6 RPS5 RPL27 RPS13 RPL35 RPL31 TMSB4X IGLC2 ACTB RPS7 RPL38 HSP90AA1 TXNIP RPL10A RACK1 RPS20 RPL4 JUNB RPL24 EIF1 CXCR4 H3-3B DDX5 IGLC3 RPLP0 RPL10P9 TOMM7 HLA-DRA MT-ND2 UBC NACA HSP90AB1 RPS10 HLA-A DUSP1 RPL7 FTL PFN1 MT-ND5 ZFP36 JUND PTMA ZFP36L2 HLA-E ACTG1 HNRNPA1 CFL1 HNRNPA2B1 CD52 MS4A1 NPM1 EEF2 HNRNPU PABPC1 FTH1 MTATP6P1 PFDN5 LTB RP11-463O12-1 RP11-425L10 IGHM SNHG8 RPL22 HLA-B TMSB10\n",
      "\n",
      "==================================================\n",
      "Generating monocyte:\n",
      "Generated: FTL FTH1 APOE MALAT1 SPP1 B2M TMSB4X MT-CO3 HLA-DRA MT-CO2 MT-CO1 MT-ATP6 MT-ND3 C1QB APOC1 MT-ND4 CD74 S100A11 MT-CYB HLA-DRB1 HLA-DPA1 RPLP1 MT-ND1 RPS27 MT-ND2 RPS27A VIM PSAP TMSB10 RPL10 HLA-DQA1 TPT1 RPS18 RPL41 RPS23 RPS12 HLA-DPB1 RPL28 RPS28 RPL39 HLA-B RPL37 CST3 C1QC RPS3A RPL11 RPL37A RPS24 RPL9 RPL13 RPS19 SAT1 RPL30 NEAT1 HLA-C EEF1A1 RPS29 RPS4X RPL32 RPL15 ATP5F1E RPL3 RPL34 RPS6 ACTB OAZ1 RPL21 RPS14 NPC2 RPL19 RPL36 HLA-DQB1 RPS2 CTSB RPL35 RPL18A RPS9 RPS15 S100A6 RPS3 CD63 CYBA LYZ RPL7A RPL26 TYROBP CTSS RPL18 CD81 SRGN RPL12 SERF2 PRDX1 C1QA RPS7 RPL38 RPL29 RPLP2 RPL10A FCGR3A RPL35A FCER1G IFI27 RPL5 NACA RPS11 RPL14 UBA52 RPL23 HLA-A RPL23A RPS16 RPL27A RPS21 CAPG RPS15A GRN GAPDH CTSL MYL6 RPS8 GPNMB FAU RPL24 RPL22 RPL27 RPL8 RPS25 LGALS1 RPLP0 MT-ND5 CTSZ RPL6 RPL7 RACK1 HLA-DMA FOS ITM2B UBC RPSA EEF1B2 YBX1 S100A10 CSTB RPL13A PFN1 BRI3 HSP90AA1 GSTO1 GPX4 CD14 SH3\n",
      "\n",
      "==================================================\n",
      "Generating NK cell:\n",
      "Generated: MALAT1 HSP90AA1 RPLP1 RPL13 RPL10 RPS12 RPS27 RPS18 EEF1A1 RPS2 RPL41 MT-CO1 RPS24 RPS3 RPS29 DNAJB1 RPS23 RPL37 RPS15A RPS8 RPL11 RPL28 RPL34 RPS19 TPT1 RPS4X RPL18A RPL32 MT-CO3 HSPA1A HSPA1B RPS3A RPL18 RPS6 RPS14 RPL12 MT-CO2 RPL30 RPL19 RPS9 RPL3 RPL7A RPS28 RPS27A HSPE1 RPL37A RPS5 MT-ATP6 RPL13A RPL15 RPS15 RPL21 RPL8 RPL36 NKG7 RPL39 RPSA RPL29 RPL23A ACTB RPS13 HSP90AB1 DUSP2 RPLP2 RPL26 RPS25 TMSB4X RPL35 NACA RPL10A MT-ND3 RPS16 RPL9 PTMA RPS7 RPL27A RPL27 B2M RPL22 RPL5 RPL14 UBA52 FAU HSPH1 MT-ND4 RPS21 RPLP0 PFN1 RPL35A RPL7 RPL6 RPS11 TXNIP UBC DUSP1 RACK1 MT-CYB ACTG1 RPL38 IL32 EEF1B2 HSPA8 EEF1D RPL4 GAPDH RPL24 EIF1 TMSB10 RPS17 ATP5F1E GSTP1 CCL4 RPL23 HSPD1 CALM1 GNAS MT-ND1 UBB NFKBIA FTL GZMM SRGN TYROBP IFITM2 BTF3 H3-3A NPM1 YBX1 RPS10 DNAJB6 CLIC1 MT-ND2 COX4I1 HLA-B PPP1R15A RHOB HSPB1 HCST HINT1 SERF2 IER2 HNRNPA1 C1QBP CFL1 CMC1 BTG1 PPIA SLC25A6 PABPC1 SSR4 HLA-A ZFAND2A\n",
      "\n",
      "==================================================\n",
      "Generating dendritic cell:\n"
     ]
    },
    {
     "ename": "KeyboardInterrupt",
     "evalue": "",
     "output_type": "error",
     "traceback": [
      "\u001b[0;31m---------------------------------------------------------------------------\u001b[0m",
      "\u001b[0;31mKeyboardInterrupt\u001b[0m                         Traceback (most recent call last)",
      "Cell \u001b[0;32mIn[19], line 7\u001b[0m\n\u001b[1;32m      5\u001b[0m \u001b[38;5;28mprint\u001b[39m(\u001b[38;5;124mf\u001b[39m\u001b[38;5;124m\"\u001b[39m\u001b[38;5;130;01m\\n\u001b[39;00m\u001b[38;5;132;01m{\u001b[39;00m\u001b[38;5;124m'\u001b[39m\u001b[38;5;124m=\u001b[39m\u001b[38;5;124m'\u001b[39m\u001b[38;5;241m*\u001b[39m\u001b[38;5;241m50\u001b[39m\u001b[38;5;132;01m}\u001b[39;00m\u001b[38;5;124m\"\u001b[39m)\n\u001b[1;32m      6\u001b[0m \u001b[38;5;28mprint\u001b[39m(\u001b[38;5;124mf\u001b[39m\u001b[38;5;124m\"\u001b[39m\u001b[38;5;124mGenerating \u001b[39m\u001b[38;5;132;01m{\u001b[39;00mcell_type\u001b[38;5;132;01m}\u001b[39;00m\u001b[38;5;124m:\u001b[39m\u001b[38;5;124m\"\u001b[39m)\n\u001b[0;32m----> 7\u001b[0m generated \u001b[38;5;241m=\u001b[39m \u001b[43mgenerate_cell\u001b[49m\u001b[43m(\u001b[49m\u001b[43mcell_type\u001b[49m\u001b[43m,\u001b[49m\u001b[43m \u001b[49m\u001b[43mn_genes\u001b[49m\u001b[38;5;241;43m=\u001b[39;49m\u001b[38;5;241;43m20\u001b[39;49m\u001b[43m,\u001b[49m\u001b[43m \u001b[49m\u001b[43mverbose\u001b[49m\u001b[38;5;241;43m=\u001b[39;49m\u001b[38;5;28;43;01mFalse\u001b[39;49;00m\u001b[43m)\u001b[49m\n\u001b[1;32m      8\u001b[0m \u001b[38;5;28mprint\u001b[39m(\u001b[38;5;124mf\u001b[39m\u001b[38;5;124m\"\u001b[39m\u001b[38;5;124mGenerated: \u001b[39m\u001b[38;5;132;01m{\u001b[39;00mgenerated\u001b[38;5;132;01m}\u001b[39;00m\u001b[38;5;124m\"\u001b[39m)\n",
      "Cell \u001b[0;32mIn[18], line 20\u001b[0m, in \u001b[0;36mgenerate_cell\u001b[0;34m(cell_type, n_genes, organism, verbose)\u001b[0m\n\u001b[1;32m     17\u001b[0m     \u001b[38;5;28mprint\u001b[39m(\u001b[38;5;124m\"\u001b[39m\u001b[38;5;124m-\u001b[39m\u001b[38;5;124m\"\u001b[39m \u001b[38;5;241m*\u001b[39m \u001b[38;5;241m50\u001b[39m)\n\u001b[1;32m     19\u001b[0m \u001b[38;5;66;03m# Generate cell\u001b[39;00m\n\u001b[0;32m---> 20\u001b[0m response \u001b[38;5;241m=\u001b[39m \u001b[43mcsmodel\u001b[49m\u001b[38;5;241;43m.\u001b[39;49m\u001b[43mgenerate_from_prompt\u001b[49m\u001b[43m(\u001b[49m\n\u001b[1;32m     21\u001b[0m \u001b[43m    \u001b[49m\u001b[43mmodel\u001b[49m\u001b[38;5;241;43m=\u001b[39;49m\u001b[43mmodel\u001b[49m\u001b[43m,\u001b[49m\n\u001b[1;32m     22\u001b[0m \u001b[43m    \u001b[49m\u001b[43mprompt\u001b[49m\u001b[38;5;241;43m=\u001b[39;49m\u001b[43mprompt\u001b[49m\u001b[43m,\u001b[49m\n\u001b[1;32m     23\u001b[0m \u001b[43m    \u001b[49m\u001b[43mmax_num_tokens\u001b[49m\u001b[38;5;241;43m=\u001b[39;49m\u001b[38;5;241;43m512\u001b[39;49m\u001b[43m,\u001b[49m\n\u001b[1;32m     24\u001b[0m \u001b[43m    \u001b[49m\u001b[43mtemperature\u001b[49m\u001b[38;5;241;43m=\u001b[39;49m\u001b[38;5;241;43m0.8\u001b[39;49m\u001b[43m,\u001b[49m\n\u001b[1;32m     25\u001b[0m \u001b[43m    \u001b[49m\u001b[43mdo_sample\u001b[49m\u001b[38;5;241;43m=\u001b[39;49m\u001b[38;5;28;43;01mTrue\u001b[39;49;00m\n\u001b[1;32m     26\u001b[0m \u001b[43m\u001b[49m\u001b[43m)\u001b[49m\n\u001b[1;32m     28\u001b[0m \u001b[38;5;28;01mreturn\u001b[39;00m response\u001b[38;5;241m.\u001b[39mstrip()\n",
      "File \u001b[0;32m~/llm_scFMs/cell2sentence/src/cell2sentence/csmodel.py:235\u001b[0m, in \u001b[0;36mCSModel.generate_from_prompt\u001b[0;34m(self, model, prompt, max_num_tokens, **kwargs)\u001b[0m\n\u001b[1;32m    221\u001b[0m \u001b[38;5;28;01mdef\u001b[39;00m \u001b[38;5;21mgenerate_from_prompt\u001b[39m(\u001b[38;5;28mself\u001b[39m, model, prompt, max_num_tokens\u001b[38;5;241m=\u001b[39m\u001b[38;5;241m1024\u001b[39m, \u001b[38;5;241m*\u001b[39m\u001b[38;5;241m*\u001b[39mkwargs):\n\u001b[1;32m    222\u001b[0m \u001b[38;5;250m    \u001b[39m\u001b[38;5;124;03m\"\"\"\u001b[39;00m\n\u001b[1;32m    223\u001b[0m \u001b[38;5;124;03m    Generate new data using the model, starting with a given prompt.\u001b[39;00m\n\u001b[1;32m    224\u001b[0m \n\u001b[0;32m   (...)\u001b[0m\n\u001b[1;32m    233\u001b[0m \u001b[38;5;124;03m        Text corresponding to the number `n` of tokens requested\u001b[39;00m\n\u001b[1;32m    234\u001b[0m \u001b[38;5;124;03m    \"\"\"\u001b[39;00m\n\u001b[0;32m--> 235\u001b[0m     \u001b[38;5;28;01mreturn\u001b[39;00m \u001b[38;5;28;43mself\u001b[39;49m\u001b[38;5;241;43m.\u001b[39;49m\u001b[43mgenerate_from_prompt_batched\u001b[49m\u001b[43m(\u001b[49m\n\u001b[1;32m    236\u001b[0m \u001b[43m        \u001b[49m\u001b[43mmodel\u001b[49m\u001b[38;5;241;43m=\u001b[39;49m\u001b[43mmodel\u001b[49m\u001b[43m,\u001b[49m\u001b[43m \u001b[49m\n\u001b[1;32m    237\u001b[0m \u001b[43m        \u001b[49m\u001b[43mprompt_list\u001b[49m\u001b[38;5;241;43m=\u001b[39;49m\u001b[43m[\u001b[49m\u001b[43mprompt\u001b[49m\u001b[43m]\u001b[49m\u001b[43m,\u001b[49m\n\u001b[1;32m    238\u001b[0m \u001b[43m        \u001b[49m\u001b[43mmax_num_tokens\u001b[49m\u001b[38;5;241;43m=\u001b[39;49m\u001b[43mmax_num_tokens\u001b[49m\u001b[43m,\u001b[49m\n\u001b[1;32m    239\u001b[0m \u001b[43m        \u001b[49m\u001b[38;5;241;43m*\u001b[39;49m\u001b[38;5;241;43m*\u001b[39;49m\u001b[43mkwargs\u001b[49m\n\u001b[1;32m    240\u001b[0m \u001b[43m    \u001b[49m\u001b[43m)\u001b[49m[\u001b[38;5;241m0\u001b[39m]\n",
      "File \u001b[0;32m~/llm_scFMs/cell2sentence/src/cell2sentence/csmodel.py:260\u001b[0m, in \u001b[0;36mCSModel.generate_from_prompt_batched\u001b[0;34m(self, model, prompt_list, max_num_tokens, **kwargs)\u001b[0m\n\u001b[1;32m    257\u001b[0m input_ids \u001b[38;5;241m=\u001b[39m tokens[\u001b[38;5;124m'\u001b[39m\u001b[38;5;124minput_ids\u001b[39m\u001b[38;5;124m'\u001b[39m]\u001b[38;5;241m.\u001b[39mto(\u001b[38;5;28mself\u001b[39m\u001b[38;5;241m.\u001b[39mdevice)\n\u001b[1;32m    258\u001b[0m attention_mask \u001b[38;5;241m=\u001b[39m tokens[\u001b[38;5;124m'\u001b[39m\u001b[38;5;124mattention_mask\u001b[39m\u001b[38;5;124m'\u001b[39m]\u001b[38;5;241m.\u001b[39mto(\u001b[38;5;28mself\u001b[39m\u001b[38;5;241m.\u001b[39mdevice)\n\u001b[0;32m--> 260\u001b[0m outputs \u001b[38;5;241m=\u001b[39m \u001b[43mmodel\u001b[49m\u001b[38;5;241;43m.\u001b[39;49m\u001b[43mgenerate\u001b[49m\u001b[43m(\u001b[49m\n\u001b[1;32m    261\u001b[0m \u001b[43m    \u001b[49m\u001b[43minput_ids\u001b[49m\u001b[38;5;241;43m=\u001b[39;49m\u001b[43minput_ids\u001b[49m\u001b[43m,\u001b[49m\n\u001b[1;32m    262\u001b[0m \u001b[43m    \u001b[49m\u001b[43mattention_mask\u001b[49m\u001b[38;5;241;43m=\u001b[39;49m\u001b[43mattention_mask\u001b[49m\u001b[43m,\u001b[49m\n\u001b[1;32m    263\u001b[0m \u001b[43m    \u001b[49m\u001b[43mmax_new_tokens\u001b[49m\u001b[38;5;241;43m=\u001b[39;49m\u001b[43mmax_num_tokens\u001b[49m\u001b[43m,\u001b[49m\n\u001b[1;32m    264\u001b[0m \u001b[43m    \u001b[49m\u001b[43mpad_token_id\u001b[49m\u001b[38;5;241;43m=\u001b[39;49m\u001b[38;5;28;43mself\u001b[39;49m\u001b[38;5;241;43m.\u001b[39;49m\u001b[43mtokenizer\u001b[49m\u001b[38;5;241;43m.\u001b[39;49m\u001b[43mpad_token_id\u001b[49m\u001b[43m,\u001b[49m\n\u001b[1;32m    265\u001b[0m \u001b[43m    \u001b[49m\u001b[38;5;241;43m*\u001b[39;49m\u001b[38;5;241;43m*\u001b[39;49m\u001b[43mkwargs\u001b[49m\n\u001b[1;32m    266\u001b[0m \u001b[43m\u001b[49m\u001b[43m)\u001b[49m\n\u001b[1;32m    267\u001b[0m pred_list \u001b[38;5;241m=\u001b[39m \u001b[38;5;28mself\u001b[39m\u001b[38;5;241m.\u001b[39mtokenizer\u001b[38;5;241m.\u001b[39mbatch_decode(outputs, skip_special_tokens\u001b[38;5;241m=\u001b[39m\u001b[38;5;28;01mTrue\u001b[39;00m)\n\u001b[1;32m    268\u001b[0m predictions_without_input_prompt \u001b[38;5;241m=\u001b[39m []\n",
      "File \u001b[0;32m~/.conda/envs/cell2sentence/lib/python3.8/site-packages/torch/utils/_contextlib.py:116\u001b[0m, in \u001b[0;36mcontext_decorator.<locals>.decorate_context\u001b[0;34m(*args, **kwargs)\u001b[0m\n\u001b[1;32m    113\u001b[0m \u001b[38;5;129m@functools\u001b[39m\u001b[38;5;241m.\u001b[39mwraps(func)\n\u001b[1;32m    114\u001b[0m \u001b[38;5;28;01mdef\u001b[39;00m \u001b[38;5;21mdecorate_context\u001b[39m(\u001b[38;5;241m*\u001b[39margs, \u001b[38;5;241m*\u001b[39m\u001b[38;5;241m*\u001b[39mkwargs):\n\u001b[1;32m    115\u001b[0m     \u001b[38;5;28;01mwith\u001b[39;00m ctx_factory():\n\u001b[0;32m--> 116\u001b[0m         \u001b[38;5;28;01mreturn\u001b[39;00m \u001b[43mfunc\u001b[49m\u001b[43m(\u001b[49m\u001b[38;5;241;43m*\u001b[39;49m\u001b[43margs\u001b[49m\u001b[43m,\u001b[49m\u001b[43m \u001b[49m\u001b[38;5;241;43m*\u001b[39;49m\u001b[38;5;241;43m*\u001b[39;49m\u001b[43mkwargs\u001b[49m\u001b[43m)\u001b[49m\n",
      "File \u001b[0;32m~/.conda/envs/cell2sentence/lib/python3.8/site-packages/transformers/generation/utils.py:2215\u001b[0m, in \u001b[0;36mGenerationMixin.generate\u001b[0;34m(self, inputs, generation_config, logits_processor, stopping_criteria, prefix_allowed_tokens_fn, synced_gpus, assistant_model, streamer, negative_prompt_ids, negative_prompt_attention_mask, **kwargs)\u001b[0m\n\u001b[1;32m   2207\u001b[0m     input_ids, model_kwargs \u001b[38;5;241m=\u001b[39m \u001b[38;5;28mself\u001b[39m\u001b[38;5;241m.\u001b[39m_expand_inputs_for_generation(\n\u001b[1;32m   2208\u001b[0m         input_ids\u001b[38;5;241m=\u001b[39minput_ids,\n\u001b[1;32m   2209\u001b[0m         expand_size\u001b[38;5;241m=\u001b[39mgeneration_config\u001b[38;5;241m.\u001b[39mnum_return_sequences,\n\u001b[1;32m   2210\u001b[0m         is_encoder_decoder\u001b[38;5;241m=\u001b[39m\u001b[38;5;28mself\u001b[39m\u001b[38;5;241m.\u001b[39mconfig\u001b[38;5;241m.\u001b[39mis_encoder_decoder,\n\u001b[1;32m   2211\u001b[0m         \u001b[38;5;241m*\u001b[39m\u001b[38;5;241m*\u001b[39mmodel_kwargs,\n\u001b[1;32m   2212\u001b[0m     )\n\u001b[1;32m   2214\u001b[0m     \u001b[38;5;66;03m# 12. run sample (it degenerates to greedy search when `generation_config.do_sample=False`)\u001b[39;00m\n\u001b[0;32m-> 2215\u001b[0m     result \u001b[38;5;241m=\u001b[39m \u001b[38;5;28;43mself\u001b[39;49m\u001b[38;5;241;43m.\u001b[39;49m\u001b[43m_sample\u001b[49m\u001b[43m(\u001b[49m\n\u001b[1;32m   2216\u001b[0m \u001b[43m        \u001b[49m\u001b[43minput_ids\u001b[49m\u001b[43m,\u001b[49m\n\u001b[1;32m   2217\u001b[0m \u001b[43m        \u001b[49m\u001b[43mlogits_processor\u001b[49m\u001b[38;5;241;43m=\u001b[39;49m\u001b[43mprepared_logits_processor\u001b[49m\u001b[43m,\u001b[49m\n\u001b[1;32m   2218\u001b[0m \u001b[43m        \u001b[49m\u001b[43mstopping_criteria\u001b[49m\u001b[38;5;241;43m=\u001b[39;49m\u001b[43mprepared_stopping_criteria\u001b[49m\u001b[43m,\u001b[49m\n\u001b[1;32m   2219\u001b[0m \u001b[43m        \u001b[49m\u001b[43mgeneration_config\u001b[49m\u001b[38;5;241;43m=\u001b[39;49m\u001b[43mgeneration_config\u001b[49m\u001b[43m,\u001b[49m\n\u001b[1;32m   2220\u001b[0m \u001b[43m        \u001b[49m\u001b[43msynced_gpus\u001b[49m\u001b[38;5;241;43m=\u001b[39;49m\u001b[43msynced_gpus\u001b[49m\u001b[43m,\u001b[49m\n\u001b[1;32m   2221\u001b[0m \u001b[43m        \u001b[49m\u001b[43mstreamer\u001b[49m\u001b[38;5;241;43m=\u001b[39;49m\u001b[43mstreamer\u001b[49m\u001b[43m,\u001b[49m\n\u001b[1;32m   2222\u001b[0m \u001b[43m        \u001b[49m\u001b[38;5;241;43m*\u001b[39;49m\u001b[38;5;241;43m*\u001b[39;49m\u001b[43mmodel_kwargs\u001b[49m\u001b[43m,\u001b[49m\n\u001b[1;32m   2223\u001b[0m \u001b[43m    \u001b[49m\u001b[43m)\u001b[49m\n\u001b[1;32m   2225\u001b[0m \u001b[38;5;28;01melif\u001b[39;00m generation_mode \u001b[38;5;129;01min\u001b[39;00m (GenerationMode\u001b[38;5;241m.\u001b[39mBEAM_SAMPLE, GenerationMode\u001b[38;5;241m.\u001b[39mBEAM_SEARCH):\n\u001b[1;32m   2226\u001b[0m     \u001b[38;5;66;03m# 11. prepare beam search scorer\u001b[39;00m\n\u001b[1;32m   2227\u001b[0m     beam_scorer \u001b[38;5;241m=\u001b[39m BeamSearchScorer(\n\u001b[1;32m   2228\u001b[0m         batch_size\u001b[38;5;241m=\u001b[39mbatch_size,\n\u001b[1;32m   2229\u001b[0m         num_beams\u001b[38;5;241m=\u001b[39mgeneration_config\u001b[38;5;241m.\u001b[39mnum_beams,\n\u001b[0;32m   (...)\u001b[0m\n\u001b[1;32m   2234\u001b[0m         max_length\u001b[38;5;241m=\u001b[39mgeneration_config\u001b[38;5;241m.\u001b[39mmax_length,\n\u001b[1;32m   2235\u001b[0m     )\n",
      "File \u001b[0;32m~/.conda/envs/cell2sentence/lib/python3.8/site-packages/transformers/generation/utils.py:3206\u001b[0m, in \u001b[0;36mGenerationMixin._sample\u001b[0;34m(self, input_ids, logits_processor, stopping_criteria, generation_config, synced_gpus, streamer, **model_kwargs)\u001b[0m\n\u001b[1;32m   3203\u001b[0m model_inputs\u001b[38;5;241m.\u001b[39mupdate({\u001b[38;5;124m\"\u001b[39m\u001b[38;5;124moutput_hidden_states\u001b[39m\u001b[38;5;124m\"\u001b[39m: output_hidden_states} \u001b[38;5;28;01mif\u001b[39;00m output_hidden_states \u001b[38;5;28;01melse\u001b[39;00m {})\n\u001b[1;32m   3205\u001b[0m \u001b[38;5;66;03m# forward pass to get next token\u001b[39;00m\n\u001b[0;32m-> 3206\u001b[0m outputs \u001b[38;5;241m=\u001b[39m \u001b[38;5;28;43mself\u001b[39;49m\u001b[43m(\u001b[49m\u001b[38;5;241;43m*\u001b[39;49m\u001b[38;5;241;43m*\u001b[39;49m\u001b[43mmodel_inputs\u001b[49m\u001b[43m,\u001b[49m\u001b[43m \u001b[49m\u001b[43mreturn_dict\u001b[49m\u001b[38;5;241;43m=\u001b[39;49m\u001b[38;5;28;43;01mTrue\u001b[39;49;00m\u001b[43m)\u001b[49m\n\u001b[1;32m   3208\u001b[0m \u001b[38;5;66;03m# synced_gpus: don't waste resources running the code we don't need; kwargs must be updated before skipping\u001b[39;00m\n\u001b[1;32m   3209\u001b[0m model_kwargs \u001b[38;5;241m=\u001b[39m \u001b[38;5;28mself\u001b[39m\u001b[38;5;241m.\u001b[39m_update_model_kwargs_for_generation(\n\u001b[1;32m   3210\u001b[0m     outputs,\n\u001b[1;32m   3211\u001b[0m     model_kwargs,\n\u001b[1;32m   3212\u001b[0m     is_encoder_decoder\u001b[38;5;241m=\u001b[39m\u001b[38;5;28mself\u001b[39m\u001b[38;5;241m.\u001b[39mconfig\u001b[38;5;241m.\u001b[39mis_encoder_decoder,\n\u001b[1;32m   3213\u001b[0m )\n",
      "File \u001b[0;32m~/.conda/envs/cell2sentence/lib/python3.8/site-packages/torch/nn/modules/module.py:1553\u001b[0m, in \u001b[0;36mModule._wrapped_call_impl\u001b[0;34m(self, *args, **kwargs)\u001b[0m\n\u001b[1;32m   1551\u001b[0m     \u001b[38;5;28;01mreturn\u001b[39;00m \u001b[38;5;28mself\u001b[39m\u001b[38;5;241m.\u001b[39m_compiled_call_impl(\u001b[38;5;241m*\u001b[39margs, \u001b[38;5;241m*\u001b[39m\u001b[38;5;241m*\u001b[39mkwargs)  \u001b[38;5;66;03m# type: ignore[misc]\u001b[39;00m\n\u001b[1;32m   1552\u001b[0m \u001b[38;5;28;01melse\u001b[39;00m:\n\u001b[0;32m-> 1553\u001b[0m     \u001b[38;5;28;01mreturn\u001b[39;00m \u001b[38;5;28;43mself\u001b[39;49m\u001b[38;5;241;43m.\u001b[39;49m\u001b[43m_call_impl\u001b[49m\u001b[43m(\u001b[49m\u001b[38;5;241;43m*\u001b[39;49m\u001b[43margs\u001b[49m\u001b[43m,\u001b[49m\u001b[43m \u001b[49m\u001b[38;5;241;43m*\u001b[39;49m\u001b[38;5;241;43m*\u001b[39;49m\u001b[43mkwargs\u001b[49m\u001b[43m)\u001b[49m\n",
      "File \u001b[0;32m~/.conda/envs/cell2sentence/lib/python3.8/site-packages/torch/nn/modules/module.py:1562\u001b[0m, in \u001b[0;36mModule._call_impl\u001b[0;34m(self, *args, **kwargs)\u001b[0m\n\u001b[1;32m   1557\u001b[0m \u001b[38;5;66;03m# If we don't have any hooks, we want to skip the rest of the logic in\u001b[39;00m\n\u001b[1;32m   1558\u001b[0m \u001b[38;5;66;03m# this function, and just call forward.\u001b[39;00m\n\u001b[1;32m   1559\u001b[0m \u001b[38;5;28;01mif\u001b[39;00m \u001b[38;5;129;01mnot\u001b[39;00m (\u001b[38;5;28mself\u001b[39m\u001b[38;5;241m.\u001b[39m_backward_hooks \u001b[38;5;129;01mor\u001b[39;00m \u001b[38;5;28mself\u001b[39m\u001b[38;5;241m.\u001b[39m_backward_pre_hooks \u001b[38;5;129;01mor\u001b[39;00m \u001b[38;5;28mself\u001b[39m\u001b[38;5;241m.\u001b[39m_forward_hooks \u001b[38;5;129;01mor\u001b[39;00m \u001b[38;5;28mself\u001b[39m\u001b[38;5;241m.\u001b[39m_forward_pre_hooks\n\u001b[1;32m   1560\u001b[0m         \u001b[38;5;129;01mor\u001b[39;00m _global_backward_pre_hooks \u001b[38;5;129;01mor\u001b[39;00m _global_backward_hooks\n\u001b[1;32m   1561\u001b[0m         \u001b[38;5;129;01mor\u001b[39;00m _global_forward_hooks \u001b[38;5;129;01mor\u001b[39;00m _global_forward_pre_hooks):\n\u001b[0;32m-> 1562\u001b[0m     \u001b[38;5;28;01mreturn\u001b[39;00m \u001b[43mforward_call\u001b[49m\u001b[43m(\u001b[49m\u001b[38;5;241;43m*\u001b[39;49m\u001b[43margs\u001b[49m\u001b[43m,\u001b[49m\u001b[43m \u001b[49m\u001b[38;5;241;43m*\u001b[39;49m\u001b[38;5;241;43m*\u001b[39;49m\u001b[43mkwargs\u001b[49m\u001b[43m)\u001b[49m\n\u001b[1;32m   1564\u001b[0m \u001b[38;5;28;01mtry\u001b[39;00m:\n\u001b[1;32m   1565\u001b[0m     result \u001b[38;5;241m=\u001b[39m \u001b[38;5;28;01mNone\u001b[39;00m\n",
      "File \u001b[0;32m~/.conda/envs/cell2sentence/lib/python3.8/site-packages/transformers/models/gemma2/modeling_gemma2.py:1049\u001b[0m, in \u001b[0;36mGemma2ForCausalLM.forward\u001b[0;34m(self, input_ids, attention_mask, position_ids, past_key_values, inputs_embeds, labels, use_cache, output_attentions, output_hidden_states, return_dict, cache_position, num_logits_to_keep, **loss_kwargs)\u001b[0m\n\u001b[1;32m   1047\u001b[0m return_dict \u001b[38;5;241m=\u001b[39m return_dict \u001b[38;5;28;01mif\u001b[39;00m return_dict \u001b[38;5;129;01mis\u001b[39;00m \u001b[38;5;129;01mnot\u001b[39;00m \u001b[38;5;28;01mNone\u001b[39;00m \u001b[38;5;28;01melse\u001b[39;00m \u001b[38;5;28mself\u001b[39m\u001b[38;5;241m.\u001b[39mconfig\u001b[38;5;241m.\u001b[39muse_return_dict\n\u001b[1;32m   1048\u001b[0m \u001b[38;5;66;03m# decoder outputs consists of (dec_features, layer_state, dec_hidden, dec_attn)\u001b[39;00m\n\u001b[0;32m-> 1049\u001b[0m outputs \u001b[38;5;241m=\u001b[39m \u001b[38;5;28;43mself\u001b[39;49m\u001b[38;5;241;43m.\u001b[39;49m\u001b[43mmodel\u001b[49m\u001b[43m(\u001b[49m\n\u001b[1;32m   1050\u001b[0m \u001b[43m    \u001b[49m\u001b[43minput_ids\u001b[49m\u001b[38;5;241;43m=\u001b[39;49m\u001b[43minput_ids\u001b[49m\u001b[43m,\u001b[49m\n\u001b[1;32m   1051\u001b[0m \u001b[43m    \u001b[49m\u001b[43mattention_mask\u001b[49m\u001b[38;5;241;43m=\u001b[39;49m\u001b[43mattention_mask\u001b[49m\u001b[43m,\u001b[49m\n\u001b[1;32m   1052\u001b[0m \u001b[43m    \u001b[49m\u001b[43mposition_ids\u001b[49m\u001b[38;5;241;43m=\u001b[39;49m\u001b[43mposition_ids\u001b[49m\u001b[43m,\u001b[49m\n\u001b[1;32m   1053\u001b[0m \u001b[43m    \u001b[49m\u001b[43mpast_key_values\u001b[49m\u001b[38;5;241;43m=\u001b[39;49m\u001b[43mpast_key_values\u001b[49m\u001b[43m,\u001b[49m\n\u001b[1;32m   1054\u001b[0m \u001b[43m    \u001b[49m\u001b[43minputs_embeds\u001b[49m\u001b[38;5;241;43m=\u001b[39;49m\u001b[43minputs_embeds\u001b[49m\u001b[43m,\u001b[49m\n\u001b[1;32m   1055\u001b[0m \u001b[43m    \u001b[49m\u001b[43muse_cache\u001b[49m\u001b[38;5;241;43m=\u001b[39;49m\u001b[43muse_cache\u001b[49m\u001b[43m,\u001b[49m\n\u001b[1;32m   1056\u001b[0m \u001b[43m    \u001b[49m\u001b[43moutput_attentions\u001b[49m\u001b[38;5;241;43m=\u001b[39;49m\u001b[43moutput_attentions\u001b[49m\u001b[43m,\u001b[49m\n\u001b[1;32m   1057\u001b[0m \u001b[43m    \u001b[49m\u001b[43moutput_hidden_states\u001b[49m\u001b[38;5;241;43m=\u001b[39;49m\u001b[43moutput_hidden_states\u001b[49m\u001b[43m,\u001b[49m\n\u001b[1;32m   1058\u001b[0m \u001b[43m    \u001b[49m\u001b[43mreturn_dict\u001b[49m\u001b[38;5;241;43m=\u001b[39;49m\u001b[43mreturn_dict\u001b[49m\u001b[43m,\u001b[49m\n\u001b[1;32m   1059\u001b[0m \u001b[43m    \u001b[49m\u001b[43mcache_position\u001b[49m\u001b[38;5;241;43m=\u001b[39;49m\u001b[43mcache_position\u001b[49m\u001b[43m,\u001b[49m\n\u001b[1;32m   1060\u001b[0m \u001b[43m\u001b[49m\u001b[43m)\u001b[49m\n\u001b[1;32m   1062\u001b[0m hidden_states \u001b[38;5;241m=\u001b[39m outputs[\u001b[38;5;241m0\u001b[39m]\n\u001b[1;32m   1063\u001b[0m \u001b[38;5;66;03m# Only compute necessary logits, and do not upcast them to float if we are not computing the loss\u001b[39;00m\n",
      "File \u001b[0;32m~/.conda/envs/cell2sentence/lib/python3.8/site-packages/torch/nn/modules/module.py:1553\u001b[0m, in \u001b[0;36mModule._wrapped_call_impl\u001b[0;34m(self, *args, **kwargs)\u001b[0m\n\u001b[1;32m   1551\u001b[0m     \u001b[38;5;28;01mreturn\u001b[39;00m \u001b[38;5;28mself\u001b[39m\u001b[38;5;241m.\u001b[39m_compiled_call_impl(\u001b[38;5;241m*\u001b[39margs, \u001b[38;5;241m*\u001b[39m\u001b[38;5;241m*\u001b[39mkwargs)  \u001b[38;5;66;03m# type: ignore[misc]\u001b[39;00m\n\u001b[1;32m   1552\u001b[0m \u001b[38;5;28;01melse\u001b[39;00m:\n\u001b[0;32m-> 1553\u001b[0m     \u001b[38;5;28;01mreturn\u001b[39;00m \u001b[38;5;28;43mself\u001b[39;49m\u001b[38;5;241;43m.\u001b[39;49m\u001b[43m_call_impl\u001b[49m\u001b[43m(\u001b[49m\u001b[38;5;241;43m*\u001b[39;49m\u001b[43margs\u001b[49m\u001b[43m,\u001b[49m\u001b[43m \u001b[49m\u001b[38;5;241;43m*\u001b[39;49m\u001b[38;5;241;43m*\u001b[39;49m\u001b[43mkwargs\u001b[49m\u001b[43m)\u001b[49m\n",
      "File \u001b[0;32m~/.conda/envs/cell2sentence/lib/python3.8/site-packages/torch/nn/modules/module.py:1562\u001b[0m, in \u001b[0;36mModule._call_impl\u001b[0;34m(self, *args, **kwargs)\u001b[0m\n\u001b[1;32m   1557\u001b[0m \u001b[38;5;66;03m# If we don't have any hooks, we want to skip the rest of the logic in\u001b[39;00m\n\u001b[1;32m   1558\u001b[0m \u001b[38;5;66;03m# this function, and just call forward.\u001b[39;00m\n\u001b[1;32m   1559\u001b[0m \u001b[38;5;28;01mif\u001b[39;00m \u001b[38;5;129;01mnot\u001b[39;00m (\u001b[38;5;28mself\u001b[39m\u001b[38;5;241m.\u001b[39m_backward_hooks \u001b[38;5;129;01mor\u001b[39;00m \u001b[38;5;28mself\u001b[39m\u001b[38;5;241m.\u001b[39m_backward_pre_hooks \u001b[38;5;129;01mor\u001b[39;00m \u001b[38;5;28mself\u001b[39m\u001b[38;5;241m.\u001b[39m_forward_hooks \u001b[38;5;129;01mor\u001b[39;00m \u001b[38;5;28mself\u001b[39m\u001b[38;5;241m.\u001b[39m_forward_pre_hooks\n\u001b[1;32m   1560\u001b[0m         \u001b[38;5;129;01mor\u001b[39;00m _global_backward_pre_hooks \u001b[38;5;129;01mor\u001b[39;00m _global_backward_hooks\n\u001b[1;32m   1561\u001b[0m         \u001b[38;5;129;01mor\u001b[39;00m _global_forward_hooks \u001b[38;5;129;01mor\u001b[39;00m _global_forward_pre_hooks):\n\u001b[0;32m-> 1562\u001b[0m     \u001b[38;5;28;01mreturn\u001b[39;00m \u001b[43mforward_call\u001b[49m\u001b[43m(\u001b[49m\u001b[38;5;241;43m*\u001b[39;49m\u001b[43margs\u001b[49m\u001b[43m,\u001b[49m\u001b[43m \u001b[49m\u001b[38;5;241;43m*\u001b[39;49m\u001b[38;5;241;43m*\u001b[39;49m\u001b[43mkwargs\u001b[49m\u001b[43m)\u001b[49m\n\u001b[1;32m   1564\u001b[0m \u001b[38;5;28;01mtry\u001b[39;00m:\n\u001b[1;32m   1565\u001b[0m     result \u001b[38;5;241m=\u001b[39m \u001b[38;5;28;01mNone\u001b[39;00m\n",
      "File \u001b[0;32m~/.conda/envs/cell2sentence/lib/python3.8/site-packages/transformers/models/gemma2/modeling_gemma2.py:837\u001b[0m, in \u001b[0;36mGemma2Model.forward\u001b[0;34m(self, input_ids, attention_mask, position_ids, past_key_values, inputs_embeds, use_cache, output_attentions, output_hidden_states, return_dict, cache_position)\u001b[0m\n\u001b[1;32m    826\u001b[0m     layer_outputs \u001b[38;5;241m=\u001b[39m \u001b[38;5;28mself\u001b[39m\u001b[38;5;241m.\u001b[39m_gradient_checkpointing_func(\n\u001b[1;32m    827\u001b[0m         decoder_layer\u001b[38;5;241m.\u001b[39m\u001b[38;5;21m__call__\u001b[39m,\n\u001b[1;32m    828\u001b[0m         hidden_states,\n\u001b[0;32m   (...)\u001b[0m\n\u001b[1;32m    834\u001b[0m         cache_position,\n\u001b[1;32m    835\u001b[0m     )\n\u001b[1;32m    836\u001b[0m \u001b[38;5;28;01melse\u001b[39;00m:\n\u001b[0;32m--> 837\u001b[0m     layer_outputs \u001b[38;5;241m=\u001b[39m \u001b[43mdecoder_layer\u001b[49m\u001b[43m(\u001b[49m\n\u001b[1;32m    838\u001b[0m \u001b[43m        \u001b[49m\u001b[43mhidden_states\u001b[49m\u001b[43m,\u001b[49m\n\u001b[1;32m    839\u001b[0m \u001b[43m        \u001b[49m\u001b[43mattention_mask\u001b[49m\u001b[38;5;241;43m=\u001b[39;49m\u001b[43mcausal_mask\u001b[49m\u001b[43m,\u001b[49m\n\u001b[1;32m    840\u001b[0m \u001b[43m        \u001b[49m\u001b[43mposition_ids\u001b[49m\u001b[38;5;241;43m=\u001b[39;49m\u001b[43mposition_ids\u001b[49m\u001b[43m,\u001b[49m\n\u001b[1;32m    841\u001b[0m \u001b[43m        \u001b[49m\u001b[43mpast_key_value\u001b[49m\u001b[38;5;241;43m=\u001b[39;49m\u001b[43mpast_key_values\u001b[49m\u001b[43m,\u001b[49m\n\u001b[1;32m    842\u001b[0m \u001b[43m        \u001b[49m\u001b[43moutput_attentions\u001b[49m\u001b[38;5;241;43m=\u001b[39;49m\u001b[43moutput_attentions\u001b[49m\u001b[43m,\u001b[49m\n\u001b[1;32m    843\u001b[0m \u001b[43m        \u001b[49m\u001b[43muse_cache\u001b[49m\u001b[38;5;241;43m=\u001b[39;49m\u001b[43muse_cache\u001b[49m\u001b[43m,\u001b[49m\n\u001b[1;32m    844\u001b[0m \u001b[43m        \u001b[49m\u001b[43mcache_position\u001b[49m\u001b[38;5;241;43m=\u001b[39;49m\u001b[43mcache_position\u001b[49m\u001b[43m,\u001b[49m\n\u001b[1;32m    845\u001b[0m \u001b[43m    \u001b[49m\u001b[43m)\u001b[49m\n\u001b[1;32m    847\u001b[0m hidden_states \u001b[38;5;241m=\u001b[39m layer_outputs[\u001b[38;5;241m0\u001b[39m]\n\u001b[1;32m    849\u001b[0m \u001b[38;5;28;01mif\u001b[39;00m output_attentions:\n",
      "File \u001b[0;32m~/.conda/envs/cell2sentence/lib/python3.8/site-packages/torch/nn/modules/module.py:1553\u001b[0m, in \u001b[0;36mModule._wrapped_call_impl\u001b[0;34m(self, *args, **kwargs)\u001b[0m\n\u001b[1;32m   1551\u001b[0m     \u001b[38;5;28;01mreturn\u001b[39;00m \u001b[38;5;28mself\u001b[39m\u001b[38;5;241m.\u001b[39m_compiled_call_impl(\u001b[38;5;241m*\u001b[39margs, \u001b[38;5;241m*\u001b[39m\u001b[38;5;241m*\u001b[39mkwargs)  \u001b[38;5;66;03m# type: ignore[misc]\u001b[39;00m\n\u001b[1;32m   1552\u001b[0m \u001b[38;5;28;01melse\u001b[39;00m:\n\u001b[0;32m-> 1553\u001b[0m     \u001b[38;5;28;01mreturn\u001b[39;00m \u001b[38;5;28;43mself\u001b[39;49m\u001b[38;5;241;43m.\u001b[39;49m\u001b[43m_call_impl\u001b[49m\u001b[43m(\u001b[49m\u001b[38;5;241;43m*\u001b[39;49m\u001b[43margs\u001b[49m\u001b[43m,\u001b[49m\u001b[43m \u001b[49m\u001b[38;5;241;43m*\u001b[39;49m\u001b[38;5;241;43m*\u001b[39;49m\u001b[43mkwargs\u001b[49m\u001b[43m)\u001b[49m\n",
      "File \u001b[0;32m~/.conda/envs/cell2sentence/lib/python3.8/site-packages/torch/nn/modules/module.py:1562\u001b[0m, in \u001b[0;36mModule._call_impl\u001b[0;34m(self, *args, **kwargs)\u001b[0m\n\u001b[1;32m   1557\u001b[0m \u001b[38;5;66;03m# If we don't have any hooks, we want to skip the rest of the logic in\u001b[39;00m\n\u001b[1;32m   1558\u001b[0m \u001b[38;5;66;03m# this function, and just call forward.\u001b[39;00m\n\u001b[1;32m   1559\u001b[0m \u001b[38;5;28;01mif\u001b[39;00m \u001b[38;5;129;01mnot\u001b[39;00m (\u001b[38;5;28mself\u001b[39m\u001b[38;5;241m.\u001b[39m_backward_hooks \u001b[38;5;129;01mor\u001b[39;00m \u001b[38;5;28mself\u001b[39m\u001b[38;5;241m.\u001b[39m_backward_pre_hooks \u001b[38;5;129;01mor\u001b[39;00m \u001b[38;5;28mself\u001b[39m\u001b[38;5;241m.\u001b[39m_forward_hooks \u001b[38;5;129;01mor\u001b[39;00m \u001b[38;5;28mself\u001b[39m\u001b[38;5;241m.\u001b[39m_forward_pre_hooks\n\u001b[1;32m   1560\u001b[0m         \u001b[38;5;129;01mor\u001b[39;00m _global_backward_pre_hooks \u001b[38;5;129;01mor\u001b[39;00m _global_backward_hooks\n\u001b[1;32m   1561\u001b[0m         \u001b[38;5;129;01mor\u001b[39;00m _global_forward_hooks \u001b[38;5;129;01mor\u001b[39;00m _global_forward_pre_hooks):\n\u001b[0;32m-> 1562\u001b[0m     \u001b[38;5;28;01mreturn\u001b[39;00m \u001b[43mforward_call\u001b[49m\u001b[43m(\u001b[49m\u001b[38;5;241;43m*\u001b[39;49m\u001b[43margs\u001b[49m\u001b[43m,\u001b[49m\u001b[43m \u001b[49m\u001b[38;5;241;43m*\u001b[39;49m\u001b[38;5;241;43m*\u001b[39;49m\u001b[43mkwargs\u001b[49m\u001b[43m)\u001b[49m\n\u001b[1;32m   1564\u001b[0m \u001b[38;5;28;01mtry\u001b[39;00m:\n\u001b[1;32m   1565\u001b[0m     result \u001b[38;5;241m=\u001b[39m \u001b[38;5;28;01mNone\u001b[39;00m\n",
      "File \u001b[0;32m~/.conda/envs/cell2sentence/lib/python3.8/site-packages/transformers/models/gemma2/modeling_gemma2.py:562\u001b[0m, in \u001b[0;36mGemma2DecoderLayer.forward\u001b[0;34m(self, hidden_states, attention_mask, position_ids, past_key_value, output_attentions, use_cache, cache_position)\u001b[0m\n\u001b[1;32m    552\u001b[0m \u001b[38;5;66;03m# Self Attention\u001b[39;00m\n\u001b[1;32m    553\u001b[0m hidden_states, self_attn_weights, present_key_value \u001b[38;5;241m=\u001b[39m \u001b[38;5;28mself\u001b[39m\u001b[38;5;241m.\u001b[39mself_attn(\n\u001b[1;32m    554\u001b[0m     hidden_states\u001b[38;5;241m=\u001b[39mhidden_states,\n\u001b[1;32m    555\u001b[0m     attention_mask\u001b[38;5;241m=\u001b[39mattention_mask,\n\u001b[0;32m   (...)\u001b[0m\n\u001b[1;32m    560\u001b[0m     cache_position\u001b[38;5;241m=\u001b[39mcache_position,\n\u001b[1;32m    561\u001b[0m )\n\u001b[0;32m--> 562\u001b[0m hidden_states \u001b[38;5;241m=\u001b[39m \u001b[38;5;28;43mself\u001b[39;49m\u001b[38;5;241;43m.\u001b[39;49m\u001b[43mpost_attention_layernorm\u001b[49m\u001b[43m(\u001b[49m\u001b[43mhidden_states\u001b[49m\u001b[43m)\u001b[49m\n\u001b[1;32m    563\u001b[0m hidden_states \u001b[38;5;241m=\u001b[39m residual \u001b[38;5;241m+\u001b[39m hidden_states\n\u001b[1;32m    565\u001b[0m residual \u001b[38;5;241m=\u001b[39m hidden_states\n",
      "File \u001b[0;32m~/.conda/envs/cell2sentence/lib/python3.8/site-packages/torch/nn/modules/module.py:1553\u001b[0m, in \u001b[0;36mModule._wrapped_call_impl\u001b[0;34m(self, *args, **kwargs)\u001b[0m\n\u001b[1;32m   1551\u001b[0m     \u001b[38;5;28;01mreturn\u001b[39;00m \u001b[38;5;28mself\u001b[39m\u001b[38;5;241m.\u001b[39m_compiled_call_impl(\u001b[38;5;241m*\u001b[39margs, \u001b[38;5;241m*\u001b[39m\u001b[38;5;241m*\u001b[39mkwargs)  \u001b[38;5;66;03m# type: ignore[misc]\u001b[39;00m\n\u001b[1;32m   1552\u001b[0m \u001b[38;5;28;01melse\u001b[39;00m:\n\u001b[0;32m-> 1553\u001b[0m     \u001b[38;5;28;01mreturn\u001b[39;00m \u001b[38;5;28;43mself\u001b[39;49m\u001b[38;5;241;43m.\u001b[39;49m\u001b[43m_call_impl\u001b[49m\u001b[43m(\u001b[49m\u001b[38;5;241;43m*\u001b[39;49m\u001b[43margs\u001b[49m\u001b[43m,\u001b[49m\u001b[43m \u001b[49m\u001b[38;5;241;43m*\u001b[39;49m\u001b[38;5;241;43m*\u001b[39;49m\u001b[43mkwargs\u001b[49m\u001b[43m)\u001b[49m\n",
      "File \u001b[0;32m~/.conda/envs/cell2sentence/lib/python3.8/site-packages/torch/nn/modules/module.py:1562\u001b[0m, in \u001b[0;36mModule._call_impl\u001b[0;34m(self, *args, **kwargs)\u001b[0m\n\u001b[1;32m   1557\u001b[0m \u001b[38;5;66;03m# If we don't have any hooks, we want to skip the rest of the logic in\u001b[39;00m\n\u001b[1;32m   1558\u001b[0m \u001b[38;5;66;03m# this function, and just call forward.\u001b[39;00m\n\u001b[1;32m   1559\u001b[0m \u001b[38;5;28;01mif\u001b[39;00m \u001b[38;5;129;01mnot\u001b[39;00m (\u001b[38;5;28mself\u001b[39m\u001b[38;5;241m.\u001b[39m_backward_hooks \u001b[38;5;129;01mor\u001b[39;00m \u001b[38;5;28mself\u001b[39m\u001b[38;5;241m.\u001b[39m_backward_pre_hooks \u001b[38;5;129;01mor\u001b[39;00m \u001b[38;5;28mself\u001b[39m\u001b[38;5;241m.\u001b[39m_forward_hooks \u001b[38;5;129;01mor\u001b[39;00m \u001b[38;5;28mself\u001b[39m\u001b[38;5;241m.\u001b[39m_forward_pre_hooks\n\u001b[1;32m   1560\u001b[0m         \u001b[38;5;129;01mor\u001b[39;00m _global_backward_pre_hooks \u001b[38;5;129;01mor\u001b[39;00m _global_backward_hooks\n\u001b[1;32m   1561\u001b[0m         \u001b[38;5;129;01mor\u001b[39;00m _global_forward_hooks \u001b[38;5;129;01mor\u001b[39;00m _global_forward_pre_hooks):\n\u001b[0;32m-> 1562\u001b[0m     \u001b[38;5;28;01mreturn\u001b[39;00m \u001b[43mforward_call\u001b[49m\u001b[43m(\u001b[49m\u001b[38;5;241;43m*\u001b[39;49m\u001b[43margs\u001b[49m\u001b[43m,\u001b[49m\u001b[43m \u001b[49m\u001b[38;5;241;43m*\u001b[39;49m\u001b[38;5;241;43m*\u001b[39;49m\u001b[43mkwargs\u001b[49m\u001b[43m)\u001b[49m\n\u001b[1;32m   1564\u001b[0m \u001b[38;5;28;01mtry\u001b[39;00m:\n\u001b[1;32m   1565\u001b[0m     result \u001b[38;5;241m=\u001b[39m \u001b[38;5;28;01mNone\u001b[39;00m\n",
      "File \u001b[0;32m~/.conda/envs/cell2sentence/lib/python3.8/site-packages/transformers/models/gemma2/modeling_gemma2.py:64\u001b[0m, in \u001b[0;36mGemma2RMSNorm.forward\u001b[0;34m(self, x)\u001b[0m\n\u001b[1;32m     63\u001b[0m \u001b[38;5;28;01mdef\u001b[39;00m \u001b[38;5;21mforward\u001b[39m(\u001b[38;5;28mself\u001b[39m, x):\n\u001b[0;32m---> 64\u001b[0m     output \u001b[38;5;241m=\u001b[39m \u001b[38;5;28;43mself\u001b[39;49m\u001b[38;5;241;43m.\u001b[39;49m\u001b[43m_norm\u001b[49m\u001b[43m(\u001b[49m\u001b[43mx\u001b[49m\u001b[38;5;241;43m.\u001b[39;49m\u001b[43mfloat\u001b[49m\u001b[43m(\u001b[49m\u001b[43m)\u001b[49m\u001b[43m)\u001b[49m\n\u001b[1;32m     65\u001b[0m     \u001b[38;5;66;03m# Llama does x.to(float16) * w whilst Gemma2 is (x * w).to(float16)\u001b[39;00m\n\u001b[1;32m     66\u001b[0m     \u001b[38;5;66;03m# See https://github.com/huggingface/transformers/pull/29402\u001b[39;00m\n\u001b[1;32m     67\u001b[0m     output \u001b[38;5;241m=\u001b[39m output \u001b[38;5;241m*\u001b[39m (\u001b[38;5;241m1.0\u001b[39m \u001b[38;5;241m+\u001b[39m \u001b[38;5;28mself\u001b[39m\u001b[38;5;241m.\u001b[39mweight\u001b[38;5;241m.\u001b[39mfloat())\n",
      "File \u001b[0;32m~/.conda/envs/cell2sentence/lib/python3.8/site-packages/transformers/models/gemma2/modeling_gemma2.py:61\u001b[0m, in \u001b[0;36mGemma2RMSNorm._norm\u001b[0;34m(self, x)\u001b[0m\n\u001b[1;32m     60\u001b[0m \u001b[38;5;28;01mdef\u001b[39;00m \u001b[38;5;21m_norm\u001b[39m(\u001b[38;5;28mself\u001b[39m, x):\n\u001b[0;32m---> 61\u001b[0m     \u001b[38;5;28;01mreturn\u001b[39;00m x \u001b[38;5;241m*\u001b[39m \u001b[43mtorch\u001b[49m\u001b[38;5;241;43m.\u001b[39;49m\u001b[43mrsqrt\u001b[49m\u001b[43m(\u001b[49m\u001b[43mx\u001b[49m\u001b[38;5;241;43m.\u001b[39;49m\u001b[43mpow\u001b[49m\u001b[43m(\u001b[49m\u001b[38;5;241;43m2\u001b[39;49m\u001b[43m)\u001b[49m\u001b[38;5;241;43m.\u001b[39;49m\u001b[43mmean\u001b[49m\u001b[43m(\u001b[49m\u001b[38;5;241;43m-\u001b[39;49m\u001b[38;5;241;43m1\u001b[39;49m\u001b[43m,\u001b[49m\u001b[43m \u001b[49m\u001b[43mkeepdim\u001b[49m\u001b[38;5;241;43m=\u001b[39;49m\u001b[38;5;28;43;01mTrue\u001b[39;49;00m\u001b[43m)\u001b[49m\u001b[43m \u001b[49m\u001b[38;5;241;43m+\u001b[39;49m\u001b[43m \u001b[49m\u001b[38;5;28;43mself\u001b[39;49m\u001b[38;5;241;43m.\u001b[39;49m\u001b[43meps\u001b[49m\u001b[43m)\u001b[49m\n",
      "\u001b[0;31mKeyboardInterrupt\u001b[0m: "
     ]
    }
   ],
   "source": [
    "# Generate different cell types\n",
    "cell_types_to_generate = [\"B cell\", \"monocyte\", \"NK cell\", \"dendritic cell\"]\n",
    "\n",
    "for cell_type in cell_types_to_generate:\n",
    "    print(f\"\\n{'='*50}\")\n",
    "    print(f\"Generating {cell_type}:\")\n",
    "    generated = generate_cell(cell_type, n_genes=20, verbose=False)\n",
    "    print(f\"Generated: {generated}\")"
   ]
  },
  {
   "cell_type": "markdown",
   "id": "e26cfda8",
   "metadata": {},
   "source": [
    "## Multi cell tissue prediction"
   ]
  },
  {
   "cell_type": "code",
   "execution_count": null,
   "id": "a51cb734",
   "metadata": {},
   "outputs": [
    {
     "name": "stdout",
     "output_type": "stream",
     "text": [
      "The following is a list of {num_genes} gene names ordered by descending expression level for {num_cells} different {organism} cells. Your task is to give the tissue which these cells belong to based on their gene expression.\n",
      "Cell sentences:\n",
      "{multi_cell_sentences}.\n",
      "The tissue which these cells belong to is:\n"
     ]
    }
   ],
   "source": [
    "task_name = \"tissue_prediction\"\n",
    "multi_cell_tissue_formatter = C2SMultiCellPromptFormatter(\n",
    "    task=task_name,\n",
    "    top_k_genes=100\n",
    ")\n",
    "\n",
    "multi_cell_tissue_prompt = multi_cell_tissue_formatter.prompts_dict[\"model_input\"][0]\n",
    "print(multi_cell_tissue_prompt)"
   ]
  },
  {
   "cell_type": "code",
   "execution_count": null,
   "id": "1c7c0bb7",
   "metadata": {},
   "outputs": [],
   "source": [
    "# Control and perturbed (CEBPE+CEBPB) from norman dataset\n",
    "control_cell = \"MT-CO2 MT-CO3 RPLP1 RPS27 RPS18 MT-CO1 RPS12 RPS8 RPS2 RPL13A MT-ND4 EEF1A1 RPL34 RPS23 RPS19 FTL RPS29 RPL32 RPS14 RPL19 RPS28 RPL37A MT-ATP6 RPS16 RPL21 RPL7 RPS3 MT-ND2 RPL3 RPS27A YBX1 RPL28 RPL39 RPL15 RPLP0 RPL35A RPS4X RPL13 RPL37 RPLP2 RPL9 RPS3A FTH1 RPS15 RPS15A RPL18A RPL29 RPL12 RPL8 RPS25 RPS7 RPS24 RPS17 RPL27A RPS13 RPS21 MT-ND1 RPL4 RPL11 RPL36 RPS6 RPSA RPS5 RPS20 RPL38 RPL7A MT-CYB RPL10 RPL18 RPL10A RPL14 RPL30 RPL24 UQCRH RPL6 RPL35 RPL31 TMA7 RPL22 FAU MT-ND3 RPL23A GAPDH RPL41 RPL26 TMSB4X RPL23 PPIA UBA52 OAZ1 HINT1 TPT1 RPS11 SERF2 EEF2 SDF2L1 RPS9 NACA RPL5 HMGN1 HSPE1 RANBP1 PTMA HMGA1 COX7A2 RPL27 APOC1 BTF3 NDUFB10 SNRPG HNRNPA1 PABPC1 EEF1B2 YDJC PPP1R14B PFN1 HSPD1 CALR DDX1 CHCHD2 PITX1 HSP90AB1 MT-ND5 COX7C GPX4 EIF3K UBL5 SET UBAC1 B2M SERBP1 UQCR11 UBB EIF5B PGP RPS26 NPM1 NEDD8 APRT TMEM14B ENO1 COX4I1 COX5B NDUFAB1 SLIRP GYPC CST3 HNRNPC HSP90B1 APOBEC3C DDX21 NCL TUBA1B PSMA4 JTB LDHA AP2B1 SRM COX6B1 EIF5A CCDC28B MT-ND4L EIF3I COX7B GADD45GIP1 SERPINB6 TRMT2A NME4 UBE2L3 UQCRQ NDUFB9 GOT2 COX5A SOD1 SON PEBP1 NAP1L1 NSA2 ATP1B3 NDUFA11 ACTG1 RPL36AL TMEM258 MTPN SRSF9 TUBA1C C19orf53 CCNI BCAT1 ATP6V0B SNRPE TMSB10 RBBP7 HMGN3 TOMM20 OST4 PA2G4 ROMO1 COMT EIF3H POMP IMMP1L ACTB PRELID1 ENY2 PARK7 MRPL36 EIF3F PPA1 GSTP1 ANP32B FADS1 GTF3A TMEM160 SUMO1 METTL5 SNX5 SNX3 NDUFB1 NDUFAF2 EIF3E GMPR CCT8 SNRPF SNRPD1 PGK1 EMC6 NDUFS5 ARL15 GTF3C6 GTPBP4 CFL1 GYPB SRRM1 RAN SRSF5 HBZ ZNF22 HDDC2 ATP6V1F DNAJA1 HNRNPA2B1 HES6 SDHC HMGB1 SUB1 SUMO3 NDUFS6 CMSS1 NDUFS7 NDUFS8 PFDN5 UQCRFS1 UQCRC1 FAM200B COA1 TADA3 LYL1 YIF1B AKIRIN1 CMBL RGS10 IMP3 PCBD1 YBX3 LUC7L3 SNRPD2 CCT4 KRT18 RPS27L CUTA MRPL52 MRPL57 DDT MRPS21 MRPS34 SMARCA4 SLC25A6 MRPL35 LSMEM2 PTBP1 ACP1 POLR1D CBX3 LSM12 SLC25A5 SLC25A37 CAPZA1 MARCKSL1 MTDH TOR1AIP2 METAP2 TOP2A C1QBP PSMA5 C4orf3 LDHB PSMA7 MIEN1 PSMB2 CAP1 C9orf78 LAPTM4B LAMTOR5 PPP1CA TPM3 ZNHIT1 PSMD11 PRAME ZBTB8OS POLR2L ATF7IP2 NAA10 RNF126 YWHAZ KIFAP3 THOC2 SNF8 PTP4A2 KIAA0319L SNRNP25 PKIG COQ4 SSU72 BNIP3L MYC SFPQ SNRPB PICALM DSTN COX6C SRP14 PRPF40A PSMC6 CTAG2 SRSF1 PAFAH1B2 CTU1 SRRM2 OSBPL9 CISD2 DDB1 DCUN1D5 DAZAP1 SEC62 YWHAB DIS3 SIVA1 DAP SRSF10 PHF20 GUK1 ZC3HAV1 SLC7A5 FBXO9 DCTN3 SRSF11 FBXL20 HIGD2A HGS PPP1R18 ANAPC16 CSTF3 YRDC BID PIM2 ANAPC11 SFXN1 ASH1L XPR1 EZH2 RANBP10 ANXA2 PTS HDDC3 ALDOA HDAC6 SRSF7 HDAC1 VDAC1 SLC38A5 CKB PHKB CSNK2A1 SRSF3 RAD21 PGAM1 GTF2A2 PDCD10 DEK PDE4DIP POLR2E CMTM6 UPF3B CNBP CNOT7 PDLIM7 CNPY2 FKBP8 ARPC1A QPRT PLTP VBP1 PTGES3 ZNF131 SMIM4 FKBP3 FIS1 UQCRB PRKAR2A COX7A2L GALNT1 PRR13 COX8A CYCS GOLGB1 PFDN2 PNN COX20 FAM120AOS SLC27A5 GNG5 PPDPF PPARGC1B PAK2 GAL PRRC2B PWP1 GSPT1 DDX46 PRDX1 SPN PARP1 PRDX2 SMYD3 PRDX3 COX14 PRMT2 FUS ATF4 PSME3 FBL PSMG3 FAM222B SNRPC CLPX GPS1 POLR2J CLTA PCGF6 PCNP COX6A1 UBL7 EIF1AX TIMM8B CCDC59 APOE RNF181 TXNL4A THRAP3 DYNLL1 CCDC137 TIMM13 TIMM44 ZNF664 MTCH2 EEF1D MT1X MRPS12 TIMMDC1 CBX5 ACP5 APPL1 KPNA6 KPNB1 KRT10 TMA16 ZNF706 MRPS33 TMED4 MRPS15 MYL12A RSF1 MYL6 MYL6B CDC42 EIF4B CDC16 EIF3M NDUFC1 NDUFB7 EIF3J NDUFB4 NDUFA8 EIF3D NDUFA3 S100A4 S100A13 CCT7 KCNH2\"\n",
    "perturbed_cell = \"MT-CO3 TMSB4X FTL MT-CO2 RPS27 MT-CO1 EEF1A1 RPS14 RPL34 FTH1 RPS18 MT-ND4 RPLP1 RPL37 RPS29 MT-ATP6 RPS4X RPL13A MT-CYB RPS8 RPS2 RPS19 TPT1 RPL28 RPL32 RPS3 RPS7 RPS27A MT-ND1 RPL37A MT-ND2 RPS12 RPS3A RPL21 RPL13 ACTB RPL39 RPL6 RPL9 RPS24 RPL27A RPL11 RPS28 RPS15 RPS11 RPL15 RPLP0 OAZ1 RPL10 RPL30 MT-ND3 RPS20 RPS15A RPL35 RPL41 YBX1 RPL5 RPS23 RPL29 RPL8 RPL19 RPL14 TMA7 RPL4 RPL10A RPL18A TYROBP RPLP2 RPS17 RPL7 UBA52 GAPDH UQCRH PTMA CFD HMGB1 RPL12 PFN1 RPS25 RPL35A RPSA B2M RPL24 COX7C UQCR11 SUB1 RPL36 HMGN1 RPL18 COX5B SRP14 VIM LST1 PTP4A2 CFL1 SUMO2 NACA RPL7A SH3BGRL3 PRAME SERF2 TMSB10 COX8A FAU CEBPE RPL23 EDF1 CSF3R CHCHD2 SNX3 MPC2 LMO4 PRR13 MSN DBI FAM118A NDUFS5 UBE2L3 MTCH1 COX7A2 FKBP1A RPS6 EIF2S2 RPS21 RPS26 GPX4 LSM6 CAP1 RPL22 HMGN2 MS4A3 PET100 PFDN5 UBL5 RPL23A LSM2 CDCA7 NUCKS1 ITM2B LDHB HMGN3 AURKAIP1 LAMTOR4 RPL27 RPS16 COTL1 PGAM1 ZNF207 UBB UBC COX4I1 GTF2I SLC25A3 PPIA RPS13 PGP TMBIM6 COX7B MYL6 ARHGDIB LGALS1 AGO1 HSP90AA1 SLC25A6 TMED9 MT-ND5 CLIC1 RPL3 SNRPG YWHAH SRSF9 BSG USP20 SRSF3 ARPC5 SRRM2 ARPC3 MYO1F ARPC2 ARPC1B MORF4L1 CIRBP MSRB1 CLC CALM2 DEK MARCKSL1 COMMD6 IQGAP2 CHAF1A RABL6 SAT1 CD63 NDUFA4 FAM89A POMP EIF3K COX6C PNRC1 TMEM219 MRPS16 TUBA1B SERBP1 BUD31 MRPL13 SLC39A3 CCT5 TEX30 COX6A1 SVIP PKM BANF1 UQCRFS1 PHF19 EIF3F SON CELF2 COX17 METTL9 PPIL2 RPS5 SET MYL12A RAB4A CMTM7 RPL38 COX6B1 PCBP2 CIZ1 UCP2 DGCR6L PGLS GPBP1 LIMD2 PEBP1 SOX4 PPP1CA HINT1 NCL PPP6R1 RPL26 BTG1 CCNI HNRNPA1 RSF1 PPP1CB RMI2 PRDX5 ALDOA PYCARD MBOAT7 PPP1R18 TNNT1 TOMM7 ATP6V1F CKLF ATP6V1G1 ACTG1 EEF2 RPL31 WASF2 ELF1 SRSF11 DGUOK SRSF10 POLR2J3 METTL23 HPRT1 FAM32A COPS7A GLIPR1 TKT ANKRD28 CORO1A MFHAS1 NOTCH1 RAB1A CTSC QPRT TOR1A TRA2B TIMM17A SLC35E2B C14orf119 MRPL20 MIB2 BEST1 ANXA2 PPDPF ANP32B MRPL47 MRPL10 PPHLN1 SNX5 CCDC124 YTHDC1 LMNA TPM3 POLR2L ADRM1 COMMD9 EEF1B2 RPL36AL LARP1B SNRPE CANX CALM1 DYRK1A TRPM4 USP32 HVCN1 PPP3R1 NUDT22 LCP1 TMEM167A ISY1 RSL24D1 BTF3 PLEK TMEM14C TMEM14B CAPNS1 DNMT1 PLD3 ICMT SMC4 ZMAT2 BRI3 ZDHHC12 ANAPC13 ANAPC11 PMVK MORF4L2 SCAND1 SLIRP BRK1 RTN4 IDH2 RTN3 CRLS1 TRMT112 SMAD4 LAPTM5 OAZ2 SMAD5 FAM89B NUDT1 NUDCD2 AIF1 SNRNP25 BIRC2 CSTB PPM1G S100A11 ANKRD11 NONO PTPN7 MRPS33 NSRP1 SLBP NOP10 CYBA PPIG WDR62 SNRPB2 TLN1 SNRPD1 CBX3 CBFA2T3 TNFAIP8 BMI1 CASP8AP2 C4orf48 HSPB11 HSPB1 HSPA8 LENG8 ZMYND8 HSP90AB1 TMED5 WDR83OS RUNX1 RANBP1 C4orf3 RPS9 ALAS1 ZNF138 ZC3H15 PPM1N FUS TMA16 EEF1D COMMD3 PARK7 SPG21 SPI1 PRMT2 PARL CD37 GOLIM4 CLPX DDX52 HDDC2 UBE2D2 UBE2M MCCC2 FLCN ATP11B UBE2I PSMA3 EIF5A ETFB HDAC3 VAMP8 CLU RNF130 UQCR10 HEPH BAG6 CHP1 KCNE3 NAA38 RBM26 STAU2 CNIH4 NDUFA3 NDUFA2 SETD2 CCT4 MTRF1L ARIH2 EIF3I EIF3J RNF145 HES6 ATOX1 CMTM6 DECR2 SPN TXNIP RING1 CCDC174 RCC2 SRA1 PAIP2 LSM3 ATRX SRI TAOK3 EMP3 SSR2 RBMX SSNA1 SRSF2 P4HB SSH2 SSBP1 MYB ERH ATP6AP1 TAF10 OSTC OST4 OSBPL9 CDCA7L ACTN1 PAPOLA RNASEH2C PGK1 RHEB TBL1XR1 PSMA7 PGD ARL15 TBCA VPS16 PSMB1 VPS13C UBE2S RHOA RMND5B GYG1 ZNF83 TBC1D20 NDUFAF3 KIAA0100 PIP4K2A MZT2B ATG16L2 RGS10 NDUFS7 TFDP2 HMGA1 HMGB2 NDUFV2 PCBP1 EPM2AIP1 PRKAG1 PIM1 DHFR\"\n",
    "n_genes = len(control_cell.split())\n"
   ]
  },
  {
   "cell_type": "code",
   "execution_count": null,
   "id": "6e321237",
   "metadata": {},
   "outputs": [],
   "source": [
    "multi_cell_sentences = f\"Cell 1:\\n{control_cell}\\nCell 2:\\n{perturbed_cell}\\n\"\n",
    "\n",
    "filled_prompt = multi_cell_tissue_prompt.format(\n",
    "    num_genes=n_genes,\n",
    "    num_cells=2,\n",
    "    organism='human',\n",
    "    multi_cell_sentences=multi_cell_sentences\n",
    ")\n"
   ]
  },
  {
   "cell_type": "code",
   "execution_count": null,
   "id": "e2daab6b",
   "metadata": {},
   "outputs": [],
   "source": [
    "def query_model(prompt, max_tokens=50, temperature=0.1):\n",
    "    \"\"\"Send a custom prompt to the model.\"\"\"\n",
    "    response = csmodel.generate_from_prompt(\n",
    "        model=model,\n",
    "        prompt=prompt,\n",
    "        max_num_tokens=max_tokens,\n",
    "        temperature=temperature,\n",
    "        do_sample=True\n",
    "    )\n",
    "    return response.strip()"
   ]
  },
  {
   "cell_type": "code",
   "execution_count": null,
   "id": "2835eae4",
   "metadata": {},
   "outputs": [
    {
     "name": "stdout",
     "output_type": "stream",
     "text": [
      "Prompt:\n",
      "--------------------------------------------------\n",
      "The following is a list of 500 gene names ordered by descending expression level for 2 different human cells. Your task is to give the tissue which these cells belong to based on their gene expression.\n",
      "Cell sentences:\n",
      "Cell 1:\n",
      "MT-CO2 MT-CO3 RPLP1 RPS27 RPS18 MT-CO1 RPS12 RPS8 RPS2 RPL13A MT-ND4 EEF1A1 RPL34 RPS23 RPS19 FTL RPS29 RPL32 RPS14 RPL19 RPS28 RPL37A MT-ATP6 RPS16 RPL21 RPL7 RPS3 MT-ND2 RPL3 RPS27A YBX1 RPL28 RPL39 RPL15 RPLP0 RPL35A RPS4X RPL13 RPL37 RPLP2 RPL9 RPS3A FTH1 RPS15 RPS15A RPL18A RPL29 RPL12 RPL8 RPS25 RPS7 RPS24 RPS17 RPL27A RPS13 RPS21 MT-ND1 RPL4 RPL11 RPL36 RPS6 RPSA RPS5 RPS20 RPL38 RPL7A MT-CYB RPL10 RPL18 RPL10A RPL14 RPL30 RPL24 UQCRH RPL6 RPL35 RPL31 TMA7 RPL22 FAU MT-ND3 RPL23A GAPDH RPL41 RPL26 TMSB4X RPL23 PPIA UBA52 OAZ1 HINT1 TPT1 RPS11 SERF2 EEF2 SDF2L1 RPS9 NACA RPL5 HMGN1 HSPE1 RANBP1 PTMA HMGA1 COX7A2 RPL27 APOC1 BTF3 NDUFB10 SNRPG HNRNPA1 PABPC1 EEF1B2 YDJC PPP1R14B PFN1 HSPD1 CALR DDX1 CHCHD2 PITX1 HSP90AB1 MT-ND5 COX7C GPX4 EIF3K UBL5 SET UBAC1 B2M SERBP1 UQCR11 UBB EIF5B PGP RPS26 NPM1 NEDD8 APRT TMEM14B ENO1 COX4I1 COX5B NDUFAB1 SLIRP GYPC CST3 HNRNPC HSP90B1 APOBEC3C DDX21 NCL TUBA1B PSMA4 JTB LDHA AP2B1 SRM COX6B1 EIF5A CCDC28B MT-ND4L EIF3I COX7B GADD45GIP1 SERPINB6 TRMT2A NME4 UBE2L3 UQCRQ NDUFB9 GOT2 COX5A SOD1 SON PEBP1 NAP1L1 NSA2 ATP1B3 NDUFA11 ACTG1 RPL36AL TMEM258 MTPN SRSF9 TUBA1C C19orf53 CCNI BCAT1 ATP6V0B SNRPE TMSB10 RBBP7 HMGN3 TOMM20 OST4 PA2G4 ROMO1 COMT EIF3H POMP IMMP1L ACTB PRELID1 ENY2 PARK7 MRPL36 EIF3F PPA1 GSTP1 ANP32B FADS1 GTF3A TMEM160 SUMO1 METTL5 SNX5 SNX3 NDUFB1 NDUFAF2 EIF3E GMPR CCT8 SNRPF SNRPD1 PGK1 EMC6 NDUFS5 ARL15 GTF3C6 GTPBP4 CFL1 GYPB SRRM1 RAN SRSF5 HBZ ZNF22 HDDC2 ATP6V1F DNAJA1 HNRNPA2B1 HES6 SDHC HMGB1 SUB1 SUMO3 NDUFS6 CMSS1 NDUFS7 NDUFS8 PFDN5 UQCRFS1 UQCRC1 FAM200B COA1 TADA3 LYL1 YIF1B AKIRIN1 CMBL RGS10 IMP3 PCBD1 YBX3 LUC7L3 SNRPD2 CCT4 KRT18 RPS27L CUTA MRPL52 MRPL57 DDT MRPS21 MRPS34 SMARCA4 SLC25A6 MRPL35 LSMEM2 PTBP1 ACP1 POLR1D CBX3 LSM12 SLC25A5 SLC25A37 CAPZA1 MARCKSL1 MTDH TOR1AIP2 METAP2 TOP2A C1QBP PSMA5 C4orf3 LDHB PSMA7 MIEN1 PSMB2 CAP1 C9orf78 LAPTM4B LAMTOR5 PPP1CA TPM3 ZNHIT1 PSMD11 PRAME ZBTB8OS POLR2L ATF7IP2 NAA10 RNF126 YWHAZ KIFAP3 THOC2 SNF8 PTP4A2 KIAA0319L SNRNP25 PKIG COQ4 SSU72 BNIP3L MYC SFPQ SNRPB PICALM DSTN COX6C SRP14 PRPF40A PSMC6 CTAG2 SRSF1 PAFAH1B2 CTU1 SRRM2 OSBPL9 CISD2 DDB1 DCUN1D5 DAZAP1 SEC62 YWHAB DIS3 SIVA1 DAP SRSF10 PHF20 GUK1 ZC3HAV1 SLC7A5 FBXO9 DCTN3 SRSF11 FBXL20 HIGD2A HGS PPP1R18 ANAPC16 CSTF3 YRDC BID PIM2 ANAPC11 SFXN1 ASH1L XPR1 EZH2 RANBP10 ANXA2 PTS HDDC3 ALDOA HDAC6 SRSF7 HDAC1 VDAC1 SLC38A5 CKB PHKB CSNK2A1 SRSF3 RAD21 PGAM1 GTF2A2 PDCD10 DEK PDE4DIP POLR2E CMTM6 UPF3B CNBP CNOT7 PDLIM7 CNPY2 FKBP8 ARPC1A QPRT PLTP VBP1 PTGES3 ZNF131 SMIM4 FKBP3 FIS1 UQCRB PRKAR2A COX7A2L GALNT1 PRR13 COX8A CYCS GOLGB1 PFDN2 PNN COX20 FAM120AOS SLC27A5 GNG5 PPDPF PPARGC1B PAK2 GAL PRRC2B PWP1 GSPT1 DDX46 PRDX1 SPN PARP1 PRDX2 SMYD3 PRDX3 COX14 PRMT2 FUS ATF4 PSME3 FBL PSMG3 FAM222B SNRPC CLPX GPS1 POLR2J CLTA PCGF6 PCNP COX6A1 UBL7 EIF1AX TIMM8B CCDC59 APOE RNF181 TXNL4A THRAP3 DYNLL1 CCDC137 TIMM13 TIMM44 ZNF664 MTCH2 EEF1D MT1X MRPS12 TIMMDC1 CBX5 ACP5 APPL1 KPNA6 KPNB1 KRT10 TMA16 ZNF706 MRPS33 TMED4 MRPS15 MYL12A RSF1 MYL6 MYL6B CDC42 EIF4B CDC16 EIF3M NDUFC1 NDUFB7 EIF3J NDUFB4 NDUFA8 EIF3D NDUFA3 S100A4 S100A13 CCT7 KCNH2\n",
      "Cell 2:\n",
      "MT-CO3 TMSB4X FTL MT-CO2 RPS27 MT-CO1 EEF1A1 RPS14 RPL34 FTH1 RPS18 MT-ND4 RPLP1 RPL37 RPS29 MT-ATP6 RPS4X RPL13A MT-CYB RPS8 RPS2 RPS19 TPT1 RPL28 RPL32 RPS3 RPS7 RPS27A MT-ND1 RPL37A MT-ND2 RPS12 RPS3A RPL21 RPL13 ACTB RPL39 RPL6 RPL9 RPS24 RPL27A RPL11 RPS28 RPS15 RPS11 RPL15 RPLP0 OAZ1 RPL10 RPL30 MT-ND3 RPS20 RPS15A RPL35 RPL41 YBX1 RPL5 RPS23 RPL29 RPL8 RPL19 RPL14 TMA7 RPL4 RPL10A RPL18A TYROBP RPLP2 RPS17 RPL7 UBA52 GAPDH UQCRH PTMA CFD HMGB1 RPL12 PFN1 RPS25 RPL35A RPSA B2M RPL24 COX7C UQCR11 SUB1 RPL36 HMGN1 RPL18 COX5B SRP14 VIM LST1 PTP4A2 CFL1 SUMO2 NACA RPL7A SH3BGRL3 PRAME SERF2 TMSB10 COX8A FAU CEBPE RPL23 EDF1 CSF3R CHCHD2 SNX3 MPC2 LMO4 PRR13 MSN DBI FAM118A NDUFS5 UBE2L3 MTCH1 COX7A2 FKBP1A RPS6 EIF2S2 RPS21 RPS26 GPX4 LSM6 CAP1 RPL22 HMGN2 MS4A3 PET100 PFDN5 UBL5 RPL23A LSM2 CDCA7 NUCKS1 ITM2B LDHB HMGN3 AURKAIP1 LAMTOR4 RPL27 RPS16 COTL1 PGAM1 ZNF207 UBB UBC COX4I1 GTF2I SLC25A3 PPIA RPS13 PGP TMBIM6 COX7B MYL6 ARHGDIB LGALS1 AGO1 HSP90AA1 SLC25A6 TMED9 MT-ND5 CLIC1 RPL3 SNRPG YWHAH SRSF9 BSG USP20 SRSF3 ARPC5 SRRM2 ARPC3 MYO1F ARPC2 ARPC1B MORF4L1 CIRBP MSRB1 CLC CALM2 DEK MARCKSL1 COMMD6 IQGAP2 CHAF1A RABL6 SAT1 CD63 NDUFA4 FAM89A POMP EIF3K COX6C PNRC1 TMEM219 MRPS16 TUBA1B SERBP1 BUD31 MRPL13 SLC39A3 CCT5 TEX30 COX6A1 SVIP PKM BANF1 UQCRFS1 PHF19 EIF3F SON CELF2 COX17 METTL9 PPIL2 RPS5 SET MYL12A RAB4A CMTM7 RPL38 COX6B1 PCBP2 CIZ1 UCP2 DGCR6L PGLS GPBP1 LIMD2 PEBP1 SOX4 PPP1CA HINT1 NCL PPP6R1 RPL26 BTG1 CCNI HNRNPA1 RSF1 PPP1CB RMI2 PRDX5 ALDOA PYCARD MBOAT7 PPP1R18 TNNT1 TOMM7 ATP6V1F CKLF ATP6V1G1 ACTG1 EEF2 RPL31 WASF2 ELF1 SRSF11 DGUOK SRSF10 POLR2J3 METTL23 HPRT1 FAM32A COPS7A GLIPR1 TKT ANKRD28 CORO1A MFHAS1 NOTCH1 RAB1A CTSC QPRT TOR1A TRA2B TIMM17A SLC35E2B C14orf119 MRPL20 MIB2 BEST1 ANXA2 PPDPF ANP32B MRPL47 MRPL10 PPHLN1 SNX5 CCDC124 YTHDC1 LMNA TPM3 POLR2L ADRM1 COMMD9 EEF1B2 RPL36AL LARP1B SNRPE CANX CALM1 DYRK1A TRPM4 USP32 HVCN1 PPP3R1 NUDT22 LCP1 TMEM167A ISY1 RSL24D1 BTF3 PLEK TMEM14C TMEM14B CAPNS1 DNMT1 PLD3 ICMT SMC4 ZMAT2 BRI3 ZDHHC12 ANAPC13 ANAPC11 PMVK MORF4L2 SCAND1 SLIRP BRK1 RTN4 IDH2 RTN3 CRLS1 TRMT112 SMAD4 LAPTM5 OAZ2 SMAD5 FAM89B NUDT1 NUDCD2 AIF1 SNRNP25 BIRC2 CSTB PPM1G S100A11 ANKRD11 NONO PTPN7 MRPS33 NSRP1 SLBP NOP10 CYBA PPIG WDR62 SNRPB2 TLN1 SNRPD1 CBX3 CBFA2T3 TNFAIP8 BMI1 CASP8AP2 C4orf48 HSPB11 HSPB1 HSPA8 LENG8 ZMYND8 HSP90AB1 TMED5 WDR83OS RUNX1 RANBP1 C4orf3 RPS9 ALAS1 ZNF138 ZC3H15 PPM1N FUS TMA16 EEF1D COMMD3 PARK7 SPG21 SPI1 PRMT2 PARL CD37 GOLIM4 CLPX DDX52 HDDC2 UBE2D2 UBE2M MCCC2 FLCN ATP11B UBE2I PSMA3 EIF5A ETFB HDAC3 VAMP8 CLU RNF130 UQCR10 HEPH BAG6 CHP1 KCNE3 NAA38 RBM26 STAU2 CNIH4 NDUFA3 NDUFA2 SETD2 CCT4 MTRF1L ARIH2 EIF3I EIF3J RNF145 HES6 ATOX1 CMTM6 DECR2 SPN TXNIP RING1 CCDC174 RCC2 SRA1 PAIP2 LSM3 ATRX SRI TAOK3 EMP3 SSR2 RBMX SSNA1 SRSF2 P4HB SSH2 SSBP1 MYB ERH ATP6AP1 TAF10 OSTC OST4 OSBPL9 CDCA7L ACTN1 PAPOLA RNASEH2C PGK1 RHEB TBL1XR1 PSMA7 PGD ARL15 TBCA VPS16 PSMB1 VPS13C UBE2S RHOA RMND5B GYG1 ZNF83 TBC1D20 NDUFAF3 KIAA0100 PIP4K2A MZT2B ATG16L2 RGS10 NDUFS7 TFDP2 HMGA1 HMGB2 NDUFV2 PCBP1 EPM2AIP1 PRKAG1 PIM1 DHFR\n",
      ".\n",
      "The tissue which these cells belong to is:\n",
      "--------------------------------------------------\n",
      "\n",
      "\n",
      "Response:\n",
      "--------------------------------------------------\n",
      "lymph node.<ctrl100>\n"
     ]
    }
   ],
   "source": [
    "print(f\"Prompt:\")\n",
    "print(\"-\" * 50)\n",
    "print(filled_prompt)\n",
    "print(\"-\" * 50)\n",
    "\n",
    "print()\n",
    "print()\n",
    "response = query_model(filled_prompt, max_tokens=50, temperature=0.1)\n",
    "print(f\"Response:\")\n",
    "print(\"-\" * 50)\n",
    "print(response)"
   ]
  },
  {
   "cell_type": "code",
   "execution_count": null,
   "id": "1c6e71d5",
   "metadata": {},
   "outputs": [],
   "source": [
    "custom_prompt = \"\"\"The following is a list of 500 gene names ordered by descending expression level for 2 different human cells. Your task is to provide the tissue which these cells belong to based on their gene expression.\n",
    "Cell sentences:\n",
    "Cell 1:\n",
    "MT-CO2 MT-CO3 RPLP1 RPS27 RPS18 MT-CO1 RPS12 RPS8 RPS2 RPL13A MT-ND4 EEF1A1 RPL34 RPS23 RPS19 FTL RPS29 RPL32 RPS14 RPL19 RPS28 RPL37A MT-ATP6 RPS16 RPL21 RPL7 RPS3 MT-ND2 RPL3 RPS27A YBX1 RPL28 RPL39 RPL15 RPLP0 RPL35A RPS4X RPL13 RPL37 RPLP2 RPL9 RPS3A FTH1 RPS15 RPS15A RPL18A RPL29 RPL12 RPL8 RPS25 RPS7 RPS24 RPS17 RPL27A RPS13 RPS21 MT-ND1 RPL4 RPL11 RPL36 RPS6 RPSA RPS5 RPS20 RPL38 RPL7A MT-CYB RPL10 RPL18 RPL10A RPL14 RPL30 RPL24 UQCRH RPL6 RPL35 RPL31 TMA7 RPL22 FAU MT-ND3 RPL23A GAPDH RPL41 RPL26 TMSB4X RPL23 PPIA UBA52 OAZ1 HINT1 TPT1 RPS11 SERF2 EEF2 SDF2L1 RPS9 NACA RPL5 HMGN1 HSPE1 RANBP1 PTMA HMGA1 COX7A2 RPL27 APOC1 BTF3 NDUFB10 SNRPG HNRNPA1 PABPC1 EEF1B2 YDJC PPP1R14B PFN1 HSPD1 CALR DDX1 CHCHD2 PITX1 HSP90AB1 MT-ND5 COX7C GPX4 EIF3K UBL5 SET UBAC1 B2M SERBP1 UQCR11 UBB EIF5B PGP RPS26 NPM1 NEDD8 APRT TMEM14B ENO1 COX4I1 COX5B NDUFAB1 SLIRP GYPC CST3 HNRNPC HSP90B1 APOBEC3C DDX21 NCL TUBA1B PSMA4 JTB LDHA AP2B1 SRM COX6B1 EIF5A CCDC28B MT-ND4L EIF3I COX7B GADD45GIP1 SERPINB6 TRMT2A NME4 UBE2L3 UQCRQ NDUFB9 GOT2 COX5A SOD1 SON PEBP1 NAP1L1 NSA2 ATP1B3 NDUFA11 ACTG1 RPL36AL TMEM258 MTPN SRSF9 TUBA1C C19orf53 CCNI BCAT1 ATP6V0B SNRPE TMSB10 RBBP7 HMGN3 TOMM20 OST4 PA2G4 ROMO1 COMT EIF3H POMP IMMP1L ACTB PRELID1 ENY2 PARK7 MRPL36 EIF3F PPA1 GSTP1 ANP32B FADS1 GTF3A TMEM160 SUMO1 METTL5 SNX5 SNX3 NDUFB1 NDUFAF2 EIF3E GMPR CCT8 SNRPF SNRPD1 PGK1 EMC6 NDUFS5 ARL15 GTF3C6 GTPBP4 CFL1 GYPB SRRM1 RAN SRSF5 HBZ ZNF22 HDDC2 ATP6V1F DNAJA1 HNRNPA2B1 HES6 SDHC HMGB1 SUB1 SUMO3 NDUFS6 CMSS1 NDUFS7 NDUFS8 PFDN5 UQCRFS1 UQCRC1 FAM200B COA1 TADA3 LYL1 YIF1B AKIRIN1 CMBL RGS10 IMP3 PCBD1 YBX3 LUC7L3 SNRPD2 CCT4 KRT18 RPS27L CUTA MRPL52 MRPL57 DDT MRPS21 MRPS34 SMARCA4 SLC25A6 MRPL35 LSMEM2 PTBP1 ACP1 POLR1D CBX3 LSM12 SLC25A5 SLC25A37 CAPZA1 MARCKSL1 MTDH TOR1AIP2 METAP2 TOP2A C1QBP PSMA5 C4orf3 LDHB PSMA7 MIEN1 PSMB2 CAP1 C9orf78 LAPTM4B LAMTOR5 PPP1CA TPM3 ZNHIT1 PSMD11 PRAME ZBTB8OS POLR2L ATF7IP2 NAA10 RNF126 YWHAZ KIFAP3 THOC2 SNF8 PTP4A2 KIAA0319L SNRNP25 PKIG COQ4 SSU72 BNIP3L MYC SFPQ SNRPB PICALM DSTN COX6C SRP14 PRPF40A PSMC6 CTAG2 SRSF1 PAFAH1B2 CTU1 SRRM2 OSBPL9 CISD2 DDB1 DCUN1D5 DAZAP1 SEC62 YWHAB DIS3 SIVA1 DAP SRSF10 PHF20 GUK1 ZC3HAV1 SLC7A5 FBXO9 DCTN3 SRSF11 FBXL20 HIGD2A HGS PPP1R18 ANAPC16 CSTF3 YRDC BID PIM2 ANAPC11 SFXN1 ASH1L XPR1 EZH2 RANBP10 ANXA2 PTS HDDC3 ALDOA HDAC6 SRSF7 HDAC1 VDAC1 SLC38A5 CKB PHKB CSNK2A1 SRSF3 RAD21 PGAM1 GTF2A2 PDCD10 DEK PDE4DIP POLR2E CMTM6 UPF3B CNBP CNOT7 PDLIM7 CNPY2 FKBP8 ARPC1A QPRT PLTP VBP1 PTGES3 ZNF131 SMIM4 FKBP3 FIS1 UQCRB PRKAR2A COX7A2L GALNT1 PRR13 COX8A CYCS GOLGB1 PFDN2 PNN COX20 FAM120AOS SLC27A5 GNG5 PPDPF PPARGC1B PAK2 GAL PRRC2B PWP1 GSPT1 DDX46 PRDX1 SPN PARP1 PRDX2 SMYD3 PRDX3 COX14 PRMT2 FUS ATF4 PSME3 FBL PSMG3 FAM222B SNRPC CLPX GPS1 POLR2J CLTA PCGF6 PCNP COX6A1 UBL7 EIF1AX TIMM8B CCDC59 APOE RNF181 TXNL4A THRAP3 DYNLL1 CCDC137 TIMM13 TIMM44 ZNF664 MTCH2 EEF1D MT1X MRPS12 TIMMDC1 CBX5 ACP5 APPL1 KPNA6 KPNB1 KRT10 TMA16 ZNF706 MRPS33 TMED4 MRPS15 MYL12A RSF1 MYL6 MYL6B CDC42 EIF4B CDC16 EIF3M NDUFC1 NDUFB7 EIF3J NDUFB4 NDUFA8 EIF3D NDUFA3 S100A4 S100A13 CCT7 KCNH2\n",
    "Cell 2:\n",
    "MT-CO3 TMSB4X FTL MT-CO2 RPS27 MT-CO1 EEF1A1 RPS14 RPL34 FTH1 RPS18 MT-ND4 RPLP1 RPL37 RPS29 MT-ATP6 RPS4X RPL13A MT-CYB RPS8 RPS2 RPS19 TPT1 RPL28 RPL32 RPS3 RPS7 RPS27A MT-ND1 RPL37A MT-ND2 RPS12 RPS3A RPL21 RPL13 ACTB RPL39 RPL6 RPL9 RPS24 RPL27A RPL11 RPS28 RPS15 RPS11 RPL15 RPLP0 OAZ1 RPL10 RPL30 MT-ND3 RPS20 RPS15A RPL35 RPL41 YBX1 RPL5 RPS23 RPL29 RPL8 RPL19 RPL14 TMA7 RPL4 RPL10A RPL18A TYROBP RPLP2 RPS17 RPL7 UBA52 GAPDH UQCRH PTMA CFD HMGB1 RPL12 PFN1 RPS25 RPL35A RPSA B2M RPL24 COX7C UQCR11 SUB1 RPL36 HMGN1 RPL18 COX5B SRP14 VIM LST1 PTP4A2 CFL1 SUMO2 NACA RPL7A SH3BGRL3 PRAME SERF2 TMSB10 COX8A FAU CEBPE RPL23 EDF1 CSF3R CHCHD2 SNX3 MPC2 LMO4 PRR13 MSN DBI FAM118A NDUFS5 UBE2L3 MTCH1 COX7A2 FKBP1A RPS6 EIF2S2 RPS21 RPS26 GPX4 LSM6 CAP1 RPL22 HMGN2 MS4A3 PET100 PFDN5 UBL5 RPL23A LSM2 CDCA7 NUCKS1 ITM2B LDHB HMGN3 AURKAIP1 LAMTOR4 RPL27 RPS16 COTL1 PGAM1 ZNF207 UBB UBC COX4I1 GTF2I SLC25A3 PPIA RPS13 PGP TMBIM6 COX7B MYL6 ARHGDIB LGALS1 AGO1 HSP90AA1 SLC25A6 TMED9 MT-ND5 CLIC1 RPL3 SNRPG YWHAH SRSF9 BSG USP20 SRSF3 ARPC5 SRRM2 ARPC3 MYO1F ARPC2 ARPC1B MORF4L1 CIRBP MSRB1 CLC CALM2 DEK MARCKSL1 COMMD6 IQGAP2 CHAF1A RABL6 SAT1 CD63 NDUFA4 FAM89A POMP EIF3K COX6C PNRC1 TMEM219 MRPS16 TUBA1B SERBP1 BUD31 MRPL13 SLC39A3 CCT5 TEX30 COX6A1 SVIP PKM BANF1 UQCRFS1 PHF19 EIF3F SON CELF2 COX17 METTL9 PPIL2 RPS5 SET MYL12A RAB4A CMTM7 RPL38 COX6B1 PCBP2 CIZ1 UCP2 DGCR6L PGLS GPBP1 LIMD2 PEBP1 SOX4 PPP1CA HINT1 NCL PPP6R1 RPL26 BTG1 CCNI HNRNPA1 RSF1 PPP1CB RMI2 PRDX5 ALDOA PYCARD MBOAT7 PPP1R18 TNNT1 TOMM7 ATP6V1F CKLF ATP6V1G1 ACTG1 EEF2 RPL31 WASF2 ELF1 SRSF11 DGUOK SRSF10 POLR2J3 METTL23 HPRT1 FAM32A COPS7A GLIPR1 TKT ANKRD28 CORO1A MFHAS1 NOTCH1 RAB1A CTSC QPRT TOR1A TRA2B TIMM17A SLC35E2B C14orf119 MRPL20 MIB2 BEST1 ANXA2 PPDPF ANP32B MRPL47 MRPL10 PPHLN1 SNX5 CCDC124 YTHDC1 LMNA TPM3 POLR2L ADRM1 COMMD9 EEF1B2 RPL36AL LARP1B SNRPE CANX CALM1 DYRK1A TRPM4 USP32 HVCN1 PPP3R1 NUDT22 LCP1 TMEM167A ISY1 RSL24D1 BTF3 PLEK TMEM14C TMEM14B CAPNS1 DNMT1 PLD3 ICMT SMC4 ZMAT2 BRI3 ZDHHC12 ANAPC13 ANAPC11 PMVK MORF4L2 SCAND1 SLIRP BRK1 RTN4 IDH2 RTN3 CRLS1 TRMT112 SMAD4 LAPTM5 OAZ2 SMAD5 FAM89B NUDT1 NUDCD2 AIF1 SNRNP25 BIRC2 CSTB PPM1G S100A11 ANKRD11 NONO PTPN7 MRPS33 NSRP1 SLBP NOP10 CYBA PPIG WDR62 SNRPB2 TLN1 SNRPD1 CBX3 CBFA2T3 TNFAIP8 BMI1 CASP8AP2 C4orf48 HSPB11 HSPB1 HSPA8 LENG8 ZMYND8 HSP90AB1 TMED5 WDR83OS RUNX1 RANBP1 C4orf3 RPS9 ALAS1 ZNF138 ZC3H15 PPM1N FUS TMA16 EEF1D COMMD3 PARK7 SPG21 SPI1 PRMT2 PARL CD37 GOLIM4 CLPX DDX52 HDDC2 UBE2D2 UBE2M MCCC2 FLCN ATP11B UBE2I PSMA3 EIF5A ETFB HDAC3 VAMP8 CLU RNF130 UQCR10 HEPH BAG6 CHP1 KCNE3 NAA38 RBM26 STAU2 CNIH4 NDUFA3 NDUFA2 SETD2 CCT4 MTRF1L ARIH2 EIF3I EIF3J RNF145 HES6 ATOX1 CMTM6 DECR2 SPN TXNIP RING1 CCDC174 RCC2 SRA1 PAIP2 LSM3 ATRX SRI TAOK3 EMP3 SSR2 RBMX SSNA1 SRSF2 P4HB SSH2 SSBP1 MYB ERH ATP6AP1 TAF10 OSTC OST4 OSBPL9 CDCA7L ACTN1 PAPOLA RNASEH2C PGK1 RHEB TBL1XR1 PSMA7 PGD ARL15 TBCA VPS16 PSMB1 VPS13C UBE2S RHOA RMND5B GYG1 ZNF83 TBC1D20 NDUFAF3 KIAA0100 PIP4K2A MZT2B ATG16L2 RGS10 NDUFS7 TFDP2 HMGA1 HMGB2 NDUFV2 PCBP1 EPM2AIP1 PRKAG1 PIM1 DHFR\n",
    ".\n",
    "These cells are from the:\"\"\""
   ]
  },
  {
   "cell_type": "code",
   "execution_count": null,
   "id": "456cee4a",
   "metadata": {},
   "outputs": [
    {
     "name": "stdout",
     "output_type": "stream",
     "text": [
      "Prompt:\n",
      "--------------------------------------------------\n",
      "The following is a list of 500 gene names ordered by descending expression level for 2 different human cells. Your task is to provide the tissue which these cells belong to based on their gene expression.\n",
      "Cell sentences:\n",
      "Cell 1:\n",
      "MT-CO2 MT-CO3 RPLP1 RPS27 RPS18 MT-CO1 RPS12 RPS8 RPS2 RPL13A MT-ND4 EEF1A1 RPL34 RPS23 RPS19 FTL RPS29 RPL32 RPS14 RPL19 RPS28 RPL37A MT-ATP6 RPS16 RPL21 RPL7 RPS3 MT-ND2 RPL3 RPS27A YBX1 RPL28 RPL39 RPL15 RPLP0 RPL35A RPS4X RPL13 RPL37 RPLP2 RPL9 RPS3A FTH1 RPS15 RPS15A RPL18A RPL29 RPL12 RPL8 RPS25 RPS7 RPS24 RPS17 RPL27A RPS13 RPS21 MT-ND1 RPL4 RPL11 RPL36 RPS6 RPSA RPS5 RPS20 RPL38 RPL7A MT-CYB RPL10 RPL18 RPL10A RPL14 RPL30 RPL24 UQCRH RPL6 RPL35 RPL31 TMA7 RPL22 FAU MT-ND3 RPL23A GAPDH RPL41 RPL26 TMSB4X RPL23 PPIA UBA52 OAZ1 HINT1 TPT1 RPS11 SERF2 EEF2 SDF2L1 RPS9 NACA RPL5 HMGN1 HSPE1 RANBP1 PTMA HMGA1 COX7A2 RPL27 APOC1 BTF3 NDUFB10 SNRPG HNRNPA1 PABPC1 EEF1B2 YDJC PPP1R14B PFN1 HSPD1 CALR DDX1 CHCHD2 PITX1 HSP90AB1 MT-ND5 COX7C GPX4 EIF3K UBL5 SET UBAC1 B2M SERBP1 UQCR11 UBB EIF5B PGP RPS26 NPM1 NEDD8 APRT TMEM14B ENO1 COX4I1 COX5B NDUFAB1 SLIRP GYPC CST3 HNRNPC HSP90B1 APOBEC3C DDX21 NCL TUBA1B PSMA4 JTB LDHA AP2B1 SRM COX6B1 EIF5A CCDC28B MT-ND4L EIF3I COX7B GADD45GIP1 SERPINB6 TRMT2A NME4 UBE2L3 UQCRQ NDUFB9 GOT2 COX5A SOD1 SON PEBP1 NAP1L1 NSA2 ATP1B3 NDUFA11 ACTG1 RPL36AL TMEM258 MTPN SRSF9 TUBA1C C19orf53 CCNI BCAT1 ATP6V0B SNRPE TMSB10 RBBP7 HMGN3 TOMM20 OST4 PA2G4 ROMO1 COMT EIF3H POMP IMMP1L ACTB PRELID1 ENY2 PARK7 MRPL36 EIF3F PPA1 GSTP1 ANP32B FADS1 GTF3A TMEM160 SUMO1 METTL5 SNX5 SNX3 NDUFB1 NDUFAF2 EIF3E GMPR CCT8 SNRPF SNRPD1 PGK1 EMC6 NDUFS5 ARL15 GTF3C6 GTPBP4 CFL1 GYPB SRRM1 RAN SRSF5 HBZ ZNF22 HDDC2 ATP6V1F DNAJA1 HNRNPA2B1 HES6 SDHC HMGB1 SUB1 SUMO3 NDUFS6 CMSS1 NDUFS7 NDUFS8 PFDN5 UQCRFS1 UQCRC1 FAM200B COA1 TADA3 LYL1 YIF1B AKIRIN1 CMBL RGS10 IMP3 PCBD1 YBX3 LUC7L3 SNRPD2 CCT4 KRT18 RPS27L CUTA MRPL52 MRPL57 DDT MRPS21 MRPS34 SMARCA4 SLC25A6 MRPL35 LSMEM2 PTBP1 ACP1 POLR1D CBX3 LSM12 SLC25A5 SLC25A37 CAPZA1 MARCKSL1 MTDH TOR1AIP2 METAP2 TOP2A C1QBP PSMA5 C4orf3 LDHB PSMA7 MIEN1 PSMB2 CAP1 C9orf78 LAPTM4B LAMTOR5 PPP1CA TPM3 ZNHIT1 PSMD11 PRAME ZBTB8OS POLR2L ATF7IP2 NAA10 RNF126 YWHAZ KIFAP3 THOC2 SNF8 PTP4A2 KIAA0319L SNRNP25 PKIG COQ4 SSU72 BNIP3L MYC SFPQ SNRPB PICALM DSTN COX6C SRP14 PRPF40A PSMC6 CTAG2 SRSF1 PAFAH1B2 CTU1 SRRM2 OSBPL9 CISD2 DDB1 DCUN1D5 DAZAP1 SEC62 YWHAB DIS3 SIVA1 DAP SRSF10 PHF20 GUK1 ZC3HAV1 SLC7A5 FBXO9 DCTN3 SRSF11 FBXL20 HIGD2A HGS PPP1R18 ANAPC16 CSTF3 YRDC BID PIM2 ANAPC11 SFXN1 ASH1L XPR1 EZH2 RANBP10 ANXA2 PTS HDDC3 ALDOA HDAC6 SRSF7 HDAC1 VDAC1 SLC38A5 CKB PHKB CSNK2A1 SRSF3 RAD21 PGAM1 GTF2A2 PDCD10 DEK PDE4DIP POLR2E CMTM6 UPF3B CNBP CNOT7 PDLIM7 CNPY2 FKBP8 ARPC1A QPRT PLTP VBP1 PTGES3 ZNF131 SMIM4 FKBP3 FIS1 UQCRB PRKAR2A COX7A2L GALNT1 PRR13 COX8A CYCS GOLGB1 PFDN2 PNN COX20 FAM120AOS SLC27A5 GNG5 PPDPF PPARGC1B PAK2 GAL PRRC2B PWP1 GSPT1 DDX46 PRDX1 SPN PARP1 PRDX2 SMYD3 PRDX3 COX14 PRMT2 FUS ATF4 PSME3 FBL PSMG3 FAM222B SNRPC CLPX GPS1 POLR2J CLTA PCGF6 PCNP COX6A1 UBL7 EIF1AX TIMM8B CCDC59 APOE RNF181 TXNL4A THRAP3 DYNLL1 CCDC137 TIMM13 TIMM44 ZNF664 MTCH2 EEF1D MT1X MRPS12 TIMMDC1 CBX5 ACP5 APPL1 KPNA6 KPNB1 KRT10 TMA16 ZNF706 MRPS33 TMED4 MRPS15 MYL12A RSF1 MYL6 MYL6B CDC42 EIF4B CDC16 EIF3M NDUFC1 NDUFB7 EIF3J NDUFB4 NDUFA8 EIF3D NDUFA3 S100A4 S100A13 CCT7 KCNH2\n",
      "Cell 2:\n",
      "MT-CO3 TMSB4X FTL MT-CO2 RPS27 MT-CO1 EEF1A1 RPS14 RPL34 FTH1 RPS18 MT-ND4 RPLP1 RPL37 RPS29 MT-ATP6 RPS4X RPL13A MT-CYB RPS8 RPS2 RPS19 TPT1 RPL28 RPL32 RPS3 RPS7 RPS27A MT-ND1 RPL37A MT-ND2 RPS12 RPS3A RPL21 RPL13 ACTB RPL39 RPL6 RPL9 RPS24 RPL27A RPL11 RPS28 RPS15 RPS11 RPL15 RPLP0 OAZ1 RPL10 RPL30 MT-ND3 RPS20 RPS15A RPL35 RPL41 YBX1 RPL5 RPS23 RPL29 RPL8 RPL19 RPL14 TMA7 RPL4 RPL10A RPL18A TYROBP RPLP2 RPS17 RPL7 UBA52 GAPDH UQCRH PTMA CFD HMGB1 RPL12 PFN1 RPS25 RPL35A RPSA B2M RPL24 COX7C UQCR11 SUB1 RPL36 HMGN1 RPL18 COX5B SRP14 VIM LST1 PTP4A2 CFL1 SUMO2 NACA RPL7A SH3BGRL3 PRAME SERF2 TMSB10 COX8A FAU CEBPE RPL23 EDF1 CSF3R CHCHD2 SNX3 MPC2 LMO4 PRR13 MSN DBI FAM118A NDUFS5 UBE2L3 MTCH1 COX7A2 FKBP1A RPS6 EIF2S2 RPS21 RPS26 GPX4 LSM6 CAP1 RPL22 HMGN2 MS4A3 PET100 PFDN5 UBL5 RPL23A LSM2 CDCA7 NUCKS1 ITM2B LDHB HMGN3 AURKAIP1 LAMTOR4 RPL27 RPS16 COTL1 PGAM1 ZNF207 UBB UBC COX4I1 GTF2I SLC25A3 PPIA RPS13 PGP TMBIM6 COX7B MYL6 ARHGDIB LGALS1 AGO1 HSP90AA1 SLC25A6 TMED9 MT-ND5 CLIC1 RPL3 SNRPG YWHAH SRSF9 BSG USP20 SRSF3 ARPC5 SRRM2 ARPC3 MYO1F ARPC2 ARPC1B MORF4L1 CIRBP MSRB1 CLC CALM2 DEK MARCKSL1 COMMD6 IQGAP2 CHAF1A RABL6 SAT1 CD63 NDUFA4 FAM89A POMP EIF3K COX6C PNRC1 TMEM219 MRPS16 TUBA1B SERBP1 BUD31 MRPL13 SLC39A3 CCT5 TEX30 COX6A1 SVIP PKM BANF1 UQCRFS1 PHF19 EIF3F SON CELF2 COX17 METTL9 PPIL2 RPS5 SET MYL12A RAB4A CMTM7 RPL38 COX6B1 PCBP2 CIZ1 UCP2 DGCR6L PGLS GPBP1 LIMD2 PEBP1 SOX4 PPP1CA HINT1 NCL PPP6R1 RPL26 BTG1 CCNI HNRNPA1 RSF1 PPP1CB RMI2 PRDX5 ALDOA PYCARD MBOAT7 PPP1R18 TNNT1 TOMM7 ATP6V1F CKLF ATP6V1G1 ACTG1 EEF2 RPL31 WASF2 ELF1 SRSF11 DGUOK SRSF10 POLR2J3 METTL23 HPRT1 FAM32A COPS7A GLIPR1 TKT ANKRD28 CORO1A MFHAS1 NOTCH1 RAB1A CTSC QPRT TOR1A TRA2B TIMM17A SLC35E2B C14orf119 MRPL20 MIB2 BEST1 ANXA2 PPDPF ANP32B MRPL47 MRPL10 PPHLN1 SNX5 CCDC124 YTHDC1 LMNA TPM3 POLR2L ADRM1 COMMD9 EEF1B2 RPL36AL LARP1B SNRPE CANX CALM1 DYRK1A TRPM4 USP32 HVCN1 PPP3R1 NUDT22 LCP1 TMEM167A ISY1 RSL24D1 BTF3 PLEK TMEM14C TMEM14B CAPNS1 DNMT1 PLD3 ICMT SMC4 ZMAT2 BRI3 ZDHHC12 ANAPC13 ANAPC11 PMVK MORF4L2 SCAND1 SLIRP BRK1 RTN4 IDH2 RTN3 CRLS1 TRMT112 SMAD4 LAPTM5 OAZ2 SMAD5 FAM89B NUDT1 NUDCD2 AIF1 SNRNP25 BIRC2 CSTB PPM1G S100A11 ANKRD11 NONO PTPN7 MRPS33 NSRP1 SLBP NOP10 CYBA PPIG WDR62 SNRPB2 TLN1 SNRPD1 CBX3 CBFA2T3 TNFAIP8 BMI1 CASP8AP2 C4orf48 HSPB11 HSPB1 HSPA8 LENG8 ZMYND8 HSP90AB1 TMED5 WDR83OS RUNX1 RANBP1 C4orf3 RPS9 ALAS1 ZNF138 ZC3H15 PPM1N FUS TMA16 EEF1D COMMD3 PARK7 SPG21 SPI1 PRMT2 PARL CD37 GOLIM4 CLPX DDX52 HDDC2 UBE2D2 UBE2M MCCC2 FLCN ATP11B UBE2I PSMA3 EIF5A ETFB HDAC3 VAMP8 CLU RNF130 UQCR10 HEPH BAG6 CHP1 KCNE3 NAA38 RBM26 STAU2 CNIH4 NDUFA3 NDUFA2 SETD2 CCT4 MTRF1L ARIH2 EIF3I EIF3J RNF145 HES6 ATOX1 CMTM6 DECR2 SPN TXNIP RING1 CCDC174 RCC2 SRA1 PAIP2 LSM3 ATRX SRI TAOK3 EMP3 SSR2 RBMX SSNA1 SRSF2 P4HB SSH2 SSBP1 MYB ERH ATP6AP1 TAF10 OSTC OST4 OSBPL9 CDCA7L ACTN1 PAPOLA RNASEH2C PGK1 RHEB TBL1XR1 PSMA7 PGD ARL15 TBCA VPS16 PSMB1 VPS13C UBE2S RHOA RMND5B GYG1 ZNF83 TBC1D20 NDUFAF3 KIAA0100 PIP4K2A MZT2B ATG16L2 RGS10 NDUFS7 TFDP2 HMGA1 HMGB2 NDUFV2 PCBP1 EPM2AIP1 PRKAG1 PIM1 DHFR\n",
      ".\n",
      "These cells are from the:\n",
      "--------------------------------------------------\n",
      "\n",
      "\n",
      "Response:\n",
      "--------------------------------------------------\n",
      "epithelial cell.<ctrl100>\n"
     ]
    }
   ],
   "source": [
    "print(f\"Prompt:\")\n",
    "print(\"-\" * 50)\n",
    "print(custom_prompt)\n",
    "print(\"-\" * 50)\n",
    "\n",
    "print()\n",
    "print()\n",
    "response = query_model(custom_prompt, max_tokens=50, temperature=0.1)\n",
    "print(f\"Response:\")\n",
    "print(\"-\" * 50)\n",
    "print(response)"
   ]
  },
  {
   "cell_type": "code",
   "execution_count": null,
   "id": "854f074c",
   "metadata": {},
   "outputs": [
    {
     "name": "stdout",
     "output_type": "stream",
     "text": [
      "Prompt:\n",
      "--------------------------------------------------\n",
      "The capital of France is\n",
      "--------------------------------------------------\n",
      "\n",
      "\n",
      "Response:\n",
      "--------------------------------------------------\n",
      "OS22 RPL13A RPL37A RPL21 RPS15A RPS27A RPL35A RPS16 RPS29P16 RPL32P18 RPS28P\n"
     ]
    }
   ],
   "source": [
    "print(f\"Prompt:\")\n",
    "print(\"-\" * 50)\n",
    "custom_prompt = \"The capital of France is\"\n",
    "print(custom_prompt)\n",
    "print(\"-\" * 50)\n",
    "\n",
    "print()\n",
    "print()\n",
    "response = query_model(custom_prompt, max_tokens=50, temperature=0.1)\n",
    "print(f\"Response:\")\n",
    "print(\"-\" * 50)\n",
    "print(response)"
   ]
  },
  {
   "cell_type": "markdown",
   "id": "bccd242a",
   "metadata": {},
   "source": [
    "## Custom Prompts\n",
    "\n",
    "You can also send completely custom prompts to explore the model's capabilities:"
   ]
  },
  {
   "cell_type": "code",
   "execution_count": 34,
   "id": "acac8562",
   "metadata": {},
   "outputs": [
    {
     "name": "stdout",
     "output_type": "stream",
     "text": [
      "Prompt:\n",
      "--------------------------------------------------\n",
      "The following is a list of 500 gene names ordered by descending expression level in a human cell. Your task is to classify the cell as fast or slow growing.\n",
      "Cell sentence: MT-CO3 TMSB4X FTL MT-CO2 RPS27 MT-CO1 EEF1A1 RPS14 RPL34 FTH1 RPS18 MT-ND4 RPLP1 RPL37 RPS29 MT-ATP6 RPS4X RPL13A MT-CYB RPS8 RPS2 RPS19 TPT1 RPL28 RPL32 RPS3 RPS7 RPS27A MT-ND1 RPL37A MT-ND2 RPS12 RPS3A RPL21 RPL13 ACTB RPL39 RPL6 RPL9 RPS24 RPL27A RPL11 RPS28 RPS15 RPS11 RPL15 RPLP0 OAZ1 RPL10 RPL30 MT-ND3 RPS20 RPS15A RPL35 RPL41 YBX1 RPL5 RPS23 RPL29 RPL8 RPL19 RPL14 TMA7 RPL4 RPL10A RPL18A TYROBP RPLP2 RPS17 RPL7 UBA52 GAPDH UQCRH PTMA CFD HMGB1 RPL12 PFN1 RPS25 RPL35A RPSA B2M RPL24 COX7C UQCR11 SUB1 RPL36 HMGN1 RPL18 COX5B SRP14 VIM LST1 PTP4A2 CFL1 SUMO2 NACA RPL7A SH3BGRL3 PRAME SERF2 TMSB10 COX8A FAU CEBPE RPL23 EDF1 CSF3R CHCHD2 SNX3 MPC2 LMO4 PRR13 MSN DBI FAM118A NDUFS5 UBE2L3 MTCH1 COX7A2 FKBP1A RPS6 EIF2S2 RPS21 RPS26 GPX4 LSM6 CAP1 RPL22 HMGN2 MS4A3 PET100 PFDN5 UBL5 RPL23A LSM2 CDCA7 NUCKS1 ITM2B LDHB HMGN3 AURKAIP1 LAMTOR4 RPL27 RPS16 COTL1 PGAM1 ZNF207 UBB UBC COX4I1 GTF2I SLC25A3 PPIA RPS13 PGP TMBIM6 COX7B MYL6 ARHGDIB LGALS1 AGO1 HSP90AA1 SLC25A6 TMED9 MT-ND5 CLIC1 RPL3 SNRPG YWHAH SRSF9 BSG USP20 SRSF3 ARPC5 SRRM2 ARPC3 MYO1F ARPC2 ARPC1B MORF4L1 CIRBP MSRB1 CLC CALM2 DEK MARCKSL1 COMMD6 IQGAP2 CHAF1A RABL6 SAT1 CD63 NDUFA4 FAM89A POMP EIF3K COX6C PNRC1 TMEM219 MRPS16 TUBA1B SERBP1 BUD31 MRPL13 SLC39A3 CCT5 TEX30 COX6A1 SVIP PKM BANF1 UQCRFS1 PHF19 EIF3F SON CELF2 COX17 METTL9 PPIL2 RPS5 SET MYL12A RAB4A CMTM7 RPL38 COX6B1 PCBP2 CIZ1 UCP2 DGCR6L PGLS GPBP1 LIMD2 PEBP1 SOX4 PPP1CA HINT1 NCL PPP6R1 RPL26 BTG1 CCNI HNRNPA1 RSF1 PPP1CB RMI2 PRDX5 ALDOA PYCARD MBOAT7 PPP1R18 TNNT1 TOMM7 ATP6V1F CKLF ATP6V1G1 ACTG1 EEF2 RPL31 WASF2 ELF1 SRSF11 DGUOK SRSF10 POLR2J3 METTL23 HPRT1 FAM32A COPS7A GLIPR1 TKT ANKRD28 CORO1A MFHAS1 NOTCH1 RAB1A CTSC QPRT TOR1A TRA2B TIMM17A SLC35E2B C14orf119 MRPL20 MIB2 BEST1 ANXA2 PPDPF ANP32B MRPL47 MRPL10 PPHLN1 SNX5 CCDC124 YTHDC1 LMNA TPM3 POLR2L ADRM1 COMMD9 EEF1B2 RPL36AL LARP1B SNRPE CANX CALM1 DYRK1A TRPM4 USP32 HVCN1 PPP3R1 NUDT22 LCP1 TMEM167A ISY1 RSL24D1 BTF3 PLEK TMEM14C TMEM14B CAPNS1 DNMT1 PLD3 ICMT SMC4 ZMAT2 BRI3 ZDHHC12 ANAPC13 ANAPC11 PMVK MORF4L2 SCAND1 SLIRP BRK1 RTN4 IDH2 RTN3 CRLS1 TRMT112 SMAD4 LAPTM5 OAZ2 SMAD5 FAM89B NUDT1 NUDCD2 AIF1 SNRNP25 BIRC2 CSTB PPM1G S100A11 ANKRD11 NONO PTPN7 MRPS33 NSRP1 SLBP NOP10 CYBA PPIG WDR62 SNRPB2 TLN1 SNRPD1 CBX3 CBFA2T3 TNFAIP8 BMI1 CASP8AP2 C4orf48 HSPB11 HSPB1 HSPA8 LENG8 ZMYND8 HSP90AB1 TMED5 WDR83OS RUNX1 RANBP1 C4orf3 RPS9 ALAS1 ZNF138 ZC3H15 PPM1N FUS TMA16 EEF1D COMMD3 PARK7 SPG21 SPI1 PRMT2 PARL CD37 GOLIM4 CLPX DDX52 HDDC2 UBE2D2 UBE2M MCCC2 FLCN ATP11B UBE2I PSMA3 EIF5A ETFB HDAC3 VAMP8 CLU RNF130 UQCR10 HEPH BAG6 CHP1 KCNE3 NAA38 RBM26 STAU2 CNIH4 NDUFA3 NDUFA2 SETD2 CCT4 MTRF1L ARIH2 EIF3I EIF3J RNF145 HES6 ATOX1 CMTM6 DECR2 SPN TXNIP RING1 CCDC174 RCC2 SRA1 PAIP2 LSM3 ATRX SRI TAOK3 EMP3 SSR2 RBMX SSNA1 SRSF2 P4HB SSH2 SSBP1 MYB ERH ATP6AP1 TAF10 OSTC OST4 OSBPL9 CDCA7L ACTN1 PAPOLA RNASEH2C PGK1 RHEB TBL1XR1 PSMA7 PGD ARL15 TBCA VPS16 PSMB1 VPS13C UBE2S RHOA RMND5B GYG1 ZNF83 TBC1D20 NDUFAF3 KIAA0100 PIP4K2A MZT2B ATG16L2 RGS10 NDUFS7 TFDP2 HMGA1 HMGB2 NDUFV2 PCBP1 EPM2AIP1 PRKAG1 PIM1 DHFR\n",
      "The cell grows:\n",
      "--------------------------------------------------\n",
      "\n",
      "\n",
      "Response:\n",
      "--------------------------------------------------\n",
      "TFF1 MT-CO1 MT-CO2 MT-CO3 MT-ND4 MT-ATP6 MT-ND3 MT-ND2 MT-CYB MT-ND1 TMSB4X S100A6\n"
     ]
    }
   ],
   "source": [
    "# formatter = C2SPromptFormatter(task=\"cell_type_prediction\", top_k_genes=n_genes)\n",
    "# prompt_template = formatter.prompts_dict[\"model_input\"][0]\n",
    "# custom_prompt = prompt_template.format(\n",
    "#     num_genes=n_genes,\n",
    "#     organism='human',\n",
    "#     cell_sentence=control_cell\n",
    "# )\n",
    "\n",
    "custom_prompt = f\"\"\"The following is a list of {n_genes} gene names ordered by descending expression level in a human cell. Your task is to classify the cell as fast or slow growing.\n",
    "Cell sentence: {perturbed_cell}\n",
    "The cell grows:\"\"\"\n",
    "\n",
    "print(f\"Prompt:\")\n",
    "print(\"-\" * 50)\n",
    "print(custom_prompt)\n",
    "print(\"-\" * 50)\n",
    "\n",
    "print()\n",
    "print()\n",
    "response = query_model(custom_prompt)\n",
    "print(f\"Response:\")\n",
    "print(\"-\" * 50)\n",
    "print(response)"
   ]
  },
  {
   "cell_type": "markdown",
   "id": "5c5d4def",
   "metadata": {},
   "source": [
    "### Base language model (Pythia)"
   ]
  },
  {
   "cell_type": "code",
   "execution_count": null,
   "id": "a042f3ed",
   "metadata": {},
   "outputs": [
    {
     "name": "stdout",
     "output_type": "stream",
     "text": [
      "Using device: cuda\n"
     ]
    },
    {
     "ename": "KeyboardInterrupt",
     "evalue": "",
     "output_type": "error",
     "traceback": [
      "\u001b[0;31m---------------------------------------------------------------------------\u001b[0m",
      "\u001b[0;31mKeyboardInterrupt\u001b[0m                         Traceback (most recent call last)",
      "Cell \u001b[0;32mIn[29], line 8\u001b[0m\n\u001b[1;32m      5\u001b[0m device \u001b[38;5;241m=\u001b[39m torch\u001b[38;5;241m.\u001b[39mdevice(\u001b[38;5;124m\"\u001b[39m\u001b[38;5;124mcuda\u001b[39m\u001b[38;5;124m\"\u001b[39m \u001b[38;5;28;01mif\u001b[39;00m torch\u001b[38;5;241m.\u001b[39mcuda\u001b[38;5;241m.\u001b[39mis_available() \u001b[38;5;28;01melse\u001b[39;00m \u001b[38;5;124m\"\u001b[39m\u001b[38;5;124mcpu\u001b[39m\u001b[38;5;124m\"\u001b[39m)\n\u001b[1;32m      6\u001b[0m \u001b[38;5;28mprint\u001b[39m(\u001b[38;5;124mf\u001b[39m\u001b[38;5;124m\"\u001b[39m\u001b[38;5;124mUsing device: \u001b[39m\u001b[38;5;132;01m{\u001b[39;00mdevice\u001b[38;5;132;01m}\u001b[39;00m\u001b[38;5;124m\"\u001b[39m)\n\u001b[0;32m----> 8\u001b[0m model \u001b[38;5;241m=\u001b[39m \u001b[43mGPTNeoXForCausalLM\u001b[49m\u001b[38;5;241;43m.\u001b[39;49m\u001b[43mfrom_pretrained\u001b[49m\u001b[43m(\u001b[49m\n\u001b[1;32m      9\u001b[0m \u001b[43m  \u001b[49m\u001b[38;5;124;43m\"\u001b[39;49m\u001b[38;5;124;43mEleutherAI/pythia-1b-deduped\u001b[39;49m\u001b[38;5;124;43m\"\u001b[39;49m\u001b[43m,\u001b[49m\n\u001b[1;32m     10\u001b[0m \u001b[43m  \u001b[49m\u001b[43mrevision\u001b[49m\u001b[38;5;241;43m=\u001b[39;49m\u001b[38;5;124;43m\"\u001b[39;49m\u001b[38;5;124;43mstep143000\u001b[39;49m\u001b[38;5;124;43m\"\u001b[39;49m\u001b[43m,\u001b[49m\n\u001b[1;32m     11\u001b[0m \u001b[43m  \u001b[49m\u001b[43mcache_dir\u001b[49m\u001b[38;5;241;43m=\u001b[39;49m\u001b[38;5;124;43m\"\u001b[39;49m\u001b[38;5;124;43m./models/pythia/pythia-1b-deduped/step143000\u001b[39;49m\u001b[38;5;124;43m\"\u001b[39;49m\u001b[43m,\u001b[49m\n\u001b[1;32m     12\u001b[0m \u001b[43m  \u001b[49m\u001b[43mtorch_dtype\u001b[49m\u001b[38;5;241;43m=\u001b[39;49m\u001b[43mtorch\u001b[49m\u001b[38;5;241;43m.\u001b[39;49m\u001b[43mbfloat16\u001b[49m\u001b[43m \u001b[49m\u001b[38;5;28;43;01mif\u001b[39;49;00m\u001b[43m \u001b[49m\u001b[43mdevice\u001b[49m\u001b[38;5;241;43m.\u001b[39;49m\u001b[43mtype\u001b[49m\u001b[43m \u001b[49m\u001b[38;5;241;43m==\u001b[39;49m\u001b[43m \u001b[49m\u001b[38;5;124;43m\"\u001b[39;49m\u001b[38;5;124;43mcuda\u001b[39;49m\u001b[38;5;124;43m\"\u001b[39;49m\u001b[43m \u001b[49m\u001b[38;5;28;43;01melse\u001b[39;49;00m\u001b[43m \u001b[49m\u001b[43mtorch\u001b[49m\u001b[38;5;241;43m.\u001b[39;49m\u001b[43mfloat32\u001b[49m\n\u001b[1;32m     13\u001b[0m \u001b[43m)\u001b[49m\n\u001b[1;32m     15\u001b[0m \u001b[38;5;66;03m# Move model to GPU\u001b[39;00m\n\u001b[1;32m     16\u001b[0m model \u001b[38;5;241m=\u001b[39m model\u001b[38;5;241m.\u001b[39mto(device)\n",
      "File \u001b[0;32m~/.conda/envs/cell2sentence/lib/python3.8/site-packages/transformers/modeling_utils.py:3815\u001b[0m, in \u001b[0;36mPreTrainedModel.from_pretrained\u001b[0;34m(cls, pretrained_model_name_or_path, config, cache_dir, ignore_mismatched_sizes, force_download, local_files_only, token, revision, use_safetensors, weights_only, *model_args, **kwargs)\u001b[0m\n\u001b[1;32m   3811\u001b[0m \u001b[38;5;66;03m# Since we set _raise_exceptions_for_missing_entries=False, we don't get an exception but a None\u001b[39;00m\n\u001b[1;32m   3812\u001b[0m \u001b[38;5;66;03m# result when internet is up, the repo and revision exist, but the file does not.\u001b[39;00m\n\u001b[1;32m   3813\u001b[0m \u001b[38;5;28;01mif\u001b[39;00m resolved_archive_file \u001b[38;5;129;01mis\u001b[39;00m \u001b[38;5;28;01mNone\u001b[39;00m \u001b[38;5;129;01mand\u001b[39;00m filename \u001b[38;5;241m==\u001b[39m _add_variant(SAFE_WEIGHTS_NAME, variant):\n\u001b[1;32m   3814\u001b[0m     \u001b[38;5;66;03m# Maybe the checkpoint is sharded, we try to grab the index name in this case.\u001b[39;00m\n\u001b[0;32m-> 3815\u001b[0m     resolved_archive_file \u001b[38;5;241m=\u001b[39m \u001b[43mcached_file\u001b[49m\u001b[43m(\u001b[49m\n\u001b[1;32m   3816\u001b[0m \u001b[43m        \u001b[49m\u001b[43mpretrained_model_name_or_path\u001b[49m\u001b[43m,\u001b[49m\n\u001b[1;32m   3817\u001b[0m \u001b[43m        \u001b[49m\u001b[43m_add_variant\u001b[49m\u001b[43m(\u001b[49m\u001b[43mSAFE_WEIGHTS_INDEX_NAME\u001b[49m\u001b[43m,\u001b[49m\u001b[43m \u001b[49m\u001b[43mvariant\u001b[49m\u001b[43m)\u001b[49m\u001b[43m,\u001b[49m\n\u001b[1;32m   3818\u001b[0m \u001b[43m        \u001b[49m\u001b[38;5;241;43m*\u001b[39;49m\u001b[38;5;241;43m*\u001b[39;49m\u001b[43mcached_file_kwargs\u001b[49m\u001b[43m,\u001b[49m\n\u001b[1;32m   3819\u001b[0m \u001b[43m    \u001b[49m\u001b[43m)\u001b[49m\n\u001b[1;32m   3820\u001b[0m     \u001b[38;5;28;01mif\u001b[39;00m resolved_archive_file \u001b[38;5;129;01mis\u001b[39;00m \u001b[38;5;129;01mnot\u001b[39;00m \u001b[38;5;28;01mNone\u001b[39;00m:\n\u001b[1;32m   3821\u001b[0m         is_sharded \u001b[38;5;241m=\u001b[39m \u001b[38;5;28;01mTrue\u001b[39;00m\n",
      "File \u001b[0;32m~/.conda/envs/cell2sentence/lib/python3.8/site-packages/transformers/utils/hub.py:403\u001b[0m, in \u001b[0;36mcached_file\u001b[0;34m(path_or_repo_id, filename, cache_dir, force_download, resume_download, proxies, token, revision, local_files_only, subfolder, repo_type, user_agent, _raise_exceptions_for_gated_repo, _raise_exceptions_for_missing_entries, _raise_exceptions_for_connection_errors, _commit_hash, **deprecated_kwargs)\u001b[0m\n\u001b[1;32m    400\u001b[0m user_agent \u001b[38;5;241m=\u001b[39m http_user_agent(user_agent)\n\u001b[1;32m    401\u001b[0m \u001b[38;5;28;01mtry\u001b[39;00m:\n\u001b[1;32m    402\u001b[0m     \u001b[38;5;66;03m# Load from URL or cache if already cached\u001b[39;00m\n\u001b[0;32m--> 403\u001b[0m     resolved_file \u001b[38;5;241m=\u001b[39m \u001b[43mhf_hub_download\u001b[49m\u001b[43m(\u001b[49m\n\u001b[1;32m    404\u001b[0m \u001b[43m        \u001b[49m\u001b[43mpath_or_repo_id\u001b[49m\u001b[43m,\u001b[49m\n\u001b[1;32m    405\u001b[0m \u001b[43m        \u001b[49m\u001b[43mfilename\u001b[49m\u001b[43m,\u001b[49m\n\u001b[1;32m    406\u001b[0m \u001b[43m        \u001b[49m\u001b[43msubfolder\u001b[49m\u001b[38;5;241;43m=\u001b[39;49m\u001b[38;5;28;43;01mNone\u001b[39;49;00m\u001b[43m \u001b[49m\u001b[38;5;28;43;01mif\u001b[39;49;00m\u001b[43m \u001b[49m\u001b[38;5;28;43mlen\u001b[39;49m\u001b[43m(\u001b[49m\u001b[43msubfolder\u001b[49m\u001b[43m)\u001b[49m\u001b[43m \u001b[49m\u001b[38;5;241;43m==\u001b[39;49m\u001b[43m \u001b[49m\u001b[38;5;241;43m0\u001b[39;49m\u001b[43m \u001b[49m\u001b[38;5;28;43;01melse\u001b[39;49;00m\u001b[43m \u001b[49m\u001b[43msubfolder\u001b[49m\u001b[43m,\u001b[49m\n\u001b[1;32m    407\u001b[0m \u001b[43m        \u001b[49m\u001b[43mrepo_type\u001b[49m\u001b[38;5;241;43m=\u001b[39;49m\u001b[43mrepo_type\u001b[49m\u001b[43m,\u001b[49m\n\u001b[1;32m    408\u001b[0m \u001b[43m        \u001b[49m\u001b[43mrevision\u001b[49m\u001b[38;5;241;43m=\u001b[39;49m\u001b[43mrevision\u001b[49m\u001b[43m,\u001b[49m\n\u001b[1;32m    409\u001b[0m \u001b[43m        \u001b[49m\u001b[43mcache_dir\u001b[49m\u001b[38;5;241;43m=\u001b[39;49m\u001b[43mcache_dir\u001b[49m\u001b[43m,\u001b[49m\n\u001b[1;32m    410\u001b[0m \u001b[43m        \u001b[49m\u001b[43muser_agent\u001b[49m\u001b[38;5;241;43m=\u001b[39;49m\u001b[43muser_agent\u001b[49m\u001b[43m,\u001b[49m\n\u001b[1;32m    411\u001b[0m \u001b[43m        \u001b[49m\u001b[43mforce_download\u001b[49m\u001b[38;5;241;43m=\u001b[39;49m\u001b[43mforce_download\u001b[49m\u001b[43m,\u001b[49m\n\u001b[1;32m    412\u001b[0m \u001b[43m        \u001b[49m\u001b[43mproxies\u001b[49m\u001b[38;5;241;43m=\u001b[39;49m\u001b[43mproxies\u001b[49m\u001b[43m,\u001b[49m\n\u001b[1;32m    413\u001b[0m \u001b[43m        \u001b[49m\u001b[43mresume_download\u001b[49m\u001b[38;5;241;43m=\u001b[39;49m\u001b[43mresume_download\u001b[49m\u001b[43m,\u001b[49m\n\u001b[1;32m    414\u001b[0m \u001b[43m        \u001b[49m\u001b[43mtoken\u001b[49m\u001b[38;5;241;43m=\u001b[39;49m\u001b[43mtoken\u001b[49m\u001b[43m,\u001b[49m\n\u001b[1;32m    415\u001b[0m \u001b[43m        \u001b[49m\u001b[43mlocal_files_only\u001b[49m\u001b[38;5;241;43m=\u001b[39;49m\u001b[43mlocal_files_only\u001b[49m\u001b[43m,\u001b[49m\n\u001b[1;32m    416\u001b[0m \u001b[43m    \u001b[49m\u001b[43m)\u001b[49m\n\u001b[1;32m    417\u001b[0m \u001b[38;5;28;01mexcept\u001b[39;00m GatedRepoError \u001b[38;5;28;01mas\u001b[39;00m e:\n\u001b[1;32m    418\u001b[0m     resolved_file \u001b[38;5;241m=\u001b[39m _get_cache_file_to_return(path_or_repo_id, full_filename, cache_dir, revision)\n",
      "File \u001b[0;32m~/.conda/envs/cell2sentence/lib/python3.8/site-packages/huggingface_hub/utils/_validators.py:114\u001b[0m, in \u001b[0;36mvalidate_hf_hub_args.<locals>._inner_fn\u001b[0;34m(*args, **kwargs)\u001b[0m\n\u001b[1;32m    111\u001b[0m \u001b[38;5;28;01mif\u001b[39;00m check_use_auth_token:\n\u001b[1;32m    112\u001b[0m     kwargs \u001b[38;5;241m=\u001b[39m smoothly_deprecate_use_auth_token(fn_name\u001b[38;5;241m=\u001b[39mfn\u001b[38;5;241m.\u001b[39m\u001b[38;5;18m__name__\u001b[39m, has_token\u001b[38;5;241m=\u001b[39mhas_token, kwargs\u001b[38;5;241m=\u001b[39mkwargs)\n\u001b[0;32m--> 114\u001b[0m \u001b[38;5;28;01mreturn\u001b[39;00m \u001b[43mfn\u001b[49m\u001b[43m(\u001b[49m\u001b[38;5;241;43m*\u001b[39;49m\u001b[43margs\u001b[49m\u001b[43m,\u001b[49m\u001b[43m \u001b[49m\u001b[38;5;241;43m*\u001b[39;49m\u001b[38;5;241;43m*\u001b[39;49m\u001b[43mkwargs\u001b[49m\u001b[43m)\u001b[49m\n",
      "File \u001b[0;32m~/.conda/envs/cell2sentence/lib/python3.8/site-packages/huggingface_hub/file_download.py:1010\u001b[0m, in \u001b[0;36mhf_hub_download\u001b[0;34m(repo_id, filename, subfolder, repo_type, revision, library_name, library_version, cache_dir, local_dir, user_agent, force_download, proxies, etag_timeout, token, local_files_only, headers, endpoint, resume_download, force_filename, local_dir_use_symlinks)\u001b[0m\n\u001b[1;32m    990\u001b[0m     \u001b[38;5;28;01mreturn\u001b[39;00m _hf_hub_download_to_local_dir(\n\u001b[1;32m    991\u001b[0m         \u001b[38;5;66;03m# Destination\u001b[39;00m\n\u001b[1;32m    992\u001b[0m         local_dir\u001b[38;5;241m=\u001b[39mlocal_dir,\n\u001b[0;32m   (...)\u001b[0m\n\u001b[1;32m   1007\u001b[0m         local_files_only\u001b[38;5;241m=\u001b[39mlocal_files_only,\n\u001b[1;32m   1008\u001b[0m     )\n\u001b[1;32m   1009\u001b[0m \u001b[38;5;28;01melse\u001b[39;00m:\n\u001b[0;32m-> 1010\u001b[0m     \u001b[38;5;28;01mreturn\u001b[39;00m \u001b[43m_hf_hub_download_to_cache_dir\u001b[49m\u001b[43m(\u001b[49m\n\u001b[1;32m   1011\u001b[0m \u001b[43m        \u001b[49m\u001b[38;5;66;43;03m# Destination\u001b[39;49;00m\n\u001b[1;32m   1012\u001b[0m \u001b[43m        \u001b[49m\u001b[43mcache_dir\u001b[49m\u001b[38;5;241;43m=\u001b[39;49m\u001b[43mcache_dir\u001b[49m\u001b[43m,\u001b[49m\n\u001b[1;32m   1013\u001b[0m \u001b[43m        \u001b[49m\u001b[38;5;66;43;03m# File info\u001b[39;49;00m\n\u001b[1;32m   1014\u001b[0m \u001b[43m        \u001b[49m\u001b[43mrepo_id\u001b[49m\u001b[38;5;241;43m=\u001b[39;49m\u001b[43mrepo_id\u001b[49m\u001b[43m,\u001b[49m\n\u001b[1;32m   1015\u001b[0m \u001b[43m        \u001b[49m\u001b[43mfilename\u001b[49m\u001b[38;5;241;43m=\u001b[39;49m\u001b[43mfilename\u001b[49m\u001b[43m,\u001b[49m\n\u001b[1;32m   1016\u001b[0m \u001b[43m        \u001b[49m\u001b[43mrepo_type\u001b[49m\u001b[38;5;241;43m=\u001b[39;49m\u001b[43mrepo_type\u001b[49m\u001b[43m,\u001b[49m\n\u001b[1;32m   1017\u001b[0m \u001b[43m        \u001b[49m\u001b[43mrevision\u001b[49m\u001b[38;5;241;43m=\u001b[39;49m\u001b[43mrevision\u001b[49m\u001b[43m,\u001b[49m\n\u001b[1;32m   1018\u001b[0m \u001b[43m        \u001b[49m\u001b[38;5;66;43;03m# HTTP info\u001b[39;49;00m\n\u001b[1;32m   1019\u001b[0m \u001b[43m        \u001b[49m\u001b[43mendpoint\u001b[49m\u001b[38;5;241;43m=\u001b[39;49m\u001b[43mendpoint\u001b[49m\u001b[43m,\u001b[49m\n\u001b[1;32m   1020\u001b[0m \u001b[43m        \u001b[49m\u001b[43metag_timeout\u001b[49m\u001b[38;5;241;43m=\u001b[39;49m\u001b[43metag_timeout\u001b[49m\u001b[43m,\u001b[49m\n\u001b[1;32m   1021\u001b[0m \u001b[43m        \u001b[49m\u001b[43mheaders\u001b[49m\u001b[38;5;241;43m=\u001b[39;49m\u001b[43mhf_headers\u001b[49m\u001b[43m,\u001b[49m\n\u001b[1;32m   1022\u001b[0m \u001b[43m        \u001b[49m\u001b[43mproxies\u001b[49m\u001b[38;5;241;43m=\u001b[39;49m\u001b[43mproxies\u001b[49m\u001b[43m,\u001b[49m\n\u001b[1;32m   1023\u001b[0m \u001b[43m        \u001b[49m\u001b[43mtoken\u001b[49m\u001b[38;5;241;43m=\u001b[39;49m\u001b[43mtoken\u001b[49m\u001b[43m,\u001b[49m\n\u001b[1;32m   1024\u001b[0m \u001b[43m        \u001b[49m\u001b[38;5;66;43;03m# Additional options\u001b[39;49;00m\n\u001b[1;32m   1025\u001b[0m \u001b[43m        \u001b[49m\u001b[43mlocal_files_only\u001b[49m\u001b[38;5;241;43m=\u001b[39;49m\u001b[43mlocal_files_only\u001b[49m\u001b[43m,\u001b[49m\n\u001b[1;32m   1026\u001b[0m \u001b[43m        \u001b[49m\u001b[43mforce_download\u001b[49m\u001b[38;5;241;43m=\u001b[39;49m\u001b[43mforce_download\u001b[49m\u001b[43m,\u001b[49m\n\u001b[1;32m   1027\u001b[0m \u001b[43m    \u001b[49m\u001b[43m)\u001b[49m\n",
      "File \u001b[0;32m~/.conda/envs/cell2sentence/lib/python3.8/site-packages/huggingface_hub/file_download.py:1073\u001b[0m, in \u001b[0;36m_hf_hub_download_to_cache_dir\u001b[0;34m(cache_dir, repo_id, filename, repo_type, revision, endpoint, etag_timeout, headers, proxies, token, local_files_only, force_download)\u001b[0m\n\u001b[1;32m   1069\u001b[0m         \u001b[38;5;28;01mreturn\u001b[39;00m pointer_path\n\u001b[1;32m   1071\u001b[0m \u001b[38;5;66;03m# Try to get metadata (etag, commit_hash, url, size) from the server.\u001b[39;00m\n\u001b[1;32m   1072\u001b[0m \u001b[38;5;66;03m# If we can't, a HEAD request error is returned.\u001b[39;00m\n\u001b[0;32m-> 1073\u001b[0m (url_to_download, etag, commit_hash, expected_size, xet_file_data, head_call_error) \u001b[38;5;241m=\u001b[39m \u001b[43m_get_metadata_or_catch_error\u001b[49m\u001b[43m(\u001b[49m\n\u001b[1;32m   1074\u001b[0m \u001b[43m    \u001b[49m\u001b[43mrepo_id\u001b[49m\u001b[38;5;241;43m=\u001b[39;49m\u001b[43mrepo_id\u001b[49m\u001b[43m,\u001b[49m\n\u001b[1;32m   1075\u001b[0m \u001b[43m    \u001b[49m\u001b[43mfilename\u001b[49m\u001b[38;5;241;43m=\u001b[39;49m\u001b[43mfilename\u001b[49m\u001b[43m,\u001b[49m\n\u001b[1;32m   1076\u001b[0m \u001b[43m    \u001b[49m\u001b[43mrepo_type\u001b[49m\u001b[38;5;241;43m=\u001b[39;49m\u001b[43mrepo_type\u001b[49m\u001b[43m,\u001b[49m\n\u001b[1;32m   1077\u001b[0m \u001b[43m    \u001b[49m\u001b[43mrevision\u001b[49m\u001b[38;5;241;43m=\u001b[39;49m\u001b[43mrevision\u001b[49m\u001b[43m,\u001b[49m\n\u001b[1;32m   1078\u001b[0m \u001b[43m    \u001b[49m\u001b[43mendpoint\u001b[49m\u001b[38;5;241;43m=\u001b[39;49m\u001b[43mendpoint\u001b[49m\u001b[43m,\u001b[49m\n\u001b[1;32m   1079\u001b[0m \u001b[43m    \u001b[49m\u001b[43mproxies\u001b[49m\u001b[38;5;241;43m=\u001b[39;49m\u001b[43mproxies\u001b[49m\u001b[43m,\u001b[49m\n\u001b[1;32m   1080\u001b[0m \u001b[43m    \u001b[49m\u001b[43metag_timeout\u001b[49m\u001b[38;5;241;43m=\u001b[39;49m\u001b[43metag_timeout\u001b[49m\u001b[43m,\u001b[49m\n\u001b[1;32m   1081\u001b[0m \u001b[43m    \u001b[49m\u001b[43mheaders\u001b[49m\u001b[38;5;241;43m=\u001b[39;49m\u001b[43mheaders\u001b[49m\u001b[43m,\u001b[49m\n\u001b[1;32m   1082\u001b[0m \u001b[43m    \u001b[49m\u001b[43mtoken\u001b[49m\u001b[38;5;241;43m=\u001b[39;49m\u001b[43mtoken\u001b[49m\u001b[43m,\u001b[49m\n\u001b[1;32m   1083\u001b[0m \u001b[43m    \u001b[49m\u001b[43mlocal_files_only\u001b[49m\u001b[38;5;241;43m=\u001b[39;49m\u001b[43mlocal_files_only\u001b[49m\u001b[43m,\u001b[49m\n\u001b[1;32m   1084\u001b[0m \u001b[43m    \u001b[49m\u001b[43mstorage_folder\u001b[49m\u001b[38;5;241;43m=\u001b[39;49m\u001b[43mstorage_folder\u001b[49m\u001b[43m,\u001b[49m\n\u001b[1;32m   1085\u001b[0m \u001b[43m    \u001b[49m\u001b[43mrelative_filename\u001b[49m\u001b[38;5;241;43m=\u001b[39;49m\u001b[43mrelative_filename\u001b[49m\u001b[43m,\u001b[49m\n\u001b[1;32m   1086\u001b[0m \u001b[43m\u001b[49m\u001b[43m)\u001b[49m\n\u001b[1;32m   1088\u001b[0m \u001b[38;5;66;03m# etag can be None for several reasons:\u001b[39;00m\n\u001b[1;32m   1089\u001b[0m \u001b[38;5;66;03m# 1. we passed local_files_only.\u001b[39;00m\n\u001b[1;32m   1090\u001b[0m \u001b[38;5;66;03m# 2. we don't have a connection\u001b[39;00m\n\u001b[0;32m   (...)\u001b[0m\n\u001b[1;32m   1096\u001b[0m \u001b[38;5;66;03m# If the specified revision is a commit hash, look inside \"snapshots\".\u001b[39;00m\n\u001b[1;32m   1097\u001b[0m \u001b[38;5;66;03m# If the specified revision is a branch or tag, look inside \"refs\".\u001b[39;00m\n\u001b[1;32m   1098\u001b[0m \u001b[38;5;28;01mif\u001b[39;00m head_call_error \u001b[38;5;129;01mis\u001b[39;00m \u001b[38;5;129;01mnot\u001b[39;00m \u001b[38;5;28;01mNone\u001b[39;00m:\n\u001b[1;32m   1099\u001b[0m     \u001b[38;5;66;03m# Couldn't make a HEAD call => let's try to find a local file\u001b[39;00m\n",
      "File \u001b[0;32m~/.conda/envs/cell2sentence/lib/python3.8/site-packages/huggingface_hub/file_download.py:1546\u001b[0m, in \u001b[0;36m_get_metadata_or_catch_error\u001b[0;34m(repo_id, filename, repo_type, revision, endpoint, proxies, etag_timeout, headers, token, local_files_only, relative_filename, storage_folder)\u001b[0m\n\u001b[1;32m   1544\u001b[0m \u001b[38;5;28;01mtry\u001b[39;00m:\n\u001b[1;32m   1545\u001b[0m     \u001b[38;5;28;01mtry\u001b[39;00m:\n\u001b[0;32m-> 1546\u001b[0m         metadata \u001b[38;5;241m=\u001b[39m \u001b[43mget_hf_file_metadata\u001b[49m\u001b[43m(\u001b[49m\n\u001b[1;32m   1547\u001b[0m \u001b[43m            \u001b[49m\u001b[43murl\u001b[49m\u001b[38;5;241;43m=\u001b[39;49m\u001b[43murl\u001b[49m\u001b[43m,\u001b[49m\u001b[43m \u001b[49m\u001b[43mproxies\u001b[49m\u001b[38;5;241;43m=\u001b[39;49m\u001b[43mproxies\u001b[49m\u001b[43m,\u001b[49m\u001b[43m \u001b[49m\u001b[43mtimeout\u001b[49m\u001b[38;5;241;43m=\u001b[39;49m\u001b[43metag_timeout\u001b[49m\u001b[43m,\u001b[49m\u001b[43m \u001b[49m\u001b[43mheaders\u001b[49m\u001b[38;5;241;43m=\u001b[39;49m\u001b[43mheaders\u001b[49m\u001b[43m,\u001b[49m\u001b[43m \u001b[49m\u001b[43mtoken\u001b[49m\u001b[38;5;241;43m=\u001b[39;49m\u001b[43mtoken\u001b[49m\u001b[43m,\u001b[49m\u001b[43m \u001b[49m\u001b[43mendpoint\u001b[49m\u001b[38;5;241;43m=\u001b[39;49m\u001b[43mendpoint\u001b[49m\n\u001b[1;32m   1548\u001b[0m \u001b[43m        \u001b[49m\u001b[43m)\u001b[49m\n\u001b[1;32m   1549\u001b[0m     \u001b[38;5;28;01mexcept\u001b[39;00m EntryNotFoundError \u001b[38;5;28;01mas\u001b[39;00m http_error:\n\u001b[1;32m   1550\u001b[0m         \u001b[38;5;28;01mif\u001b[39;00m storage_folder \u001b[38;5;129;01mis\u001b[39;00m \u001b[38;5;129;01mnot\u001b[39;00m \u001b[38;5;28;01mNone\u001b[39;00m \u001b[38;5;129;01mand\u001b[39;00m relative_filename \u001b[38;5;129;01mis\u001b[39;00m \u001b[38;5;129;01mnot\u001b[39;00m \u001b[38;5;28;01mNone\u001b[39;00m:\n\u001b[1;32m   1551\u001b[0m             \u001b[38;5;66;03m# Cache the non-existence of the file\u001b[39;00m\n",
      "File \u001b[0;32m~/.conda/envs/cell2sentence/lib/python3.8/site-packages/huggingface_hub/utils/_validators.py:114\u001b[0m, in \u001b[0;36mvalidate_hf_hub_args.<locals>._inner_fn\u001b[0;34m(*args, **kwargs)\u001b[0m\n\u001b[1;32m    111\u001b[0m \u001b[38;5;28;01mif\u001b[39;00m check_use_auth_token:\n\u001b[1;32m    112\u001b[0m     kwargs \u001b[38;5;241m=\u001b[39m smoothly_deprecate_use_auth_token(fn_name\u001b[38;5;241m=\u001b[39mfn\u001b[38;5;241m.\u001b[39m\u001b[38;5;18m__name__\u001b[39m, has_token\u001b[38;5;241m=\u001b[39mhas_token, kwargs\u001b[38;5;241m=\u001b[39mkwargs)\n\u001b[0;32m--> 114\u001b[0m \u001b[38;5;28;01mreturn\u001b[39;00m \u001b[43mfn\u001b[49m\u001b[43m(\u001b[49m\u001b[38;5;241;43m*\u001b[39;49m\u001b[43margs\u001b[49m\u001b[43m,\u001b[49m\u001b[43m \u001b[49m\u001b[38;5;241;43m*\u001b[39;49m\u001b[38;5;241;43m*\u001b[39;49m\u001b[43mkwargs\u001b[49m\u001b[43m)\u001b[49m\n",
      "File \u001b[0;32m~/.conda/envs/cell2sentence/lib/python3.8/site-packages/huggingface_hub/file_download.py:1463\u001b[0m, in \u001b[0;36mget_hf_file_metadata\u001b[0;34m(url, token, proxies, timeout, library_name, library_version, user_agent, headers, endpoint)\u001b[0m\n\u001b[1;32m   1460\u001b[0m hf_headers[\u001b[38;5;124m\"\u001b[39m\u001b[38;5;124mAccept-Encoding\u001b[39m\u001b[38;5;124m\"\u001b[39m] \u001b[38;5;241m=\u001b[39m \u001b[38;5;124m\"\u001b[39m\u001b[38;5;124midentity\u001b[39m\u001b[38;5;124m\"\u001b[39m  \u001b[38;5;66;03m# prevent any compression => we want to know the real size of the file\u001b[39;00m\n\u001b[1;32m   1462\u001b[0m \u001b[38;5;66;03m# Retrieve metadata\u001b[39;00m\n\u001b[0;32m-> 1463\u001b[0m r \u001b[38;5;241m=\u001b[39m \u001b[43m_request_wrapper\u001b[49m\u001b[43m(\u001b[49m\n\u001b[1;32m   1464\u001b[0m \u001b[43m    \u001b[49m\u001b[43mmethod\u001b[49m\u001b[38;5;241;43m=\u001b[39;49m\u001b[38;5;124;43m\"\u001b[39;49m\u001b[38;5;124;43mHEAD\u001b[39;49m\u001b[38;5;124;43m\"\u001b[39;49m\u001b[43m,\u001b[49m\n\u001b[1;32m   1465\u001b[0m \u001b[43m    \u001b[49m\u001b[43murl\u001b[49m\u001b[38;5;241;43m=\u001b[39;49m\u001b[43murl\u001b[49m\u001b[43m,\u001b[49m\n\u001b[1;32m   1466\u001b[0m \u001b[43m    \u001b[49m\u001b[43mheaders\u001b[49m\u001b[38;5;241;43m=\u001b[39;49m\u001b[43mhf_headers\u001b[49m\u001b[43m,\u001b[49m\n\u001b[1;32m   1467\u001b[0m \u001b[43m    \u001b[49m\u001b[43mallow_redirects\u001b[49m\u001b[38;5;241;43m=\u001b[39;49m\u001b[38;5;28;43;01mFalse\u001b[39;49;00m\u001b[43m,\u001b[49m\n\u001b[1;32m   1468\u001b[0m \u001b[43m    \u001b[49m\u001b[43mfollow_relative_redirects\u001b[49m\u001b[38;5;241;43m=\u001b[39;49m\u001b[38;5;28;43;01mTrue\u001b[39;49;00m\u001b[43m,\u001b[49m\n\u001b[1;32m   1469\u001b[0m \u001b[43m    \u001b[49m\u001b[43mproxies\u001b[49m\u001b[38;5;241;43m=\u001b[39;49m\u001b[43mproxies\u001b[49m\u001b[43m,\u001b[49m\n\u001b[1;32m   1470\u001b[0m \u001b[43m    \u001b[49m\u001b[43mtimeout\u001b[49m\u001b[38;5;241;43m=\u001b[39;49m\u001b[43mtimeout\u001b[49m\u001b[43m,\u001b[49m\n\u001b[1;32m   1471\u001b[0m \u001b[43m\u001b[49m\u001b[43m)\u001b[49m\n\u001b[1;32m   1472\u001b[0m hf_raise_for_status(r)\n\u001b[1;32m   1474\u001b[0m \u001b[38;5;66;03m# Return\u001b[39;00m\n",
      "File \u001b[0;32m~/.conda/envs/cell2sentence/lib/python3.8/site-packages/huggingface_hub/file_download.py:286\u001b[0m, in \u001b[0;36m_request_wrapper\u001b[0;34m(method, url, follow_relative_redirects, **params)\u001b[0m\n\u001b[1;32m    284\u001b[0m \u001b[38;5;66;03m# Recursively follow relative redirects\u001b[39;00m\n\u001b[1;32m    285\u001b[0m \u001b[38;5;28;01mif\u001b[39;00m follow_relative_redirects:\n\u001b[0;32m--> 286\u001b[0m     response \u001b[38;5;241m=\u001b[39m \u001b[43m_request_wrapper\u001b[49m\u001b[43m(\u001b[49m\n\u001b[1;32m    287\u001b[0m \u001b[43m        \u001b[49m\u001b[43mmethod\u001b[49m\u001b[38;5;241;43m=\u001b[39;49m\u001b[43mmethod\u001b[49m\u001b[43m,\u001b[49m\n\u001b[1;32m    288\u001b[0m \u001b[43m        \u001b[49m\u001b[43murl\u001b[49m\u001b[38;5;241;43m=\u001b[39;49m\u001b[43murl\u001b[49m\u001b[43m,\u001b[49m\n\u001b[1;32m    289\u001b[0m \u001b[43m        \u001b[49m\u001b[43mfollow_relative_redirects\u001b[49m\u001b[38;5;241;43m=\u001b[39;49m\u001b[38;5;28;43;01mFalse\u001b[39;49;00m\u001b[43m,\u001b[49m\n\u001b[1;32m    290\u001b[0m \u001b[43m        \u001b[49m\u001b[38;5;241;43m*\u001b[39;49m\u001b[38;5;241;43m*\u001b[39;49m\u001b[43mparams\u001b[49m\u001b[43m,\u001b[49m\n\u001b[1;32m    291\u001b[0m \u001b[43m    \u001b[49m\u001b[43m)\u001b[49m\n\u001b[1;32m    293\u001b[0m     \u001b[38;5;66;03m# If redirection, we redirect only relative paths.\u001b[39;00m\n\u001b[1;32m    294\u001b[0m     \u001b[38;5;66;03m# This is useful in case of a renamed repository.\u001b[39;00m\n\u001b[1;32m    295\u001b[0m     \u001b[38;5;28;01mif\u001b[39;00m \u001b[38;5;241m300\u001b[39m \u001b[38;5;241m<\u001b[39m\u001b[38;5;241m=\u001b[39m response\u001b[38;5;241m.\u001b[39mstatus_code \u001b[38;5;241m<\u001b[39m\u001b[38;5;241m=\u001b[39m \u001b[38;5;241m399\u001b[39m:\n",
      "File \u001b[0;32m~/.conda/envs/cell2sentence/lib/python3.8/site-packages/huggingface_hub/file_download.py:309\u001b[0m, in \u001b[0;36m_request_wrapper\u001b[0;34m(method, url, follow_relative_redirects, **params)\u001b[0m\n\u001b[1;32m    306\u001b[0m     \u001b[38;5;28;01mreturn\u001b[39;00m response\n\u001b[1;32m    308\u001b[0m \u001b[38;5;66;03m# Perform request and return if status_code is not in the retry list.\u001b[39;00m\n\u001b[0;32m--> 309\u001b[0m response \u001b[38;5;241m=\u001b[39m \u001b[43mhttp_backoff\u001b[49m\u001b[43m(\u001b[49m\u001b[43mmethod\u001b[49m\u001b[38;5;241;43m=\u001b[39;49m\u001b[43mmethod\u001b[49m\u001b[43m,\u001b[49m\u001b[43m \u001b[49m\u001b[43murl\u001b[49m\u001b[38;5;241;43m=\u001b[39;49m\u001b[43murl\u001b[49m\u001b[43m,\u001b[49m\u001b[43m \u001b[49m\u001b[38;5;241;43m*\u001b[39;49m\u001b[38;5;241;43m*\u001b[39;49m\u001b[43mparams\u001b[49m\u001b[43m)\u001b[49m\n\u001b[1;32m    310\u001b[0m hf_raise_for_status(response)\n\u001b[1;32m    311\u001b[0m \u001b[38;5;28;01mreturn\u001b[39;00m response\n",
      "File \u001b[0;32m~/.conda/envs/cell2sentence/lib/python3.8/site-packages/huggingface_hub/utils/_http.py:308\u001b[0m, in \u001b[0;36mhttp_backoff\u001b[0;34m(method, url, max_retries, base_wait_time, max_wait_time, retry_on_exceptions, retry_on_status_codes, **kwargs)\u001b[0m\n\u001b[1;32m    305\u001b[0m     kwargs[\u001b[38;5;124m\"\u001b[39m\u001b[38;5;124mdata\u001b[39m\u001b[38;5;124m\"\u001b[39m]\u001b[38;5;241m.\u001b[39mseek(io_obj_initial_pos)\n\u001b[1;32m    307\u001b[0m \u001b[38;5;66;03m# Perform request and return if status_code is not in the retry list.\u001b[39;00m\n\u001b[0;32m--> 308\u001b[0m response \u001b[38;5;241m=\u001b[39m \u001b[43msession\u001b[49m\u001b[38;5;241;43m.\u001b[39;49m\u001b[43mrequest\u001b[49m\u001b[43m(\u001b[49m\u001b[43mmethod\u001b[49m\u001b[38;5;241;43m=\u001b[39;49m\u001b[43mmethod\u001b[49m\u001b[43m,\u001b[49m\u001b[43m \u001b[49m\u001b[43murl\u001b[49m\u001b[38;5;241;43m=\u001b[39;49m\u001b[43murl\u001b[49m\u001b[43m,\u001b[49m\u001b[43m \u001b[49m\u001b[38;5;241;43m*\u001b[39;49m\u001b[38;5;241;43m*\u001b[39;49m\u001b[43mkwargs\u001b[49m\u001b[43m)\u001b[49m\n\u001b[1;32m    309\u001b[0m \u001b[38;5;28;01mif\u001b[39;00m response\u001b[38;5;241m.\u001b[39mstatus_code \u001b[38;5;129;01mnot\u001b[39;00m \u001b[38;5;129;01min\u001b[39;00m retry_on_status_codes:\n\u001b[1;32m    310\u001b[0m     \u001b[38;5;28;01mreturn\u001b[39;00m response\n",
      "File \u001b[0;32m~/.conda/envs/cell2sentence/lib/python3.8/site-packages/requests/sessions.py:589\u001b[0m, in \u001b[0;36mSession.request\u001b[0;34m(self, method, url, params, data, headers, cookies, files, auth, timeout, allow_redirects, proxies, hooks, stream, verify, cert, json)\u001b[0m\n\u001b[1;32m    584\u001b[0m send_kwargs \u001b[38;5;241m=\u001b[39m {\n\u001b[1;32m    585\u001b[0m     \u001b[38;5;124m\"\u001b[39m\u001b[38;5;124mtimeout\u001b[39m\u001b[38;5;124m\"\u001b[39m: timeout,\n\u001b[1;32m    586\u001b[0m     \u001b[38;5;124m\"\u001b[39m\u001b[38;5;124mallow_redirects\u001b[39m\u001b[38;5;124m\"\u001b[39m: allow_redirects,\n\u001b[1;32m    587\u001b[0m }\n\u001b[1;32m    588\u001b[0m send_kwargs\u001b[38;5;241m.\u001b[39mupdate(settings)\n\u001b[0;32m--> 589\u001b[0m resp \u001b[38;5;241m=\u001b[39m \u001b[38;5;28;43mself\u001b[39;49m\u001b[38;5;241;43m.\u001b[39;49m\u001b[43msend\u001b[49m\u001b[43m(\u001b[49m\u001b[43mprep\u001b[49m\u001b[43m,\u001b[49m\u001b[43m \u001b[49m\u001b[38;5;241;43m*\u001b[39;49m\u001b[38;5;241;43m*\u001b[39;49m\u001b[43msend_kwargs\u001b[49m\u001b[43m)\u001b[49m\n\u001b[1;32m    591\u001b[0m \u001b[38;5;28;01mreturn\u001b[39;00m resp\n",
      "File \u001b[0;32m~/.conda/envs/cell2sentence/lib/python3.8/site-packages/requests/sessions.py:703\u001b[0m, in \u001b[0;36mSession.send\u001b[0;34m(self, request, **kwargs)\u001b[0m\n\u001b[1;32m    700\u001b[0m start \u001b[38;5;241m=\u001b[39m preferred_clock()\n\u001b[1;32m    702\u001b[0m \u001b[38;5;66;03m# Send the request\u001b[39;00m\n\u001b[0;32m--> 703\u001b[0m r \u001b[38;5;241m=\u001b[39m \u001b[43madapter\u001b[49m\u001b[38;5;241;43m.\u001b[39;49m\u001b[43msend\u001b[49m\u001b[43m(\u001b[49m\u001b[43mrequest\u001b[49m\u001b[43m,\u001b[49m\u001b[43m \u001b[49m\u001b[38;5;241;43m*\u001b[39;49m\u001b[38;5;241;43m*\u001b[39;49m\u001b[43mkwargs\u001b[49m\u001b[43m)\u001b[49m\n\u001b[1;32m    705\u001b[0m \u001b[38;5;66;03m# Total elapsed time of the request (approximately)\u001b[39;00m\n\u001b[1;32m    706\u001b[0m elapsed \u001b[38;5;241m=\u001b[39m preferred_clock() \u001b[38;5;241m-\u001b[39m start\n",
      "File \u001b[0;32m~/.conda/envs/cell2sentence/lib/python3.8/site-packages/huggingface_hub/utils/_http.py:95\u001b[0m, in \u001b[0;36mUniqueRequestIdAdapter.send\u001b[0;34m(self, request, *args, **kwargs)\u001b[0m\n\u001b[1;32m     93\u001b[0m     logger\u001b[38;5;241m.\u001b[39mdebug(\u001b[38;5;124mf\u001b[39m\u001b[38;5;124m\"\u001b[39m\u001b[38;5;124mSend: \u001b[39m\u001b[38;5;132;01m{\u001b[39;00m_curlify(request)\u001b[38;5;132;01m}\u001b[39;00m\u001b[38;5;124m\"\u001b[39m)\n\u001b[1;32m     94\u001b[0m \u001b[38;5;28;01mtry\u001b[39;00m:\n\u001b[0;32m---> 95\u001b[0m     \u001b[38;5;28;01mreturn\u001b[39;00m \u001b[38;5;28;43msuper\u001b[39;49m\u001b[43m(\u001b[49m\u001b[43m)\u001b[49m\u001b[38;5;241;43m.\u001b[39;49m\u001b[43msend\u001b[49m\u001b[43m(\u001b[49m\u001b[43mrequest\u001b[49m\u001b[43m,\u001b[49m\u001b[43m \u001b[49m\u001b[38;5;241;43m*\u001b[39;49m\u001b[43margs\u001b[49m\u001b[43m,\u001b[49m\u001b[43m \u001b[49m\u001b[38;5;241;43m*\u001b[39;49m\u001b[38;5;241;43m*\u001b[39;49m\u001b[43mkwargs\u001b[49m\u001b[43m)\u001b[49m\n\u001b[1;32m     96\u001b[0m \u001b[38;5;28;01mexcept\u001b[39;00m requests\u001b[38;5;241m.\u001b[39mRequestException \u001b[38;5;28;01mas\u001b[39;00m e:\n\u001b[1;32m     97\u001b[0m     request_id \u001b[38;5;241m=\u001b[39m request\u001b[38;5;241m.\u001b[39mheaders\u001b[38;5;241m.\u001b[39mget(X_AMZN_TRACE_ID)\n",
      "File \u001b[0;32m~/.conda/envs/cell2sentence/lib/python3.8/site-packages/requests/adapters.py:667\u001b[0m, in \u001b[0;36mHTTPAdapter.send\u001b[0;34m(self, request, stream, timeout, verify, cert, proxies)\u001b[0m\n\u001b[1;32m    664\u001b[0m     timeout \u001b[38;5;241m=\u001b[39m TimeoutSauce(connect\u001b[38;5;241m=\u001b[39mtimeout, read\u001b[38;5;241m=\u001b[39mtimeout)\n\u001b[1;32m    666\u001b[0m \u001b[38;5;28;01mtry\u001b[39;00m:\n\u001b[0;32m--> 667\u001b[0m     resp \u001b[38;5;241m=\u001b[39m \u001b[43mconn\u001b[49m\u001b[38;5;241;43m.\u001b[39;49m\u001b[43murlopen\u001b[49m\u001b[43m(\u001b[49m\n\u001b[1;32m    668\u001b[0m \u001b[43m        \u001b[49m\u001b[43mmethod\u001b[49m\u001b[38;5;241;43m=\u001b[39;49m\u001b[43mrequest\u001b[49m\u001b[38;5;241;43m.\u001b[39;49m\u001b[43mmethod\u001b[49m\u001b[43m,\u001b[49m\n\u001b[1;32m    669\u001b[0m \u001b[43m        \u001b[49m\u001b[43murl\u001b[49m\u001b[38;5;241;43m=\u001b[39;49m\u001b[43murl\u001b[49m\u001b[43m,\u001b[49m\n\u001b[1;32m    670\u001b[0m \u001b[43m        \u001b[49m\u001b[43mbody\u001b[49m\u001b[38;5;241;43m=\u001b[39;49m\u001b[43mrequest\u001b[49m\u001b[38;5;241;43m.\u001b[39;49m\u001b[43mbody\u001b[49m\u001b[43m,\u001b[49m\n\u001b[1;32m    671\u001b[0m \u001b[43m        \u001b[49m\u001b[43mheaders\u001b[49m\u001b[38;5;241;43m=\u001b[39;49m\u001b[43mrequest\u001b[49m\u001b[38;5;241;43m.\u001b[39;49m\u001b[43mheaders\u001b[49m\u001b[43m,\u001b[49m\n\u001b[1;32m    672\u001b[0m \u001b[43m        \u001b[49m\u001b[43mredirect\u001b[49m\u001b[38;5;241;43m=\u001b[39;49m\u001b[38;5;28;43;01mFalse\u001b[39;49;00m\u001b[43m,\u001b[49m\n\u001b[1;32m    673\u001b[0m \u001b[43m        \u001b[49m\u001b[43massert_same_host\u001b[49m\u001b[38;5;241;43m=\u001b[39;49m\u001b[38;5;28;43;01mFalse\u001b[39;49;00m\u001b[43m,\u001b[49m\n\u001b[1;32m    674\u001b[0m \u001b[43m        \u001b[49m\u001b[43mpreload_content\u001b[49m\u001b[38;5;241;43m=\u001b[39;49m\u001b[38;5;28;43;01mFalse\u001b[39;49;00m\u001b[43m,\u001b[49m\n\u001b[1;32m    675\u001b[0m \u001b[43m        \u001b[49m\u001b[43mdecode_content\u001b[49m\u001b[38;5;241;43m=\u001b[39;49m\u001b[38;5;28;43;01mFalse\u001b[39;49;00m\u001b[43m,\u001b[49m\n\u001b[1;32m    676\u001b[0m \u001b[43m        \u001b[49m\u001b[43mretries\u001b[49m\u001b[38;5;241;43m=\u001b[39;49m\u001b[38;5;28;43mself\u001b[39;49m\u001b[38;5;241;43m.\u001b[39;49m\u001b[43mmax_retries\u001b[49m\u001b[43m,\u001b[49m\n\u001b[1;32m    677\u001b[0m \u001b[43m        \u001b[49m\u001b[43mtimeout\u001b[49m\u001b[38;5;241;43m=\u001b[39;49m\u001b[43mtimeout\u001b[49m\u001b[43m,\u001b[49m\n\u001b[1;32m    678\u001b[0m \u001b[43m        \u001b[49m\u001b[43mchunked\u001b[49m\u001b[38;5;241;43m=\u001b[39;49m\u001b[43mchunked\u001b[49m\u001b[43m,\u001b[49m\n\u001b[1;32m    679\u001b[0m \u001b[43m    \u001b[49m\u001b[43m)\u001b[49m\n\u001b[1;32m    681\u001b[0m \u001b[38;5;28;01mexcept\u001b[39;00m (ProtocolError, \u001b[38;5;167;01mOSError\u001b[39;00m) \u001b[38;5;28;01mas\u001b[39;00m err:\n\u001b[1;32m    682\u001b[0m     \u001b[38;5;28;01mraise\u001b[39;00m \u001b[38;5;167;01mConnectionError\u001b[39;00m(err, request\u001b[38;5;241m=\u001b[39mrequest)\n",
      "File \u001b[0;32m~/.conda/envs/cell2sentence/lib/python3.8/site-packages/urllib3/connectionpool.py:789\u001b[0m, in \u001b[0;36mHTTPConnectionPool.urlopen\u001b[0;34m(self, method, url, body, headers, retries, redirect, assert_same_host, timeout, pool_timeout, release_conn, chunked, body_pos, preload_content, decode_content, **response_kw)\u001b[0m\n\u001b[1;32m    786\u001b[0m response_conn \u001b[38;5;241m=\u001b[39m conn \u001b[38;5;28;01mif\u001b[39;00m \u001b[38;5;129;01mnot\u001b[39;00m release_conn \u001b[38;5;28;01melse\u001b[39;00m \u001b[38;5;28;01mNone\u001b[39;00m\n\u001b[1;32m    788\u001b[0m \u001b[38;5;66;03m# Make the request on the HTTPConnection object\u001b[39;00m\n\u001b[0;32m--> 789\u001b[0m response \u001b[38;5;241m=\u001b[39m \u001b[38;5;28;43mself\u001b[39;49m\u001b[38;5;241;43m.\u001b[39;49m\u001b[43m_make_request\u001b[49m\u001b[43m(\u001b[49m\n\u001b[1;32m    790\u001b[0m \u001b[43m    \u001b[49m\u001b[43mconn\u001b[49m\u001b[43m,\u001b[49m\n\u001b[1;32m    791\u001b[0m \u001b[43m    \u001b[49m\u001b[43mmethod\u001b[49m\u001b[43m,\u001b[49m\n\u001b[1;32m    792\u001b[0m \u001b[43m    \u001b[49m\u001b[43murl\u001b[49m\u001b[43m,\u001b[49m\n\u001b[1;32m    793\u001b[0m \u001b[43m    \u001b[49m\u001b[43mtimeout\u001b[49m\u001b[38;5;241;43m=\u001b[39;49m\u001b[43mtimeout_obj\u001b[49m\u001b[43m,\u001b[49m\n\u001b[1;32m    794\u001b[0m \u001b[43m    \u001b[49m\u001b[43mbody\u001b[49m\u001b[38;5;241;43m=\u001b[39;49m\u001b[43mbody\u001b[49m\u001b[43m,\u001b[49m\n\u001b[1;32m    795\u001b[0m \u001b[43m    \u001b[49m\u001b[43mheaders\u001b[49m\u001b[38;5;241;43m=\u001b[39;49m\u001b[43mheaders\u001b[49m\u001b[43m,\u001b[49m\n\u001b[1;32m    796\u001b[0m \u001b[43m    \u001b[49m\u001b[43mchunked\u001b[49m\u001b[38;5;241;43m=\u001b[39;49m\u001b[43mchunked\u001b[49m\u001b[43m,\u001b[49m\n\u001b[1;32m    797\u001b[0m \u001b[43m    \u001b[49m\u001b[43mretries\u001b[49m\u001b[38;5;241;43m=\u001b[39;49m\u001b[43mretries\u001b[49m\u001b[43m,\u001b[49m\n\u001b[1;32m    798\u001b[0m \u001b[43m    \u001b[49m\u001b[43mresponse_conn\u001b[49m\u001b[38;5;241;43m=\u001b[39;49m\u001b[43mresponse_conn\u001b[49m\u001b[43m,\u001b[49m\n\u001b[1;32m    799\u001b[0m \u001b[43m    \u001b[49m\u001b[43mpreload_content\u001b[49m\u001b[38;5;241;43m=\u001b[39;49m\u001b[43mpreload_content\u001b[49m\u001b[43m,\u001b[49m\n\u001b[1;32m    800\u001b[0m \u001b[43m    \u001b[49m\u001b[43mdecode_content\u001b[49m\u001b[38;5;241;43m=\u001b[39;49m\u001b[43mdecode_content\u001b[49m\u001b[43m,\u001b[49m\n\u001b[1;32m    801\u001b[0m \u001b[43m    \u001b[49m\u001b[38;5;241;43m*\u001b[39;49m\u001b[38;5;241;43m*\u001b[39;49m\u001b[43mresponse_kw\u001b[49m\u001b[43m,\u001b[49m\n\u001b[1;32m    802\u001b[0m \u001b[43m\u001b[49m\u001b[43m)\u001b[49m\n\u001b[1;32m    804\u001b[0m \u001b[38;5;66;03m# Everything went great!\u001b[39;00m\n\u001b[1;32m    805\u001b[0m clean_exit \u001b[38;5;241m=\u001b[39m \u001b[38;5;28;01mTrue\u001b[39;00m\n",
      "File \u001b[0;32m~/.conda/envs/cell2sentence/lib/python3.8/site-packages/urllib3/connectionpool.py:536\u001b[0m, in \u001b[0;36mHTTPConnectionPool._make_request\u001b[0;34m(self, conn, method, url, body, headers, retries, timeout, chunked, response_conn, preload_content, decode_content, enforce_content_length)\u001b[0m\n\u001b[1;32m    534\u001b[0m \u001b[38;5;66;03m# Receive the response from the server\u001b[39;00m\n\u001b[1;32m    535\u001b[0m \u001b[38;5;28;01mtry\u001b[39;00m:\n\u001b[0;32m--> 536\u001b[0m     response \u001b[38;5;241m=\u001b[39m \u001b[43mconn\u001b[49m\u001b[38;5;241;43m.\u001b[39;49m\u001b[43mgetresponse\u001b[49m\u001b[43m(\u001b[49m\u001b[43m)\u001b[49m\n\u001b[1;32m    537\u001b[0m \u001b[38;5;28;01mexcept\u001b[39;00m (BaseSSLError, \u001b[38;5;167;01mOSError\u001b[39;00m) \u001b[38;5;28;01mas\u001b[39;00m e:\n\u001b[1;32m    538\u001b[0m     \u001b[38;5;28mself\u001b[39m\u001b[38;5;241m.\u001b[39m_raise_timeout(err\u001b[38;5;241m=\u001b[39me, url\u001b[38;5;241m=\u001b[39murl, timeout_value\u001b[38;5;241m=\u001b[39mread_timeout)\n",
      "File \u001b[0;32m~/.conda/envs/cell2sentence/lib/python3.8/site-packages/urllib3/connection.py:507\u001b[0m, in \u001b[0;36mHTTPConnection.getresponse\u001b[0;34m(self)\u001b[0m\n\u001b[1;32m    504\u001b[0m \u001b[38;5;28;01mfrom\u001b[39;00m \u001b[38;5;21;01m.\u001b[39;00m\u001b[38;5;21;01mresponse\u001b[39;00m \u001b[38;5;28;01mimport\u001b[39;00m HTTPResponse\n\u001b[1;32m    506\u001b[0m \u001b[38;5;66;03m# Get the response from http.client.HTTPConnection\u001b[39;00m\n\u001b[0;32m--> 507\u001b[0m httplib_response \u001b[38;5;241m=\u001b[39m \u001b[38;5;28;43msuper\u001b[39;49m\u001b[43m(\u001b[49m\u001b[43m)\u001b[49m\u001b[38;5;241;43m.\u001b[39;49m\u001b[43mgetresponse\u001b[49m\u001b[43m(\u001b[49m\u001b[43m)\u001b[49m\n\u001b[1;32m    509\u001b[0m \u001b[38;5;28;01mtry\u001b[39;00m:\n\u001b[1;32m    510\u001b[0m     assert_header_parsing(httplib_response\u001b[38;5;241m.\u001b[39mmsg)\n",
      "File \u001b[0;32m~/.conda/envs/cell2sentence/lib/python3.8/http/client.py:1348\u001b[0m, in \u001b[0;36mHTTPConnection.getresponse\u001b[0;34m(self)\u001b[0m\n\u001b[1;32m   1346\u001b[0m \u001b[38;5;28;01mtry\u001b[39;00m:\n\u001b[1;32m   1347\u001b[0m     \u001b[38;5;28;01mtry\u001b[39;00m:\n\u001b[0;32m-> 1348\u001b[0m         \u001b[43mresponse\u001b[49m\u001b[38;5;241;43m.\u001b[39;49m\u001b[43mbegin\u001b[49m\u001b[43m(\u001b[49m\u001b[43m)\u001b[49m\n\u001b[1;32m   1349\u001b[0m     \u001b[38;5;28;01mexcept\u001b[39;00m \u001b[38;5;167;01mConnectionError\u001b[39;00m:\n\u001b[1;32m   1350\u001b[0m         \u001b[38;5;28mself\u001b[39m\u001b[38;5;241m.\u001b[39mclose()\n",
      "File \u001b[0;32m~/.conda/envs/cell2sentence/lib/python3.8/http/client.py:316\u001b[0m, in \u001b[0;36mHTTPResponse.begin\u001b[0;34m(self)\u001b[0m\n\u001b[1;32m    314\u001b[0m \u001b[38;5;66;03m# read until we get a non-100 response\u001b[39;00m\n\u001b[1;32m    315\u001b[0m \u001b[38;5;28;01mwhile\u001b[39;00m \u001b[38;5;28;01mTrue\u001b[39;00m:\n\u001b[0;32m--> 316\u001b[0m     version, status, reason \u001b[38;5;241m=\u001b[39m \u001b[38;5;28;43mself\u001b[39;49m\u001b[38;5;241;43m.\u001b[39;49m\u001b[43m_read_status\u001b[49m\u001b[43m(\u001b[49m\u001b[43m)\u001b[49m\n\u001b[1;32m    317\u001b[0m     \u001b[38;5;28;01mif\u001b[39;00m status \u001b[38;5;241m!=\u001b[39m CONTINUE:\n\u001b[1;32m    318\u001b[0m         \u001b[38;5;28;01mbreak\u001b[39;00m\n",
      "File \u001b[0;32m~/.conda/envs/cell2sentence/lib/python3.8/http/client.py:277\u001b[0m, in \u001b[0;36mHTTPResponse._read_status\u001b[0;34m(self)\u001b[0m\n\u001b[1;32m    276\u001b[0m \u001b[38;5;28;01mdef\u001b[39;00m \u001b[38;5;21m_read_status\u001b[39m(\u001b[38;5;28mself\u001b[39m):\n\u001b[0;32m--> 277\u001b[0m     line \u001b[38;5;241m=\u001b[39m \u001b[38;5;28mstr\u001b[39m(\u001b[38;5;28;43mself\u001b[39;49m\u001b[38;5;241;43m.\u001b[39;49m\u001b[43mfp\u001b[49m\u001b[38;5;241;43m.\u001b[39;49m\u001b[43mreadline\u001b[49m\u001b[43m(\u001b[49m\u001b[43m_MAXLINE\u001b[49m\u001b[43m \u001b[49m\u001b[38;5;241;43m+\u001b[39;49m\u001b[43m \u001b[49m\u001b[38;5;241;43m1\u001b[39;49m\u001b[43m)\u001b[49m, \u001b[38;5;124m\"\u001b[39m\u001b[38;5;124miso-8859-1\u001b[39m\u001b[38;5;124m\"\u001b[39m)\n\u001b[1;32m    278\u001b[0m     \u001b[38;5;28;01mif\u001b[39;00m \u001b[38;5;28mlen\u001b[39m(line) \u001b[38;5;241m>\u001b[39m _MAXLINE:\n\u001b[1;32m    279\u001b[0m         \u001b[38;5;28;01mraise\u001b[39;00m LineTooLong(\u001b[38;5;124m\"\u001b[39m\u001b[38;5;124mstatus line\u001b[39m\u001b[38;5;124m\"\u001b[39m)\n",
      "File \u001b[0;32m~/.conda/envs/cell2sentence/lib/python3.8/socket.py:681\u001b[0m, in \u001b[0;36mSocketIO.readinto\u001b[0;34m(self, b)\u001b[0m\n\u001b[1;32m    679\u001b[0m \u001b[38;5;28;01mwhile\u001b[39;00m \u001b[38;5;28;01mTrue\u001b[39;00m:\n\u001b[1;32m    680\u001b[0m     \u001b[38;5;28;01mtry\u001b[39;00m:\n\u001b[0;32m--> 681\u001b[0m         \u001b[38;5;28;01mreturn\u001b[39;00m \u001b[38;5;28;43mself\u001b[39;49m\u001b[38;5;241;43m.\u001b[39;49m\u001b[43m_sock\u001b[49m\u001b[38;5;241;43m.\u001b[39;49m\u001b[43mrecv_into\u001b[49m\u001b[43m(\u001b[49m\u001b[43mb\u001b[49m\u001b[43m)\u001b[49m\n\u001b[1;32m    682\u001b[0m     \u001b[38;5;28;01mexcept\u001b[39;00m timeout:\n\u001b[1;32m    683\u001b[0m         \u001b[38;5;28mself\u001b[39m\u001b[38;5;241m.\u001b[39m_timeout_occurred \u001b[38;5;241m=\u001b[39m \u001b[38;5;28;01mTrue\u001b[39;00m\n",
      "File \u001b[0;32m~/.conda/envs/cell2sentence/lib/python3.8/ssl.py:1274\u001b[0m, in \u001b[0;36mSSLSocket.recv_into\u001b[0;34m(self, buffer, nbytes, flags)\u001b[0m\n\u001b[1;32m   1270\u001b[0m     \u001b[38;5;28;01mif\u001b[39;00m flags \u001b[38;5;241m!=\u001b[39m \u001b[38;5;241m0\u001b[39m:\n\u001b[1;32m   1271\u001b[0m         \u001b[38;5;28;01mraise\u001b[39;00m \u001b[38;5;167;01mValueError\u001b[39;00m(\n\u001b[1;32m   1272\u001b[0m           \u001b[38;5;124m\"\u001b[39m\u001b[38;5;124mnon-zero flags not allowed in calls to recv_into() on \u001b[39m\u001b[38;5;132;01m%s\u001b[39;00m\u001b[38;5;124m\"\u001b[39m \u001b[38;5;241m%\u001b[39m\n\u001b[1;32m   1273\u001b[0m           \u001b[38;5;28mself\u001b[39m\u001b[38;5;241m.\u001b[39m\u001b[38;5;18m__class__\u001b[39m)\n\u001b[0;32m-> 1274\u001b[0m     \u001b[38;5;28;01mreturn\u001b[39;00m \u001b[38;5;28;43mself\u001b[39;49m\u001b[38;5;241;43m.\u001b[39;49m\u001b[43mread\u001b[49m\u001b[43m(\u001b[49m\u001b[43mnbytes\u001b[49m\u001b[43m,\u001b[49m\u001b[43m \u001b[49m\u001b[43mbuffer\u001b[49m\u001b[43m)\u001b[49m\n\u001b[1;32m   1275\u001b[0m \u001b[38;5;28;01melse\u001b[39;00m:\n\u001b[1;32m   1276\u001b[0m     \u001b[38;5;28;01mreturn\u001b[39;00m \u001b[38;5;28msuper\u001b[39m()\u001b[38;5;241m.\u001b[39mrecv_into(buffer, nbytes, flags)\n",
      "File \u001b[0;32m~/.conda/envs/cell2sentence/lib/python3.8/ssl.py:1132\u001b[0m, in \u001b[0;36mSSLSocket.read\u001b[0;34m(self, len, buffer)\u001b[0m\n\u001b[1;32m   1130\u001b[0m \u001b[38;5;28;01mtry\u001b[39;00m:\n\u001b[1;32m   1131\u001b[0m     \u001b[38;5;28;01mif\u001b[39;00m buffer \u001b[38;5;129;01mis\u001b[39;00m \u001b[38;5;129;01mnot\u001b[39;00m \u001b[38;5;28;01mNone\u001b[39;00m:\n\u001b[0;32m-> 1132\u001b[0m         \u001b[38;5;28;01mreturn\u001b[39;00m \u001b[38;5;28;43mself\u001b[39;49m\u001b[38;5;241;43m.\u001b[39;49m\u001b[43m_sslobj\u001b[49m\u001b[38;5;241;43m.\u001b[39;49m\u001b[43mread\u001b[49m\u001b[43m(\u001b[49m\u001b[38;5;28;43mlen\u001b[39;49m\u001b[43m,\u001b[49m\u001b[43m \u001b[49m\u001b[43mbuffer\u001b[49m\u001b[43m)\u001b[49m\n\u001b[1;32m   1133\u001b[0m     \u001b[38;5;28;01melse\u001b[39;00m:\n\u001b[1;32m   1134\u001b[0m         \u001b[38;5;28;01mreturn\u001b[39;00m \u001b[38;5;28mself\u001b[39m\u001b[38;5;241m.\u001b[39m_sslobj\u001b[38;5;241m.\u001b[39mread(\u001b[38;5;28mlen\u001b[39m)\n",
      "\u001b[0;31mKeyboardInterrupt\u001b[0m: "
     ]
    }
   ],
   "source": [
    "from transformers import GPTNeoXForCausalLM, AutoTokenizer\n",
    "import torch\n",
    "\n",
    "# Check if CUDA is available and set device\n",
    "device = torch.device(\"cuda\" if torch.cuda.is_available() else \"cpu\")\n",
    "print(f\"Using device: {device}\")\n",
    "\n",
    "model = GPTNeoXForCausalLM.from_pretrained(\n",
    "  \"EleutherAI/pythia-1b-deduped\",\n",
    "  revision=\"step143000\",\n",
    "  cache_dir=\"./models/pythia/pythia-1b-deduped/step143000\",\n",
    "  torch_dtype=torch.bfloat16 if device.type == \"cuda\" else torch.float32\n",
    ")\n",
    "\n",
    "# Move model to GPU\n",
    "model = model.to(device)\n",
    "print(f\"Model loaded on device: {model.device}\")\n",
    "\n",
    "tokenizer = AutoTokenizer.from_pretrained(\n",
    "  \"EleutherAI/pythia-1b-deduped\",\n",
    "  revision=\"step143000\",\n",
    "  cache_dir=\"./models/pythia/pythia-1b-deduped/step143000\",\n",
    ")\n",
    "\n",
    "input_prompt = \"\"\"The following is a list of around 200 gene names ordered by descending expression level in a human cell. Your task is to classify the cell as fast or slow growing. Respond either with \"fast\" or \"slow\".\n",
    "Cell sentence: MT-CO3 TMSB4X FTL MT-CO2 RPS27 MT-CO1 EEF1A1 RPS14 RPL34 FTH1 RPS18 MT-ND4 RPLP1 RPL37 RPS29 MT-ATP6 RPS4X RPL13A MT-CYB RPS8 RPS2 RPS19 TPT1 RPL28 RPL32 RPS3 RPS7 RPS27A MT-ND1 RPL37A MT-ND2 RPS12 RPS3A RPL21 RPL13 ACTB RPL39 RPL6 RPL9 RPS24 RPL27A RPL11 RPS28 RPS15 RPS11 RPL15 RPLP0 OAZ1 RPL10 RPL30 MT-ND3 RPS20 RPS15A RPL35 RPL41 YBX1 RPL5 RPS23 RPL29 RPL8 RPL19 RPL14 TMA7 RPL4 RPL10A RPL18A TYROBP RPLP2 RPS17 RPL7 UBA52 GAPDH UQCRH PTMA CFD HMGB1 RPL12 PFN1 RPS25 RPL35A RPSA B2M RPL24 COX7C UQCR11 SUB1 RPL36 HMGN1 RPL18 COX5B SRP14 VIM LST1 PTP4A2 CFL1 SUMO2 NACA RPL7A SH3BGRL3 PRAME SERF2 TMSB10 COX8A FAU CEBPE RPL23 EDF1 CSF3R CHCHD2 SNX3 MPC2 LMO4 PRR13 MSN DBI FAM118A NDUFS5 UBE2L3 MTCH1 COX7A2 FKBP1A RPS6 EIF2S2 RPS21 RPS26 GPX4 LSM6 CAP1 RPL22 HMGN2 MS4A3 PET100 PFDN5 UBL5 RPL23A LSM2 CDCA7 NUCKS1 ITM2B LDHB HMGN3 AURKAIP1 LAMTOR4 RPL27 RPS16 COTL1 PGAM1 ZNF207 UBB UBC COX4I1 GTF2I SLC25A3 PPIA RPS13 PGP TMBIM6 COX7B MYL6 ARHGDIB LGALS1 AGO1 HSP90AA1\n",
    "The cell grows:\"\"\"\n",
    "\n",
    "inputs = tokenizer(input_prompt, return_tensors=\"pt\", truncation=True, max_length=1024)\n",
    "# Move inputs to the same device as model\n",
    "inputs = {k: v.to(device) for k, v in inputs.items()}\n",
    "\n",
    "tokens = model.generate(\n",
    "    **inputs, \n",
    "    max_new_tokens=50,  # Generate up to 50 new tokens\n",
    "    temperature=0.7,\n",
    "    do_sample=True,\n",
    "    pad_token_id=tokenizer.eos_token_id\n",
    ")\n",
    "print(tokenizer.decode(tokens[0]))"
   ]
  },
  {
   "cell_type": "code",
   "execution_count": null,
   "id": "34038314",
   "metadata": {},
   "outputs": [],
   "source": []
  }
 ],
 "metadata": {
  "kernelspec": {
   "display_name": "Python 3 (ipykernel)",
   "language": "python",
   "name": "python3"
  },
  "language_info": {
   "codemirror_mode": {
    "name": "ipython",
    "version": 3
   },
   "file_extension": ".py",
   "mimetype": "text/x-python",
   "name": "python",
   "nbconvert_exporter": "python",
   "pygments_lexer": "ipython3",
   "version": "3.8.20"
  }
 },
 "nbformat": 4,
 "nbformat_minor": 5
}
