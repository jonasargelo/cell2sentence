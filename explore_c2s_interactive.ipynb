{
 "cells": [
  {
   "cell_type": "markdown",
   "id": "0ec56f49",
   "metadata": {},
   "source": [
    "# Interactive Cell2Sentence Exploration\n",
    "\n",
    "This notebook helps you understand how Cell2Sentence works by allowing you to:\n",
    "1. Load a pretrained C2S model\n",
    "2. Query it interactively with gene lists\n",
    "3. Generate new cells conditioned on cell types\n",
    "4. Understand the prompt structure\n",
    "\n",
    "## Key Concepts:\n",
    "- **Cell Sentences**: Space-separated gene names ordered by expression level\n",
    "- **Cell Type Prediction**: Given genes → predict cell type\n",
    "- **Cell Generation**: Given cell type → generate gene list\n",
    "- **Embeddings**: Convert cells to numerical representations"
   ]
  },
  {
   "cell_type": "code",
   "execution_count": 1,
   "id": "0cfb9ac3",
   "metadata": {},
   "outputs": [
    {
     "name": "stdout",
     "output_type": "stream",
     "text": [
      "cell2sentence\n"
     ]
    }
   ],
   "source": [
    "# Print the conda environment name\n",
    "import os\n",
    "print(os.environ.get('CONDA_DEFAULT_ENV', 'No conda environment found'))"
   ]
  },
  {
   "cell_type": "code",
   "execution_count": 2,
   "id": "7c28ee81",
   "metadata": {},
   "outputs": [
    {
     "name": "stderr",
     "output_type": "stream",
     "text": [
      "/home/j.argelo/.conda/envs/cell2sentence/lib/python3.8/site-packages/tqdm/auto.py:21: TqdmWarning: IProgress not found. Please update jupyter and ipywidgets. See https://ipywidgets.readthedocs.io/en/stable/user_install.html\n",
      "  from .autonotebook import tqdm as notebook_tqdm\n"
     ]
    }
   ],
   "source": [
    "# Import necessary libraries\n",
    "import os\n",
    "import torch\n",
    "from transformers import AutoModelForCausalLM\n",
    "import cell2sentence as cs\n",
    "from cell2sentence.prompt_formatter import C2SPromptFormatter, C2SMultiCellPromptFormatter"
   ]
  },
  {
   "cell_type": "code",
   "execution_count": 3,
   "id": "570c9cbc",
   "metadata": {},
   "outputs": [
    {
     "name": "stdout",
     "output_type": "stream",
     "text": [
      "Available devices: 2 GPUs\n"
     ]
    }
   ],
   "source": [
    "# Print available devices\n",
    "print(\"Available devices:\", torch.cuda.device_count(), \"GPUs\")"
   ]
  },
  {
   "cell_type": "code",
   "execution_count": null,
   "id": "97ee0ce3",
   "metadata": {},
   "outputs": [
    {
     "name": "stdout",
     "output_type": "stream",
     "text": [
      "Using device: cuda\n",
      "Inference mode: model will be loaded from HuggingFace cache\n",
      "CSModel initialized. Will use device: cuda\n",
      "Inference mode: model will be loaded from HuggingFace cache\n",
      "CSModel initialized. Will use device: cuda\n"
     ]
    }
   ],
   "source": [
    "# Initialize CSModel wrapper (inference mode - no local save needed)\n",
    "model_id = \"vandijklab/C2S-Scale-Gemma-2-27B\"\n",
    "\n",
    "csmodel = cs.CSModel(\n",
    "    model_name_or_path=model_id\n",
    ")\n",
    "\n",
    "print(f\"CSModel wrapper initialized\")\n"
   ]
  },
  {
   "cell_type": "code",
   "execution_count": 5,
   "id": "a3617842",
   "metadata": {},
   "outputs": [
    {
     "name": "stderr",
     "output_type": "stream",
     "text": [
      "Loading checkpoint shards: 100%|██████████████████████████████████████████████████████████████████████████████████████████| 12/12 [00:19<00:00,  1.62s/it]\n",
      "\n"
     ]
    },
    {
     "name": "stderr",
     "output_type": "stream",
     "text": [
      "Loading checkpoint shards: 100%|██████████████████████████████████████████████████████████████████████████████████████████| 12/12 [00:19<00:00,  1.62s/it]\n",
      "\n"
     ]
    },
    {
     "name": "stdout",
     "output_type": "stream",
     "text": [
      "Model loaded on device: cuda:0\n"
     ]
    }
   ],
   "source": [
    "# Load the model into memory\n",
    "\n",
    "model = AutoModelForCausalLM.from_pretrained(\n",
    "    model_id,\n",
    "    device_map=\"balanced\",\n",
    "    torch_dtype=torch.bfloat16,\n",
    "    trust_remote_code=True\n",
    ")\n",
    "\n",
    "print(f\"Model loaded on device: {model.device}\")\n"
   ]
  },
  {
   "cell_type": "markdown",
   "id": "06822292",
   "metadata": {},
   "source": [
    "## Understanding Prompt Templates\n",
    "\n",
    "Let's first look at how Cell2Sentence structures its prompts in the single and multi cell settings:"
   ]
  },
  {
   "cell_type": "code",
   "execution_count": 6,
   "id": "225610fb",
   "metadata": {},
   "outputs": [
    {
     "name": "stdout",
     "output_type": "stream",
     "text": [
      "Cell Type Prediction Prompts:\n",
      "==================================================\n",
      "Template 1:\n",
      "The following is a list of {num_genes} gene names ordered by descending expression level in a {organism} cell. Your task is to give the cell type which this cell belongs to based on its gene expression.\n",
      "Cell sentence: {cell_sentence}.\n",
      "The cell type corresponding to these genes is:\n",
      "\n",
      "Template 2:\n",
      "Below is a list of {num_genes} gene names in order of descending expression level from a {organism} cell. Based on this, predict what the cell type of this cell is.\n",
      "Cell sentence: {cell_sentence}.\n",
      "These genes are most likely associated with cell type:\n",
      "\n",
      "Template 3:\n",
      "Given the list of {num_genes} gene names ordered by descending expression level from a {organism} cell, identify the cell type.\n",
      "Cell sentence: {cell_sentence}.\n",
      "The probable cell type for these genes is:\n",
      "\n",
      "Response format:\n",
      "{cell_type}.\n"
     ]
    }
   ],
   "source": [
    "# Examine cell type prediction prompts\n",
    "cell_type_formatter = C2SPromptFormatter(task=\"cell_type_prediction\", top_k_genes=100)\n",
    "\n",
    "print(\"Cell Type Prediction Prompts:\")\n",
    "print(\"=\" * 50)\n",
    "for i, template in enumerate(cell_type_formatter.prompts_dict[\"model_input\"][:3]):  # Show first 3\n",
    "    print(f\"Template {i+1}:\")\n",
    "    print(template)\n",
    "    print()\n",
    "\n",
    "print(\"Response format:\")\n",
    "print(cell_type_formatter.prompts_dict[\"response\"][0])"
   ]
  },
  {
   "cell_type": "code",
   "execution_count": 7,
   "id": "21657eff",
   "metadata": {},
   "outputs": [
    {
     "name": "stdout",
     "output_type": "stream",
     "text": [
      "Cell Generation Prompts:\n",
      "==================================================\n",
      "Template 1:\n",
      "Generate a list of {num_genes} genes in order of descending expression which represent a {organism} cell of cell type {cell_type}.\n",
      "Cell sentence:\n",
      "\n",
      "Template 2:\n",
      "Produce a list of {num_genes} gene names in descending order of expression which represent the expressed genes of a {organism} {cell_type} cell.\n",
      "Cell sentence:\n",
      "\n",
      "Response format:\n",
      "{cell_sentence}.\n"
     ]
    }
   ],
   "source": [
    "# Examine cell generation prompts\n",
    "cell_gen_formatter = C2SPromptFormatter(task=\"cell_type_generation\", top_k_genes=200)\n",
    "\n",
    "print(\"Cell Generation Prompts:\")\n",
    "print(\"=\" * 50)\n",
    "for i, template in enumerate(cell_gen_formatter.prompts_dict[\"model_input\"][:2]):  # Show first 2\n",
    "    print(f\"Template {i+1}:\")\n",
    "    print(template)\n",
    "    print()\n",
    "\n",
    "print(\"Response format:\")\n",
    "print(cell_gen_formatter.prompts_dict[\"response\"][0])"
   ]
  },
  {
   "cell_type": "code",
   "execution_count": 8,
   "id": "0a1690cc",
   "metadata": {},
   "outputs": [
    {
     "name": "stdout",
     "output_type": "stream",
     "text": [
      "Multi cell tissue prediction prompts:\n",
      "==================================================\n",
      "Template 1:\n",
      "The following is a list of {num_genes} gene names ordered by descending expression level for {num_cells} different {organism} cells. Your task is to give the tissue which these cells belong to based on their gene expression.\n",
      "Cell sentences:\n",
      "{multi_cell_sentences}.\n",
      "The tissue which these cells belong to is:\n",
      "\n",
      "Template 2:\n",
      "Below is a list of {num_genes} genes in decreasing order of expression in {num_cells} {organism} cells. Given this, predict the tissue which these cells belongs to.\n",
      "Cell sentences:\n",
      "{multi_cell_sentences}.\n",
      "The tissue which these cells originate from is:\n",
      "\n",
      "Response format:\n",
      "{tissue}.\n"
     ]
    }
   ],
   "source": [
    "# Examine tissue preditcion with multi cell prompts\n",
    "multi_cell_type_formatter = C2SMultiCellPromptFormatter(task=\"tissue_prediction\", top_k_genes=100)\n",
    "\n",
    "print(\"Multi cell tissue prediction prompts:\")\n",
    "print(\"=\" * 50)\n",
    "for i, template in enumerate(multi_cell_type_formatter.prompts_dict[\"model_input\"][:2]):  # Show first 2\n",
    "    print(f\"Template {i+1}:\")\n",
    "    print(template)\n",
    "    print()\n",
    "\n",
    "print(\"Response format:\")\n",
    "print(multi_cell_type_formatter.prompts_dict[\"response\"][0])"
   ]
  },
  {
   "cell_type": "markdown",
   "id": "0af66283",
   "metadata": {},
   "source": [
    "## Cell Type Prediction\n",
    "\n",
    "Now let's try predicting cell types from gene lists. Here are some example gene signatures:"
   ]
  },
  {
   "cell_type": "code",
   "execution_count": 9,
   "id": "346ad0e4",
   "metadata": {},
   "outputs": [
    {
     "name": "stdout",
     "output_type": "stream",
     "text": [
      "T cell signature: CD3D CD3E CD3G IL7R CCR7 LEF1 TCF7 LTB\n",
      "B cell signature: CD19 MS4A1 CD79A CD79B IGHM IGKC IGLC2 PAX5\n",
      "Monocyte signature: CD14 FCGR3A S100A8 S100A9 LYZ VCAN FCN1 CTSS\n",
      "NK cell signature: KLRD1 KLRF1 NCR1 GZMA GZMB PRF1 GNLY NKG7\n",
      "Dendritic cell signature: FCER1A CLEC4C IRF7 IRF8 CLEC10A CD1C CLEC9A\n"
     ]
    }
   ],
   "source": [
    "# Example gene signatures for different cell types\n",
    "example_signatures = {\n",
    "    \"T cell signature\": \"CD3D CD3E CD3G IL7R CCR7 LEF1 TCF7 LTB\",\n",
    "    \"B cell signature\": \"CD19 MS4A1 CD79A CD79B IGHM IGKC IGLC2 PAX5\",\n",
    "    \"Monocyte signature\": \"CD14 FCGR3A S100A8 S100A9 LYZ VCAN FCN1 CTSS\",\n",
    "    \"NK cell signature\": \"KLRD1 KLRF1 NCR1 GZMA GZMB PRF1 GNLY NKG7\",\n",
    "    \"Dendritic cell signature\": \"FCER1A CLEC4C IRF7 IRF8 CLEC10A CD1C CLEC9A\"\n",
    "}\n",
    "\n",
    "for cell_type, genes in example_signatures.items():\n",
    "    print(f\"{cell_type}: {genes}\")"
   ]
  },
  {
   "cell_type": "code",
   "execution_count": 10,
   "id": "31123cb8",
   "metadata": {},
   "outputs": [
    {
     "name": "stdout",
     "output_type": "stream",
     "text": [
      "Prompt:\n",
      "--------------------------------------------------\n",
      "The following is a list of 8 gene names ordered by descending expression level in a Homo sapiens cell. Your task is to give the cell type which this cell belongs to based on its gene expression.\n",
      "Cell sentence: CD3D CD3E CD3G IL7R CCR7 LEF1 TCF7 LTB.\n",
      "The cell type corresponding to these genes is:\n",
      "--------------------------------------------------\n",
      "\n",
      "Prediction: thymocyte.<ctrl100>\n"
     ]
    }
   ],
   "source": [
    "def predict_cell_type(gene_list, organism=\"Homo sapiens\", verbose=True):\n",
    "    \"\"\"Predict cell type from a list of genes.\"\"\"\n",
    "    n_genes = len(gene_list.split())\n",
    "    \n",
    "    # Create prompt\n",
    "    formatter = C2SPromptFormatter(task=\"cell_type_prediction\", top_k_genes=n_genes)\n",
    "    prompt_template = formatter.prompts_dict[\"model_input\"][0]\n",
    "    prompt = prompt_template.format(\n",
    "        num_genes=n_genes,\n",
    "        organism=organism,\n",
    "        cell_sentence=gene_list\n",
    "    )\n",
    "    \n",
    "    if verbose:\n",
    "        print(f\"Prompt:\")\n",
    "        print(\"-\" * 50)\n",
    "        print(prompt)\n",
    "        print(\"-\" * 50)\n",
    "    \n",
    "    # Generate prediction\n",
    "    response = csmodel.generate_from_prompt(\n",
    "        model=model,\n",
    "        prompt=prompt,\n",
    "        max_num_tokens=50,\n",
    "        temperature=0.1,  # Low temperature for consistent predictions\n",
    "        do_sample=True\n",
    "    )\n",
    "    \n",
    "    return response.strip()\n",
    "\n",
    "# Test with T cell signature\n",
    "t_cell_genes = \"CD3D CD3E CD3G IL7R CCR7 LEF1 TCF7 LTB\"\n",
    "prediction = predict_cell_type(t_cell_genes)\n",
    "print(f\"\\nPrediction: {prediction}\")"
   ]
  },
  {
   "cell_type": "code",
   "execution_count": 11,
   "id": "393c7b8b",
   "metadata": {},
   "outputs": [
    {
     "name": "stdout",
     "output_type": "stream",
     "text": [
      "Prompt:\n",
      "--------------------------------------------------\n",
      "The following is a list of 3 gene names ordered by descending expression level in a Homo sapiens cell. Your task is to give the cell type which this cell belongs to based on its gene expression.\n",
      "Cell sentence: LDHA H2BC5 SORCS2.\n",
      "The cell type corresponding to these genes is:\n",
      "--------------------------------------------------\n",
      "\n",
      "Prediction: native cell.\n",
      ".<ctrl100>\n"
     ]
    }
   ],
   "source": [
    "# Test with B cell signature\n",
    "b_cell_genes = \"LDHA H2BC5 SORCS2\"\n",
    "prediction = predict_cell_type(b_cell_genes)\n",
    "print(f\"\\nPrediction: {prediction}\")"
   ]
  },
  {
   "cell_type": "code",
   "execution_count": 12,
   "id": "4efc0ff6",
   "metadata": {},
   "outputs": [
    {
     "name": "stdout",
     "output_type": "stream",
     "text": [
      "Prompt:\n",
      "--------------------------------------------------\n",
      "The following is a list of 152 gene names ordered by descending expression level in a Homo sapiens cell. Your task is to give the cell type which this cell belongs to based on its gene expression.\n",
      "Cell sentence: MALAT1 B2M TMSB4X RPS27 TMSB10 RPLP1 RPL13 RPL10 RPS3 MT-CO1 RPL21 RPS19 RPS23 RPL31 IL32 RPL13A EIF1 RPS3A RPL5 RPL18A RPS2 RPS15A RPL19 RPS4X RPS28 RPLP2 RPS27A RPS14 RPL35 RPL30 RPL15 RPS6 ACTB RPL23A RPL3 RPS15 RPL34 RPS18 RPS29 RPL27A RPL28 RPL26 RPL14 RPL39 RPS12 RPS7 RPL7 RPS8 RPL11 RPL18 MT-ND1 RPL32 RPL29 RPS16 RPL10A RPL9 GPR183 RPL36 PFN1 MT-ND4 RACK1 RPL7A RPS24 ATP5E ACTG1 MT-CYB RPS13 HLA-A RPS20 RPL37A RPS26 HLA-B ACTR2 RPL12 RPL37 RPL41 RPL38 RPLP0 RPL6 FTH1 RPL4 RPL27 RPL36AL RPL8 S100A6 S100A4 RPSA MT-CO2 RPL22 RPL23 ZFP36L2 EEF1A1 RPL24 PTMA UBA52 NACA RPS25 RPL17 HINT1 RPS9 MYL6 TRBC2 NOP53 CD52 PFDN5 EEF1B2 ITM2B MT-RNR2 CORO1A RPL35A DDX5 EEF1D LTB MT-ATP6 RPL36A TOMM7 FTL HLA-C MT-ND2 TPT1 RPS10 BTG1 MT-ND3 RPS5 FAU MT-CO3 RPS11 RPS17 CD3D EEF2 RPL9P9 BTF3 COX7C HLA-E PPIA EIF3E CORO1B MYL12A ARHGDIB RPL7P9 ITGB1 LDHB FXYD5 CD3E UQCRB ARHGEF1 PPDPF HNRNPA1 HNRNPA2B1 CD2 PABPC1 MT-RNR1.\n",
      "The cell type corresponding to these genes is:\n",
      "--------------------------------------------------\n",
      "\n",
      "Prediction: CD4-positive, alpha-beta thymocyte.\n",
      ".<ctrl100>\n"
     ]
    }
   ],
   "source": [
    "# Try your own gene list!\n",
    "# Modify this cell to test different gene combinations\n",
    "custom_genes = \"MALAT1 B2M TMSB4X RPS27 TMSB10 RPLP1 RPL13 RPL10 RPS3 MT-CO1 RPL21 RPS19 RPS23 RPL31 IL32 RPL13A EIF1 RPS3A RPL5 RPL18A RPS2 RPS15A RPL19 RPS4X RPS28 RPLP2 RPS27A RPS14 RPL35 RPL30 RPL15 RPS6 ACTB RPL23A RPL3 RPS15 RPL34 RPS18 RPS29 RPL27A RPL28 RPL26 RPL14 RPL39 RPS12 RPS7 RPL7 RPS8 RPL11 RPL18 MT-ND1 RPL32 RPL29 RPS16 RPL10A RPL9 GPR183 RPL36 PFN1 MT-ND4 RACK1 RPL7A RPS24 ATP5E ACTG1 MT-CYB RPS13 HLA-A RPS20 RPL37A RPS26 HLA-B ACTR2 RPL12 RPL37 RPL41 RPL38 RPLP0 RPL6 FTH1 RPL4 RPL27 RPL36AL RPL8 S100A6 S100A4 RPSA MT-CO2 RPL22 RPL23 ZFP36L2 EEF1A1 RPL24 PTMA UBA52 NACA RPS25 RPL17 HINT1 RPS9 MYL6 TRBC2 NOP53 CD52 PFDN5 EEF1B2 ITM2B MT-RNR2 CORO1A RPL35A DDX5 EEF1D LTB MT-ATP6 RPL36A TOMM7 FTL HLA-C MT-ND2 TPT1 RPS10 BTG1 MT-ND3 RPS5 FAU MT-CO3 RPS11 RPS17 CD3D EEF2 RPL9P9 BTF3 COX7C HLA-E PPIA EIF3E CORO1B MYL12A ARHGDIB RPL7P9 ITGB1 LDHB FXYD5 CD3E UQCRB ARHGEF1 PPDPF HNRNPA1 HNRNPA2B1 CD2 PABPC1 MT-RNR1\"  # Change this\n",
    "prediction = predict_cell_type(custom_genes)\n",
    "print(f\"\\nPrediction: {prediction}\")"
   ]
  },
  {
   "cell_type": "markdown",
   "id": "97500a92",
   "metadata": {},
   "source": [
    "## Cell Generation\n",
    "\n",
    "Now let's try generating cells conditioned on cell types:"
   ]
  },
  {
   "cell_type": "code",
   "execution_count": 13,
   "id": "61dc6ceb",
   "metadata": {},
   "outputs": [
    {
     "name": "stdout",
     "output_type": "stream",
     "text": [
      "Prompt:\n",
      "--------------------------------------------------\n",
      "Generate a list of 30 genes in order of descending expression which represent a Homo sapiens cell of cell type T cell.\n",
      "Cell sentence:\n",
      "--------------------------------------------------\n",
      "\n",
      "Generated T cell: 1:\n",
      "MALAT1 B2M MT-CO1 MT-ATP6 MT-CO3 MT-CO2 MT-ND4 TMSB4X RPLP1 HLA-A HLA-B RPL41 RPS27 MT-ND3 MT-CYB TMSB10 RPS29 MT-ND1 RPL28 RPS19 RPL13 ACTB RPS24 TPT1 RPS18 HLA-C MT-ND2 CCL5 RPS2 RPL32 RPS28 RPL18A EEF1A1 RPL35 RPL10 RPL34 RPS12 RPL37A ZFP36L2 RPL11 RPS16 PTMA RPS15 ATP5F1E RPL37 RPL6 RPL12 RPL21 RPS7 RPL19 HLA-E S100A6 ACTG1 RPS14 RPS4X RPS27A RPL36 RPL30 RPLP2 CD52 RPS15A RPL14 RPL10A RPL35A RPL29 RPS3 RPL8 RPS21 RPL39 RPL26 RPL13A CD7 RPS23 RPL3 SH3BGRL3 RPL15 RPL23A RPS5 RPL18 RPS25 CXCR4 PTPRC RPS6 SRGN RPL27 GAPDH RPL7A MT-ND5 CD63 RPS8 CFL1 RPS9 MYL6 XCL1 RPL9 FAU CD8A H3-3A IL32 UBA52 RACK1 RPL22 RPS26 UBC RPLP0 RPS3A KRT81 CTSW SERF2 RPL36AL RPL5 CD74 RPSA PFN1 EIF1 HSP90AA1 FTH1 PSME1 RPS13 NACA VIM RPL38 MT2A S100A4 RPL24 JUND RPL7 NEAT1 RNF213 TRAC TNFRSF18 RPS11 HLA-F HCST COX7C JUNB KRT86 RPL23 LTB TRBC2 RGS1 CD3D GNAS RPS20 CD8B HLA-DPA1 CYBA SPCS1 ID2 CD2 YBX1 EEF1B2\n"
     ]
    }
   ],
   "source": [
    "def generate_cell(cell_type, n_genes=50, organism=\"Homo sapiens\", verbose=True):\n",
    "    \"\"\"Generate a cell sentence given a cell type.\"\"\"\n",
    "    \n",
    "    # Create prompt\n",
    "    formatter = C2SPromptFormatter(task=\"cell_type_generation\", top_k_genes=n_genes)\n",
    "    prompt_template = formatter.prompts_dict[\"model_input\"][0]\n",
    "    prompt = prompt_template.format(\n",
    "        num_genes=n_genes,\n",
    "        organism=organism,\n",
    "        cell_type=cell_type\n",
    "    )\n",
    "    \n",
    "    if verbose:\n",
    "        print(f\"Prompt:\")\n",
    "        print(\"-\" * 50)\n",
    "        print(prompt)\n",
    "        print(\"-\" * 50)\n",
    "    \n",
    "    # Generate cell\n",
    "    response = csmodel.generate_from_prompt(\n",
    "        model=model,\n",
    "        prompt=prompt,\n",
    "        max_num_tokens=512,\n",
    "        temperature=0.8,\n",
    "        do_sample=True\n",
    "    )\n",
    "    \n",
    "    return response.strip()\n",
    "\n",
    "# Generate a T cell\n",
    "generated_cell = generate_cell(\"T cell\", n_genes=30)\n",
    "print(f\"\\nGenerated T cell: {generated_cell}\")"
   ]
  },
  {
   "cell_type": "code",
   "execution_count": null,
   "id": "342767ea",
   "metadata": {},
   "outputs": [
    {
     "name": "stdout",
     "output_type": "stream",
     "text": [
      "\n",
      "==================================================\n",
      "Generating B cell:\n",
      "Generated: MALAT1 MT-CYB MT-CO1 MT-CO3 MT-ND5 MT-ND2 MT-ND3 MT-ND4L MT-ATP6 TPT1 MT-CO2 RPS3A RPLP1 EEF1A1 RPL11 B2M IL7R RPL10 RPL30 RPS2 RPS3 RPS7 RPL41 RPL13 RPS19 RPL5 ZFP36L2 RPL28 MT-ND1 TXNIP RPL19 RPS27A RPS15 RPS28 RPL37 RPL7A RPS8 RPS27 RPS26 RPL12 RPL15 RPL18 RPL34 RPS4X HLA-B TMSB4X RPL14 RPL37A RPL3 RPS23 RPL35 RPL32 RPS14 RPL29 RPS24 RPL39 RPS15A RPL8 RPLP0 RPL6 RPS25 RPL18A RPS13 RPS12 FTL RPL24 RPS6 RPL9 RPL26 RPSA PTMA RACK1 PABPC1 MT-ND4 RPL36 BTG1 RPL13A NACA ANXA1 RPL21 FAU RPL10A RPL35A EEF1D RPS18 HLA-A BTF3 RPL22 RPL7 HLA-C RPS16 RPS5 ATP5F1E RPL38 PFN1 RPS29 RPL31 CD3D RPS9 RPS21 RPL23A FTH1 LTB UBA52 ZFAS1 TOMM7 SON UQCRB TMSB10 CFL1 COX4I1 HSP90AB1 RPL4 EEF1B2 ITM2B RPL27A RPS20 FXYD5 ACTB RPL36AL SRSF5 RPL23 EIF3E HNRNPA1 COX7C CD48 RPS11 H1-10 NOP53 TCF7 RPL27 PFDN5 UBC CD2 GIMAP7 VIM KLF2 ITM2A PTPRC H3-3A DDX5 RPL36A COMMD6 ARPC2 TMA7 SNHG8 HSP90AA1 S100A10 SPCS1 EIF1 S100A6 CHURC1 ZFP36L\n",
      "\n",
      "==================================================\n",
      "Generating monocyte:\n",
      "Generated: MALAT1 MT-CYB MT-CO1 MT-CO3 MT-ND5 MT-ND2 MT-ND3 MT-ND4L MT-ATP6 TPT1 MT-CO2 RPS3A RPLP1 EEF1A1 RPL11 B2M IL7R RPL10 RPL30 RPS2 RPS3 RPS7 RPL41 RPL13 RPS19 RPL5 ZFP36L2 RPL28 MT-ND1 TXNIP RPL19 RPS27A RPS15 RPS28 RPL37 RPL7A RPS8 RPS27 RPS26 RPL12 RPL15 RPL18 RPL34 RPS4X HLA-B TMSB4X RPL14 RPL37A RPL3 RPS23 RPL35 RPL32 RPS14 RPL29 RPS24 RPL39 RPS15A RPL8 RPLP0 RPL6 RPS25 RPL18A RPS13 RPS12 FTL RPL24 RPS6 RPL9 RPL26 RPSA PTMA RACK1 PABPC1 MT-ND4 RPL36 BTG1 RPL13A NACA ANXA1 RPL21 FAU RPL10A RPL35A EEF1D RPS18 HLA-A BTF3 RPL22 RPL7 HLA-C RPS16 RPS5 ATP5F1E RPL38 PFN1 RPS29 RPL31 CD3D RPS9 RPS21 RPL23A FTH1 LTB UBA52 ZFAS1 TOMM7 SON UQCRB TMSB10 CFL1 COX4I1 HSP90AB1 RPL4 EEF1B2 ITM2B RPL27A RPS20 FXYD5 ACTB RPL36AL SRSF5 RPL23 EIF3E HNRNPA1 COX7C CD48 RPS11 H1-10 NOP53 TCF7 RPL27 PFDN5 UBC CD2 GIMAP7 VIM KLF2 ITM2A PTPRC H3-3A DDX5 RPL36A COMMD6 ARPC2 TMA7 SNHG8 HSP90AA1 S100A10 SPCS1 EIF1 S100A6 CHURC1 ZFP36L\n",
      "\n",
      "==================================================\n",
      "Generating monocyte:\n",
      "Generated: G0S2 GNLY B2M RPL41 EEF1A1 RPLP1 TPT1 RPL28 RPL30 RPL10 RPL13 RPS27 RPL32 MT-ND3 RPL34 RPL37 RPS12 RPS28 RPS23 MT-CO2 RPL19 RPS15 RPS18 RPL21 RPL18A RPS27A RPS3A MT-CO3 HLA-B RPS8 RPS15A RPS14 RPS6 RPS19 RPS24 RPS2 RPLP2 RPL37A RPL9 RPL7A MT-ATP6 RPL14 RPL12 RPL3 RPL35A HLA-A RPS25 RPS7 RPL11 RPS3 RPL29 RPL15 RPL39 HLA-C RPS4X RPS21 MT-CO1 RPL23A RPL5 TMSB4X MT-ND4 RPS29 RPSA RPL26 RPS13 RPL13A RPL8 FAU RPS16 RACK1 RPL36 RPL6 RPL22 RPL27 FTL RPS9 MT-CYB RPL18 RPL35 PTMA RPS5 RPL23 MT-ND2 RPL7 RPL38 RPLP0 RPL27A JUN UBA52 EIF1 RPS26 RPL10A H3-3B NACA RPS20 FTH1 TMSB10 RPL24 EEF1B2 PFDN5 MT-ND1 RPL4 RPL31 RPL36A RPS11 RPL36AL UBC EEF1D PABPC1 PTPRC RPL17 FOS H3-3A CD74 PFN1 BTF3 ACTG1 UQCRB TOMM7 JUNB FOSB HLA-E UQCR11 TLE5 MYL12A RPS4Y1 CTSW GAPDH MT-ND5 TXNIP BTG1 CD44 EIF4B EIF3H PPIA IER2 COX7C CYBA NPM1 ZFP36L2 MYL6 ARHGDIB PPDPF PPM1K EEF2 TMA7 YBX1 CFL1 C12ORF57 OAZ1 SNHG8 YBX3 SRSF7 PNRC1 TRBC1 P\n",
      "\n",
      "==================================================\n",
      "Generating NK cell:\n",
      "Generated: G0S2 GNLY B2M RPL41 EEF1A1 RPLP1 TPT1 RPL28 RPL30 RPL10 RPL13 RPS27 RPL32 MT-ND3 RPL34 RPL37 RPS12 RPS28 RPS23 MT-CO2 RPL19 RPS15 RPS18 RPL21 RPL18A RPS27A RPS3A MT-CO3 HLA-B RPS8 RPS15A RPS14 RPS6 RPS19 RPS24 RPS2 RPLP2 RPL37A RPL9 RPL7A MT-ATP6 RPL14 RPL12 RPL3 RPL35A HLA-A RPS25 RPS7 RPL11 RPS3 RPL29 RPL15 RPL39 HLA-C RPS4X RPS21 MT-CO1 RPL23A RPL5 TMSB4X MT-ND4 RPS29 RPSA RPL26 RPS13 RPL13A RPL8 FAU RPS16 RACK1 RPL36 RPL6 RPL22 RPL27 FTL RPS9 MT-CYB RPL18 RPL35 PTMA RPS5 RPL23 MT-ND2 RPL7 RPL38 RPLP0 RPL27A JUN UBA52 EIF1 RPS26 RPL10A H3-3B NACA RPS20 FTH1 TMSB10 RPL24 EEF1B2 PFDN5 MT-ND1 RPL4 RPL31 RPL36A RPS11 RPL36AL UBC EEF1D PABPC1 PTPRC RPL17 FOS H3-3A CD74 PFN1 BTF3 ACTG1 UQCRB TOMM7 JUNB FOSB HLA-E UQCR11 TLE5 MYL12A RPS4Y1 CTSW GAPDH MT-ND5 TXNIP BTG1 CD44 EIF4B EIF3H PPIA IER2 COX7C CYBA NPM1 ZFP36L2 MYL6 ARHGDIB PPDPF PPM1K EEF2 TMA7 YBX1 CFL1 C12ORF57 OAZ1 SNHG8 YBX3 SRSF7 PNRC1 TRBC1 P\n",
      "\n",
      "==================================================\n",
      "Generating NK cell:\n"
     ]
    },
    {
     "name": "stdout",
     "output_type": "stream",
     "text": [
      "\n",
      "==================================================\n",
      "Generating B cell:\n",
      "Generated: MALAT1 MT-CYB MT-CO1 MT-CO3 MT-ND5 MT-ND2 MT-ND3 MT-ND4L MT-ATP6 TPT1 MT-CO2 RPS3A RPLP1 EEF1A1 RPL11 B2M IL7R RPL10 RPL30 RPS2 RPS3 RPS7 RPL41 RPL13 RPS19 RPL5 ZFP36L2 RPL28 MT-ND1 TXNIP RPL19 RPS27A RPS15 RPS28 RPL37 RPL7A RPS8 RPS27 RPS26 RPL12 RPL15 RPL18 RPL34 RPS4X HLA-B TMSB4X RPL14 RPL37A RPL3 RPS23 RPL35 RPL32 RPS14 RPL29 RPS24 RPL39 RPS15A RPL8 RPLP0 RPL6 RPS25 RPL18A RPS13 RPS12 FTL RPL24 RPS6 RPL9 RPL26 RPSA PTMA RACK1 PABPC1 MT-ND4 RPL36 BTG1 RPL13A NACA ANXA1 RPL21 FAU RPL10A RPL35A EEF1D RPS18 HLA-A BTF3 RPL22 RPL7 HLA-C RPS16 RPS5 ATP5F1E RPL38 PFN1 RPS29 RPL31 CD3D RPS9 RPS21 RPL23A FTH1 LTB UBA52 ZFAS1 TOMM7 SON UQCRB TMSB10 CFL1 COX4I1 HSP90AB1 RPL4 EEF1B2 ITM2B RPL27A RPS20 FXYD5 ACTB RPL36AL SRSF5 RPL23 EIF3E HNRNPA1 COX7C CD48 RPS11 H1-10 NOP53 TCF7 RPL27 PFDN5 UBC CD2 GIMAP7 VIM KLF2 ITM2A PTPRC H3-3A DDX5 RPL36A COMMD6 ARPC2 TMA7 SNHG8 HSP90AA1 S100A10 SPCS1 EIF1 S100A6 CHURC1 ZFP36L\n",
      "\n",
      "==================================================\n",
      "Generating monocyte:\n",
      "Generated: MALAT1 MT-CYB MT-CO1 MT-CO3 MT-ND5 MT-ND2 MT-ND3 MT-ND4L MT-ATP6 TPT1 MT-CO2 RPS3A RPLP1 EEF1A1 RPL11 B2M IL7R RPL10 RPL30 RPS2 RPS3 RPS7 RPL41 RPL13 RPS19 RPL5 ZFP36L2 RPL28 MT-ND1 TXNIP RPL19 RPS27A RPS15 RPS28 RPL37 RPL7A RPS8 RPS27 RPS26 RPL12 RPL15 RPL18 RPL34 RPS4X HLA-B TMSB4X RPL14 RPL37A RPL3 RPS23 RPL35 RPL32 RPS14 RPL29 RPS24 RPL39 RPS15A RPL8 RPLP0 RPL6 RPS25 RPL18A RPS13 RPS12 FTL RPL24 RPS6 RPL9 RPL26 RPSA PTMA RACK1 PABPC1 MT-ND4 RPL36 BTG1 RPL13A NACA ANXA1 RPL21 FAU RPL10A RPL35A EEF1D RPS18 HLA-A BTF3 RPL22 RPL7 HLA-C RPS16 RPS5 ATP5F1E RPL38 PFN1 RPS29 RPL31 CD3D RPS9 RPS21 RPL23A FTH1 LTB UBA52 ZFAS1 TOMM7 SON UQCRB TMSB10 CFL1 COX4I1 HSP90AB1 RPL4 EEF1B2 ITM2B RPL27A RPS20 FXYD5 ACTB RPL36AL SRSF5 RPL23 EIF3E HNRNPA1 COX7C CD48 RPS11 H1-10 NOP53 TCF7 RPL27 PFDN5 UBC CD2 GIMAP7 VIM KLF2 ITM2A PTPRC H3-3A DDX5 RPL36A COMMD6 ARPC2 TMA7 SNHG8 HSP90AA1 S100A10 SPCS1 EIF1 S100A6 CHURC1 ZFP36L\n",
      "\n",
      "==================================================\n",
      "Generating monocyte:\n",
      "Generated: G0S2 GNLY B2M RPL41 EEF1A1 RPLP1 TPT1 RPL28 RPL30 RPL10 RPL13 RPS27 RPL32 MT-ND3 RPL34 RPL37 RPS12 RPS28 RPS23 MT-CO2 RPL19 RPS15 RPS18 RPL21 RPL18A RPS27A RPS3A MT-CO3 HLA-B RPS8 RPS15A RPS14 RPS6 RPS19 RPS24 RPS2 RPLP2 RPL37A RPL9 RPL7A MT-ATP6 RPL14 RPL12 RPL3 RPL35A HLA-A RPS25 RPS7 RPL11 RPS3 RPL29 RPL15 RPL39 HLA-C RPS4X RPS21 MT-CO1 RPL23A RPL5 TMSB4X MT-ND4 RPS29 RPSA RPL26 RPS13 RPL13A RPL8 FAU RPS16 RACK1 RPL36 RPL6 RPL22 RPL27 FTL RPS9 MT-CYB RPL18 RPL35 PTMA RPS5 RPL23 MT-ND2 RPL7 RPL38 RPLP0 RPL27A JUN UBA52 EIF1 RPS26 RPL10A H3-3B NACA RPS20 FTH1 TMSB10 RPL24 EEF1B2 PFDN5 MT-ND1 RPL4 RPL31 RPL36A RPS11 RPL36AL UBC EEF1D PABPC1 PTPRC RPL17 FOS H3-3A CD74 PFN1 BTF3 ACTG1 UQCRB TOMM7 JUNB FOSB HLA-E UQCR11 TLE5 MYL12A RPS4Y1 CTSW GAPDH MT-ND5 TXNIP BTG1 CD44 EIF4B EIF3H PPIA IER2 COX7C CYBA NPM1 ZFP36L2 MYL6 ARHGDIB PPDPF PPM1K EEF2 TMA7 YBX1 CFL1 C12ORF57 OAZ1 SNHG8 YBX3 SRSF7 PNRC1 TRBC1 P\n",
      "\n",
      "==================================================\n",
      "Generating NK cell:\n",
      "Generated: G0S2 GNLY B2M RPL41 EEF1A1 RPLP1 TPT1 RPL28 RPL30 RPL10 RPL13 RPS27 RPL32 MT-ND3 RPL34 RPL37 RPS12 RPS28 RPS23 MT-CO2 RPL19 RPS15 RPS18 RPL21 RPL18A RPS27A RPS3A MT-CO3 HLA-B RPS8 RPS15A RPS14 RPS6 RPS19 RPS24 RPS2 RPLP2 RPL37A RPL9 RPL7A MT-ATP6 RPL14 RPL12 RPL3 RPL35A HLA-A RPS25 RPS7 RPL11 RPS3 RPL29 RPL15 RPL39 HLA-C RPS4X RPS21 MT-CO1 RPL23A RPL5 TMSB4X MT-ND4 RPS29 RPSA RPL26 RPS13 RPL13A RPL8 FAU RPS16 RACK1 RPL36 RPL6 RPL22 RPL27 FTL RPS9 MT-CYB RPL18 RPL35 PTMA RPS5 RPL23 MT-ND2 RPL7 RPL38 RPLP0 RPL27A JUN UBA52 EIF1 RPS26 RPL10A H3-3B NACA RPS20 FTH1 TMSB10 RPL24 EEF1B2 PFDN5 MT-ND1 RPL4 RPL31 RPL36A RPS11 RPL36AL UBC EEF1D PABPC1 PTPRC RPL17 FOS H3-3A CD74 PFN1 BTF3 ACTG1 UQCRB TOMM7 JUNB FOSB HLA-E UQCR11 TLE5 MYL12A RPS4Y1 CTSW GAPDH MT-ND5 TXNIP BTG1 CD44 EIF4B EIF3H PPIA IER2 COX7C CYBA NPM1 ZFP36L2 MYL6 ARHGDIB PPDPF PPM1K EEF2 TMA7 YBX1 CFL1 C12ORF57 OAZ1 SNHG8 YBX3 SRSF7 PNRC1 TRBC1 P\n",
      "\n",
      "==================================================\n",
      "Generating NK cell:\n"
     ]
    },
    {
     "ename": "KeyboardInterrupt",
     "evalue": "",
     "output_type": "error",
     "traceback": [
      "\u001b[0;31m---------------------------------------------------------------------------\u001b[0m",
      "\u001b[0;31mKeyboardInterrupt\u001b[0m                         Traceback (most recent call last)",
      "Cell \u001b[0;32mIn[17], line 7\u001b[0m\n\u001b[1;32m      5\u001b[0m \u001b[38;5;28mprint\u001b[39m(\u001b[38;5;124mf\u001b[39m\u001b[38;5;124m\"\u001b[39m\u001b[38;5;130;01m\\n\u001b[39;00m\u001b[38;5;132;01m{\u001b[39;00m\u001b[38;5;124m'\u001b[39m\u001b[38;5;124m=\u001b[39m\u001b[38;5;124m'\u001b[39m\u001b[38;5;241m*\u001b[39m\u001b[38;5;241m50\u001b[39m\u001b[38;5;132;01m}\u001b[39;00m\u001b[38;5;124m\"\u001b[39m)\n\u001b[1;32m      6\u001b[0m \u001b[38;5;28mprint\u001b[39m(\u001b[38;5;124mf\u001b[39m\u001b[38;5;124m\"\u001b[39m\u001b[38;5;124mGenerating \u001b[39m\u001b[38;5;132;01m{\u001b[39;00mcell_type\u001b[38;5;132;01m}\u001b[39;00m\u001b[38;5;124m:\u001b[39m\u001b[38;5;124m\"\u001b[39m)\n\u001b[0;32m----> 7\u001b[0m generated \u001b[38;5;241m=\u001b[39m \u001b[43mgenerate_cell\u001b[49m\u001b[43m(\u001b[49m\u001b[43mcell_type\u001b[49m\u001b[43m,\u001b[49m\u001b[43m \u001b[49m\u001b[43mn_genes\u001b[49m\u001b[38;5;241;43m=\u001b[39;49m\u001b[38;5;241;43m20\u001b[39;49m\u001b[43m,\u001b[49m\u001b[43m \u001b[49m\u001b[43mverbose\u001b[49m\u001b[38;5;241;43m=\u001b[39;49m\u001b[38;5;28;43;01mFalse\u001b[39;49;00m\u001b[43m)\u001b[49m\n\u001b[1;32m      8\u001b[0m \u001b[38;5;28mprint\u001b[39m(\u001b[38;5;124mf\u001b[39m\u001b[38;5;124m\"\u001b[39m\u001b[38;5;124mGenerated: \u001b[39m\u001b[38;5;132;01m{\u001b[39;00mgenerated\u001b[38;5;132;01m}\u001b[39;00m\u001b[38;5;124m\"\u001b[39m)\n",
      "Cell \u001b[0;32mIn[16], line 20\u001b[0m, in \u001b[0;36mgenerate_cell\u001b[0;34m(cell_type, n_genes, organism, verbose)\u001b[0m\n\u001b[1;32m     17\u001b[0m     \u001b[38;5;28mprint\u001b[39m(\u001b[38;5;124m\"\u001b[39m\u001b[38;5;124m-\u001b[39m\u001b[38;5;124m\"\u001b[39m \u001b[38;5;241m*\u001b[39m \u001b[38;5;241m50\u001b[39m)\n\u001b[1;32m     19\u001b[0m \u001b[38;5;66;03m# Generate cell\u001b[39;00m\n\u001b[0;32m---> 20\u001b[0m response \u001b[38;5;241m=\u001b[39m \u001b[43mcsmodel\u001b[49m\u001b[38;5;241;43m.\u001b[39;49m\u001b[43mgenerate_from_prompt\u001b[49m\u001b[43m(\u001b[49m\n\u001b[1;32m     21\u001b[0m \u001b[43m    \u001b[49m\u001b[43mmodel\u001b[49m\u001b[38;5;241;43m=\u001b[39;49m\u001b[43mmodel\u001b[49m\u001b[43m,\u001b[49m\n\u001b[1;32m     22\u001b[0m \u001b[43m    \u001b[49m\u001b[43mprompt\u001b[49m\u001b[38;5;241;43m=\u001b[39;49m\u001b[43mprompt\u001b[49m\u001b[43m,\u001b[49m\n\u001b[1;32m     23\u001b[0m \u001b[43m    \u001b[49m\u001b[43mmax_num_tokens\u001b[49m\u001b[38;5;241;43m=\u001b[39;49m\u001b[38;5;241;43m512\u001b[39;49m\u001b[43m,\u001b[49m\n\u001b[1;32m     24\u001b[0m \u001b[43m    \u001b[49m\u001b[43mtemperature\u001b[49m\u001b[38;5;241;43m=\u001b[39;49m\u001b[38;5;241;43m0.8\u001b[39;49m\u001b[43m,\u001b[49m\n\u001b[1;32m     25\u001b[0m \u001b[43m    \u001b[49m\u001b[43mdo_sample\u001b[49m\u001b[38;5;241;43m=\u001b[39;49m\u001b[38;5;28;43;01mTrue\u001b[39;49;00m\n\u001b[1;32m     26\u001b[0m \u001b[43m\u001b[49m\u001b[43m)\u001b[49m\n\u001b[1;32m     28\u001b[0m \u001b[38;5;28;01mreturn\u001b[39;00m response\u001b[38;5;241m.\u001b[39mstrip()\n",
      "File \u001b[0;32m~/llm_scFMs/cell2sentence/src/cell2sentence/csmodel.py:251\u001b[0m, in \u001b[0;36mCSModel.generate_from_prompt\u001b[0;34m(self, model, prompt, max_num_tokens, **kwargs)\u001b[0m\n\u001b[1;32m    237\u001b[0m \u001b[38;5;28;01mdef\u001b[39;00m \u001b[38;5;21mgenerate_from_prompt\u001b[39m(\u001b[38;5;28mself\u001b[39m, model, prompt, max_num_tokens\u001b[38;5;241m=\u001b[39m\u001b[38;5;241m1024\u001b[39m, \u001b[38;5;241m*\u001b[39m\u001b[38;5;241m*\u001b[39mkwargs):\n\u001b[1;32m    238\u001b[0m \u001b[38;5;250m    \u001b[39m\u001b[38;5;124;03m\"\"\"\u001b[39;00m\n\u001b[1;32m    239\u001b[0m \u001b[38;5;124;03m    Generate new data using the model, starting with a given prompt.\u001b[39;00m\n\u001b[1;32m    240\u001b[0m \n\u001b[0;32m   (...)\u001b[0m\n\u001b[1;32m    249\u001b[0m \u001b[38;5;124;03m        Text corresponding to the number `n` of tokens requested\u001b[39;00m\n\u001b[1;32m    250\u001b[0m \u001b[38;5;124;03m    \"\"\"\u001b[39;00m\n\u001b[0;32m--> 251\u001b[0m     \u001b[38;5;28;01mreturn\u001b[39;00m \u001b[38;5;28;43mself\u001b[39;49m\u001b[38;5;241;43m.\u001b[39;49m\u001b[43mgenerate_from_prompt_batched\u001b[49m\u001b[43m(\u001b[49m\n\u001b[1;32m    252\u001b[0m \u001b[43m        \u001b[49m\u001b[43mmodel\u001b[49m\u001b[38;5;241;43m=\u001b[39;49m\u001b[43mmodel\u001b[49m\u001b[43m,\u001b[49m\u001b[43m \u001b[49m\n\u001b[1;32m    253\u001b[0m \u001b[43m        \u001b[49m\u001b[43mprompt_list\u001b[49m\u001b[38;5;241;43m=\u001b[39;49m\u001b[43m[\u001b[49m\u001b[43mprompt\u001b[49m\u001b[43m]\u001b[49m\u001b[43m,\u001b[49m\n\u001b[1;32m    254\u001b[0m \u001b[43m        \u001b[49m\u001b[43mmax_num_tokens\u001b[49m\u001b[38;5;241;43m=\u001b[39;49m\u001b[43mmax_num_tokens\u001b[49m\u001b[43m,\u001b[49m\n\u001b[1;32m    255\u001b[0m \u001b[43m        \u001b[49m\u001b[38;5;241;43m*\u001b[39;49m\u001b[38;5;241;43m*\u001b[39;49m\u001b[43mkwargs\u001b[49m\n\u001b[1;32m    256\u001b[0m \u001b[43m    \u001b[49m\u001b[43m)\u001b[49m[\u001b[38;5;241m0\u001b[39m]\n",
      "File \u001b[0;32m~/llm_scFMs/cell2sentence/src/cell2sentence/csmodel.py:276\u001b[0m, in \u001b[0;36mCSModel.generate_from_prompt_batched\u001b[0;34m(self, model, prompt_list, max_num_tokens, **kwargs)\u001b[0m\n\u001b[1;32m    273\u001b[0m input_ids \u001b[38;5;241m=\u001b[39m tokens[\u001b[38;5;124m'\u001b[39m\u001b[38;5;124minput_ids\u001b[39m\u001b[38;5;124m'\u001b[39m]\u001b[38;5;241m.\u001b[39mto(\u001b[38;5;28mself\u001b[39m\u001b[38;5;241m.\u001b[39mdevice)\n\u001b[1;32m    274\u001b[0m attention_mask \u001b[38;5;241m=\u001b[39m tokens[\u001b[38;5;124m'\u001b[39m\u001b[38;5;124mattention_mask\u001b[39m\u001b[38;5;124m'\u001b[39m]\u001b[38;5;241m.\u001b[39mto(\u001b[38;5;28mself\u001b[39m\u001b[38;5;241m.\u001b[39mdevice)\n\u001b[0;32m--> 276\u001b[0m outputs \u001b[38;5;241m=\u001b[39m \u001b[43mmodel\u001b[49m\u001b[38;5;241;43m.\u001b[39;49m\u001b[43mgenerate\u001b[49m\u001b[43m(\u001b[49m\n\u001b[1;32m    277\u001b[0m \u001b[43m    \u001b[49m\u001b[43minput_ids\u001b[49m\u001b[38;5;241;43m=\u001b[39;49m\u001b[43minput_ids\u001b[49m\u001b[43m,\u001b[49m\n\u001b[1;32m    278\u001b[0m \u001b[43m    \u001b[49m\u001b[43mattention_mask\u001b[49m\u001b[38;5;241;43m=\u001b[39;49m\u001b[43mattention_mask\u001b[49m\u001b[43m,\u001b[49m\n\u001b[1;32m    279\u001b[0m \u001b[43m    \u001b[49m\u001b[43mmax_new_tokens\u001b[49m\u001b[38;5;241;43m=\u001b[39;49m\u001b[43mmax_num_tokens\u001b[49m\u001b[43m,\u001b[49m\n\u001b[1;32m    280\u001b[0m \u001b[43m    \u001b[49m\u001b[43mpad_token_id\u001b[49m\u001b[38;5;241;43m=\u001b[39;49m\u001b[38;5;28;43mself\u001b[39;49m\u001b[38;5;241;43m.\u001b[39;49m\u001b[43mtokenizer\u001b[49m\u001b[38;5;241;43m.\u001b[39;49m\u001b[43mpad_token_id\u001b[49m\u001b[43m,\u001b[49m\n\u001b[1;32m    281\u001b[0m \u001b[43m    \u001b[49m\u001b[38;5;241;43m*\u001b[39;49m\u001b[38;5;241;43m*\u001b[39;49m\u001b[43mkwargs\u001b[49m\n\u001b[1;32m    282\u001b[0m \u001b[43m\u001b[49m\u001b[43m)\u001b[49m\n\u001b[1;32m    283\u001b[0m pred_list \u001b[38;5;241m=\u001b[39m \u001b[38;5;28mself\u001b[39m\u001b[38;5;241m.\u001b[39mtokenizer\u001b[38;5;241m.\u001b[39mbatch_decode(outputs, skip_special_tokens\u001b[38;5;241m=\u001b[39m\u001b[38;5;28;01mTrue\u001b[39;00m)\n\u001b[1;32m    284\u001b[0m predictions_without_input_prompt \u001b[38;5;241m=\u001b[39m []\n",
      "File \u001b[0;32m~/.conda/envs/cell2sentence/lib/python3.8/site-packages/torch/utils/_contextlib.py:116\u001b[0m, in \u001b[0;36mcontext_decorator.<locals>.decorate_context\u001b[0;34m(*args, **kwargs)\u001b[0m\n\u001b[1;32m    113\u001b[0m \u001b[38;5;129m@functools\u001b[39m\u001b[38;5;241m.\u001b[39mwraps(func)\n\u001b[1;32m    114\u001b[0m \u001b[38;5;28;01mdef\u001b[39;00m \u001b[38;5;21mdecorate_context\u001b[39m(\u001b[38;5;241m*\u001b[39margs, \u001b[38;5;241m*\u001b[39m\u001b[38;5;241m*\u001b[39mkwargs):\n\u001b[1;32m    115\u001b[0m     \u001b[38;5;28;01mwith\u001b[39;00m ctx_factory():\n\u001b[0;32m--> 116\u001b[0m         \u001b[38;5;28;01mreturn\u001b[39;00m \u001b[43mfunc\u001b[49m\u001b[43m(\u001b[49m\u001b[38;5;241;43m*\u001b[39;49m\u001b[43margs\u001b[49m\u001b[43m,\u001b[49m\u001b[43m \u001b[49m\u001b[38;5;241;43m*\u001b[39;49m\u001b[38;5;241;43m*\u001b[39;49m\u001b[43mkwargs\u001b[49m\u001b[43m)\u001b[49m\n",
      "File \u001b[0;32m~/.conda/envs/cell2sentence/lib/python3.8/site-packages/transformers/generation/utils.py:2215\u001b[0m, in \u001b[0;36mGenerationMixin.generate\u001b[0;34m(self, inputs, generation_config, logits_processor, stopping_criteria, prefix_allowed_tokens_fn, synced_gpus, assistant_model, streamer, negative_prompt_ids, negative_prompt_attention_mask, **kwargs)\u001b[0m\n\u001b[1;32m   2207\u001b[0m     input_ids, model_kwargs \u001b[38;5;241m=\u001b[39m \u001b[38;5;28mself\u001b[39m\u001b[38;5;241m.\u001b[39m_expand_inputs_for_generation(\n\u001b[1;32m   2208\u001b[0m         input_ids\u001b[38;5;241m=\u001b[39minput_ids,\n\u001b[1;32m   2209\u001b[0m         expand_size\u001b[38;5;241m=\u001b[39mgeneration_config\u001b[38;5;241m.\u001b[39mnum_return_sequences,\n\u001b[1;32m   2210\u001b[0m         is_encoder_decoder\u001b[38;5;241m=\u001b[39m\u001b[38;5;28mself\u001b[39m\u001b[38;5;241m.\u001b[39mconfig\u001b[38;5;241m.\u001b[39mis_encoder_decoder,\n\u001b[1;32m   2211\u001b[0m         \u001b[38;5;241m*\u001b[39m\u001b[38;5;241m*\u001b[39mmodel_kwargs,\n\u001b[1;32m   2212\u001b[0m     )\n\u001b[1;32m   2214\u001b[0m     \u001b[38;5;66;03m# 12. run sample (it degenerates to greedy search when `generation_config.do_sample=False`)\u001b[39;00m\n\u001b[0;32m-> 2215\u001b[0m     result \u001b[38;5;241m=\u001b[39m \u001b[38;5;28;43mself\u001b[39;49m\u001b[38;5;241;43m.\u001b[39;49m\u001b[43m_sample\u001b[49m\u001b[43m(\u001b[49m\n\u001b[1;32m   2216\u001b[0m \u001b[43m        \u001b[49m\u001b[43minput_ids\u001b[49m\u001b[43m,\u001b[49m\n\u001b[1;32m   2217\u001b[0m \u001b[43m        \u001b[49m\u001b[43mlogits_processor\u001b[49m\u001b[38;5;241;43m=\u001b[39;49m\u001b[43mprepared_logits_processor\u001b[49m\u001b[43m,\u001b[49m\n\u001b[1;32m   2218\u001b[0m \u001b[43m        \u001b[49m\u001b[43mstopping_criteria\u001b[49m\u001b[38;5;241;43m=\u001b[39;49m\u001b[43mprepared_stopping_criteria\u001b[49m\u001b[43m,\u001b[49m\n\u001b[1;32m   2219\u001b[0m \u001b[43m        \u001b[49m\u001b[43mgeneration_config\u001b[49m\u001b[38;5;241;43m=\u001b[39;49m\u001b[43mgeneration_config\u001b[49m\u001b[43m,\u001b[49m\n\u001b[1;32m   2220\u001b[0m \u001b[43m        \u001b[49m\u001b[43msynced_gpus\u001b[49m\u001b[38;5;241;43m=\u001b[39;49m\u001b[43msynced_gpus\u001b[49m\u001b[43m,\u001b[49m\n\u001b[1;32m   2221\u001b[0m \u001b[43m        \u001b[49m\u001b[43mstreamer\u001b[49m\u001b[38;5;241;43m=\u001b[39;49m\u001b[43mstreamer\u001b[49m\u001b[43m,\u001b[49m\n\u001b[1;32m   2222\u001b[0m \u001b[43m        \u001b[49m\u001b[38;5;241;43m*\u001b[39;49m\u001b[38;5;241;43m*\u001b[39;49m\u001b[43mmodel_kwargs\u001b[49m\u001b[43m,\u001b[49m\n\u001b[1;32m   2223\u001b[0m \u001b[43m    \u001b[49m\u001b[43m)\u001b[49m\n\u001b[1;32m   2225\u001b[0m \u001b[38;5;28;01melif\u001b[39;00m generation_mode \u001b[38;5;129;01min\u001b[39;00m (GenerationMode\u001b[38;5;241m.\u001b[39mBEAM_SAMPLE, GenerationMode\u001b[38;5;241m.\u001b[39mBEAM_SEARCH):\n\u001b[1;32m   2226\u001b[0m     \u001b[38;5;66;03m# 11. prepare beam search scorer\u001b[39;00m\n\u001b[1;32m   2227\u001b[0m     beam_scorer \u001b[38;5;241m=\u001b[39m BeamSearchScorer(\n\u001b[1;32m   2228\u001b[0m         batch_size\u001b[38;5;241m=\u001b[39mbatch_size,\n\u001b[1;32m   2229\u001b[0m         num_beams\u001b[38;5;241m=\u001b[39mgeneration_config\u001b[38;5;241m.\u001b[39mnum_beams,\n\u001b[0;32m   (...)\u001b[0m\n\u001b[1;32m   2234\u001b[0m         max_length\u001b[38;5;241m=\u001b[39mgeneration_config\u001b[38;5;241m.\u001b[39mmax_length,\n\u001b[1;32m   2235\u001b[0m     )\n",
      "File \u001b[0;32m~/.conda/envs/cell2sentence/lib/python3.8/site-packages/transformers/generation/utils.py:3206\u001b[0m, in \u001b[0;36mGenerationMixin._sample\u001b[0;34m(self, input_ids, logits_processor, stopping_criteria, generation_config, synced_gpus, streamer, **model_kwargs)\u001b[0m\n\u001b[1;32m   3203\u001b[0m model_inputs\u001b[38;5;241m.\u001b[39mupdate({\u001b[38;5;124m\"\u001b[39m\u001b[38;5;124moutput_hidden_states\u001b[39m\u001b[38;5;124m\"\u001b[39m: output_hidden_states} \u001b[38;5;28;01mif\u001b[39;00m output_hidden_states \u001b[38;5;28;01melse\u001b[39;00m {})\n\u001b[1;32m   3205\u001b[0m \u001b[38;5;66;03m# forward pass to get next token\u001b[39;00m\n\u001b[0;32m-> 3206\u001b[0m outputs \u001b[38;5;241m=\u001b[39m \u001b[38;5;28;43mself\u001b[39;49m\u001b[43m(\u001b[49m\u001b[38;5;241;43m*\u001b[39;49m\u001b[38;5;241;43m*\u001b[39;49m\u001b[43mmodel_inputs\u001b[49m\u001b[43m,\u001b[49m\u001b[43m \u001b[49m\u001b[43mreturn_dict\u001b[49m\u001b[38;5;241;43m=\u001b[39;49m\u001b[38;5;28;43;01mTrue\u001b[39;49;00m\u001b[43m)\u001b[49m\n\u001b[1;32m   3208\u001b[0m \u001b[38;5;66;03m# synced_gpus: don't waste resources running the code we don't need; kwargs must be updated before skipping\u001b[39;00m\n\u001b[1;32m   3209\u001b[0m model_kwargs \u001b[38;5;241m=\u001b[39m \u001b[38;5;28mself\u001b[39m\u001b[38;5;241m.\u001b[39m_update_model_kwargs_for_generation(\n\u001b[1;32m   3210\u001b[0m     outputs,\n\u001b[1;32m   3211\u001b[0m     model_kwargs,\n\u001b[1;32m   3212\u001b[0m     is_encoder_decoder\u001b[38;5;241m=\u001b[39m\u001b[38;5;28mself\u001b[39m\u001b[38;5;241m.\u001b[39mconfig\u001b[38;5;241m.\u001b[39mis_encoder_decoder,\n\u001b[1;32m   3213\u001b[0m )\n",
      "File \u001b[0;32m~/.conda/envs/cell2sentence/lib/python3.8/site-packages/torch/nn/modules/module.py:1553\u001b[0m, in \u001b[0;36mModule._wrapped_call_impl\u001b[0;34m(self, *args, **kwargs)\u001b[0m\n\u001b[1;32m   1551\u001b[0m     \u001b[38;5;28;01mreturn\u001b[39;00m \u001b[38;5;28mself\u001b[39m\u001b[38;5;241m.\u001b[39m_compiled_call_impl(\u001b[38;5;241m*\u001b[39margs, \u001b[38;5;241m*\u001b[39m\u001b[38;5;241m*\u001b[39mkwargs)  \u001b[38;5;66;03m# type: ignore[misc]\u001b[39;00m\n\u001b[1;32m   1552\u001b[0m \u001b[38;5;28;01melse\u001b[39;00m:\n\u001b[0;32m-> 1553\u001b[0m     \u001b[38;5;28;01mreturn\u001b[39;00m \u001b[38;5;28;43mself\u001b[39;49m\u001b[38;5;241;43m.\u001b[39;49m\u001b[43m_call_impl\u001b[49m\u001b[43m(\u001b[49m\u001b[38;5;241;43m*\u001b[39;49m\u001b[43margs\u001b[49m\u001b[43m,\u001b[49m\u001b[43m \u001b[49m\u001b[38;5;241;43m*\u001b[39;49m\u001b[38;5;241;43m*\u001b[39;49m\u001b[43mkwargs\u001b[49m\u001b[43m)\u001b[49m\n",
      "File \u001b[0;32m~/.conda/envs/cell2sentence/lib/python3.8/site-packages/torch/nn/modules/module.py:1562\u001b[0m, in \u001b[0;36mModule._call_impl\u001b[0;34m(self, *args, **kwargs)\u001b[0m\n\u001b[1;32m   1557\u001b[0m \u001b[38;5;66;03m# If we don't have any hooks, we want to skip the rest of the logic in\u001b[39;00m\n\u001b[1;32m   1558\u001b[0m \u001b[38;5;66;03m# this function, and just call forward.\u001b[39;00m\n\u001b[1;32m   1559\u001b[0m \u001b[38;5;28;01mif\u001b[39;00m \u001b[38;5;129;01mnot\u001b[39;00m (\u001b[38;5;28mself\u001b[39m\u001b[38;5;241m.\u001b[39m_backward_hooks \u001b[38;5;129;01mor\u001b[39;00m \u001b[38;5;28mself\u001b[39m\u001b[38;5;241m.\u001b[39m_backward_pre_hooks \u001b[38;5;129;01mor\u001b[39;00m \u001b[38;5;28mself\u001b[39m\u001b[38;5;241m.\u001b[39m_forward_hooks \u001b[38;5;129;01mor\u001b[39;00m \u001b[38;5;28mself\u001b[39m\u001b[38;5;241m.\u001b[39m_forward_pre_hooks\n\u001b[1;32m   1560\u001b[0m         \u001b[38;5;129;01mor\u001b[39;00m _global_backward_pre_hooks \u001b[38;5;129;01mor\u001b[39;00m _global_backward_hooks\n\u001b[1;32m   1561\u001b[0m         \u001b[38;5;129;01mor\u001b[39;00m _global_forward_hooks \u001b[38;5;129;01mor\u001b[39;00m _global_forward_pre_hooks):\n\u001b[0;32m-> 1562\u001b[0m     \u001b[38;5;28;01mreturn\u001b[39;00m \u001b[43mforward_call\u001b[49m\u001b[43m(\u001b[49m\u001b[38;5;241;43m*\u001b[39;49m\u001b[43margs\u001b[49m\u001b[43m,\u001b[49m\u001b[43m \u001b[49m\u001b[38;5;241;43m*\u001b[39;49m\u001b[38;5;241;43m*\u001b[39;49m\u001b[43mkwargs\u001b[49m\u001b[43m)\u001b[49m\n\u001b[1;32m   1564\u001b[0m \u001b[38;5;28;01mtry\u001b[39;00m:\n\u001b[1;32m   1565\u001b[0m     result \u001b[38;5;241m=\u001b[39m \u001b[38;5;28;01mNone\u001b[39;00m\n",
      "File \u001b[0;32m~/.conda/envs/cell2sentence/lib/python3.8/site-packages/transformers/models/gpt_neox/modeling_gpt_neox.py:1178\u001b[0m, in \u001b[0;36mGPTNeoXForCausalLM.forward\u001b[0;34m(self, input_ids, attention_mask, position_ids, inputs_embeds, head_mask, past_key_values, labels, use_cache, output_attentions, output_hidden_states, return_dict, cache_position)\u001b[0m\n\u001b[1;32m   1149\u001b[0m \u001b[38;5;250m\u001b[39m\u001b[38;5;124mr\u001b[39m\u001b[38;5;124;03m\"\"\"\u001b[39;00m\n\u001b[1;32m   1150\u001b[0m \u001b[38;5;124;03mlabels (`torch.LongTensor` of shape `(batch_size, sequence_length)`, *optional*):\u001b[39;00m\n\u001b[1;32m   1151\u001b[0m \u001b[38;5;124;03m    Labels for computing the left-to-right language modeling loss (next word prediction). Indices should be in\u001b[39;00m\n\u001b[0;32m   (...)\u001b[0m\n\u001b[1;32m   1174\u001b[0m \u001b[38;5;124;03m>>> prediction_logits = outputs.logits\u001b[39;00m\n\u001b[1;32m   1175\u001b[0m \u001b[38;5;124;03m```\"\"\"\u001b[39;00m\n\u001b[1;32m   1176\u001b[0m return_dict \u001b[38;5;241m=\u001b[39m return_dict \u001b[38;5;28;01mif\u001b[39;00m return_dict \u001b[38;5;129;01mis\u001b[39;00m \u001b[38;5;129;01mnot\u001b[39;00m \u001b[38;5;28;01mNone\u001b[39;00m \u001b[38;5;28;01melse\u001b[39;00m \u001b[38;5;28mself\u001b[39m\u001b[38;5;241m.\u001b[39mconfig\u001b[38;5;241m.\u001b[39muse_return_dict\n\u001b[0;32m-> 1178\u001b[0m outputs \u001b[38;5;241m=\u001b[39m \u001b[38;5;28;43mself\u001b[39;49m\u001b[38;5;241;43m.\u001b[39;49m\u001b[43mgpt_neox\u001b[49m\u001b[43m(\u001b[49m\n\u001b[1;32m   1179\u001b[0m \u001b[43m    \u001b[49m\u001b[43minput_ids\u001b[49m\u001b[43m,\u001b[49m\n\u001b[1;32m   1180\u001b[0m \u001b[43m    \u001b[49m\u001b[43mattention_mask\u001b[49m\u001b[38;5;241;43m=\u001b[39;49m\u001b[43mattention_mask\u001b[49m\u001b[43m,\u001b[49m\n\u001b[1;32m   1181\u001b[0m \u001b[43m    \u001b[49m\u001b[43mposition_ids\u001b[49m\u001b[38;5;241;43m=\u001b[39;49m\u001b[43mposition_ids\u001b[49m\u001b[43m,\u001b[49m\n\u001b[1;32m   1182\u001b[0m \u001b[43m    \u001b[49m\u001b[43mhead_mask\u001b[49m\u001b[38;5;241;43m=\u001b[39;49m\u001b[43mhead_mask\u001b[49m\u001b[43m,\u001b[49m\n\u001b[1;32m   1183\u001b[0m \u001b[43m    \u001b[49m\u001b[43minputs_embeds\u001b[49m\u001b[38;5;241;43m=\u001b[39;49m\u001b[43minputs_embeds\u001b[49m\u001b[43m,\u001b[49m\n\u001b[1;32m   1184\u001b[0m \u001b[43m    \u001b[49m\u001b[43mpast_key_values\u001b[49m\u001b[38;5;241;43m=\u001b[39;49m\u001b[43mpast_key_values\u001b[49m\u001b[43m,\u001b[49m\n\u001b[1;32m   1185\u001b[0m \u001b[43m    \u001b[49m\u001b[43muse_cache\u001b[49m\u001b[38;5;241;43m=\u001b[39;49m\u001b[43muse_cache\u001b[49m\u001b[43m,\u001b[49m\n\u001b[1;32m   1186\u001b[0m \u001b[43m    \u001b[49m\u001b[43moutput_attentions\u001b[49m\u001b[38;5;241;43m=\u001b[39;49m\u001b[43moutput_attentions\u001b[49m\u001b[43m,\u001b[49m\n\u001b[1;32m   1187\u001b[0m \u001b[43m    \u001b[49m\u001b[43moutput_hidden_states\u001b[49m\u001b[38;5;241;43m=\u001b[39;49m\u001b[43moutput_hidden_states\u001b[49m\u001b[43m,\u001b[49m\n\u001b[1;32m   1188\u001b[0m \u001b[43m    \u001b[49m\u001b[43mreturn_dict\u001b[49m\u001b[38;5;241;43m=\u001b[39;49m\u001b[43mreturn_dict\u001b[49m\u001b[43m,\u001b[49m\n\u001b[1;32m   1189\u001b[0m \u001b[43m    \u001b[49m\u001b[43mcache_position\u001b[49m\u001b[38;5;241;43m=\u001b[39;49m\u001b[43mcache_position\u001b[49m\u001b[43m,\u001b[49m\n\u001b[1;32m   1190\u001b[0m \u001b[43m\u001b[49m\u001b[43m)\u001b[49m\n\u001b[1;32m   1192\u001b[0m hidden_states \u001b[38;5;241m=\u001b[39m outputs[\u001b[38;5;241m0\u001b[39m]\n\u001b[1;32m   1193\u001b[0m lm_logits \u001b[38;5;241m=\u001b[39m \u001b[38;5;28mself\u001b[39m\u001b[38;5;241m.\u001b[39membed_out(hidden_states)\n",
      "File \u001b[0;32m~/.conda/envs/cell2sentence/lib/python3.8/site-packages/torch/nn/modules/module.py:1553\u001b[0m, in \u001b[0;36mModule._wrapped_call_impl\u001b[0;34m(self, *args, **kwargs)\u001b[0m\n\u001b[1;32m   1551\u001b[0m     \u001b[38;5;28;01mreturn\u001b[39;00m \u001b[38;5;28mself\u001b[39m\u001b[38;5;241m.\u001b[39m_compiled_call_impl(\u001b[38;5;241m*\u001b[39margs, \u001b[38;5;241m*\u001b[39m\u001b[38;5;241m*\u001b[39mkwargs)  \u001b[38;5;66;03m# type: ignore[misc]\u001b[39;00m\n\u001b[1;32m   1552\u001b[0m \u001b[38;5;28;01melse\u001b[39;00m:\n\u001b[0;32m-> 1553\u001b[0m     \u001b[38;5;28;01mreturn\u001b[39;00m \u001b[38;5;28;43mself\u001b[39;49m\u001b[38;5;241;43m.\u001b[39;49m\u001b[43m_call_impl\u001b[49m\u001b[43m(\u001b[49m\u001b[38;5;241;43m*\u001b[39;49m\u001b[43margs\u001b[49m\u001b[43m,\u001b[49m\u001b[43m \u001b[49m\u001b[38;5;241;43m*\u001b[39;49m\u001b[38;5;241;43m*\u001b[39;49m\u001b[43mkwargs\u001b[49m\u001b[43m)\u001b[49m\n",
      "File \u001b[0;32m~/.conda/envs/cell2sentence/lib/python3.8/site-packages/torch/nn/modules/module.py:1562\u001b[0m, in \u001b[0;36mModule._call_impl\u001b[0;34m(self, *args, **kwargs)\u001b[0m\n\u001b[1;32m   1557\u001b[0m \u001b[38;5;66;03m# If we don't have any hooks, we want to skip the rest of the logic in\u001b[39;00m\n\u001b[1;32m   1558\u001b[0m \u001b[38;5;66;03m# this function, and just call forward.\u001b[39;00m\n\u001b[1;32m   1559\u001b[0m \u001b[38;5;28;01mif\u001b[39;00m \u001b[38;5;129;01mnot\u001b[39;00m (\u001b[38;5;28mself\u001b[39m\u001b[38;5;241m.\u001b[39m_backward_hooks \u001b[38;5;129;01mor\u001b[39;00m \u001b[38;5;28mself\u001b[39m\u001b[38;5;241m.\u001b[39m_backward_pre_hooks \u001b[38;5;129;01mor\u001b[39;00m \u001b[38;5;28mself\u001b[39m\u001b[38;5;241m.\u001b[39m_forward_hooks \u001b[38;5;129;01mor\u001b[39;00m \u001b[38;5;28mself\u001b[39m\u001b[38;5;241m.\u001b[39m_forward_pre_hooks\n\u001b[1;32m   1560\u001b[0m         \u001b[38;5;129;01mor\u001b[39;00m _global_backward_pre_hooks \u001b[38;5;129;01mor\u001b[39;00m _global_backward_hooks\n\u001b[1;32m   1561\u001b[0m         \u001b[38;5;129;01mor\u001b[39;00m _global_forward_hooks \u001b[38;5;129;01mor\u001b[39;00m _global_forward_pre_hooks):\n\u001b[0;32m-> 1562\u001b[0m     \u001b[38;5;28;01mreturn\u001b[39;00m \u001b[43mforward_call\u001b[49m\u001b[43m(\u001b[49m\u001b[38;5;241;43m*\u001b[39;49m\u001b[43margs\u001b[49m\u001b[43m,\u001b[49m\u001b[43m \u001b[49m\u001b[38;5;241;43m*\u001b[39;49m\u001b[38;5;241;43m*\u001b[39;49m\u001b[43mkwargs\u001b[49m\u001b[43m)\u001b[49m\n\u001b[1;32m   1564\u001b[0m \u001b[38;5;28;01mtry\u001b[39;00m:\n\u001b[1;32m   1565\u001b[0m     result \u001b[38;5;241m=\u001b[39m \u001b[38;5;28;01mNone\u001b[39;00m\n",
      "File \u001b[0;32m~/.conda/envs/cell2sentence/lib/python3.8/site-packages/transformers/models/gpt_neox/modeling_gpt_neox.py:951\u001b[0m, in \u001b[0;36mGPTNeoXModel.forward\u001b[0;34m(self, input_ids, attention_mask, position_ids, head_mask, inputs_embeds, past_key_values, use_cache, output_attentions, output_hidden_states, return_dict, cache_position)\u001b[0m\n\u001b[1;32m    938\u001b[0m     outputs \u001b[38;5;241m=\u001b[39m \u001b[38;5;28mself\u001b[39m\u001b[38;5;241m.\u001b[39m_gradient_checkpointing_func(\n\u001b[1;32m    939\u001b[0m         layer\u001b[38;5;241m.\u001b[39m\u001b[38;5;21m__call__\u001b[39m,\n\u001b[1;32m    940\u001b[0m         hidden_states,\n\u001b[0;32m   (...)\u001b[0m\n\u001b[1;32m    948\u001b[0m         position_embeddings,\n\u001b[1;32m    949\u001b[0m     )\n\u001b[1;32m    950\u001b[0m \u001b[38;5;28;01melse\u001b[39;00m:\n\u001b[0;32m--> 951\u001b[0m     outputs \u001b[38;5;241m=\u001b[39m \u001b[43mlayer\u001b[49m\u001b[43m(\u001b[49m\n\u001b[1;32m    952\u001b[0m \u001b[43m        \u001b[49m\u001b[43mhidden_states\u001b[49m\u001b[43m,\u001b[49m\n\u001b[1;32m    953\u001b[0m \u001b[43m        \u001b[49m\u001b[43mattention_mask\u001b[49m\u001b[38;5;241;43m=\u001b[39;49m\u001b[43mcausal_mask\u001b[49m\u001b[43m,\u001b[49m\n\u001b[1;32m    954\u001b[0m \u001b[43m        \u001b[49m\u001b[43mposition_ids\u001b[49m\u001b[38;5;241;43m=\u001b[39;49m\u001b[43mposition_ids\u001b[49m\u001b[43m,\u001b[49m\n\u001b[1;32m    955\u001b[0m \u001b[43m        \u001b[49m\u001b[43mhead_mask\u001b[49m\u001b[38;5;241;43m=\u001b[39;49m\u001b[43mhead_mask\u001b[49m\u001b[43m[\u001b[49m\u001b[43mi\u001b[49m\u001b[43m]\u001b[49m\u001b[43m,\u001b[49m\n\u001b[1;32m    956\u001b[0m \u001b[43m        \u001b[49m\u001b[43mlayer_past\u001b[49m\u001b[38;5;241;43m=\u001b[39;49m\u001b[43mpast_key_values\u001b[49m\u001b[43m,\u001b[49m\n\u001b[1;32m    957\u001b[0m \u001b[43m        \u001b[49m\u001b[43muse_cache\u001b[49m\u001b[38;5;241;43m=\u001b[39;49m\u001b[43muse_cache\u001b[49m\u001b[43m,\u001b[49m\n\u001b[1;32m    958\u001b[0m \u001b[43m        \u001b[49m\u001b[43moutput_attentions\u001b[49m\u001b[38;5;241;43m=\u001b[39;49m\u001b[43moutput_attentions\u001b[49m\u001b[43m,\u001b[49m\n\u001b[1;32m    959\u001b[0m \u001b[43m        \u001b[49m\u001b[43mcache_position\u001b[49m\u001b[38;5;241;43m=\u001b[39;49m\u001b[43mcache_position\u001b[49m\u001b[43m,\u001b[49m\n\u001b[1;32m    960\u001b[0m \u001b[43m        \u001b[49m\u001b[43mposition_embeddings\u001b[49m\u001b[38;5;241;43m=\u001b[39;49m\u001b[43mposition_embeddings\u001b[49m\u001b[43m,\u001b[49m\n\u001b[1;32m    961\u001b[0m \u001b[43m    \u001b[49m\u001b[43m)\u001b[49m\n\u001b[1;32m    962\u001b[0m hidden_states \u001b[38;5;241m=\u001b[39m outputs[\u001b[38;5;241m0\u001b[39m]\n\u001b[1;32m    963\u001b[0m \u001b[38;5;28;01mif\u001b[39;00m use_cache \u001b[38;5;129;01mis\u001b[39;00m \u001b[38;5;28;01mTrue\u001b[39;00m:\n",
      "File \u001b[0;32m~/.conda/envs/cell2sentence/lib/python3.8/site-packages/torch/nn/modules/module.py:1553\u001b[0m, in \u001b[0;36mModule._wrapped_call_impl\u001b[0;34m(self, *args, **kwargs)\u001b[0m\n\u001b[1;32m   1551\u001b[0m     \u001b[38;5;28;01mreturn\u001b[39;00m \u001b[38;5;28mself\u001b[39m\u001b[38;5;241m.\u001b[39m_compiled_call_impl(\u001b[38;5;241m*\u001b[39margs, \u001b[38;5;241m*\u001b[39m\u001b[38;5;241m*\u001b[39mkwargs)  \u001b[38;5;66;03m# type: ignore[misc]\u001b[39;00m\n\u001b[1;32m   1552\u001b[0m \u001b[38;5;28;01melse\u001b[39;00m:\n\u001b[0;32m-> 1553\u001b[0m     \u001b[38;5;28;01mreturn\u001b[39;00m \u001b[38;5;28;43mself\u001b[39;49m\u001b[38;5;241;43m.\u001b[39;49m\u001b[43m_call_impl\u001b[49m\u001b[43m(\u001b[49m\u001b[38;5;241;43m*\u001b[39;49m\u001b[43margs\u001b[49m\u001b[43m,\u001b[49m\u001b[43m \u001b[49m\u001b[38;5;241;43m*\u001b[39;49m\u001b[38;5;241;43m*\u001b[39;49m\u001b[43mkwargs\u001b[49m\u001b[43m)\u001b[49m\n",
      "File \u001b[0;32m~/.conda/envs/cell2sentence/lib/python3.8/site-packages/torch/nn/modules/module.py:1562\u001b[0m, in \u001b[0;36mModule._call_impl\u001b[0;34m(self, *args, **kwargs)\u001b[0m\n\u001b[1;32m   1557\u001b[0m \u001b[38;5;66;03m# If we don't have any hooks, we want to skip the rest of the logic in\u001b[39;00m\n\u001b[1;32m   1558\u001b[0m \u001b[38;5;66;03m# this function, and just call forward.\u001b[39;00m\n\u001b[1;32m   1559\u001b[0m \u001b[38;5;28;01mif\u001b[39;00m \u001b[38;5;129;01mnot\u001b[39;00m (\u001b[38;5;28mself\u001b[39m\u001b[38;5;241m.\u001b[39m_backward_hooks \u001b[38;5;129;01mor\u001b[39;00m \u001b[38;5;28mself\u001b[39m\u001b[38;5;241m.\u001b[39m_backward_pre_hooks \u001b[38;5;129;01mor\u001b[39;00m \u001b[38;5;28mself\u001b[39m\u001b[38;5;241m.\u001b[39m_forward_hooks \u001b[38;5;129;01mor\u001b[39;00m \u001b[38;5;28mself\u001b[39m\u001b[38;5;241m.\u001b[39m_forward_pre_hooks\n\u001b[1;32m   1560\u001b[0m         \u001b[38;5;129;01mor\u001b[39;00m _global_backward_pre_hooks \u001b[38;5;129;01mor\u001b[39;00m _global_backward_hooks\n\u001b[1;32m   1561\u001b[0m         \u001b[38;5;129;01mor\u001b[39;00m _global_forward_hooks \u001b[38;5;129;01mor\u001b[39;00m _global_forward_pre_hooks):\n\u001b[0;32m-> 1562\u001b[0m     \u001b[38;5;28;01mreturn\u001b[39;00m \u001b[43mforward_call\u001b[49m\u001b[43m(\u001b[49m\u001b[38;5;241;43m*\u001b[39;49m\u001b[43margs\u001b[49m\u001b[43m,\u001b[49m\u001b[43m \u001b[49m\u001b[38;5;241;43m*\u001b[39;49m\u001b[38;5;241;43m*\u001b[39;49m\u001b[43mkwargs\u001b[49m\u001b[43m)\u001b[49m\n\u001b[1;32m   1564\u001b[0m \u001b[38;5;28;01mtry\u001b[39;00m:\n\u001b[1;32m   1565\u001b[0m     result \u001b[38;5;241m=\u001b[39m \u001b[38;5;28;01mNone\u001b[39;00m\n",
      "File \u001b[0;32m~/.conda/envs/cell2sentence/lib/python3.8/site-packages/transformers/models/gpt_neox/modeling_gpt_neox.py:704\u001b[0m, in \u001b[0;36mGPTNeoXLayer.forward\u001b[0;34m(self, hidden_states, attention_mask, position_ids, head_mask, use_cache, layer_past, output_attentions, cache_position, position_embeddings)\u001b[0m\n\u001b[1;32m    692\u001b[0m \u001b[38;5;28;01mdef\u001b[39;00m \u001b[38;5;21mforward\u001b[39m(\n\u001b[1;32m    693\u001b[0m     \u001b[38;5;28mself\u001b[39m,\n\u001b[1;32m    694\u001b[0m     hidden_states: Optional[torch\u001b[38;5;241m.\u001b[39mFloatTensor],\n\u001b[0;32m   (...)\u001b[0m\n\u001b[1;32m    702\u001b[0m     position_embeddings: Optional[Tuple[torch\u001b[38;5;241m.\u001b[39mTensor, torch\u001b[38;5;241m.\u001b[39mTensor]] \u001b[38;5;241m=\u001b[39m \u001b[38;5;28;01mNone\u001b[39;00m,  \u001b[38;5;66;03m# will become mandatory in v4.46\u001b[39;00m\n\u001b[1;32m    703\u001b[0m ):\n\u001b[0;32m--> 704\u001b[0m     attention_layer_outputs \u001b[38;5;241m=\u001b[39m \u001b[38;5;28;43mself\u001b[39;49m\u001b[38;5;241;43m.\u001b[39;49m\u001b[43mattention\u001b[49m\u001b[43m(\u001b[49m\n\u001b[1;32m    705\u001b[0m \u001b[43m        \u001b[49m\u001b[38;5;28;43mself\u001b[39;49m\u001b[38;5;241;43m.\u001b[39;49m\u001b[43minput_layernorm\u001b[49m\u001b[43m(\u001b[49m\u001b[43mhidden_states\u001b[49m\u001b[43m)\u001b[49m\u001b[43m,\u001b[49m\n\u001b[1;32m    706\u001b[0m \u001b[43m        \u001b[49m\u001b[43mattention_mask\u001b[49m\u001b[38;5;241;43m=\u001b[39;49m\u001b[43mattention_mask\u001b[49m\u001b[43m,\u001b[49m\n\u001b[1;32m    707\u001b[0m \u001b[43m        \u001b[49m\u001b[43mposition_ids\u001b[49m\u001b[38;5;241;43m=\u001b[39;49m\u001b[43mposition_ids\u001b[49m\u001b[43m,\u001b[49m\n\u001b[1;32m    708\u001b[0m \u001b[43m        \u001b[49m\u001b[43mlayer_past\u001b[49m\u001b[38;5;241;43m=\u001b[39;49m\u001b[43mlayer_past\u001b[49m\u001b[43m,\u001b[49m\n\u001b[1;32m    709\u001b[0m \u001b[43m        \u001b[49m\u001b[43mhead_mask\u001b[49m\u001b[38;5;241;43m=\u001b[39;49m\u001b[43mhead_mask\u001b[49m\u001b[43m,\u001b[49m\n\u001b[1;32m    710\u001b[0m \u001b[43m        \u001b[49m\u001b[43muse_cache\u001b[49m\u001b[38;5;241;43m=\u001b[39;49m\u001b[43muse_cache\u001b[49m\u001b[43m,\u001b[49m\n\u001b[1;32m    711\u001b[0m \u001b[43m        \u001b[49m\u001b[43moutput_attentions\u001b[49m\u001b[38;5;241;43m=\u001b[39;49m\u001b[43moutput_attentions\u001b[49m\u001b[43m,\u001b[49m\n\u001b[1;32m    712\u001b[0m \u001b[43m        \u001b[49m\u001b[43mcache_position\u001b[49m\u001b[38;5;241;43m=\u001b[39;49m\u001b[43mcache_position\u001b[49m\u001b[43m,\u001b[49m\n\u001b[1;32m    713\u001b[0m \u001b[43m        \u001b[49m\u001b[43mposition_embeddings\u001b[49m\u001b[38;5;241;43m=\u001b[39;49m\u001b[43mposition_embeddings\u001b[49m\u001b[43m,\u001b[49m\n\u001b[1;32m    714\u001b[0m \u001b[43m    \u001b[49m\u001b[43m)\u001b[49m\n\u001b[1;32m    715\u001b[0m     attn_output \u001b[38;5;241m=\u001b[39m attention_layer_outputs[\u001b[38;5;241m0\u001b[39m]  \u001b[38;5;66;03m# output_attn: attn_output, present, (attn_weights)\u001b[39;00m\n\u001b[1;32m    716\u001b[0m     attn_output \u001b[38;5;241m=\u001b[39m \u001b[38;5;28mself\u001b[39m\u001b[38;5;241m.\u001b[39mpost_attention_dropout(attn_output)\n",
      "File \u001b[0;32m~/.conda/envs/cell2sentence/lib/python3.8/site-packages/torch/nn/modules/module.py:1553\u001b[0m, in \u001b[0;36mModule._wrapped_call_impl\u001b[0;34m(self, *args, **kwargs)\u001b[0m\n\u001b[1;32m   1551\u001b[0m     \u001b[38;5;28;01mreturn\u001b[39;00m \u001b[38;5;28mself\u001b[39m\u001b[38;5;241m.\u001b[39m_compiled_call_impl(\u001b[38;5;241m*\u001b[39margs, \u001b[38;5;241m*\u001b[39m\u001b[38;5;241m*\u001b[39mkwargs)  \u001b[38;5;66;03m# type: ignore[misc]\u001b[39;00m\n\u001b[1;32m   1552\u001b[0m \u001b[38;5;28;01melse\u001b[39;00m:\n\u001b[0;32m-> 1553\u001b[0m     \u001b[38;5;28;01mreturn\u001b[39;00m \u001b[38;5;28;43mself\u001b[39;49m\u001b[38;5;241;43m.\u001b[39;49m\u001b[43m_call_impl\u001b[49m\u001b[43m(\u001b[49m\u001b[38;5;241;43m*\u001b[39;49m\u001b[43margs\u001b[49m\u001b[43m,\u001b[49m\u001b[43m \u001b[49m\u001b[38;5;241;43m*\u001b[39;49m\u001b[38;5;241;43m*\u001b[39;49m\u001b[43mkwargs\u001b[49m\u001b[43m)\u001b[49m\n",
      "File \u001b[0;32m~/.conda/envs/cell2sentence/lib/python3.8/site-packages/torch/nn/modules/module.py:1562\u001b[0m, in \u001b[0;36mModule._call_impl\u001b[0;34m(self, *args, **kwargs)\u001b[0m\n\u001b[1;32m   1557\u001b[0m \u001b[38;5;66;03m# If we don't have any hooks, we want to skip the rest of the logic in\u001b[39;00m\n\u001b[1;32m   1558\u001b[0m \u001b[38;5;66;03m# this function, and just call forward.\u001b[39;00m\n\u001b[1;32m   1559\u001b[0m \u001b[38;5;28;01mif\u001b[39;00m \u001b[38;5;129;01mnot\u001b[39;00m (\u001b[38;5;28mself\u001b[39m\u001b[38;5;241m.\u001b[39m_backward_hooks \u001b[38;5;129;01mor\u001b[39;00m \u001b[38;5;28mself\u001b[39m\u001b[38;5;241m.\u001b[39m_backward_pre_hooks \u001b[38;5;129;01mor\u001b[39;00m \u001b[38;5;28mself\u001b[39m\u001b[38;5;241m.\u001b[39m_forward_hooks \u001b[38;5;129;01mor\u001b[39;00m \u001b[38;5;28mself\u001b[39m\u001b[38;5;241m.\u001b[39m_forward_pre_hooks\n\u001b[1;32m   1560\u001b[0m         \u001b[38;5;129;01mor\u001b[39;00m _global_backward_pre_hooks \u001b[38;5;129;01mor\u001b[39;00m _global_backward_hooks\n\u001b[1;32m   1561\u001b[0m         \u001b[38;5;129;01mor\u001b[39;00m _global_forward_hooks \u001b[38;5;129;01mor\u001b[39;00m _global_forward_pre_hooks):\n\u001b[0;32m-> 1562\u001b[0m     \u001b[38;5;28;01mreturn\u001b[39;00m \u001b[43mforward_call\u001b[49m\u001b[43m(\u001b[49m\u001b[38;5;241;43m*\u001b[39;49m\u001b[43margs\u001b[49m\u001b[43m,\u001b[49m\u001b[43m \u001b[49m\u001b[38;5;241;43m*\u001b[39;49m\u001b[38;5;241;43m*\u001b[39;49m\u001b[43mkwargs\u001b[49m\u001b[43m)\u001b[49m\n\u001b[1;32m   1564\u001b[0m \u001b[38;5;28;01mtry\u001b[39;00m:\n\u001b[1;32m   1565\u001b[0m     result \u001b[38;5;241m=\u001b[39m \u001b[38;5;28;01mNone\u001b[39;00m\n",
      "File \u001b[0;32m~/.conda/envs/cell2sentence/lib/python3.8/site-packages/transformers/models/gpt_neox/modeling_gpt_neox.py:487\u001b[0m, in \u001b[0;36mGPTNeoXSdpaAttention.forward\u001b[0;34m(self, hidden_states, attention_mask, position_ids, head_mask, layer_past, use_cache, output_attentions, cache_position, position_embeddings)\u001b[0m\n\u001b[1;32m    483\u001b[0m \u001b[38;5;66;03m# We dispatch to SDPA's Flash Attention or Efficient kernels via this `is_causal` if statement instead of an inline conditional assignment\u001b[39;00m\n\u001b[1;32m    484\u001b[0m \u001b[38;5;66;03m# in SDPA to support both torch.compile's dynamic shapes and full graph options. An inline conditional prevents dynamic shapes from compiling.\u001b[39;00m\n\u001b[1;32m    485\u001b[0m is_causal \u001b[38;5;241m=\u001b[39m \u001b[38;5;28;01mTrue\u001b[39;00m \u001b[38;5;28;01mif\u001b[39;00m causal_mask \u001b[38;5;129;01mis\u001b[39;00m \u001b[38;5;28;01mNone\u001b[39;00m \u001b[38;5;129;01mand\u001b[39;00m q_len \u001b[38;5;241m>\u001b[39m \u001b[38;5;241m1\u001b[39m \u001b[38;5;28;01melse\u001b[39;00m \u001b[38;5;28;01mFalse\u001b[39;00m\n\u001b[0;32m--> 487\u001b[0m attn_output \u001b[38;5;241m=\u001b[39m \u001b[43mtorch\u001b[49m\u001b[38;5;241;43m.\u001b[39;49m\u001b[43mnn\u001b[49m\u001b[38;5;241;43m.\u001b[39;49m\u001b[43mfunctional\u001b[49m\u001b[38;5;241;43m.\u001b[39;49m\u001b[43mscaled_dot_product_attention\u001b[49m(\n\u001b[1;32m    488\u001b[0m     query\u001b[38;5;241m=\u001b[39mquery,\n\u001b[1;32m    489\u001b[0m     key\u001b[38;5;241m=\u001b[39mkey,\n\u001b[1;32m    490\u001b[0m     value\u001b[38;5;241m=\u001b[39mvalue,\n\u001b[1;32m    491\u001b[0m     attn_mask\u001b[38;5;241m=\u001b[39mcausal_mask,\n\u001b[1;32m    492\u001b[0m     dropout_p\u001b[38;5;241m=\u001b[39m\u001b[38;5;28mself\u001b[39m\u001b[38;5;241m.\u001b[39mattention_dropout\u001b[38;5;241m.\u001b[39mp \u001b[38;5;28;01mif\u001b[39;00m \u001b[38;5;28mself\u001b[39m\u001b[38;5;241m.\u001b[39mtraining \u001b[38;5;28;01melse\u001b[39;00m \u001b[38;5;241m0.0\u001b[39m,\n\u001b[1;32m    493\u001b[0m     is_causal\u001b[38;5;241m=\u001b[39mis_causal,\n\u001b[1;32m    494\u001b[0m )\n\u001b[1;32m    496\u001b[0m \u001b[38;5;66;03m# Reshape outputs\u001b[39;00m\n\u001b[1;32m    497\u001b[0m attn_output \u001b[38;5;241m=\u001b[39m attn_output\u001b[38;5;241m.\u001b[39mtranspose(\u001b[38;5;241m1\u001b[39m, \u001b[38;5;241m2\u001b[39m)\u001b[38;5;241m.\u001b[39mcontiguous()\n",
      "\u001b[0;31mKeyboardInterrupt\u001b[0m: "
     ]
    }
   ],
   "source": [
    "# Generate different cell types\n",
    "cell_types_to_generate = [\"B cell\", \"monocyte\", \"NK cell\", \"dendritic cell\"]\n",
    "\n",
    "for cell_type in cell_types_to_generate:\n",
    "    print(f\"\\n{'='*50}\")\n",
    "    print(f\"Generating {cell_type}:\")\n",
    "    generated = generate_cell(cell_type, n_genes=20, verbose=False)\n",
    "    print(f\"Generated: {generated}\")"
   ]
  },
  {
   "cell_type": "markdown",
   "id": "e26cfda8",
   "metadata": {},
   "source": [
    "## Multi cell tissue prediction"
   ]
  },
  {
   "cell_type": "code",
   "execution_count": 14,
   "id": "a51cb734",
   "metadata": {},
   "outputs": [
    {
     "name": "stdout",
     "output_type": "stream",
     "text": [
      "The following is a list of {num_genes} gene names ordered by descending expression level for {num_cells} different {organism} cells. Your task is to give the tissue which these cells belong to based on their gene expression.\n",
      "Cell sentences:\n",
      "{multi_cell_sentences}.\n",
      "The tissue which these cells belong to is:\n"
     ]
    }
   ],
   "source": [
    "task_name = \"tissue_prediction\"\n",
    "multi_cell_tissue_formatter = C2SMultiCellPromptFormatter(\n",
    "    task=task_name,\n",
    "    top_k_genes=100\n",
    ")\n",
    "\n",
    "multi_cell_tissue_prompt = multi_cell_tissue_formatter.prompts_dict[\"model_input\"][0]\n",
    "print(multi_cell_tissue_prompt)"
   ]
  },
  {
   "cell_type": "code",
   "execution_count": 15,
   "id": "1c7c0bb7",
   "metadata": {},
   "outputs": [],
   "source": [
    "# Control and perturbed (CEBPE+CEBPB) from norman dataset\n",
    "control_cell = \"MT-CO2 MT-CO3 RPLP1 RPS27 RPS18 MT-CO1 RPS12 RPS8 RPS2 RPL13A MT-ND4 EEF1A1 RPL34 RPS23 RPS19 FTL RPS29 RPL32 RPS14 RPL19 RPS28 RPL37A MT-ATP6 RPS16 RPL21 RPL7 RPS3 MT-ND2 RPL3 RPS27A YBX1 RPL28 RPL39 RPL15 RPLP0 RPL35A RPS4X RPL13 RPL37 RPLP2 RPL9 RPS3A FTH1 RPS15 RPS15A RPL18A RPL29 RPL12 RPL8 RPS25 RPS7 RPS24 RPS17 RPL27A RPS13 RPS21 MT-ND1 RPL4 RPL11 RPL36 RPS6 RPSA RPS5 RPS20 RPL38 RPL7A MT-CYB RPL10 RPL18 RPL10A RPL14 RPL30 RPL24 UQCRH RPL6 RPL35 RPL31 TMA7 RPL22 FAU MT-ND3 RPL23A GAPDH RPL41 RPL26 TMSB4X RPL23 PPIA UBA52 OAZ1 HINT1 TPT1 RPS11 SERF2 EEF2 SDF2L1 RPS9 NACA RPL5 HMGN1 HSPE1 RANBP1 PTMA HMGA1 COX7A2 RPL27 APOC1 BTF3 NDUFB10 SNRPG HNRNPA1 PABPC1 EEF1B2 YDJC PPP1R14B PFN1 HSPD1 CALR DDX1 CHCHD2 PITX1 HSP90AB1 MT-ND5 COX7C GPX4 EIF3K UBL5 SET UBAC1 B2M SERBP1 UQCR11 UBB EIF5B PGP RPS26 NPM1 NEDD8 APRT TMEM14B ENO1 COX4I1 COX5B NDUFAB1 SLIRP GYPC CST3 HNRNPC HSP90B1 APOBEC3C DDX21 NCL TUBA1B PSMA4 JTB LDHA AP2B1 SRM COX6B1 EIF5A CCDC28B MT-ND4L EIF3I COX7B GADD45GIP1 SERPINB6 TRMT2A NME4 UBE2L3 UQCRQ NDUFB9 GOT2 COX5A SOD1 SON PEBP1 NAP1L1 NSA2 ATP1B3 NDUFA11 ACTG1 RPL36AL TMEM258 MTPN SRSF9 TUBA1C C19orf53 CCNI BCAT1 ATP6V0B SNRPE TMSB10 RBBP7 HMGN3 TOMM20 OST4 PA2G4 ROMO1 COMT EIF3H POMP IMMP1L ACTB PRELID1 ENY2 PARK7 MRPL36 EIF3F PPA1 GSTP1 ANP32B FADS1 GTF3A TMEM160 SUMO1 METTL5 SNX5 SNX3 NDUFB1 NDUFAF2 EIF3E GMPR CCT8 SNRPF SNRPD1 PGK1 EMC6 NDUFS5 ARL15 GTF3C6 GTPBP4 CFL1 GYPB SRRM1 RAN SRSF5 HBZ ZNF22 HDDC2 ATP6V1F DNAJA1 HNRNPA2B1 HES6 SDHC HMGB1 SUB1 SUMO3 NDUFS6 CMSS1 NDUFS7 NDUFS8 PFDN5 UQCRFS1 UQCRC1 FAM200B COA1 TADA3 LYL1 YIF1B AKIRIN1 CMBL RGS10 IMP3 PCBD1 YBX3 LUC7L3 SNRPD2 CCT4 KRT18 RPS27L CUTA MRPL52 MRPL57 DDT MRPS21 MRPS34 SMARCA4 SLC25A6 MRPL35 LSMEM2 PTBP1 ACP1 POLR1D CBX3 LSM12 SLC25A5 SLC25A37 CAPZA1 MARCKSL1 MTDH TOR1AIP2 METAP2 TOP2A C1QBP PSMA5 C4orf3 LDHB PSMA7 MIEN1 PSMB2 CAP1 C9orf78 LAPTM4B LAMTOR5 PPP1CA TPM3 ZNHIT1 PSMD11 PRAME ZBTB8OS POLR2L ATF7IP2 NAA10 RNF126 YWHAZ KIFAP3 THOC2 SNF8 PTP4A2 KIAA0319L SNRNP25 PKIG COQ4 SSU72 BNIP3L MYC SFPQ SNRPB PICALM DSTN COX6C SRP14 PRPF40A PSMC6 CTAG2 SRSF1 PAFAH1B2 CTU1 SRRM2 OSBPL9 CISD2 DDB1 DCUN1D5 DAZAP1 SEC62 YWHAB DIS3 SIVA1 DAP SRSF10 PHF20 GUK1 ZC3HAV1 SLC7A5 FBXO9 DCTN3 SRSF11 FBXL20 HIGD2A HGS PPP1R18 ANAPC16 CSTF3 YRDC BID PIM2 ANAPC11 SFXN1 ASH1L XPR1 EZH2 RANBP10 ANXA2 PTS HDDC3 ALDOA HDAC6 SRSF7 HDAC1 VDAC1 SLC38A5 CKB PHKB CSNK2A1 SRSF3 RAD21 PGAM1 GTF2A2 PDCD10 DEK PDE4DIP POLR2E CMTM6 UPF3B CNBP CNOT7 PDLIM7 CNPY2 FKBP8 ARPC1A QPRT PLTP VBP1 PTGES3 ZNF131 SMIM4 FKBP3 FIS1 UQCRB PRKAR2A COX7A2L GALNT1 PRR13 COX8A CYCS GOLGB1 PFDN2 PNN COX20 FAM120AOS SLC27A5 GNG5 PPDPF PPARGC1B PAK2 GAL PRRC2B PWP1 GSPT1 DDX46 PRDX1 SPN PARP1 PRDX2 SMYD3 PRDX3 COX14 PRMT2 FUS ATF4 PSME3 FBL PSMG3 FAM222B SNRPC CLPX GPS1 POLR2J CLTA PCGF6 PCNP COX6A1 UBL7 EIF1AX TIMM8B CCDC59 APOE RNF181 TXNL4A THRAP3 DYNLL1 CCDC137 TIMM13 TIMM44 ZNF664 MTCH2 EEF1D MT1X MRPS12 TIMMDC1 CBX5 ACP5 APPL1 KPNA6 KPNB1 KRT10 TMA16 ZNF706 MRPS33 TMED4 MRPS15 MYL12A RSF1 MYL6 MYL6B CDC42 EIF4B CDC16 EIF3M NDUFC1 NDUFB7 EIF3J NDUFB4 NDUFA8 EIF3D NDUFA3 S100A4 S100A13 CCT7 KCNH2\"\n",
    "perturbed_cell = \"MT-CO3 TMSB4X FTL MT-CO2 RPS27 MT-CO1 EEF1A1 RPS14 RPL34 FTH1 RPS18 MT-ND4 RPLP1 RPL37 RPS29 MT-ATP6 RPS4X RPL13A MT-CYB RPS8 RPS2 RPS19 TPT1 RPL28 RPL32 RPS3 RPS7 RPS27A MT-ND1 RPL37A MT-ND2 RPS12 RPS3A RPL21 RPL13 ACTB RPL39 RPL6 RPL9 RPS24 RPL27A RPL11 RPS28 RPS15 RPS11 RPL15 RPLP0 OAZ1 RPL10 RPL30 MT-ND3 RPS20 RPS15A RPL35 RPL41 YBX1 RPL5 RPS23 RPL29 RPL8 RPL19 RPL14 TMA7 RPL4 RPL10A RPL18A TYROBP RPLP2 RPS17 RPL7 UBA52 GAPDH UQCRH PTMA CFD HMGB1 RPL12 PFN1 RPS25 RPL35A RPSA B2M RPL24 COX7C UQCR11 SUB1 RPL36 HMGN1 RPL18 COX5B SRP14 VIM LST1 PTP4A2 CFL1 SUMO2 NACA RPL7A SH3BGRL3 PRAME SERF2 TMSB10 COX8A FAU CEBPE RPL23 EDF1 CSF3R CHCHD2 SNX3 MPC2 LMO4 PRR13 MSN DBI FAM118A NDUFS5 UBE2L3 MTCH1 COX7A2 FKBP1A RPS6 EIF2S2 RPS21 RPS26 GPX4 LSM6 CAP1 RPL22 HMGN2 MS4A3 PET100 PFDN5 UBL5 RPL23A LSM2 CDCA7 NUCKS1 ITM2B LDHB HMGN3 AURKAIP1 LAMTOR4 RPL27 RPS16 COTL1 PGAM1 ZNF207 UBB UBC COX4I1 GTF2I SLC25A3 PPIA RPS13 PGP TMBIM6 COX7B MYL6 ARHGDIB LGALS1 AGO1 HSP90AA1 SLC25A6 TMED9 MT-ND5 CLIC1 RPL3 SNRPG YWHAH SRSF9 BSG USP20 SRSF3 ARPC5 SRRM2 ARPC3 MYO1F ARPC2 ARPC1B MORF4L1 CIRBP MSRB1 CLC CALM2 DEK MARCKSL1 COMMD6 IQGAP2 CHAF1A RABL6 SAT1 CD63 NDUFA4 FAM89A POMP EIF3K COX6C PNRC1 TMEM219 MRPS16 TUBA1B SERBP1 BUD31 MRPL13 SLC39A3 CCT5 TEX30 COX6A1 SVIP PKM BANF1 UQCRFS1 PHF19 EIF3F SON CELF2 COX17 METTL9 PPIL2 RPS5 SET MYL12A RAB4A CMTM7 RPL38 COX6B1 PCBP2 CIZ1 UCP2 DGCR6L PGLS GPBP1 LIMD2 PEBP1 SOX4 PPP1CA HINT1 NCL PPP6R1 RPL26 BTG1 CCNI HNRNPA1 RSF1 PPP1CB RMI2 PRDX5 ALDOA PYCARD MBOAT7 PPP1R18 TNNT1 TOMM7 ATP6V1F CKLF ATP6V1G1 ACTG1 EEF2 RPL31 WASF2 ELF1 SRSF11 DGUOK SRSF10 POLR2J3 METTL23 HPRT1 FAM32A COPS7A GLIPR1 TKT ANKRD28 CORO1A MFHAS1 NOTCH1 RAB1A CTSC QPRT TOR1A TRA2B TIMM17A SLC35E2B C14orf119 MRPL20 MIB2 BEST1 ANXA2 PPDPF ANP32B MRPL47 MRPL10 PPHLN1 SNX5 CCDC124 YTHDC1 LMNA TPM3 POLR2L ADRM1 COMMD9 EEF1B2 RPL36AL LARP1B SNRPE CANX CALM1 DYRK1A TRPM4 USP32 HVCN1 PPP3R1 NUDT22 LCP1 TMEM167A ISY1 RSL24D1 BTF3 PLEK TMEM14C TMEM14B CAPNS1 DNMT1 PLD3 ICMT SMC4 ZMAT2 BRI3 ZDHHC12 ANAPC13 ANAPC11 PMVK MORF4L2 SCAND1 SLIRP BRK1 RTN4 IDH2 RTN3 CRLS1 TRMT112 SMAD4 LAPTM5 OAZ2 SMAD5 FAM89B NUDT1 NUDCD2 AIF1 SNRNP25 BIRC2 CSTB PPM1G S100A11 ANKRD11 NONO PTPN7 MRPS33 NSRP1 SLBP NOP10 CYBA PPIG WDR62 SNRPB2 TLN1 SNRPD1 CBX3 CBFA2T3 TNFAIP8 BMI1 CASP8AP2 C4orf48 HSPB11 HSPB1 HSPA8 LENG8 ZMYND8 HSP90AB1 TMED5 WDR83OS RUNX1 RANBP1 C4orf3 RPS9 ALAS1 ZNF138 ZC3H15 PPM1N FUS TMA16 EEF1D COMMD3 PARK7 SPG21 SPI1 PRMT2 PARL CD37 GOLIM4 CLPX DDX52 HDDC2 UBE2D2 UBE2M MCCC2 FLCN ATP11B UBE2I PSMA3 EIF5A ETFB HDAC3 VAMP8 CLU RNF130 UQCR10 HEPH BAG6 CHP1 KCNE3 NAA38 RBM26 STAU2 CNIH4 NDUFA3 NDUFA2 SETD2 CCT4 MTRF1L ARIH2 EIF3I EIF3J RNF145 HES6 ATOX1 CMTM6 DECR2 SPN TXNIP RING1 CCDC174 RCC2 SRA1 PAIP2 LSM3 ATRX SRI TAOK3 EMP3 SSR2 RBMX SSNA1 SRSF2 P4HB SSH2 SSBP1 MYB ERH ATP6AP1 TAF10 OSTC OST4 OSBPL9 CDCA7L ACTN1 PAPOLA RNASEH2C PGK1 RHEB TBL1XR1 PSMA7 PGD ARL15 TBCA VPS16 PSMB1 VPS13C UBE2S RHOA RMND5B GYG1 ZNF83 TBC1D20 NDUFAF3 KIAA0100 PIP4K2A MZT2B ATG16L2 RGS10 NDUFS7 TFDP2 HMGA1 HMGB2 NDUFV2 PCBP1 EPM2AIP1 PRKAG1 PIM1 DHFR\"\n",
    "n_genes = len(control_cell.split())\n"
   ]
  },
  {
   "cell_type": "code",
   "execution_count": 16,
   "id": "6e321237",
   "metadata": {},
   "outputs": [],
   "source": [
    "multi_cell_sentences = f\"Cell 1:\\n{control_cell}\\nCell 2:\\n{perturbed_cell}\\n\"\n",
    "\n",
    "filled_prompt = multi_cell_tissue_prompt.format(\n",
    "    num_genes=n_genes,\n",
    "    num_cells=2,\n",
    "    organism='human',\n",
    "    multi_cell_sentences=multi_cell_sentences\n",
    ")\n"
   ]
  },
  {
   "cell_type": "code",
   "execution_count": 23,
   "id": "e2daab6b",
   "metadata": {},
   "outputs": [],
   "source": [
    "def query_model(prompt, max_tokens=50, temperature=0.1):\n",
    "    \"\"\"Send a custom prompt to the model.\"\"\"\n",
    "    response = csmodel.generate_from_prompt(\n",
    "        model=model,\n",
    "        prompt=prompt,\n",
    "        max_num_tokens=max_tokens,\n",
    "        temperature=temperature,\n",
    "        do_sample=True\n",
    "    )\n",
    "\n",
    "    # if model id contains \"Gemma\", remove the <ctrl100> token\n",
    "    if \"Gemma\" in model_id:\n",
    "        response = response.replace(\"<ctrl100>\", \"\")\n",
    "\n",
    "    return response.strip()"
   ]
  },
  {
   "cell_type": "code",
   "execution_count": 24,
   "id": "2835eae4",
   "metadata": {},
   "outputs": [
    {
     "name": "stdout",
     "output_type": "stream",
     "text": [
      "Prompt:\n",
      "--------------------------------------------------\n",
      "The following is a list of 500 gene names ordered by descending expression level for 2 different human cells. Your task is to give the tissue which these cells belong to based on their gene expression.\n",
      "Cell sentences:\n",
      "Cell 1:\n",
      "MT-CO2 MT-CO3 RPLP1 RPS27 RPS18 MT-CO1 RPS12 RPS8 RPS2 RPL13A MT-ND4 EEF1A1 RPL34 RPS23 RPS19 FTL RPS29 RPL32 RPS14 RPL19 RPS28 RPL37A MT-ATP6 RPS16 RPL21 RPL7 RPS3 MT-ND2 RPL3 RPS27A YBX1 RPL28 RPL39 RPL15 RPLP0 RPL35A RPS4X RPL13 RPL37 RPLP2 RPL9 RPS3A FTH1 RPS15 RPS15A RPL18A RPL29 RPL12 RPL8 RPS25 RPS7 RPS24 RPS17 RPL27A RPS13 RPS21 MT-ND1 RPL4 RPL11 RPL36 RPS6 RPSA RPS5 RPS20 RPL38 RPL7A MT-CYB RPL10 RPL18 RPL10A RPL14 RPL30 RPL24 UQCRH RPL6 RPL35 RPL31 TMA7 RPL22 FAU MT-ND3 RPL23A GAPDH RPL41 RPL26 TMSB4X RPL23 PPIA UBA52 OAZ1 HINT1 TPT1 RPS11 SERF2 EEF2 SDF2L1 RPS9 NACA RPL5 HMGN1 HSPE1 RANBP1 PTMA HMGA1 COX7A2 RPL27 APOC1 BTF3 NDUFB10 SNRPG HNRNPA1 PABPC1 EEF1B2 YDJC PPP1R14B PFN1 HSPD1 CALR DDX1 CHCHD2 PITX1 HSP90AB1 MT-ND5 COX7C GPX4 EIF3K UBL5 SET UBAC1 B2M SERBP1 UQCR11 UBB EIF5B PGP RPS26 NPM1 NEDD8 APRT TMEM14B ENO1 COX4I1 COX5B NDUFAB1 SLIRP GYPC CST3 HNRNPC HSP90B1 APOBEC3C DDX21 NCL TUBA1B PSMA4 JTB LDHA AP2B1 SRM COX6B1 EIF5A CCDC28B MT-ND4L EIF3I COX7B GADD45GIP1 SERPINB6 TRMT2A NME4 UBE2L3 UQCRQ NDUFB9 GOT2 COX5A SOD1 SON PEBP1 NAP1L1 NSA2 ATP1B3 NDUFA11 ACTG1 RPL36AL TMEM258 MTPN SRSF9 TUBA1C C19orf53 CCNI BCAT1 ATP6V0B SNRPE TMSB10 RBBP7 HMGN3 TOMM20 OST4 PA2G4 ROMO1 COMT EIF3H POMP IMMP1L ACTB PRELID1 ENY2 PARK7 MRPL36 EIF3F PPA1 GSTP1 ANP32B FADS1 GTF3A TMEM160 SUMO1 METTL5 SNX5 SNX3 NDUFB1 NDUFAF2 EIF3E GMPR CCT8 SNRPF SNRPD1 PGK1 EMC6 NDUFS5 ARL15 GTF3C6 GTPBP4 CFL1 GYPB SRRM1 RAN SRSF5 HBZ ZNF22 HDDC2 ATP6V1F DNAJA1 HNRNPA2B1 HES6 SDHC HMGB1 SUB1 SUMO3 NDUFS6 CMSS1 NDUFS7 NDUFS8 PFDN5 UQCRFS1 UQCRC1 FAM200B COA1 TADA3 LYL1 YIF1B AKIRIN1 CMBL RGS10 IMP3 PCBD1 YBX3 LUC7L3 SNRPD2 CCT4 KRT18 RPS27L CUTA MRPL52 MRPL57 DDT MRPS21 MRPS34 SMARCA4 SLC25A6 MRPL35 LSMEM2 PTBP1 ACP1 POLR1D CBX3 LSM12 SLC25A5 SLC25A37 CAPZA1 MARCKSL1 MTDH TOR1AIP2 METAP2 TOP2A C1QBP PSMA5 C4orf3 LDHB PSMA7 MIEN1 PSMB2 CAP1 C9orf78 LAPTM4B LAMTOR5 PPP1CA TPM3 ZNHIT1 PSMD11 PRAME ZBTB8OS POLR2L ATF7IP2 NAA10 RNF126 YWHAZ KIFAP3 THOC2 SNF8 PTP4A2 KIAA0319L SNRNP25 PKIG COQ4 SSU72 BNIP3L MYC SFPQ SNRPB PICALM DSTN COX6C SRP14 PRPF40A PSMC6 CTAG2 SRSF1 PAFAH1B2 CTU1 SRRM2 OSBPL9 CISD2 DDB1 DCUN1D5 DAZAP1 SEC62 YWHAB DIS3 SIVA1 DAP SRSF10 PHF20 GUK1 ZC3HAV1 SLC7A5 FBXO9 DCTN3 SRSF11 FBXL20 HIGD2A HGS PPP1R18 ANAPC16 CSTF3 YRDC BID PIM2 ANAPC11 SFXN1 ASH1L XPR1 EZH2 RANBP10 ANXA2 PTS HDDC3 ALDOA HDAC6 SRSF7 HDAC1 VDAC1 SLC38A5 CKB PHKB CSNK2A1 SRSF3 RAD21 PGAM1 GTF2A2 PDCD10 DEK PDE4DIP POLR2E CMTM6 UPF3B CNBP CNOT7 PDLIM7 CNPY2 FKBP8 ARPC1A QPRT PLTP VBP1 PTGES3 ZNF131 SMIM4 FKBP3 FIS1 UQCRB PRKAR2A COX7A2L GALNT1 PRR13 COX8A CYCS GOLGB1 PFDN2 PNN COX20 FAM120AOS SLC27A5 GNG5 PPDPF PPARGC1B PAK2 GAL PRRC2B PWP1 GSPT1 DDX46 PRDX1 SPN PARP1 PRDX2 SMYD3 PRDX3 COX14 PRMT2 FUS ATF4 PSME3 FBL PSMG3 FAM222B SNRPC CLPX GPS1 POLR2J CLTA PCGF6 PCNP COX6A1 UBL7 EIF1AX TIMM8B CCDC59 APOE RNF181 TXNL4A THRAP3 DYNLL1 CCDC137 TIMM13 TIMM44 ZNF664 MTCH2 EEF1D MT1X MRPS12 TIMMDC1 CBX5 ACP5 APPL1 KPNA6 KPNB1 KRT10 TMA16 ZNF706 MRPS33 TMED4 MRPS15 MYL12A RSF1 MYL6 MYL6B CDC42 EIF4B CDC16 EIF3M NDUFC1 NDUFB7 EIF3J NDUFB4 NDUFA8 EIF3D NDUFA3 S100A4 S100A13 CCT7 KCNH2\n",
      "Cell 2:\n",
      "MT-CO3 TMSB4X FTL MT-CO2 RPS27 MT-CO1 EEF1A1 RPS14 RPL34 FTH1 RPS18 MT-ND4 RPLP1 RPL37 RPS29 MT-ATP6 RPS4X RPL13A MT-CYB RPS8 RPS2 RPS19 TPT1 RPL28 RPL32 RPS3 RPS7 RPS27A MT-ND1 RPL37A MT-ND2 RPS12 RPS3A RPL21 RPL13 ACTB RPL39 RPL6 RPL9 RPS24 RPL27A RPL11 RPS28 RPS15 RPS11 RPL15 RPLP0 OAZ1 RPL10 RPL30 MT-ND3 RPS20 RPS15A RPL35 RPL41 YBX1 RPL5 RPS23 RPL29 RPL8 RPL19 RPL14 TMA7 RPL4 RPL10A RPL18A TYROBP RPLP2 RPS17 RPL7 UBA52 GAPDH UQCRH PTMA CFD HMGB1 RPL12 PFN1 RPS25 RPL35A RPSA B2M RPL24 COX7C UQCR11 SUB1 RPL36 HMGN1 RPL18 COX5B SRP14 VIM LST1 PTP4A2 CFL1 SUMO2 NACA RPL7A SH3BGRL3 PRAME SERF2 TMSB10 COX8A FAU CEBPE RPL23 EDF1 CSF3R CHCHD2 SNX3 MPC2 LMO4 PRR13 MSN DBI FAM118A NDUFS5 UBE2L3 MTCH1 COX7A2 FKBP1A RPS6 EIF2S2 RPS21 RPS26 GPX4 LSM6 CAP1 RPL22 HMGN2 MS4A3 PET100 PFDN5 UBL5 RPL23A LSM2 CDCA7 NUCKS1 ITM2B LDHB HMGN3 AURKAIP1 LAMTOR4 RPL27 RPS16 COTL1 PGAM1 ZNF207 UBB UBC COX4I1 GTF2I SLC25A3 PPIA RPS13 PGP TMBIM6 COX7B MYL6 ARHGDIB LGALS1 AGO1 HSP90AA1 SLC25A6 TMED9 MT-ND5 CLIC1 RPL3 SNRPG YWHAH SRSF9 BSG USP20 SRSF3 ARPC5 SRRM2 ARPC3 MYO1F ARPC2 ARPC1B MORF4L1 CIRBP MSRB1 CLC CALM2 DEK MARCKSL1 COMMD6 IQGAP2 CHAF1A RABL6 SAT1 CD63 NDUFA4 FAM89A POMP EIF3K COX6C PNRC1 TMEM219 MRPS16 TUBA1B SERBP1 BUD31 MRPL13 SLC39A3 CCT5 TEX30 COX6A1 SVIP PKM BANF1 UQCRFS1 PHF19 EIF3F SON CELF2 COX17 METTL9 PPIL2 RPS5 SET MYL12A RAB4A CMTM7 RPL38 COX6B1 PCBP2 CIZ1 UCP2 DGCR6L PGLS GPBP1 LIMD2 PEBP1 SOX4 PPP1CA HINT1 NCL PPP6R1 RPL26 BTG1 CCNI HNRNPA1 RSF1 PPP1CB RMI2 PRDX5 ALDOA PYCARD MBOAT7 PPP1R18 TNNT1 TOMM7 ATP6V1F CKLF ATP6V1G1 ACTG1 EEF2 RPL31 WASF2 ELF1 SRSF11 DGUOK SRSF10 POLR2J3 METTL23 HPRT1 FAM32A COPS7A GLIPR1 TKT ANKRD28 CORO1A MFHAS1 NOTCH1 RAB1A CTSC QPRT TOR1A TRA2B TIMM17A SLC35E2B C14orf119 MRPL20 MIB2 BEST1 ANXA2 PPDPF ANP32B MRPL47 MRPL10 PPHLN1 SNX5 CCDC124 YTHDC1 LMNA TPM3 POLR2L ADRM1 COMMD9 EEF1B2 RPL36AL LARP1B SNRPE CANX CALM1 DYRK1A TRPM4 USP32 HVCN1 PPP3R1 NUDT22 LCP1 TMEM167A ISY1 RSL24D1 BTF3 PLEK TMEM14C TMEM14B CAPNS1 DNMT1 PLD3 ICMT SMC4 ZMAT2 BRI3 ZDHHC12 ANAPC13 ANAPC11 PMVK MORF4L2 SCAND1 SLIRP BRK1 RTN4 IDH2 RTN3 CRLS1 TRMT112 SMAD4 LAPTM5 OAZ2 SMAD5 FAM89B NUDT1 NUDCD2 AIF1 SNRNP25 BIRC2 CSTB PPM1G S100A11 ANKRD11 NONO PTPN7 MRPS33 NSRP1 SLBP NOP10 CYBA PPIG WDR62 SNRPB2 TLN1 SNRPD1 CBX3 CBFA2T3 TNFAIP8 BMI1 CASP8AP2 C4orf48 HSPB11 HSPB1 HSPA8 LENG8 ZMYND8 HSP90AB1 TMED5 WDR83OS RUNX1 RANBP1 C4orf3 RPS9 ALAS1 ZNF138 ZC3H15 PPM1N FUS TMA16 EEF1D COMMD3 PARK7 SPG21 SPI1 PRMT2 PARL CD37 GOLIM4 CLPX DDX52 HDDC2 UBE2D2 UBE2M MCCC2 FLCN ATP11B UBE2I PSMA3 EIF5A ETFB HDAC3 VAMP8 CLU RNF130 UQCR10 HEPH BAG6 CHP1 KCNE3 NAA38 RBM26 STAU2 CNIH4 NDUFA3 NDUFA2 SETD2 CCT4 MTRF1L ARIH2 EIF3I EIF3J RNF145 HES6 ATOX1 CMTM6 DECR2 SPN TXNIP RING1 CCDC174 RCC2 SRA1 PAIP2 LSM3 ATRX SRI TAOK3 EMP3 SSR2 RBMX SSNA1 SRSF2 P4HB SSH2 SSBP1 MYB ERH ATP6AP1 TAF10 OSTC OST4 OSBPL9 CDCA7L ACTN1 PAPOLA RNASEH2C PGK1 RHEB TBL1XR1 PSMA7 PGD ARL15 TBCA VPS16 PSMB1 VPS13C UBE2S RHOA RMND5B GYG1 ZNF83 TBC1D20 NDUFAF3 KIAA0100 PIP4K2A MZT2B ATG16L2 RGS10 NDUFS7 TFDP2 HMGA1 HMGB2 NDUFV2 PCBP1 EPM2AIP1 PRKAG1 PIM1 DHFR\n",
      ".\n",
      "The tissue which these cells belong to is:\n",
      "--------------------------------------------------\n",
      "\n",
      "\n",
      "Response:\n",
      "--------------------------------------------------\n",
      "bone marrow.\n"
     ]
    }
   ],
   "source": [
    "print(f\"Prompt:\")\n",
    "print(\"-\" * 50)\n",
    "print(filled_prompt)\n",
    "print(\"-\" * 50)\n",
    "\n",
    "print()\n",
    "print()\n",
    "response = query_model(filled_prompt, max_tokens=50, temperature=0.1)\n",
    "print(f\"Response:\")\n",
    "print(\"-\" * 50)\n",
    "print(response)"
   ]
  },
  {
   "cell_type": "code",
   "execution_count": 25,
   "id": "1c6e71d5",
   "metadata": {},
   "outputs": [],
   "source": [
    "custom_prompt = \"\"\"The following is a list of 500 gene names ordered by descending expression level for 2 different human cells. Your task is to provide the tissue which these cells belong to based on their gene expression.\n",
    "Cell sentences:\n",
    "Cell 1:\n",
    "MT-CO2 MT-CO3 RPLP1 RPS27 RPS18 MT-CO1 RPS12 RPS8 RPS2 RPL13A MT-ND4 EEF1A1 RPL34 RPS23 RPS19 FTL RPS29 RPL32 RPS14 RPL19 RPS28 RPL37A MT-ATP6 RPS16 RPL21 RPL7 RPS3 MT-ND2 RPL3 RPS27A YBX1 RPL28 RPL39 RPL15 RPLP0 RPL35A RPS4X RPL13 RPL37 RPLP2 RPL9 RPS3A FTH1 RPS15 RPS15A RPL18A RPL29 RPL12 RPL8 RPS25 RPS7 RPS24 RPS17 RPL27A RPS13 RPS21 MT-ND1 RPL4 RPL11 RPL36 RPS6 RPSA RPS5 RPS20 RPL38 RPL7A MT-CYB RPL10 RPL18 RPL10A RPL14 RPL30 RPL24 UQCRH RPL6 RPL35 RPL31 TMA7 RPL22 FAU MT-ND3 RPL23A GAPDH RPL41 RPL26 TMSB4X RPL23 PPIA UBA52 OAZ1 HINT1 TPT1 RPS11 SERF2 EEF2 SDF2L1 RPS9 NACA RPL5 HMGN1 HSPE1 RANBP1 PTMA HMGA1 COX7A2 RPL27 APOC1 BTF3 NDUFB10 SNRPG HNRNPA1 PABPC1 EEF1B2 YDJC PPP1R14B PFN1 HSPD1 CALR DDX1 CHCHD2 PITX1 HSP90AB1 MT-ND5 COX7C GPX4 EIF3K UBL5 SET UBAC1 B2M SERBP1 UQCR11 UBB EIF5B PGP RPS26 NPM1 NEDD8 APRT TMEM14B ENO1 COX4I1 COX5B NDUFAB1 SLIRP GYPC CST3 HNRNPC HSP90B1 APOBEC3C DDX21 NCL TUBA1B PSMA4 JTB LDHA AP2B1 SRM COX6B1 EIF5A CCDC28B MT-ND4L EIF3I COX7B GADD45GIP1 SERPINB6 TRMT2A NME4 UBE2L3 UQCRQ NDUFB9 GOT2 COX5A SOD1 SON PEBP1 NAP1L1 NSA2 ATP1B3 NDUFA11 ACTG1 RPL36AL TMEM258 MTPN SRSF9 TUBA1C C19orf53 CCNI BCAT1 ATP6V0B SNRPE TMSB10 RBBP7 HMGN3 TOMM20 OST4 PA2G4 ROMO1 COMT EIF3H POMP IMMP1L ACTB PRELID1 ENY2 PARK7 MRPL36 EIF3F PPA1 GSTP1 ANP32B FADS1 GTF3A TMEM160 SUMO1 METTL5 SNX5 SNX3 NDUFB1 NDUFAF2 EIF3E GMPR CCT8 SNRPF SNRPD1 PGK1 EMC6 NDUFS5 ARL15 GTF3C6 GTPBP4 CFL1 GYPB SRRM1 RAN SRSF5 HBZ ZNF22 HDDC2 ATP6V1F DNAJA1 HNRNPA2B1 HES6 SDHC HMGB1 SUB1 SUMO3 NDUFS6 CMSS1 NDUFS7 NDUFS8 PFDN5 UQCRFS1 UQCRC1 FAM200B COA1 TADA3 LYL1 YIF1B AKIRIN1 CMBL RGS10 IMP3 PCBD1 YBX3 LUC7L3 SNRPD2 CCT4 KRT18 RPS27L CUTA MRPL52 MRPL57 DDT MRPS21 MRPS34 SMARCA4 SLC25A6 MRPL35 LSMEM2 PTBP1 ACP1 POLR1D CBX3 LSM12 SLC25A5 SLC25A37 CAPZA1 MARCKSL1 MTDH TOR1AIP2 METAP2 TOP2A C1QBP PSMA5 C4orf3 LDHB PSMA7 MIEN1 PSMB2 CAP1 C9orf78 LAPTM4B LAMTOR5 PPP1CA TPM3 ZNHIT1 PSMD11 PRAME ZBTB8OS POLR2L ATF7IP2 NAA10 RNF126 YWHAZ KIFAP3 THOC2 SNF8 PTP4A2 KIAA0319L SNRNP25 PKIG COQ4 SSU72 BNIP3L MYC SFPQ SNRPB PICALM DSTN COX6C SRP14 PRPF40A PSMC6 CTAG2 SRSF1 PAFAH1B2 CTU1 SRRM2 OSBPL9 CISD2 DDB1 DCUN1D5 DAZAP1 SEC62 YWHAB DIS3 SIVA1 DAP SRSF10 PHF20 GUK1 ZC3HAV1 SLC7A5 FBXO9 DCTN3 SRSF11 FBXL20 HIGD2A HGS PPP1R18 ANAPC16 CSTF3 YRDC BID PIM2 ANAPC11 SFXN1 ASH1L XPR1 EZH2 RANBP10 ANXA2 PTS HDDC3 ALDOA HDAC6 SRSF7 HDAC1 VDAC1 SLC38A5 CKB PHKB CSNK2A1 SRSF3 RAD21 PGAM1 GTF2A2 PDCD10 DEK PDE4DIP POLR2E CMTM6 UPF3B CNBP CNOT7 PDLIM7 CNPY2 FKBP8 ARPC1A QPRT PLTP VBP1 PTGES3 ZNF131 SMIM4 FKBP3 FIS1 UQCRB PRKAR2A COX7A2L GALNT1 PRR13 COX8A CYCS GOLGB1 PFDN2 PNN COX20 FAM120AOS SLC27A5 GNG5 PPDPF PPARGC1B PAK2 GAL PRRC2B PWP1 GSPT1 DDX46 PRDX1 SPN PARP1 PRDX2 SMYD3 PRDX3 COX14 PRMT2 FUS ATF4 PSME3 FBL PSMG3 FAM222B SNRPC CLPX GPS1 POLR2J CLTA PCGF6 PCNP COX6A1 UBL7 EIF1AX TIMM8B CCDC59 APOE RNF181 TXNL4A THRAP3 DYNLL1 CCDC137 TIMM13 TIMM44 ZNF664 MTCH2 EEF1D MT1X MRPS12 TIMMDC1 CBX5 ACP5 APPL1 KPNA6 KPNB1 KRT10 TMA16 ZNF706 MRPS33 TMED4 MRPS15 MYL12A RSF1 MYL6 MYL6B CDC42 EIF4B CDC16 EIF3M NDUFC1 NDUFB7 EIF3J NDUFB4 NDUFA8 EIF3D NDUFA3 S100A4 S100A13 CCT7 KCNH2\n",
    "Cell 2:\n",
    "MT-CO3 TMSB4X FTL MT-CO2 RPS27 MT-CO1 EEF1A1 RPS14 RPL34 FTH1 RPS18 MT-ND4 RPLP1 RPL37 RPS29 MT-ATP6 RPS4X RPL13A MT-CYB RPS8 RPS2 RPS19 TPT1 RPL28 RPL32 RPS3 RPS7 RPS27A MT-ND1 RPL37A MT-ND2 RPS12 RPS3A RPL21 RPL13 ACTB RPL39 RPL6 RPL9 RPS24 RPL27A RPL11 RPS28 RPS15 RPS11 RPL15 RPLP0 OAZ1 RPL10 RPL30 MT-ND3 RPS20 RPS15A RPL35 RPL41 YBX1 RPL5 RPS23 RPL29 RPL8 RPL19 RPL14 TMA7 RPL4 RPL10A RPL18A TYROBP RPLP2 RPS17 RPL7 UBA52 GAPDH UQCRH PTMA CFD HMGB1 RPL12 PFN1 RPS25 RPL35A RPSA B2M RPL24 COX7C UQCR11 SUB1 RPL36 HMGN1 RPL18 COX5B SRP14 VIM LST1 PTP4A2 CFL1 SUMO2 NACA RPL7A SH3BGRL3 PRAME SERF2 TMSB10 COX8A FAU CEBPE RPL23 EDF1 CSF3R CHCHD2 SNX3 MPC2 LMO4 PRR13 MSN DBI FAM118A NDUFS5 UBE2L3 MTCH1 COX7A2 FKBP1A RPS6 EIF2S2 RPS21 RPS26 GPX4 LSM6 CAP1 RPL22 HMGN2 MS4A3 PET100 PFDN5 UBL5 RPL23A LSM2 CDCA7 NUCKS1 ITM2B LDHB HMGN3 AURKAIP1 LAMTOR4 RPL27 RPS16 COTL1 PGAM1 ZNF207 UBB UBC COX4I1 GTF2I SLC25A3 PPIA RPS13 PGP TMBIM6 COX7B MYL6 ARHGDIB LGALS1 AGO1 HSP90AA1 SLC25A6 TMED9 MT-ND5 CLIC1 RPL3 SNRPG YWHAH SRSF9 BSG USP20 SRSF3 ARPC5 SRRM2 ARPC3 MYO1F ARPC2 ARPC1B MORF4L1 CIRBP MSRB1 CLC CALM2 DEK MARCKSL1 COMMD6 IQGAP2 CHAF1A RABL6 SAT1 CD63 NDUFA4 FAM89A POMP EIF3K COX6C PNRC1 TMEM219 MRPS16 TUBA1B SERBP1 BUD31 MRPL13 SLC39A3 CCT5 TEX30 COX6A1 SVIP PKM BANF1 UQCRFS1 PHF19 EIF3F SON CELF2 COX17 METTL9 PPIL2 RPS5 SET MYL12A RAB4A CMTM7 RPL38 COX6B1 PCBP2 CIZ1 UCP2 DGCR6L PGLS GPBP1 LIMD2 PEBP1 SOX4 PPP1CA HINT1 NCL PPP6R1 RPL26 BTG1 CCNI HNRNPA1 RSF1 PPP1CB RMI2 PRDX5 ALDOA PYCARD MBOAT7 PPP1R18 TNNT1 TOMM7 ATP6V1F CKLF ATP6V1G1 ACTG1 EEF2 RPL31 WASF2 ELF1 SRSF11 DGUOK SRSF10 POLR2J3 METTL23 HPRT1 FAM32A COPS7A GLIPR1 TKT ANKRD28 CORO1A MFHAS1 NOTCH1 RAB1A CTSC QPRT TOR1A TRA2B TIMM17A SLC35E2B C14orf119 MRPL20 MIB2 BEST1 ANXA2 PPDPF ANP32B MRPL47 MRPL10 PPHLN1 SNX5 CCDC124 YTHDC1 LMNA TPM3 POLR2L ADRM1 COMMD9 EEF1B2 RPL36AL LARP1B SNRPE CANX CALM1 DYRK1A TRPM4 USP32 HVCN1 PPP3R1 NUDT22 LCP1 TMEM167A ISY1 RSL24D1 BTF3 PLEK TMEM14C TMEM14B CAPNS1 DNMT1 PLD3 ICMT SMC4 ZMAT2 BRI3 ZDHHC12 ANAPC13 ANAPC11 PMVK MORF4L2 SCAND1 SLIRP BRK1 RTN4 IDH2 RTN3 CRLS1 TRMT112 SMAD4 LAPTM5 OAZ2 SMAD5 FAM89B NUDT1 NUDCD2 AIF1 SNRNP25 BIRC2 CSTB PPM1G S100A11 ANKRD11 NONO PTPN7 MRPS33 NSRP1 SLBP NOP10 CYBA PPIG WDR62 SNRPB2 TLN1 SNRPD1 CBX3 CBFA2T3 TNFAIP8 BMI1 CASP8AP2 C4orf48 HSPB11 HSPB1 HSPA8 LENG8 ZMYND8 HSP90AB1 TMED5 WDR83OS RUNX1 RANBP1 C4orf3 RPS9 ALAS1 ZNF138 ZC3H15 PPM1N FUS TMA16 EEF1D COMMD3 PARK7 SPG21 SPI1 PRMT2 PARL CD37 GOLIM4 CLPX DDX52 HDDC2 UBE2D2 UBE2M MCCC2 FLCN ATP11B UBE2I PSMA3 EIF5A ETFB HDAC3 VAMP8 CLU RNF130 UQCR10 HEPH BAG6 CHP1 KCNE3 NAA38 RBM26 STAU2 CNIH4 NDUFA3 NDUFA2 SETD2 CCT4 MTRF1L ARIH2 EIF3I EIF3J RNF145 HES6 ATOX1 CMTM6 DECR2 SPN TXNIP RING1 CCDC174 RCC2 SRA1 PAIP2 LSM3 ATRX SRI TAOK3 EMP3 SSR2 RBMX SSNA1 SRSF2 P4HB SSH2 SSBP1 MYB ERH ATP6AP1 TAF10 OSTC OST4 OSBPL9 CDCA7L ACTN1 PAPOLA RNASEH2C PGK1 RHEB TBL1XR1 PSMA7 PGD ARL15 TBCA VPS16 PSMB1 VPS13C UBE2S RHOA RMND5B GYG1 ZNF83 TBC1D20 NDUFAF3 KIAA0100 PIP4K2A MZT2B ATG16L2 RGS10 NDUFS7 TFDP2 HMGA1 HMGB2 NDUFV2 PCBP1 EPM2AIP1 PRKAG1 PIM1 DHFR\n",
    ".\n",
    "These cells are from the:\"\"\""
   ]
  },
  {
   "cell_type": "code",
   "execution_count": 26,
   "id": "456cee4a",
   "metadata": {},
   "outputs": [
    {
     "name": "stdout",
     "output_type": "stream",
     "text": [
      "Prompt:\n",
      "--------------------------------------------------\n",
      "The following is a list of 500 gene names ordered by descending expression level for 2 different human cells. Your task is to provide the tissue which these cells belong to based on their gene expression.\n",
      "Cell sentences:\n",
      "Cell 1:\n",
      "MT-CO2 MT-CO3 RPLP1 RPS27 RPS18 MT-CO1 RPS12 RPS8 RPS2 RPL13A MT-ND4 EEF1A1 RPL34 RPS23 RPS19 FTL RPS29 RPL32 RPS14 RPL19 RPS28 RPL37A MT-ATP6 RPS16 RPL21 RPL7 RPS3 MT-ND2 RPL3 RPS27A YBX1 RPL28 RPL39 RPL15 RPLP0 RPL35A RPS4X RPL13 RPL37 RPLP2 RPL9 RPS3A FTH1 RPS15 RPS15A RPL18A RPL29 RPL12 RPL8 RPS25 RPS7 RPS24 RPS17 RPL27A RPS13 RPS21 MT-ND1 RPL4 RPL11 RPL36 RPS6 RPSA RPS5 RPS20 RPL38 RPL7A MT-CYB RPL10 RPL18 RPL10A RPL14 RPL30 RPL24 UQCRH RPL6 RPL35 RPL31 TMA7 RPL22 FAU MT-ND3 RPL23A GAPDH RPL41 RPL26 TMSB4X RPL23 PPIA UBA52 OAZ1 HINT1 TPT1 RPS11 SERF2 EEF2 SDF2L1 RPS9 NACA RPL5 HMGN1 HSPE1 RANBP1 PTMA HMGA1 COX7A2 RPL27 APOC1 BTF3 NDUFB10 SNRPG HNRNPA1 PABPC1 EEF1B2 YDJC PPP1R14B PFN1 HSPD1 CALR DDX1 CHCHD2 PITX1 HSP90AB1 MT-ND5 COX7C GPX4 EIF3K UBL5 SET UBAC1 B2M SERBP1 UQCR11 UBB EIF5B PGP RPS26 NPM1 NEDD8 APRT TMEM14B ENO1 COX4I1 COX5B NDUFAB1 SLIRP GYPC CST3 HNRNPC HSP90B1 APOBEC3C DDX21 NCL TUBA1B PSMA4 JTB LDHA AP2B1 SRM COX6B1 EIF5A CCDC28B MT-ND4L EIF3I COX7B GADD45GIP1 SERPINB6 TRMT2A NME4 UBE2L3 UQCRQ NDUFB9 GOT2 COX5A SOD1 SON PEBP1 NAP1L1 NSA2 ATP1B3 NDUFA11 ACTG1 RPL36AL TMEM258 MTPN SRSF9 TUBA1C C19orf53 CCNI BCAT1 ATP6V0B SNRPE TMSB10 RBBP7 HMGN3 TOMM20 OST4 PA2G4 ROMO1 COMT EIF3H POMP IMMP1L ACTB PRELID1 ENY2 PARK7 MRPL36 EIF3F PPA1 GSTP1 ANP32B FADS1 GTF3A TMEM160 SUMO1 METTL5 SNX5 SNX3 NDUFB1 NDUFAF2 EIF3E GMPR CCT8 SNRPF SNRPD1 PGK1 EMC6 NDUFS5 ARL15 GTF3C6 GTPBP4 CFL1 GYPB SRRM1 RAN SRSF5 HBZ ZNF22 HDDC2 ATP6V1F DNAJA1 HNRNPA2B1 HES6 SDHC HMGB1 SUB1 SUMO3 NDUFS6 CMSS1 NDUFS7 NDUFS8 PFDN5 UQCRFS1 UQCRC1 FAM200B COA1 TADA3 LYL1 YIF1B AKIRIN1 CMBL RGS10 IMP3 PCBD1 YBX3 LUC7L3 SNRPD2 CCT4 KRT18 RPS27L CUTA MRPL52 MRPL57 DDT MRPS21 MRPS34 SMARCA4 SLC25A6 MRPL35 LSMEM2 PTBP1 ACP1 POLR1D CBX3 LSM12 SLC25A5 SLC25A37 CAPZA1 MARCKSL1 MTDH TOR1AIP2 METAP2 TOP2A C1QBP PSMA5 C4orf3 LDHB PSMA7 MIEN1 PSMB2 CAP1 C9orf78 LAPTM4B LAMTOR5 PPP1CA TPM3 ZNHIT1 PSMD11 PRAME ZBTB8OS POLR2L ATF7IP2 NAA10 RNF126 YWHAZ KIFAP3 THOC2 SNF8 PTP4A2 KIAA0319L SNRNP25 PKIG COQ4 SSU72 BNIP3L MYC SFPQ SNRPB PICALM DSTN COX6C SRP14 PRPF40A PSMC6 CTAG2 SRSF1 PAFAH1B2 CTU1 SRRM2 OSBPL9 CISD2 DDB1 DCUN1D5 DAZAP1 SEC62 YWHAB DIS3 SIVA1 DAP SRSF10 PHF20 GUK1 ZC3HAV1 SLC7A5 FBXO9 DCTN3 SRSF11 FBXL20 HIGD2A HGS PPP1R18 ANAPC16 CSTF3 YRDC BID PIM2 ANAPC11 SFXN1 ASH1L XPR1 EZH2 RANBP10 ANXA2 PTS HDDC3 ALDOA HDAC6 SRSF7 HDAC1 VDAC1 SLC38A5 CKB PHKB CSNK2A1 SRSF3 RAD21 PGAM1 GTF2A2 PDCD10 DEK PDE4DIP POLR2E CMTM6 UPF3B CNBP CNOT7 PDLIM7 CNPY2 FKBP8 ARPC1A QPRT PLTP VBP1 PTGES3 ZNF131 SMIM4 FKBP3 FIS1 UQCRB PRKAR2A COX7A2L GALNT1 PRR13 COX8A CYCS GOLGB1 PFDN2 PNN COX20 FAM120AOS SLC27A5 GNG5 PPDPF PPARGC1B PAK2 GAL PRRC2B PWP1 GSPT1 DDX46 PRDX1 SPN PARP1 PRDX2 SMYD3 PRDX3 COX14 PRMT2 FUS ATF4 PSME3 FBL PSMG3 FAM222B SNRPC CLPX GPS1 POLR2J CLTA PCGF6 PCNP COX6A1 UBL7 EIF1AX TIMM8B CCDC59 APOE RNF181 TXNL4A THRAP3 DYNLL1 CCDC137 TIMM13 TIMM44 ZNF664 MTCH2 EEF1D MT1X MRPS12 TIMMDC1 CBX5 ACP5 APPL1 KPNA6 KPNB1 KRT10 TMA16 ZNF706 MRPS33 TMED4 MRPS15 MYL12A RSF1 MYL6 MYL6B CDC42 EIF4B CDC16 EIF3M NDUFC1 NDUFB7 EIF3J NDUFB4 NDUFA8 EIF3D NDUFA3 S100A4 S100A13 CCT7 KCNH2\n",
      "Cell 2:\n",
      "MT-CO3 TMSB4X FTL MT-CO2 RPS27 MT-CO1 EEF1A1 RPS14 RPL34 FTH1 RPS18 MT-ND4 RPLP1 RPL37 RPS29 MT-ATP6 RPS4X RPL13A MT-CYB RPS8 RPS2 RPS19 TPT1 RPL28 RPL32 RPS3 RPS7 RPS27A MT-ND1 RPL37A MT-ND2 RPS12 RPS3A RPL21 RPL13 ACTB RPL39 RPL6 RPL9 RPS24 RPL27A RPL11 RPS28 RPS15 RPS11 RPL15 RPLP0 OAZ1 RPL10 RPL30 MT-ND3 RPS20 RPS15A RPL35 RPL41 YBX1 RPL5 RPS23 RPL29 RPL8 RPL19 RPL14 TMA7 RPL4 RPL10A RPL18A TYROBP RPLP2 RPS17 RPL7 UBA52 GAPDH UQCRH PTMA CFD HMGB1 RPL12 PFN1 RPS25 RPL35A RPSA B2M RPL24 COX7C UQCR11 SUB1 RPL36 HMGN1 RPL18 COX5B SRP14 VIM LST1 PTP4A2 CFL1 SUMO2 NACA RPL7A SH3BGRL3 PRAME SERF2 TMSB10 COX8A FAU CEBPE RPL23 EDF1 CSF3R CHCHD2 SNX3 MPC2 LMO4 PRR13 MSN DBI FAM118A NDUFS5 UBE2L3 MTCH1 COX7A2 FKBP1A RPS6 EIF2S2 RPS21 RPS26 GPX4 LSM6 CAP1 RPL22 HMGN2 MS4A3 PET100 PFDN5 UBL5 RPL23A LSM2 CDCA7 NUCKS1 ITM2B LDHB HMGN3 AURKAIP1 LAMTOR4 RPL27 RPS16 COTL1 PGAM1 ZNF207 UBB UBC COX4I1 GTF2I SLC25A3 PPIA RPS13 PGP TMBIM6 COX7B MYL6 ARHGDIB LGALS1 AGO1 HSP90AA1 SLC25A6 TMED9 MT-ND5 CLIC1 RPL3 SNRPG YWHAH SRSF9 BSG USP20 SRSF3 ARPC5 SRRM2 ARPC3 MYO1F ARPC2 ARPC1B MORF4L1 CIRBP MSRB1 CLC CALM2 DEK MARCKSL1 COMMD6 IQGAP2 CHAF1A RABL6 SAT1 CD63 NDUFA4 FAM89A POMP EIF3K COX6C PNRC1 TMEM219 MRPS16 TUBA1B SERBP1 BUD31 MRPL13 SLC39A3 CCT5 TEX30 COX6A1 SVIP PKM BANF1 UQCRFS1 PHF19 EIF3F SON CELF2 COX17 METTL9 PPIL2 RPS5 SET MYL12A RAB4A CMTM7 RPL38 COX6B1 PCBP2 CIZ1 UCP2 DGCR6L PGLS GPBP1 LIMD2 PEBP1 SOX4 PPP1CA HINT1 NCL PPP6R1 RPL26 BTG1 CCNI HNRNPA1 RSF1 PPP1CB RMI2 PRDX5 ALDOA PYCARD MBOAT7 PPP1R18 TNNT1 TOMM7 ATP6V1F CKLF ATP6V1G1 ACTG1 EEF2 RPL31 WASF2 ELF1 SRSF11 DGUOK SRSF10 POLR2J3 METTL23 HPRT1 FAM32A COPS7A GLIPR1 TKT ANKRD28 CORO1A MFHAS1 NOTCH1 RAB1A CTSC QPRT TOR1A TRA2B TIMM17A SLC35E2B C14orf119 MRPL20 MIB2 BEST1 ANXA2 PPDPF ANP32B MRPL47 MRPL10 PPHLN1 SNX5 CCDC124 YTHDC1 LMNA TPM3 POLR2L ADRM1 COMMD9 EEF1B2 RPL36AL LARP1B SNRPE CANX CALM1 DYRK1A TRPM4 USP32 HVCN1 PPP3R1 NUDT22 LCP1 TMEM167A ISY1 RSL24D1 BTF3 PLEK TMEM14C TMEM14B CAPNS1 DNMT1 PLD3 ICMT SMC4 ZMAT2 BRI3 ZDHHC12 ANAPC13 ANAPC11 PMVK MORF4L2 SCAND1 SLIRP BRK1 RTN4 IDH2 RTN3 CRLS1 TRMT112 SMAD4 LAPTM5 OAZ2 SMAD5 FAM89B NUDT1 NUDCD2 AIF1 SNRNP25 BIRC2 CSTB PPM1G S100A11 ANKRD11 NONO PTPN7 MRPS33 NSRP1 SLBP NOP10 CYBA PPIG WDR62 SNRPB2 TLN1 SNRPD1 CBX3 CBFA2T3 TNFAIP8 BMI1 CASP8AP2 C4orf48 HSPB11 HSPB1 HSPA8 LENG8 ZMYND8 HSP90AB1 TMED5 WDR83OS RUNX1 RANBP1 C4orf3 RPS9 ALAS1 ZNF138 ZC3H15 PPM1N FUS TMA16 EEF1D COMMD3 PARK7 SPG21 SPI1 PRMT2 PARL CD37 GOLIM4 CLPX DDX52 HDDC2 UBE2D2 UBE2M MCCC2 FLCN ATP11B UBE2I PSMA3 EIF5A ETFB HDAC3 VAMP8 CLU RNF130 UQCR10 HEPH BAG6 CHP1 KCNE3 NAA38 RBM26 STAU2 CNIH4 NDUFA3 NDUFA2 SETD2 CCT4 MTRF1L ARIH2 EIF3I EIF3J RNF145 HES6 ATOX1 CMTM6 DECR2 SPN TXNIP RING1 CCDC174 RCC2 SRA1 PAIP2 LSM3 ATRX SRI TAOK3 EMP3 SSR2 RBMX SSNA1 SRSF2 P4HB SSH2 SSBP1 MYB ERH ATP6AP1 TAF10 OSTC OST4 OSBPL9 CDCA7L ACTN1 PAPOLA RNASEH2C PGK1 RHEB TBL1XR1 PSMA7 PGD ARL15 TBCA VPS16 PSMB1 VPS13C UBE2S RHOA RMND5B GYG1 ZNF83 TBC1D20 NDUFAF3 KIAA0100 PIP4K2A MZT2B ATG16L2 RGS10 NDUFS7 TFDP2 HMGA1 HMGB2 NDUFV2 PCBP1 EPM2AIP1 PRKAG1 PIM1 DHFR\n",
      ".\n",
      "These cells are from the:\n",
      "--------------------------------------------------\n",
      "\n",
      "\n",
      "Response:\n",
      "--------------------------------------------------\n",
      "lymph node.\n",
      ".\n"
     ]
    }
   ],
   "source": [
    "print(f\"Prompt:\")\n",
    "print(\"-\" * 50)\n",
    "print(custom_prompt)\n",
    "print(\"-\" * 50)\n",
    "\n",
    "print()\n",
    "print()\n",
    "response = query_model(custom_prompt, max_tokens=50, temperature=0.1)\n",
    "print(f\"Response:\")\n",
    "print(\"-\" * 50)\n",
    "print(response)"
   ]
  },
  {
   "cell_type": "code",
   "execution_count": 21,
   "id": "854f074c",
   "metadata": {},
   "outputs": [
    {
     "name": "stdout",
     "output_type": "stream",
     "text": [
      "Prompt:\n",
      "--------------------------------------------------\n",
      "The capital of France is\n",
      "--------------------------------------------------\n",
      "\n",
      "\n",
      "Response:\n",
      "--------------------------------------------------\n",
      "EEF1A1 RPL10 RPS12 RPLP1 RPL13 RPL41 RPS27A RPS27 RPS18 RPS3A RPS23 RPL32 RPL30 RPS1\n"
     ]
    }
   ],
   "source": [
    "print(f\"Prompt:\")\n",
    "print(\"-\" * 50)\n",
    "custom_prompt = \"The capital of France is\"\n",
    "print(custom_prompt)\n",
    "print(\"-\" * 50)\n",
    "\n",
    "print()\n",
    "print()\n",
    "response = query_model(custom_prompt, max_tokens=50, temperature=0.1)\n",
    "print(f\"Response:\")\n",
    "print(\"-\" * 50)\n",
    "print(response)"
   ]
  },
  {
   "cell_type": "markdown",
   "id": "bccd242a",
   "metadata": {},
   "source": [
    "## Custom Prompts\n",
    "\n",
    "You can also send completely custom prompts to explore the model's capabilities:"
   ]
  },
  {
   "cell_type": "code",
   "execution_count": 22,
   "id": "acac8562",
   "metadata": {},
   "outputs": [
    {
     "name": "stdout",
     "output_type": "stream",
     "text": [
      "Prompt:\n",
      "--------------------------------------------------\n",
      "The following is a list of 500 gene names ordered by descending expression level in a human cell. Your task is to classify the cell as fast or slow growing.\n",
      "Cell sentence: MT-CO3 TMSB4X FTL MT-CO2 RPS27 MT-CO1 EEF1A1 RPS14 RPL34 FTH1 RPS18 MT-ND4 RPLP1 RPL37 RPS29 MT-ATP6 RPS4X RPL13A MT-CYB RPS8 RPS2 RPS19 TPT1 RPL28 RPL32 RPS3 RPS7 RPS27A MT-ND1 RPL37A MT-ND2 RPS12 RPS3A RPL21 RPL13 ACTB RPL39 RPL6 RPL9 RPS24 RPL27A RPL11 RPS28 RPS15 RPS11 RPL15 RPLP0 OAZ1 RPL10 RPL30 MT-ND3 RPS20 RPS15A RPL35 RPL41 YBX1 RPL5 RPS23 RPL29 RPL8 RPL19 RPL14 TMA7 RPL4 RPL10A RPL18A TYROBP RPLP2 RPS17 RPL7 UBA52 GAPDH UQCRH PTMA CFD HMGB1 RPL12 PFN1 RPS25 RPL35A RPSA B2M RPL24 COX7C UQCR11 SUB1 RPL36 HMGN1 RPL18 COX5B SRP14 VIM LST1 PTP4A2 CFL1 SUMO2 NACA RPL7A SH3BGRL3 PRAME SERF2 TMSB10 COX8A FAU CEBPE RPL23 EDF1 CSF3R CHCHD2 SNX3 MPC2 LMO4 PRR13 MSN DBI FAM118A NDUFS5 UBE2L3 MTCH1 COX7A2 FKBP1A RPS6 EIF2S2 RPS21 RPS26 GPX4 LSM6 CAP1 RPL22 HMGN2 MS4A3 PET100 PFDN5 UBL5 RPL23A LSM2 CDCA7 NUCKS1 ITM2B LDHB HMGN3 AURKAIP1 LAMTOR4 RPL27 RPS16 COTL1 PGAM1 ZNF207 UBB UBC COX4I1 GTF2I SLC25A3 PPIA RPS13 PGP TMBIM6 COX7B MYL6 ARHGDIB LGALS1 AGO1 HSP90AA1 SLC25A6 TMED9 MT-ND5 CLIC1 RPL3 SNRPG YWHAH SRSF9 BSG USP20 SRSF3 ARPC5 SRRM2 ARPC3 MYO1F ARPC2 ARPC1B MORF4L1 CIRBP MSRB1 CLC CALM2 DEK MARCKSL1 COMMD6 IQGAP2 CHAF1A RABL6 SAT1 CD63 NDUFA4 FAM89A POMP EIF3K COX6C PNRC1 TMEM219 MRPS16 TUBA1B SERBP1 BUD31 MRPL13 SLC39A3 CCT5 TEX30 COX6A1 SVIP PKM BANF1 UQCRFS1 PHF19 EIF3F SON CELF2 COX17 METTL9 PPIL2 RPS5 SET MYL12A RAB4A CMTM7 RPL38 COX6B1 PCBP2 CIZ1 UCP2 DGCR6L PGLS GPBP1 LIMD2 PEBP1 SOX4 PPP1CA HINT1 NCL PPP6R1 RPL26 BTG1 CCNI HNRNPA1 RSF1 PPP1CB RMI2 PRDX5 ALDOA PYCARD MBOAT7 PPP1R18 TNNT1 TOMM7 ATP6V1F CKLF ATP6V1G1 ACTG1 EEF2 RPL31 WASF2 ELF1 SRSF11 DGUOK SRSF10 POLR2J3 METTL23 HPRT1 FAM32A COPS7A GLIPR1 TKT ANKRD28 CORO1A MFHAS1 NOTCH1 RAB1A CTSC QPRT TOR1A TRA2B TIMM17A SLC35E2B C14orf119 MRPL20 MIB2 BEST1 ANXA2 PPDPF ANP32B MRPL47 MRPL10 PPHLN1 SNX5 CCDC124 YTHDC1 LMNA TPM3 POLR2L ADRM1 COMMD9 EEF1B2 RPL36AL LARP1B SNRPE CANX CALM1 DYRK1A TRPM4 USP32 HVCN1 PPP3R1 NUDT22 LCP1 TMEM167A ISY1 RSL24D1 BTF3 PLEK TMEM14C TMEM14B CAPNS1 DNMT1 PLD3 ICMT SMC4 ZMAT2 BRI3 ZDHHC12 ANAPC13 ANAPC11 PMVK MORF4L2 SCAND1 SLIRP BRK1 RTN4 IDH2 RTN3 CRLS1 TRMT112 SMAD4 LAPTM5 OAZ2 SMAD5 FAM89B NUDT1 NUDCD2 AIF1 SNRNP25 BIRC2 CSTB PPM1G S100A11 ANKRD11 NONO PTPN7 MRPS33 NSRP1 SLBP NOP10 CYBA PPIG WDR62 SNRPB2 TLN1 SNRPD1 CBX3 CBFA2T3 TNFAIP8 BMI1 CASP8AP2 C4orf48 HSPB11 HSPB1 HSPA8 LENG8 ZMYND8 HSP90AB1 TMED5 WDR83OS RUNX1 RANBP1 C4orf3 RPS9 ALAS1 ZNF138 ZC3H15 PPM1N FUS TMA16 EEF1D COMMD3 PARK7 SPG21 SPI1 PRMT2 PARL CD37 GOLIM4 CLPX DDX52 HDDC2 UBE2D2 UBE2M MCCC2 FLCN ATP11B UBE2I PSMA3 EIF5A ETFB HDAC3 VAMP8 CLU RNF130 UQCR10 HEPH BAG6 CHP1 KCNE3 NAA38 RBM26 STAU2 CNIH4 NDUFA3 NDUFA2 SETD2 CCT4 MTRF1L ARIH2 EIF3I EIF3J RNF145 HES6 ATOX1 CMTM6 DECR2 SPN TXNIP RING1 CCDC174 RCC2 SRA1 PAIP2 LSM3 ATRX SRI TAOK3 EMP3 SSR2 RBMX SSNA1 SRSF2 P4HB SSH2 SSBP1 MYB ERH ATP6AP1 TAF10 OSTC OST4 OSBPL9 CDCA7L ACTN1 PAPOLA RNASEH2C PGK1 RHEB TBL1XR1 PSMA7 PGD ARL15 TBCA VPS16 PSMB1 VPS13C UBE2S RHOA RMND5B GYG1 ZNF83 TBC1D20 NDUFAF3 KIAA0100 PIP4K2A MZT2B ATG16L2 RGS10 NDUFS7 TFDP2 HMGA1 HMGB2 NDUFV2 PCBP1 EPM2AIP1 PRKAG1 PIM1 DHFR\n",
      "The cell grows:\n",
      "--------------------------------------------------\n",
      "\n",
      "\n",
      "Response:\n",
      "--------------------------------------------------\n",
      "slow growing.<ctrl100>\n"
     ]
    }
   ],
   "source": [
    "# formatter = C2SPromptFormatter(task=\"cell_type_prediction\", top_k_genes=n_genes)\n",
    "# prompt_template = formatter.prompts_dict[\"model_input\"][0]\n",
    "# custom_prompt = prompt_template.format(\n",
    "#     num_genes=n_genes,\n",
    "#     organism='human',\n",
    "#     cell_sentence=control_cell\n",
    "# )\n",
    "\n",
    "custom_prompt = f\"\"\"The following is a list of {n_genes} gene names ordered by descending expression level in a human cell. Your task is to classify the cell as fast or slow growing.\n",
    "Cell sentence: {perturbed_cell}\n",
    "The cell grows:\"\"\"\n",
    "\n",
    "print(f\"Prompt:\")\n",
    "print(\"-\" * 50)\n",
    "print(custom_prompt)\n",
    "print(\"-\" * 50)\n",
    "\n",
    "print()\n",
    "print()\n",
    "response = query_model(custom_prompt)\n",
    "print(f\"Response:\")\n",
    "print(\"-\" * 50)\n",
    "print(response)"
   ]
  },
  {
   "cell_type": "markdown",
   "id": "5c5d4def",
   "metadata": {},
   "source": [
    "### Base language model (Pythia)"
   ]
  },
  {
   "cell_type": "code",
   "execution_count": null,
   "id": "a042f3ed",
   "metadata": {},
   "outputs": [
    {
     "name": "stdout",
     "output_type": "stream",
     "text": [
      "Using device: cuda\n"
     ]
    },
    {
     "ename": "KeyboardInterrupt",
     "evalue": "",
     "output_type": "error",
     "traceback": [
      "\u001b[0;31m---------------------------------------------------------------------------\u001b[0m",
      "\u001b[0;31mKeyboardInterrupt\u001b[0m                         Traceback (most recent call last)",
      "Cell \u001b[0;32mIn[29], line 8\u001b[0m\n\u001b[1;32m      5\u001b[0m device \u001b[38;5;241m=\u001b[39m torch\u001b[38;5;241m.\u001b[39mdevice(\u001b[38;5;124m\"\u001b[39m\u001b[38;5;124mcuda\u001b[39m\u001b[38;5;124m\"\u001b[39m \u001b[38;5;28;01mif\u001b[39;00m torch\u001b[38;5;241m.\u001b[39mcuda\u001b[38;5;241m.\u001b[39mis_available() \u001b[38;5;28;01melse\u001b[39;00m \u001b[38;5;124m\"\u001b[39m\u001b[38;5;124mcpu\u001b[39m\u001b[38;5;124m\"\u001b[39m)\n\u001b[1;32m      6\u001b[0m \u001b[38;5;28mprint\u001b[39m(\u001b[38;5;124mf\u001b[39m\u001b[38;5;124m\"\u001b[39m\u001b[38;5;124mUsing device: \u001b[39m\u001b[38;5;132;01m{\u001b[39;00mdevice\u001b[38;5;132;01m}\u001b[39;00m\u001b[38;5;124m\"\u001b[39m)\n\u001b[0;32m----> 8\u001b[0m model \u001b[38;5;241m=\u001b[39m \u001b[43mGPTNeoXForCausalLM\u001b[49m\u001b[38;5;241;43m.\u001b[39;49m\u001b[43mfrom_pretrained\u001b[49m\u001b[43m(\u001b[49m\n\u001b[1;32m      9\u001b[0m \u001b[43m  \u001b[49m\u001b[38;5;124;43m\"\u001b[39;49m\u001b[38;5;124;43mEleutherAI/pythia-1b-deduped\u001b[39;49m\u001b[38;5;124;43m\"\u001b[39;49m\u001b[43m,\u001b[49m\n\u001b[1;32m     10\u001b[0m \u001b[43m  \u001b[49m\u001b[43mrevision\u001b[49m\u001b[38;5;241;43m=\u001b[39;49m\u001b[38;5;124;43m\"\u001b[39;49m\u001b[38;5;124;43mstep143000\u001b[39;49m\u001b[38;5;124;43m\"\u001b[39;49m\u001b[43m,\u001b[49m\n\u001b[1;32m     11\u001b[0m \u001b[43m  \u001b[49m\u001b[43mcache_dir\u001b[49m\u001b[38;5;241;43m=\u001b[39;49m\u001b[38;5;124;43m\"\u001b[39;49m\u001b[38;5;124;43m./models/pythia/pythia-1b-deduped/step143000\u001b[39;49m\u001b[38;5;124;43m\"\u001b[39;49m\u001b[43m,\u001b[49m\n\u001b[1;32m     12\u001b[0m \u001b[43m  \u001b[49m\u001b[43mtorch_dtype\u001b[49m\u001b[38;5;241;43m=\u001b[39;49m\u001b[43mtorch\u001b[49m\u001b[38;5;241;43m.\u001b[39;49m\u001b[43mbfloat16\u001b[49m\u001b[43m \u001b[49m\u001b[38;5;28;43;01mif\u001b[39;49;00m\u001b[43m \u001b[49m\u001b[43mdevice\u001b[49m\u001b[38;5;241;43m.\u001b[39;49m\u001b[43mtype\u001b[49m\u001b[43m \u001b[49m\u001b[38;5;241;43m==\u001b[39;49m\u001b[43m \u001b[49m\u001b[38;5;124;43m\"\u001b[39;49m\u001b[38;5;124;43mcuda\u001b[39;49m\u001b[38;5;124;43m\"\u001b[39;49m\u001b[43m \u001b[49m\u001b[38;5;28;43;01melse\u001b[39;49;00m\u001b[43m \u001b[49m\u001b[43mtorch\u001b[49m\u001b[38;5;241;43m.\u001b[39;49m\u001b[43mfloat32\u001b[49m\n\u001b[1;32m     13\u001b[0m \u001b[43m)\u001b[49m\n\u001b[1;32m     15\u001b[0m \u001b[38;5;66;03m# Move model to GPU\u001b[39;00m\n\u001b[1;32m     16\u001b[0m model \u001b[38;5;241m=\u001b[39m model\u001b[38;5;241m.\u001b[39mto(device)\n",
      "File \u001b[0;32m~/.conda/envs/cell2sentence/lib/python3.8/site-packages/transformers/modeling_utils.py:3815\u001b[0m, in \u001b[0;36mPreTrainedModel.from_pretrained\u001b[0;34m(cls, pretrained_model_name_or_path, config, cache_dir, ignore_mismatched_sizes, force_download, local_files_only, token, revision, use_safetensors, weights_only, *model_args, **kwargs)\u001b[0m\n\u001b[1;32m   3811\u001b[0m \u001b[38;5;66;03m# Since we set _raise_exceptions_for_missing_entries=False, we don't get an exception but a None\u001b[39;00m\n\u001b[1;32m   3812\u001b[0m \u001b[38;5;66;03m# result when internet is up, the repo and revision exist, but the file does not.\u001b[39;00m\n\u001b[1;32m   3813\u001b[0m \u001b[38;5;28;01mif\u001b[39;00m resolved_archive_file \u001b[38;5;129;01mis\u001b[39;00m \u001b[38;5;28;01mNone\u001b[39;00m \u001b[38;5;129;01mand\u001b[39;00m filename \u001b[38;5;241m==\u001b[39m _add_variant(SAFE_WEIGHTS_NAME, variant):\n\u001b[1;32m   3814\u001b[0m     \u001b[38;5;66;03m# Maybe the checkpoint is sharded, we try to grab the index name in this case.\u001b[39;00m\n\u001b[0;32m-> 3815\u001b[0m     resolved_archive_file \u001b[38;5;241m=\u001b[39m \u001b[43mcached_file\u001b[49m\u001b[43m(\u001b[49m\n\u001b[1;32m   3816\u001b[0m \u001b[43m        \u001b[49m\u001b[43mpretrained_model_name_or_path\u001b[49m\u001b[43m,\u001b[49m\n\u001b[1;32m   3817\u001b[0m \u001b[43m        \u001b[49m\u001b[43m_add_variant\u001b[49m\u001b[43m(\u001b[49m\u001b[43mSAFE_WEIGHTS_INDEX_NAME\u001b[49m\u001b[43m,\u001b[49m\u001b[43m \u001b[49m\u001b[43mvariant\u001b[49m\u001b[43m)\u001b[49m\u001b[43m,\u001b[49m\n\u001b[1;32m   3818\u001b[0m \u001b[43m        \u001b[49m\u001b[38;5;241;43m*\u001b[39;49m\u001b[38;5;241;43m*\u001b[39;49m\u001b[43mcached_file_kwargs\u001b[49m\u001b[43m,\u001b[49m\n\u001b[1;32m   3819\u001b[0m \u001b[43m    \u001b[49m\u001b[43m)\u001b[49m\n\u001b[1;32m   3820\u001b[0m     \u001b[38;5;28;01mif\u001b[39;00m resolved_archive_file \u001b[38;5;129;01mis\u001b[39;00m \u001b[38;5;129;01mnot\u001b[39;00m \u001b[38;5;28;01mNone\u001b[39;00m:\n\u001b[1;32m   3821\u001b[0m         is_sharded \u001b[38;5;241m=\u001b[39m \u001b[38;5;28;01mTrue\u001b[39;00m\n",
      "File \u001b[0;32m~/.conda/envs/cell2sentence/lib/python3.8/site-packages/transformers/utils/hub.py:403\u001b[0m, in \u001b[0;36mcached_file\u001b[0;34m(path_or_repo_id, filename, cache_dir, force_download, resume_download, proxies, token, revision, local_files_only, subfolder, repo_type, user_agent, _raise_exceptions_for_gated_repo, _raise_exceptions_for_missing_entries, _raise_exceptions_for_connection_errors, _commit_hash, **deprecated_kwargs)\u001b[0m\n\u001b[1;32m    400\u001b[0m user_agent \u001b[38;5;241m=\u001b[39m http_user_agent(user_agent)\n\u001b[1;32m    401\u001b[0m \u001b[38;5;28;01mtry\u001b[39;00m:\n\u001b[1;32m    402\u001b[0m     \u001b[38;5;66;03m# Load from URL or cache if already cached\u001b[39;00m\n\u001b[0;32m--> 403\u001b[0m     resolved_file \u001b[38;5;241m=\u001b[39m \u001b[43mhf_hub_download\u001b[49m\u001b[43m(\u001b[49m\n\u001b[1;32m    404\u001b[0m \u001b[43m        \u001b[49m\u001b[43mpath_or_repo_id\u001b[49m\u001b[43m,\u001b[49m\n\u001b[1;32m    405\u001b[0m \u001b[43m        \u001b[49m\u001b[43mfilename\u001b[49m\u001b[43m,\u001b[49m\n\u001b[1;32m    406\u001b[0m \u001b[43m        \u001b[49m\u001b[43msubfolder\u001b[49m\u001b[38;5;241;43m=\u001b[39;49m\u001b[38;5;28;43;01mNone\u001b[39;49;00m\u001b[43m \u001b[49m\u001b[38;5;28;43;01mif\u001b[39;49;00m\u001b[43m \u001b[49m\u001b[38;5;28;43mlen\u001b[39;49m\u001b[43m(\u001b[49m\u001b[43msubfolder\u001b[49m\u001b[43m)\u001b[49m\u001b[43m \u001b[49m\u001b[38;5;241;43m==\u001b[39;49m\u001b[43m \u001b[49m\u001b[38;5;241;43m0\u001b[39;49m\u001b[43m \u001b[49m\u001b[38;5;28;43;01melse\u001b[39;49;00m\u001b[43m \u001b[49m\u001b[43msubfolder\u001b[49m\u001b[43m,\u001b[49m\n\u001b[1;32m    407\u001b[0m \u001b[43m        \u001b[49m\u001b[43mrepo_type\u001b[49m\u001b[38;5;241;43m=\u001b[39;49m\u001b[43mrepo_type\u001b[49m\u001b[43m,\u001b[49m\n\u001b[1;32m    408\u001b[0m \u001b[43m        \u001b[49m\u001b[43mrevision\u001b[49m\u001b[38;5;241;43m=\u001b[39;49m\u001b[43mrevision\u001b[49m\u001b[43m,\u001b[49m\n\u001b[1;32m    409\u001b[0m \u001b[43m        \u001b[49m\u001b[43mcache_dir\u001b[49m\u001b[38;5;241;43m=\u001b[39;49m\u001b[43mcache_dir\u001b[49m\u001b[43m,\u001b[49m\n\u001b[1;32m    410\u001b[0m \u001b[43m        \u001b[49m\u001b[43muser_agent\u001b[49m\u001b[38;5;241;43m=\u001b[39;49m\u001b[43muser_agent\u001b[49m\u001b[43m,\u001b[49m\n\u001b[1;32m    411\u001b[0m \u001b[43m        \u001b[49m\u001b[43mforce_download\u001b[49m\u001b[38;5;241;43m=\u001b[39;49m\u001b[43mforce_download\u001b[49m\u001b[43m,\u001b[49m\n\u001b[1;32m    412\u001b[0m \u001b[43m        \u001b[49m\u001b[43mproxies\u001b[49m\u001b[38;5;241;43m=\u001b[39;49m\u001b[43mproxies\u001b[49m\u001b[43m,\u001b[49m\n\u001b[1;32m    413\u001b[0m \u001b[43m        \u001b[49m\u001b[43mresume_download\u001b[49m\u001b[38;5;241;43m=\u001b[39;49m\u001b[43mresume_download\u001b[49m\u001b[43m,\u001b[49m\n\u001b[1;32m    414\u001b[0m \u001b[43m        \u001b[49m\u001b[43mtoken\u001b[49m\u001b[38;5;241;43m=\u001b[39;49m\u001b[43mtoken\u001b[49m\u001b[43m,\u001b[49m\n\u001b[1;32m    415\u001b[0m \u001b[43m        \u001b[49m\u001b[43mlocal_files_only\u001b[49m\u001b[38;5;241;43m=\u001b[39;49m\u001b[43mlocal_files_only\u001b[49m\u001b[43m,\u001b[49m\n\u001b[1;32m    416\u001b[0m \u001b[43m    \u001b[49m\u001b[43m)\u001b[49m\n\u001b[1;32m    417\u001b[0m \u001b[38;5;28;01mexcept\u001b[39;00m GatedRepoError \u001b[38;5;28;01mas\u001b[39;00m e:\n\u001b[1;32m    418\u001b[0m     resolved_file \u001b[38;5;241m=\u001b[39m _get_cache_file_to_return(path_or_repo_id, full_filename, cache_dir, revision)\n",
      "File \u001b[0;32m~/.conda/envs/cell2sentence/lib/python3.8/site-packages/huggingface_hub/utils/_validators.py:114\u001b[0m, in \u001b[0;36mvalidate_hf_hub_args.<locals>._inner_fn\u001b[0;34m(*args, **kwargs)\u001b[0m\n\u001b[1;32m    111\u001b[0m \u001b[38;5;28;01mif\u001b[39;00m check_use_auth_token:\n\u001b[1;32m    112\u001b[0m     kwargs \u001b[38;5;241m=\u001b[39m smoothly_deprecate_use_auth_token(fn_name\u001b[38;5;241m=\u001b[39mfn\u001b[38;5;241m.\u001b[39m\u001b[38;5;18m__name__\u001b[39m, has_token\u001b[38;5;241m=\u001b[39mhas_token, kwargs\u001b[38;5;241m=\u001b[39mkwargs)\n\u001b[0;32m--> 114\u001b[0m \u001b[38;5;28;01mreturn\u001b[39;00m \u001b[43mfn\u001b[49m\u001b[43m(\u001b[49m\u001b[38;5;241;43m*\u001b[39;49m\u001b[43margs\u001b[49m\u001b[43m,\u001b[49m\u001b[43m \u001b[49m\u001b[38;5;241;43m*\u001b[39;49m\u001b[38;5;241;43m*\u001b[39;49m\u001b[43mkwargs\u001b[49m\u001b[43m)\u001b[49m\n",
      "File \u001b[0;32m~/.conda/envs/cell2sentence/lib/python3.8/site-packages/huggingface_hub/file_download.py:1010\u001b[0m, in \u001b[0;36mhf_hub_download\u001b[0;34m(repo_id, filename, subfolder, repo_type, revision, library_name, library_version, cache_dir, local_dir, user_agent, force_download, proxies, etag_timeout, token, local_files_only, headers, endpoint, resume_download, force_filename, local_dir_use_symlinks)\u001b[0m\n\u001b[1;32m    990\u001b[0m     \u001b[38;5;28;01mreturn\u001b[39;00m _hf_hub_download_to_local_dir(\n\u001b[1;32m    991\u001b[0m         \u001b[38;5;66;03m# Destination\u001b[39;00m\n\u001b[1;32m    992\u001b[0m         local_dir\u001b[38;5;241m=\u001b[39mlocal_dir,\n\u001b[0;32m   (...)\u001b[0m\n\u001b[1;32m   1007\u001b[0m         local_files_only\u001b[38;5;241m=\u001b[39mlocal_files_only,\n\u001b[1;32m   1008\u001b[0m     )\n\u001b[1;32m   1009\u001b[0m \u001b[38;5;28;01melse\u001b[39;00m:\n\u001b[0;32m-> 1010\u001b[0m     \u001b[38;5;28;01mreturn\u001b[39;00m \u001b[43m_hf_hub_download_to_cache_dir\u001b[49m\u001b[43m(\u001b[49m\n\u001b[1;32m   1011\u001b[0m \u001b[43m        \u001b[49m\u001b[38;5;66;43;03m# Destination\u001b[39;49;00m\n\u001b[1;32m   1012\u001b[0m \u001b[43m        \u001b[49m\u001b[43mcache_dir\u001b[49m\u001b[38;5;241;43m=\u001b[39;49m\u001b[43mcache_dir\u001b[49m\u001b[43m,\u001b[49m\n\u001b[1;32m   1013\u001b[0m \u001b[43m        \u001b[49m\u001b[38;5;66;43;03m# File info\u001b[39;49;00m\n\u001b[1;32m   1014\u001b[0m \u001b[43m        \u001b[49m\u001b[43mrepo_id\u001b[49m\u001b[38;5;241;43m=\u001b[39;49m\u001b[43mrepo_id\u001b[49m\u001b[43m,\u001b[49m\n\u001b[1;32m   1015\u001b[0m \u001b[43m        \u001b[49m\u001b[43mfilename\u001b[49m\u001b[38;5;241;43m=\u001b[39;49m\u001b[43mfilename\u001b[49m\u001b[43m,\u001b[49m\n\u001b[1;32m   1016\u001b[0m \u001b[43m        \u001b[49m\u001b[43mrepo_type\u001b[49m\u001b[38;5;241;43m=\u001b[39;49m\u001b[43mrepo_type\u001b[49m\u001b[43m,\u001b[49m\n\u001b[1;32m   1017\u001b[0m \u001b[43m        \u001b[49m\u001b[43mrevision\u001b[49m\u001b[38;5;241;43m=\u001b[39;49m\u001b[43mrevision\u001b[49m\u001b[43m,\u001b[49m\n\u001b[1;32m   1018\u001b[0m \u001b[43m        \u001b[49m\u001b[38;5;66;43;03m# HTTP info\u001b[39;49;00m\n\u001b[1;32m   1019\u001b[0m \u001b[43m        \u001b[49m\u001b[43mendpoint\u001b[49m\u001b[38;5;241;43m=\u001b[39;49m\u001b[43mendpoint\u001b[49m\u001b[43m,\u001b[49m\n\u001b[1;32m   1020\u001b[0m \u001b[43m        \u001b[49m\u001b[43metag_timeout\u001b[49m\u001b[38;5;241;43m=\u001b[39;49m\u001b[43metag_timeout\u001b[49m\u001b[43m,\u001b[49m\n\u001b[1;32m   1021\u001b[0m \u001b[43m        \u001b[49m\u001b[43mheaders\u001b[49m\u001b[38;5;241;43m=\u001b[39;49m\u001b[43mhf_headers\u001b[49m\u001b[43m,\u001b[49m\n\u001b[1;32m   1022\u001b[0m \u001b[43m        \u001b[49m\u001b[43mproxies\u001b[49m\u001b[38;5;241;43m=\u001b[39;49m\u001b[43mproxies\u001b[49m\u001b[43m,\u001b[49m\n\u001b[1;32m   1023\u001b[0m \u001b[43m        \u001b[49m\u001b[43mtoken\u001b[49m\u001b[38;5;241;43m=\u001b[39;49m\u001b[43mtoken\u001b[49m\u001b[43m,\u001b[49m\n\u001b[1;32m   1024\u001b[0m \u001b[43m        \u001b[49m\u001b[38;5;66;43;03m# Additional options\u001b[39;49;00m\n\u001b[1;32m   1025\u001b[0m \u001b[43m        \u001b[49m\u001b[43mlocal_files_only\u001b[49m\u001b[38;5;241;43m=\u001b[39;49m\u001b[43mlocal_files_only\u001b[49m\u001b[43m,\u001b[49m\n\u001b[1;32m   1026\u001b[0m \u001b[43m        \u001b[49m\u001b[43mforce_download\u001b[49m\u001b[38;5;241;43m=\u001b[39;49m\u001b[43mforce_download\u001b[49m\u001b[43m,\u001b[49m\n\u001b[1;32m   1027\u001b[0m \u001b[43m    \u001b[49m\u001b[43m)\u001b[49m\n",
      "File \u001b[0;32m~/.conda/envs/cell2sentence/lib/python3.8/site-packages/huggingface_hub/file_download.py:1073\u001b[0m, in \u001b[0;36m_hf_hub_download_to_cache_dir\u001b[0;34m(cache_dir, repo_id, filename, repo_type, revision, endpoint, etag_timeout, headers, proxies, token, local_files_only, force_download)\u001b[0m\n\u001b[1;32m   1069\u001b[0m         \u001b[38;5;28;01mreturn\u001b[39;00m pointer_path\n\u001b[1;32m   1071\u001b[0m \u001b[38;5;66;03m# Try to get metadata (etag, commit_hash, url, size) from the server.\u001b[39;00m\n\u001b[1;32m   1072\u001b[0m \u001b[38;5;66;03m# If we can't, a HEAD request error is returned.\u001b[39;00m\n\u001b[0;32m-> 1073\u001b[0m (url_to_download, etag, commit_hash, expected_size, xet_file_data, head_call_error) \u001b[38;5;241m=\u001b[39m \u001b[43m_get_metadata_or_catch_error\u001b[49m\u001b[43m(\u001b[49m\n\u001b[1;32m   1074\u001b[0m \u001b[43m    \u001b[49m\u001b[43mrepo_id\u001b[49m\u001b[38;5;241;43m=\u001b[39;49m\u001b[43mrepo_id\u001b[49m\u001b[43m,\u001b[49m\n\u001b[1;32m   1075\u001b[0m \u001b[43m    \u001b[49m\u001b[43mfilename\u001b[49m\u001b[38;5;241;43m=\u001b[39;49m\u001b[43mfilename\u001b[49m\u001b[43m,\u001b[49m\n\u001b[1;32m   1076\u001b[0m \u001b[43m    \u001b[49m\u001b[43mrepo_type\u001b[49m\u001b[38;5;241;43m=\u001b[39;49m\u001b[43mrepo_type\u001b[49m\u001b[43m,\u001b[49m\n\u001b[1;32m   1077\u001b[0m \u001b[43m    \u001b[49m\u001b[43mrevision\u001b[49m\u001b[38;5;241;43m=\u001b[39;49m\u001b[43mrevision\u001b[49m\u001b[43m,\u001b[49m\n\u001b[1;32m   1078\u001b[0m \u001b[43m    \u001b[49m\u001b[43mendpoint\u001b[49m\u001b[38;5;241;43m=\u001b[39;49m\u001b[43mendpoint\u001b[49m\u001b[43m,\u001b[49m\n\u001b[1;32m   1079\u001b[0m \u001b[43m    \u001b[49m\u001b[43mproxies\u001b[49m\u001b[38;5;241;43m=\u001b[39;49m\u001b[43mproxies\u001b[49m\u001b[43m,\u001b[49m\n\u001b[1;32m   1080\u001b[0m \u001b[43m    \u001b[49m\u001b[43metag_timeout\u001b[49m\u001b[38;5;241;43m=\u001b[39;49m\u001b[43metag_timeout\u001b[49m\u001b[43m,\u001b[49m\n\u001b[1;32m   1081\u001b[0m \u001b[43m    \u001b[49m\u001b[43mheaders\u001b[49m\u001b[38;5;241;43m=\u001b[39;49m\u001b[43mheaders\u001b[49m\u001b[43m,\u001b[49m\n\u001b[1;32m   1082\u001b[0m \u001b[43m    \u001b[49m\u001b[43mtoken\u001b[49m\u001b[38;5;241;43m=\u001b[39;49m\u001b[43mtoken\u001b[49m\u001b[43m,\u001b[49m\n\u001b[1;32m   1083\u001b[0m \u001b[43m    \u001b[49m\u001b[43mlocal_files_only\u001b[49m\u001b[38;5;241;43m=\u001b[39;49m\u001b[43mlocal_files_only\u001b[49m\u001b[43m,\u001b[49m\n\u001b[1;32m   1084\u001b[0m \u001b[43m    \u001b[49m\u001b[43mstorage_folder\u001b[49m\u001b[38;5;241;43m=\u001b[39;49m\u001b[43mstorage_folder\u001b[49m\u001b[43m,\u001b[49m\n\u001b[1;32m   1085\u001b[0m \u001b[43m    \u001b[49m\u001b[43mrelative_filename\u001b[49m\u001b[38;5;241;43m=\u001b[39;49m\u001b[43mrelative_filename\u001b[49m\u001b[43m,\u001b[49m\n\u001b[1;32m   1086\u001b[0m \u001b[43m\u001b[49m\u001b[43m)\u001b[49m\n\u001b[1;32m   1088\u001b[0m \u001b[38;5;66;03m# etag can be None for several reasons:\u001b[39;00m\n\u001b[1;32m   1089\u001b[0m \u001b[38;5;66;03m# 1. we passed local_files_only.\u001b[39;00m\n\u001b[1;32m   1090\u001b[0m \u001b[38;5;66;03m# 2. we don't have a connection\u001b[39;00m\n\u001b[0;32m   (...)\u001b[0m\n\u001b[1;32m   1096\u001b[0m \u001b[38;5;66;03m# If the specified revision is a commit hash, look inside \"snapshots\".\u001b[39;00m\n\u001b[1;32m   1097\u001b[0m \u001b[38;5;66;03m# If the specified revision is a branch or tag, look inside \"refs\".\u001b[39;00m\n\u001b[1;32m   1098\u001b[0m \u001b[38;5;28;01mif\u001b[39;00m head_call_error \u001b[38;5;129;01mis\u001b[39;00m \u001b[38;5;129;01mnot\u001b[39;00m \u001b[38;5;28;01mNone\u001b[39;00m:\n\u001b[1;32m   1099\u001b[0m     \u001b[38;5;66;03m# Couldn't make a HEAD call => let's try to find a local file\u001b[39;00m\n",
      "File \u001b[0;32m~/.conda/envs/cell2sentence/lib/python3.8/site-packages/huggingface_hub/file_download.py:1546\u001b[0m, in \u001b[0;36m_get_metadata_or_catch_error\u001b[0;34m(repo_id, filename, repo_type, revision, endpoint, proxies, etag_timeout, headers, token, local_files_only, relative_filename, storage_folder)\u001b[0m\n\u001b[1;32m   1544\u001b[0m \u001b[38;5;28;01mtry\u001b[39;00m:\n\u001b[1;32m   1545\u001b[0m     \u001b[38;5;28;01mtry\u001b[39;00m:\n\u001b[0;32m-> 1546\u001b[0m         metadata \u001b[38;5;241m=\u001b[39m \u001b[43mget_hf_file_metadata\u001b[49m\u001b[43m(\u001b[49m\n\u001b[1;32m   1547\u001b[0m \u001b[43m            \u001b[49m\u001b[43murl\u001b[49m\u001b[38;5;241;43m=\u001b[39;49m\u001b[43murl\u001b[49m\u001b[43m,\u001b[49m\u001b[43m \u001b[49m\u001b[43mproxies\u001b[49m\u001b[38;5;241;43m=\u001b[39;49m\u001b[43mproxies\u001b[49m\u001b[43m,\u001b[49m\u001b[43m \u001b[49m\u001b[43mtimeout\u001b[49m\u001b[38;5;241;43m=\u001b[39;49m\u001b[43metag_timeout\u001b[49m\u001b[43m,\u001b[49m\u001b[43m \u001b[49m\u001b[43mheaders\u001b[49m\u001b[38;5;241;43m=\u001b[39;49m\u001b[43mheaders\u001b[49m\u001b[43m,\u001b[49m\u001b[43m \u001b[49m\u001b[43mtoken\u001b[49m\u001b[38;5;241;43m=\u001b[39;49m\u001b[43mtoken\u001b[49m\u001b[43m,\u001b[49m\u001b[43m \u001b[49m\u001b[43mendpoint\u001b[49m\u001b[38;5;241;43m=\u001b[39;49m\u001b[43mendpoint\u001b[49m\n\u001b[1;32m   1548\u001b[0m \u001b[43m        \u001b[49m\u001b[43m)\u001b[49m\n\u001b[1;32m   1549\u001b[0m     \u001b[38;5;28;01mexcept\u001b[39;00m EntryNotFoundError \u001b[38;5;28;01mas\u001b[39;00m http_error:\n\u001b[1;32m   1550\u001b[0m         \u001b[38;5;28;01mif\u001b[39;00m storage_folder \u001b[38;5;129;01mis\u001b[39;00m \u001b[38;5;129;01mnot\u001b[39;00m \u001b[38;5;28;01mNone\u001b[39;00m \u001b[38;5;129;01mand\u001b[39;00m relative_filename \u001b[38;5;129;01mis\u001b[39;00m \u001b[38;5;129;01mnot\u001b[39;00m \u001b[38;5;28;01mNone\u001b[39;00m:\n\u001b[1;32m   1551\u001b[0m             \u001b[38;5;66;03m# Cache the non-existence of the file\u001b[39;00m\n",
      "File \u001b[0;32m~/.conda/envs/cell2sentence/lib/python3.8/site-packages/huggingface_hub/utils/_validators.py:114\u001b[0m, in \u001b[0;36mvalidate_hf_hub_args.<locals>._inner_fn\u001b[0;34m(*args, **kwargs)\u001b[0m\n\u001b[1;32m    111\u001b[0m \u001b[38;5;28;01mif\u001b[39;00m check_use_auth_token:\n\u001b[1;32m    112\u001b[0m     kwargs \u001b[38;5;241m=\u001b[39m smoothly_deprecate_use_auth_token(fn_name\u001b[38;5;241m=\u001b[39mfn\u001b[38;5;241m.\u001b[39m\u001b[38;5;18m__name__\u001b[39m, has_token\u001b[38;5;241m=\u001b[39mhas_token, kwargs\u001b[38;5;241m=\u001b[39mkwargs)\n\u001b[0;32m--> 114\u001b[0m \u001b[38;5;28;01mreturn\u001b[39;00m \u001b[43mfn\u001b[49m\u001b[43m(\u001b[49m\u001b[38;5;241;43m*\u001b[39;49m\u001b[43margs\u001b[49m\u001b[43m,\u001b[49m\u001b[43m \u001b[49m\u001b[38;5;241;43m*\u001b[39;49m\u001b[38;5;241;43m*\u001b[39;49m\u001b[43mkwargs\u001b[49m\u001b[43m)\u001b[49m\n",
      "File \u001b[0;32m~/.conda/envs/cell2sentence/lib/python3.8/site-packages/huggingface_hub/file_download.py:1463\u001b[0m, in \u001b[0;36mget_hf_file_metadata\u001b[0;34m(url, token, proxies, timeout, library_name, library_version, user_agent, headers, endpoint)\u001b[0m\n\u001b[1;32m   1460\u001b[0m hf_headers[\u001b[38;5;124m\"\u001b[39m\u001b[38;5;124mAccept-Encoding\u001b[39m\u001b[38;5;124m\"\u001b[39m] \u001b[38;5;241m=\u001b[39m \u001b[38;5;124m\"\u001b[39m\u001b[38;5;124midentity\u001b[39m\u001b[38;5;124m\"\u001b[39m  \u001b[38;5;66;03m# prevent any compression => we want to know the real size of the file\u001b[39;00m\n\u001b[1;32m   1462\u001b[0m \u001b[38;5;66;03m# Retrieve metadata\u001b[39;00m\n\u001b[0;32m-> 1463\u001b[0m r \u001b[38;5;241m=\u001b[39m \u001b[43m_request_wrapper\u001b[49m\u001b[43m(\u001b[49m\n\u001b[1;32m   1464\u001b[0m \u001b[43m    \u001b[49m\u001b[43mmethod\u001b[49m\u001b[38;5;241;43m=\u001b[39;49m\u001b[38;5;124;43m\"\u001b[39;49m\u001b[38;5;124;43mHEAD\u001b[39;49m\u001b[38;5;124;43m\"\u001b[39;49m\u001b[43m,\u001b[49m\n\u001b[1;32m   1465\u001b[0m \u001b[43m    \u001b[49m\u001b[43murl\u001b[49m\u001b[38;5;241;43m=\u001b[39;49m\u001b[43murl\u001b[49m\u001b[43m,\u001b[49m\n\u001b[1;32m   1466\u001b[0m \u001b[43m    \u001b[49m\u001b[43mheaders\u001b[49m\u001b[38;5;241;43m=\u001b[39;49m\u001b[43mhf_headers\u001b[49m\u001b[43m,\u001b[49m\n\u001b[1;32m   1467\u001b[0m \u001b[43m    \u001b[49m\u001b[43mallow_redirects\u001b[49m\u001b[38;5;241;43m=\u001b[39;49m\u001b[38;5;28;43;01mFalse\u001b[39;49;00m\u001b[43m,\u001b[49m\n\u001b[1;32m   1468\u001b[0m \u001b[43m    \u001b[49m\u001b[43mfollow_relative_redirects\u001b[49m\u001b[38;5;241;43m=\u001b[39;49m\u001b[38;5;28;43;01mTrue\u001b[39;49;00m\u001b[43m,\u001b[49m\n\u001b[1;32m   1469\u001b[0m \u001b[43m    \u001b[49m\u001b[43mproxies\u001b[49m\u001b[38;5;241;43m=\u001b[39;49m\u001b[43mproxies\u001b[49m\u001b[43m,\u001b[49m\n\u001b[1;32m   1470\u001b[0m \u001b[43m    \u001b[49m\u001b[43mtimeout\u001b[49m\u001b[38;5;241;43m=\u001b[39;49m\u001b[43mtimeout\u001b[49m\u001b[43m,\u001b[49m\n\u001b[1;32m   1471\u001b[0m \u001b[43m\u001b[49m\u001b[43m)\u001b[49m\n\u001b[1;32m   1472\u001b[0m hf_raise_for_status(r)\n\u001b[1;32m   1474\u001b[0m \u001b[38;5;66;03m# Return\u001b[39;00m\n",
      "File \u001b[0;32m~/.conda/envs/cell2sentence/lib/python3.8/site-packages/huggingface_hub/file_download.py:286\u001b[0m, in \u001b[0;36m_request_wrapper\u001b[0;34m(method, url, follow_relative_redirects, **params)\u001b[0m\n\u001b[1;32m    284\u001b[0m \u001b[38;5;66;03m# Recursively follow relative redirects\u001b[39;00m\n\u001b[1;32m    285\u001b[0m \u001b[38;5;28;01mif\u001b[39;00m follow_relative_redirects:\n\u001b[0;32m--> 286\u001b[0m     response \u001b[38;5;241m=\u001b[39m \u001b[43m_request_wrapper\u001b[49m\u001b[43m(\u001b[49m\n\u001b[1;32m    287\u001b[0m \u001b[43m        \u001b[49m\u001b[43mmethod\u001b[49m\u001b[38;5;241;43m=\u001b[39;49m\u001b[43mmethod\u001b[49m\u001b[43m,\u001b[49m\n\u001b[1;32m    288\u001b[0m \u001b[43m        \u001b[49m\u001b[43murl\u001b[49m\u001b[38;5;241;43m=\u001b[39;49m\u001b[43murl\u001b[49m\u001b[43m,\u001b[49m\n\u001b[1;32m    289\u001b[0m \u001b[43m        \u001b[49m\u001b[43mfollow_relative_redirects\u001b[49m\u001b[38;5;241;43m=\u001b[39;49m\u001b[38;5;28;43;01mFalse\u001b[39;49;00m\u001b[43m,\u001b[49m\n\u001b[1;32m    290\u001b[0m \u001b[43m        \u001b[49m\u001b[38;5;241;43m*\u001b[39;49m\u001b[38;5;241;43m*\u001b[39;49m\u001b[43mparams\u001b[49m\u001b[43m,\u001b[49m\n\u001b[1;32m    291\u001b[0m \u001b[43m    \u001b[49m\u001b[43m)\u001b[49m\n\u001b[1;32m    293\u001b[0m     \u001b[38;5;66;03m# If redirection, we redirect only relative paths.\u001b[39;00m\n\u001b[1;32m    294\u001b[0m     \u001b[38;5;66;03m# This is useful in case of a renamed repository.\u001b[39;00m\n\u001b[1;32m    295\u001b[0m     \u001b[38;5;28;01mif\u001b[39;00m \u001b[38;5;241m300\u001b[39m \u001b[38;5;241m<\u001b[39m\u001b[38;5;241m=\u001b[39m response\u001b[38;5;241m.\u001b[39mstatus_code \u001b[38;5;241m<\u001b[39m\u001b[38;5;241m=\u001b[39m \u001b[38;5;241m399\u001b[39m:\n",
      "File \u001b[0;32m~/.conda/envs/cell2sentence/lib/python3.8/site-packages/huggingface_hub/file_download.py:309\u001b[0m, in \u001b[0;36m_request_wrapper\u001b[0;34m(method, url, follow_relative_redirects, **params)\u001b[0m\n\u001b[1;32m    306\u001b[0m     \u001b[38;5;28;01mreturn\u001b[39;00m response\n\u001b[1;32m    308\u001b[0m \u001b[38;5;66;03m# Perform request and return if status_code is not in the retry list.\u001b[39;00m\n\u001b[0;32m--> 309\u001b[0m response \u001b[38;5;241m=\u001b[39m \u001b[43mhttp_backoff\u001b[49m\u001b[43m(\u001b[49m\u001b[43mmethod\u001b[49m\u001b[38;5;241;43m=\u001b[39;49m\u001b[43mmethod\u001b[49m\u001b[43m,\u001b[49m\u001b[43m \u001b[49m\u001b[43murl\u001b[49m\u001b[38;5;241;43m=\u001b[39;49m\u001b[43murl\u001b[49m\u001b[43m,\u001b[49m\u001b[43m \u001b[49m\u001b[38;5;241;43m*\u001b[39;49m\u001b[38;5;241;43m*\u001b[39;49m\u001b[43mparams\u001b[49m\u001b[43m)\u001b[49m\n\u001b[1;32m    310\u001b[0m hf_raise_for_status(response)\n\u001b[1;32m    311\u001b[0m \u001b[38;5;28;01mreturn\u001b[39;00m response\n",
      "File \u001b[0;32m~/.conda/envs/cell2sentence/lib/python3.8/site-packages/huggingface_hub/utils/_http.py:308\u001b[0m, in \u001b[0;36mhttp_backoff\u001b[0;34m(method, url, max_retries, base_wait_time, max_wait_time, retry_on_exceptions, retry_on_status_codes, **kwargs)\u001b[0m\n\u001b[1;32m    305\u001b[0m     kwargs[\u001b[38;5;124m\"\u001b[39m\u001b[38;5;124mdata\u001b[39m\u001b[38;5;124m\"\u001b[39m]\u001b[38;5;241m.\u001b[39mseek(io_obj_initial_pos)\n\u001b[1;32m    307\u001b[0m \u001b[38;5;66;03m# Perform request and return if status_code is not in the retry list.\u001b[39;00m\n\u001b[0;32m--> 308\u001b[0m response \u001b[38;5;241m=\u001b[39m \u001b[43msession\u001b[49m\u001b[38;5;241;43m.\u001b[39;49m\u001b[43mrequest\u001b[49m\u001b[43m(\u001b[49m\u001b[43mmethod\u001b[49m\u001b[38;5;241;43m=\u001b[39;49m\u001b[43mmethod\u001b[49m\u001b[43m,\u001b[49m\u001b[43m \u001b[49m\u001b[43murl\u001b[49m\u001b[38;5;241;43m=\u001b[39;49m\u001b[43murl\u001b[49m\u001b[43m,\u001b[49m\u001b[43m \u001b[49m\u001b[38;5;241;43m*\u001b[39;49m\u001b[38;5;241;43m*\u001b[39;49m\u001b[43mkwargs\u001b[49m\u001b[43m)\u001b[49m\n\u001b[1;32m    309\u001b[0m \u001b[38;5;28;01mif\u001b[39;00m response\u001b[38;5;241m.\u001b[39mstatus_code \u001b[38;5;129;01mnot\u001b[39;00m \u001b[38;5;129;01min\u001b[39;00m retry_on_status_codes:\n\u001b[1;32m    310\u001b[0m     \u001b[38;5;28;01mreturn\u001b[39;00m response\n",
      "File \u001b[0;32m~/.conda/envs/cell2sentence/lib/python3.8/site-packages/requests/sessions.py:589\u001b[0m, in \u001b[0;36mSession.request\u001b[0;34m(self, method, url, params, data, headers, cookies, files, auth, timeout, allow_redirects, proxies, hooks, stream, verify, cert, json)\u001b[0m\n\u001b[1;32m    584\u001b[0m send_kwargs \u001b[38;5;241m=\u001b[39m {\n\u001b[1;32m    585\u001b[0m     \u001b[38;5;124m\"\u001b[39m\u001b[38;5;124mtimeout\u001b[39m\u001b[38;5;124m\"\u001b[39m: timeout,\n\u001b[1;32m    586\u001b[0m     \u001b[38;5;124m\"\u001b[39m\u001b[38;5;124mallow_redirects\u001b[39m\u001b[38;5;124m\"\u001b[39m: allow_redirects,\n\u001b[1;32m    587\u001b[0m }\n\u001b[1;32m    588\u001b[0m send_kwargs\u001b[38;5;241m.\u001b[39mupdate(settings)\n\u001b[0;32m--> 589\u001b[0m resp \u001b[38;5;241m=\u001b[39m \u001b[38;5;28;43mself\u001b[39;49m\u001b[38;5;241;43m.\u001b[39;49m\u001b[43msend\u001b[49m\u001b[43m(\u001b[49m\u001b[43mprep\u001b[49m\u001b[43m,\u001b[49m\u001b[43m \u001b[49m\u001b[38;5;241;43m*\u001b[39;49m\u001b[38;5;241;43m*\u001b[39;49m\u001b[43msend_kwargs\u001b[49m\u001b[43m)\u001b[49m\n\u001b[1;32m    591\u001b[0m \u001b[38;5;28;01mreturn\u001b[39;00m resp\n",
      "File \u001b[0;32m~/.conda/envs/cell2sentence/lib/python3.8/site-packages/requests/sessions.py:703\u001b[0m, in \u001b[0;36mSession.send\u001b[0;34m(self, request, **kwargs)\u001b[0m\n\u001b[1;32m    700\u001b[0m start \u001b[38;5;241m=\u001b[39m preferred_clock()\n\u001b[1;32m    702\u001b[0m \u001b[38;5;66;03m# Send the request\u001b[39;00m\n\u001b[0;32m--> 703\u001b[0m r \u001b[38;5;241m=\u001b[39m \u001b[43madapter\u001b[49m\u001b[38;5;241;43m.\u001b[39;49m\u001b[43msend\u001b[49m\u001b[43m(\u001b[49m\u001b[43mrequest\u001b[49m\u001b[43m,\u001b[49m\u001b[43m \u001b[49m\u001b[38;5;241;43m*\u001b[39;49m\u001b[38;5;241;43m*\u001b[39;49m\u001b[43mkwargs\u001b[49m\u001b[43m)\u001b[49m\n\u001b[1;32m    705\u001b[0m \u001b[38;5;66;03m# Total elapsed time of the request (approximately)\u001b[39;00m\n\u001b[1;32m    706\u001b[0m elapsed \u001b[38;5;241m=\u001b[39m preferred_clock() \u001b[38;5;241m-\u001b[39m start\n",
      "File \u001b[0;32m~/.conda/envs/cell2sentence/lib/python3.8/site-packages/huggingface_hub/utils/_http.py:95\u001b[0m, in \u001b[0;36mUniqueRequestIdAdapter.send\u001b[0;34m(self, request, *args, **kwargs)\u001b[0m\n\u001b[1;32m     93\u001b[0m     logger\u001b[38;5;241m.\u001b[39mdebug(\u001b[38;5;124mf\u001b[39m\u001b[38;5;124m\"\u001b[39m\u001b[38;5;124mSend: \u001b[39m\u001b[38;5;132;01m{\u001b[39;00m_curlify(request)\u001b[38;5;132;01m}\u001b[39;00m\u001b[38;5;124m\"\u001b[39m)\n\u001b[1;32m     94\u001b[0m \u001b[38;5;28;01mtry\u001b[39;00m:\n\u001b[0;32m---> 95\u001b[0m     \u001b[38;5;28;01mreturn\u001b[39;00m \u001b[38;5;28;43msuper\u001b[39;49m\u001b[43m(\u001b[49m\u001b[43m)\u001b[49m\u001b[38;5;241;43m.\u001b[39;49m\u001b[43msend\u001b[49m\u001b[43m(\u001b[49m\u001b[43mrequest\u001b[49m\u001b[43m,\u001b[49m\u001b[43m \u001b[49m\u001b[38;5;241;43m*\u001b[39;49m\u001b[43margs\u001b[49m\u001b[43m,\u001b[49m\u001b[43m \u001b[49m\u001b[38;5;241;43m*\u001b[39;49m\u001b[38;5;241;43m*\u001b[39;49m\u001b[43mkwargs\u001b[49m\u001b[43m)\u001b[49m\n\u001b[1;32m     96\u001b[0m \u001b[38;5;28;01mexcept\u001b[39;00m requests\u001b[38;5;241m.\u001b[39mRequestException \u001b[38;5;28;01mas\u001b[39;00m e:\n\u001b[1;32m     97\u001b[0m     request_id \u001b[38;5;241m=\u001b[39m request\u001b[38;5;241m.\u001b[39mheaders\u001b[38;5;241m.\u001b[39mget(X_AMZN_TRACE_ID)\n",
      "File \u001b[0;32m~/.conda/envs/cell2sentence/lib/python3.8/site-packages/requests/adapters.py:667\u001b[0m, in \u001b[0;36mHTTPAdapter.send\u001b[0;34m(self, request, stream, timeout, verify, cert, proxies)\u001b[0m\n\u001b[1;32m    664\u001b[0m     timeout \u001b[38;5;241m=\u001b[39m TimeoutSauce(connect\u001b[38;5;241m=\u001b[39mtimeout, read\u001b[38;5;241m=\u001b[39mtimeout)\n\u001b[1;32m    666\u001b[0m \u001b[38;5;28;01mtry\u001b[39;00m:\n\u001b[0;32m--> 667\u001b[0m     resp \u001b[38;5;241m=\u001b[39m \u001b[43mconn\u001b[49m\u001b[38;5;241;43m.\u001b[39;49m\u001b[43murlopen\u001b[49m\u001b[43m(\u001b[49m\n\u001b[1;32m    668\u001b[0m \u001b[43m        \u001b[49m\u001b[43mmethod\u001b[49m\u001b[38;5;241;43m=\u001b[39;49m\u001b[43mrequest\u001b[49m\u001b[38;5;241;43m.\u001b[39;49m\u001b[43mmethod\u001b[49m\u001b[43m,\u001b[49m\n\u001b[1;32m    669\u001b[0m \u001b[43m        \u001b[49m\u001b[43murl\u001b[49m\u001b[38;5;241;43m=\u001b[39;49m\u001b[43murl\u001b[49m\u001b[43m,\u001b[49m\n\u001b[1;32m    670\u001b[0m \u001b[43m        \u001b[49m\u001b[43mbody\u001b[49m\u001b[38;5;241;43m=\u001b[39;49m\u001b[43mrequest\u001b[49m\u001b[38;5;241;43m.\u001b[39;49m\u001b[43mbody\u001b[49m\u001b[43m,\u001b[49m\n\u001b[1;32m    671\u001b[0m \u001b[43m        \u001b[49m\u001b[43mheaders\u001b[49m\u001b[38;5;241;43m=\u001b[39;49m\u001b[43mrequest\u001b[49m\u001b[38;5;241;43m.\u001b[39;49m\u001b[43mheaders\u001b[49m\u001b[43m,\u001b[49m\n\u001b[1;32m    672\u001b[0m \u001b[43m        \u001b[49m\u001b[43mredirect\u001b[49m\u001b[38;5;241;43m=\u001b[39;49m\u001b[38;5;28;43;01mFalse\u001b[39;49;00m\u001b[43m,\u001b[49m\n\u001b[1;32m    673\u001b[0m \u001b[43m        \u001b[49m\u001b[43massert_same_host\u001b[49m\u001b[38;5;241;43m=\u001b[39;49m\u001b[38;5;28;43;01mFalse\u001b[39;49;00m\u001b[43m,\u001b[49m\n\u001b[1;32m    674\u001b[0m \u001b[43m        \u001b[49m\u001b[43mpreload_content\u001b[49m\u001b[38;5;241;43m=\u001b[39;49m\u001b[38;5;28;43;01mFalse\u001b[39;49;00m\u001b[43m,\u001b[49m\n\u001b[1;32m    675\u001b[0m \u001b[43m        \u001b[49m\u001b[43mdecode_content\u001b[49m\u001b[38;5;241;43m=\u001b[39;49m\u001b[38;5;28;43;01mFalse\u001b[39;49;00m\u001b[43m,\u001b[49m\n\u001b[1;32m    676\u001b[0m \u001b[43m        \u001b[49m\u001b[43mretries\u001b[49m\u001b[38;5;241;43m=\u001b[39;49m\u001b[38;5;28;43mself\u001b[39;49m\u001b[38;5;241;43m.\u001b[39;49m\u001b[43mmax_retries\u001b[49m\u001b[43m,\u001b[49m\n\u001b[1;32m    677\u001b[0m \u001b[43m        \u001b[49m\u001b[43mtimeout\u001b[49m\u001b[38;5;241;43m=\u001b[39;49m\u001b[43mtimeout\u001b[49m\u001b[43m,\u001b[49m\n\u001b[1;32m    678\u001b[0m \u001b[43m        \u001b[49m\u001b[43mchunked\u001b[49m\u001b[38;5;241;43m=\u001b[39;49m\u001b[43mchunked\u001b[49m\u001b[43m,\u001b[49m\n\u001b[1;32m    679\u001b[0m \u001b[43m    \u001b[49m\u001b[43m)\u001b[49m\n\u001b[1;32m    681\u001b[0m \u001b[38;5;28;01mexcept\u001b[39;00m (ProtocolError, \u001b[38;5;167;01mOSError\u001b[39;00m) \u001b[38;5;28;01mas\u001b[39;00m err:\n\u001b[1;32m    682\u001b[0m     \u001b[38;5;28;01mraise\u001b[39;00m \u001b[38;5;167;01mConnectionError\u001b[39;00m(err, request\u001b[38;5;241m=\u001b[39mrequest)\n",
      "File \u001b[0;32m~/.conda/envs/cell2sentence/lib/python3.8/site-packages/urllib3/connectionpool.py:789\u001b[0m, in \u001b[0;36mHTTPConnectionPool.urlopen\u001b[0;34m(self, method, url, body, headers, retries, redirect, assert_same_host, timeout, pool_timeout, release_conn, chunked, body_pos, preload_content, decode_content, **response_kw)\u001b[0m\n\u001b[1;32m    786\u001b[0m response_conn \u001b[38;5;241m=\u001b[39m conn \u001b[38;5;28;01mif\u001b[39;00m \u001b[38;5;129;01mnot\u001b[39;00m release_conn \u001b[38;5;28;01melse\u001b[39;00m \u001b[38;5;28;01mNone\u001b[39;00m\n\u001b[1;32m    788\u001b[0m \u001b[38;5;66;03m# Make the request on the HTTPConnection object\u001b[39;00m\n\u001b[0;32m--> 789\u001b[0m response \u001b[38;5;241m=\u001b[39m \u001b[38;5;28;43mself\u001b[39;49m\u001b[38;5;241;43m.\u001b[39;49m\u001b[43m_make_request\u001b[49m\u001b[43m(\u001b[49m\n\u001b[1;32m    790\u001b[0m \u001b[43m    \u001b[49m\u001b[43mconn\u001b[49m\u001b[43m,\u001b[49m\n\u001b[1;32m    791\u001b[0m \u001b[43m    \u001b[49m\u001b[43mmethod\u001b[49m\u001b[43m,\u001b[49m\n\u001b[1;32m    792\u001b[0m \u001b[43m    \u001b[49m\u001b[43murl\u001b[49m\u001b[43m,\u001b[49m\n\u001b[1;32m    793\u001b[0m \u001b[43m    \u001b[49m\u001b[43mtimeout\u001b[49m\u001b[38;5;241;43m=\u001b[39;49m\u001b[43mtimeout_obj\u001b[49m\u001b[43m,\u001b[49m\n\u001b[1;32m    794\u001b[0m \u001b[43m    \u001b[49m\u001b[43mbody\u001b[49m\u001b[38;5;241;43m=\u001b[39;49m\u001b[43mbody\u001b[49m\u001b[43m,\u001b[49m\n\u001b[1;32m    795\u001b[0m \u001b[43m    \u001b[49m\u001b[43mheaders\u001b[49m\u001b[38;5;241;43m=\u001b[39;49m\u001b[43mheaders\u001b[49m\u001b[43m,\u001b[49m\n\u001b[1;32m    796\u001b[0m \u001b[43m    \u001b[49m\u001b[43mchunked\u001b[49m\u001b[38;5;241;43m=\u001b[39;49m\u001b[43mchunked\u001b[49m\u001b[43m,\u001b[49m\n\u001b[1;32m    797\u001b[0m \u001b[43m    \u001b[49m\u001b[43mretries\u001b[49m\u001b[38;5;241;43m=\u001b[39;49m\u001b[43mretries\u001b[49m\u001b[43m,\u001b[49m\n\u001b[1;32m    798\u001b[0m \u001b[43m    \u001b[49m\u001b[43mresponse_conn\u001b[49m\u001b[38;5;241;43m=\u001b[39;49m\u001b[43mresponse_conn\u001b[49m\u001b[43m,\u001b[49m\n\u001b[1;32m    799\u001b[0m \u001b[43m    \u001b[49m\u001b[43mpreload_content\u001b[49m\u001b[38;5;241;43m=\u001b[39;49m\u001b[43mpreload_content\u001b[49m\u001b[43m,\u001b[49m\n\u001b[1;32m    800\u001b[0m \u001b[43m    \u001b[49m\u001b[43mdecode_content\u001b[49m\u001b[38;5;241;43m=\u001b[39;49m\u001b[43mdecode_content\u001b[49m\u001b[43m,\u001b[49m\n\u001b[1;32m    801\u001b[0m \u001b[43m    \u001b[49m\u001b[38;5;241;43m*\u001b[39;49m\u001b[38;5;241;43m*\u001b[39;49m\u001b[43mresponse_kw\u001b[49m\u001b[43m,\u001b[49m\n\u001b[1;32m    802\u001b[0m \u001b[43m\u001b[49m\u001b[43m)\u001b[49m\n\u001b[1;32m    804\u001b[0m \u001b[38;5;66;03m# Everything went great!\u001b[39;00m\n\u001b[1;32m    805\u001b[0m clean_exit \u001b[38;5;241m=\u001b[39m \u001b[38;5;28;01mTrue\u001b[39;00m\n",
      "File \u001b[0;32m~/.conda/envs/cell2sentence/lib/python3.8/site-packages/urllib3/connectionpool.py:536\u001b[0m, in \u001b[0;36mHTTPConnectionPool._make_request\u001b[0;34m(self, conn, method, url, body, headers, retries, timeout, chunked, response_conn, preload_content, decode_content, enforce_content_length)\u001b[0m\n\u001b[1;32m    534\u001b[0m \u001b[38;5;66;03m# Receive the response from the server\u001b[39;00m\n\u001b[1;32m    535\u001b[0m \u001b[38;5;28;01mtry\u001b[39;00m:\n\u001b[0;32m--> 536\u001b[0m     response \u001b[38;5;241m=\u001b[39m \u001b[43mconn\u001b[49m\u001b[38;5;241;43m.\u001b[39;49m\u001b[43mgetresponse\u001b[49m\u001b[43m(\u001b[49m\u001b[43m)\u001b[49m\n\u001b[1;32m    537\u001b[0m \u001b[38;5;28;01mexcept\u001b[39;00m (BaseSSLError, \u001b[38;5;167;01mOSError\u001b[39;00m) \u001b[38;5;28;01mas\u001b[39;00m e:\n\u001b[1;32m    538\u001b[0m     \u001b[38;5;28mself\u001b[39m\u001b[38;5;241m.\u001b[39m_raise_timeout(err\u001b[38;5;241m=\u001b[39me, url\u001b[38;5;241m=\u001b[39murl, timeout_value\u001b[38;5;241m=\u001b[39mread_timeout)\n",
      "File \u001b[0;32m~/.conda/envs/cell2sentence/lib/python3.8/site-packages/urllib3/connection.py:507\u001b[0m, in \u001b[0;36mHTTPConnection.getresponse\u001b[0;34m(self)\u001b[0m\n\u001b[1;32m    504\u001b[0m \u001b[38;5;28;01mfrom\u001b[39;00m \u001b[38;5;21;01m.\u001b[39;00m\u001b[38;5;21;01mresponse\u001b[39;00m \u001b[38;5;28;01mimport\u001b[39;00m HTTPResponse\n\u001b[1;32m    506\u001b[0m \u001b[38;5;66;03m# Get the response from http.client.HTTPConnection\u001b[39;00m\n\u001b[0;32m--> 507\u001b[0m httplib_response \u001b[38;5;241m=\u001b[39m \u001b[38;5;28;43msuper\u001b[39;49m\u001b[43m(\u001b[49m\u001b[43m)\u001b[49m\u001b[38;5;241;43m.\u001b[39;49m\u001b[43mgetresponse\u001b[49m\u001b[43m(\u001b[49m\u001b[43m)\u001b[49m\n\u001b[1;32m    509\u001b[0m \u001b[38;5;28;01mtry\u001b[39;00m:\n\u001b[1;32m    510\u001b[0m     assert_header_parsing(httplib_response\u001b[38;5;241m.\u001b[39mmsg)\n",
      "File \u001b[0;32m~/.conda/envs/cell2sentence/lib/python3.8/http/client.py:1348\u001b[0m, in \u001b[0;36mHTTPConnection.getresponse\u001b[0;34m(self)\u001b[0m\n\u001b[1;32m   1346\u001b[0m \u001b[38;5;28;01mtry\u001b[39;00m:\n\u001b[1;32m   1347\u001b[0m     \u001b[38;5;28;01mtry\u001b[39;00m:\n\u001b[0;32m-> 1348\u001b[0m         \u001b[43mresponse\u001b[49m\u001b[38;5;241;43m.\u001b[39;49m\u001b[43mbegin\u001b[49m\u001b[43m(\u001b[49m\u001b[43m)\u001b[49m\n\u001b[1;32m   1349\u001b[0m     \u001b[38;5;28;01mexcept\u001b[39;00m \u001b[38;5;167;01mConnectionError\u001b[39;00m:\n\u001b[1;32m   1350\u001b[0m         \u001b[38;5;28mself\u001b[39m\u001b[38;5;241m.\u001b[39mclose()\n",
      "File \u001b[0;32m~/.conda/envs/cell2sentence/lib/python3.8/http/client.py:316\u001b[0m, in \u001b[0;36mHTTPResponse.begin\u001b[0;34m(self)\u001b[0m\n\u001b[1;32m    314\u001b[0m \u001b[38;5;66;03m# read until we get a non-100 response\u001b[39;00m\n\u001b[1;32m    315\u001b[0m \u001b[38;5;28;01mwhile\u001b[39;00m \u001b[38;5;28;01mTrue\u001b[39;00m:\n\u001b[0;32m--> 316\u001b[0m     version, status, reason \u001b[38;5;241m=\u001b[39m \u001b[38;5;28;43mself\u001b[39;49m\u001b[38;5;241;43m.\u001b[39;49m\u001b[43m_read_status\u001b[49m\u001b[43m(\u001b[49m\u001b[43m)\u001b[49m\n\u001b[1;32m    317\u001b[0m     \u001b[38;5;28;01mif\u001b[39;00m status \u001b[38;5;241m!=\u001b[39m CONTINUE:\n\u001b[1;32m    318\u001b[0m         \u001b[38;5;28;01mbreak\u001b[39;00m\n",
      "File \u001b[0;32m~/.conda/envs/cell2sentence/lib/python3.8/http/client.py:277\u001b[0m, in \u001b[0;36mHTTPResponse._read_status\u001b[0;34m(self)\u001b[0m\n\u001b[1;32m    276\u001b[0m \u001b[38;5;28;01mdef\u001b[39;00m \u001b[38;5;21m_read_status\u001b[39m(\u001b[38;5;28mself\u001b[39m):\n\u001b[0;32m--> 277\u001b[0m     line \u001b[38;5;241m=\u001b[39m \u001b[38;5;28mstr\u001b[39m(\u001b[38;5;28;43mself\u001b[39;49m\u001b[38;5;241;43m.\u001b[39;49m\u001b[43mfp\u001b[49m\u001b[38;5;241;43m.\u001b[39;49m\u001b[43mreadline\u001b[49m\u001b[43m(\u001b[49m\u001b[43m_MAXLINE\u001b[49m\u001b[43m \u001b[49m\u001b[38;5;241;43m+\u001b[39;49m\u001b[43m \u001b[49m\u001b[38;5;241;43m1\u001b[39;49m\u001b[43m)\u001b[49m, \u001b[38;5;124m\"\u001b[39m\u001b[38;5;124miso-8859-1\u001b[39m\u001b[38;5;124m\"\u001b[39m)\n\u001b[1;32m    278\u001b[0m     \u001b[38;5;28;01mif\u001b[39;00m \u001b[38;5;28mlen\u001b[39m(line) \u001b[38;5;241m>\u001b[39m _MAXLINE:\n\u001b[1;32m    279\u001b[0m         \u001b[38;5;28;01mraise\u001b[39;00m LineTooLong(\u001b[38;5;124m\"\u001b[39m\u001b[38;5;124mstatus line\u001b[39m\u001b[38;5;124m\"\u001b[39m)\n",
      "File \u001b[0;32m~/.conda/envs/cell2sentence/lib/python3.8/socket.py:681\u001b[0m, in \u001b[0;36mSocketIO.readinto\u001b[0;34m(self, b)\u001b[0m\n\u001b[1;32m    679\u001b[0m \u001b[38;5;28;01mwhile\u001b[39;00m \u001b[38;5;28;01mTrue\u001b[39;00m:\n\u001b[1;32m    680\u001b[0m     \u001b[38;5;28;01mtry\u001b[39;00m:\n\u001b[0;32m--> 681\u001b[0m         \u001b[38;5;28;01mreturn\u001b[39;00m \u001b[38;5;28;43mself\u001b[39;49m\u001b[38;5;241;43m.\u001b[39;49m\u001b[43m_sock\u001b[49m\u001b[38;5;241;43m.\u001b[39;49m\u001b[43mrecv_into\u001b[49m\u001b[43m(\u001b[49m\u001b[43mb\u001b[49m\u001b[43m)\u001b[49m\n\u001b[1;32m    682\u001b[0m     \u001b[38;5;28;01mexcept\u001b[39;00m timeout:\n\u001b[1;32m    683\u001b[0m         \u001b[38;5;28mself\u001b[39m\u001b[38;5;241m.\u001b[39m_timeout_occurred \u001b[38;5;241m=\u001b[39m \u001b[38;5;28;01mTrue\u001b[39;00m\n",
      "File \u001b[0;32m~/.conda/envs/cell2sentence/lib/python3.8/ssl.py:1274\u001b[0m, in \u001b[0;36mSSLSocket.recv_into\u001b[0;34m(self, buffer, nbytes, flags)\u001b[0m\n\u001b[1;32m   1270\u001b[0m     \u001b[38;5;28;01mif\u001b[39;00m flags \u001b[38;5;241m!=\u001b[39m \u001b[38;5;241m0\u001b[39m:\n\u001b[1;32m   1271\u001b[0m         \u001b[38;5;28;01mraise\u001b[39;00m \u001b[38;5;167;01mValueError\u001b[39;00m(\n\u001b[1;32m   1272\u001b[0m           \u001b[38;5;124m\"\u001b[39m\u001b[38;5;124mnon-zero flags not allowed in calls to recv_into() on \u001b[39m\u001b[38;5;132;01m%s\u001b[39;00m\u001b[38;5;124m\"\u001b[39m \u001b[38;5;241m%\u001b[39m\n\u001b[1;32m   1273\u001b[0m           \u001b[38;5;28mself\u001b[39m\u001b[38;5;241m.\u001b[39m\u001b[38;5;18m__class__\u001b[39m)\n\u001b[0;32m-> 1274\u001b[0m     \u001b[38;5;28;01mreturn\u001b[39;00m \u001b[38;5;28;43mself\u001b[39;49m\u001b[38;5;241;43m.\u001b[39;49m\u001b[43mread\u001b[49m\u001b[43m(\u001b[49m\u001b[43mnbytes\u001b[49m\u001b[43m,\u001b[49m\u001b[43m \u001b[49m\u001b[43mbuffer\u001b[49m\u001b[43m)\u001b[49m\n\u001b[1;32m   1275\u001b[0m \u001b[38;5;28;01melse\u001b[39;00m:\n\u001b[1;32m   1276\u001b[0m     \u001b[38;5;28;01mreturn\u001b[39;00m \u001b[38;5;28msuper\u001b[39m()\u001b[38;5;241m.\u001b[39mrecv_into(buffer, nbytes, flags)\n",
      "File \u001b[0;32m~/.conda/envs/cell2sentence/lib/python3.8/ssl.py:1132\u001b[0m, in \u001b[0;36mSSLSocket.read\u001b[0;34m(self, len, buffer)\u001b[0m\n\u001b[1;32m   1130\u001b[0m \u001b[38;5;28;01mtry\u001b[39;00m:\n\u001b[1;32m   1131\u001b[0m     \u001b[38;5;28;01mif\u001b[39;00m buffer \u001b[38;5;129;01mis\u001b[39;00m \u001b[38;5;129;01mnot\u001b[39;00m \u001b[38;5;28;01mNone\u001b[39;00m:\n\u001b[0;32m-> 1132\u001b[0m         \u001b[38;5;28;01mreturn\u001b[39;00m \u001b[38;5;28;43mself\u001b[39;49m\u001b[38;5;241;43m.\u001b[39;49m\u001b[43m_sslobj\u001b[49m\u001b[38;5;241;43m.\u001b[39;49m\u001b[43mread\u001b[49m\u001b[43m(\u001b[49m\u001b[38;5;28;43mlen\u001b[39;49m\u001b[43m,\u001b[49m\u001b[43m \u001b[49m\u001b[43mbuffer\u001b[49m\u001b[43m)\u001b[49m\n\u001b[1;32m   1133\u001b[0m     \u001b[38;5;28;01melse\u001b[39;00m:\n\u001b[1;32m   1134\u001b[0m         \u001b[38;5;28;01mreturn\u001b[39;00m \u001b[38;5;28mself\u001b[39m\u001b[38;5;241m.\u001b[39m_sslobj\u001b[38;5;241m.\u001b[39mread(\u001b[38;5;28mlen\u001b[39m)\n",
      "\u001b[0;31mKeyboardInterrupt\u001b[0m: "
     ]
    }
   ],
   "source": [
    "from transformers import GPTNeoXForCausalLM, AutoTokenizer\n",
    "import torch\n",
    "\n",
    "# Check if CUDA is available and set device\n",
    "device = torch.device(\"cuda\" if torch.cuda.is_available() else \"cpu\")\n",
    "print(f\"Using device: {device}\")\n",
    "\n",
    "model = GPTNeoXForCausalLM.from_pretrained(\n",
    "  \"EleutherAI/pythia-1b-deduped\",\n",
    "  revision=\"step143000\",\n",
    "  cache_dir=\"./models/pythia/pythia-1b-deduped/step143000\",\n",
    "  torch_dtype=torch.bfloat16 if device.type == \"cuda\" else torch.float32\n",
    ")\n",
    "\n",
    "# Move model to GPU\n",
    "model = model.to(device)\n",
    "print(f\"Model loaded on device: {model.device}\")\n",
    "\n",
    "tokenizer = AutoTokenizer.from_pretrained(\n",
    "  \"EleutherAI/pythia-1b-deduped\",\n",
    "  revision=\"step143000\",\n",
    "  cache_dir=\"./models/pythia/pythia-1b-deduped/step143000\",\n",
    ")\n",
    "\n",
    "input_prompt = \"\"\"The following is a list of around 200 gene names ordered by descending expression level in a human cell. Your task is to classify the cell as fast or slow growing. Respond either with \"fast\" or \"slow\".\n",
    "Cell sentence: MT-CO3 TMSB4X FTL MT-CO2 RPS27 MT-CO1 EEF1A1 RPS14 RPL34 FTH1 RPS18 MT-ND4 RPLP1 RPL37 RPS29 MT-ATP6 RPS4X RPL13A MT-CYB RPS8 RPS2 RPS19 TPT1 RPL28 RPL32 RPS3 RPS7 RPS27A MT-ND1 RPL37A MT-ND2 RPS12 RPS3A RPL21 RPL13 ACTB RPL39 RPL6 RPL9 RPS24 RPL27A RPL11 RPS28 RPS15 RPS11 RPL15 RPLP0 OAZ1 RPL10 RPL30 MT-ND3 RPS20 RPS15A RPL35 RPL41 YBX1 RPL5 RPS23 RPL29 RPL8 RPL19 RPL14 TMA7 RPL4 RPL10A RPL18A TYROBP RPLP2 RPS17 RPL7 UBA52 GAPDH UQCRH PTMA CFD HMGB1 RPL12 PFN1 RPS25 RPL35A RPSA B2M RPL24 COX7C UQCR11 SUB1 RPL36 HMGN1 RPL18 COX5B SRP14 VIM LST1 PTP4A2 CFL1 SUMO2 NACA RPL7A SH3BGRL3 PRAME SERF2 TMSB10 COX8A FAU CEBPE RPL23 EDF1 CSF3R CHCHD2 SNX3 MPC2 LMO4 PRR13 MSN DBI FAM118A NDUFS5 UBE2L3 MTCH1 COX7A2 FKBP1A RPS6 EIF2S2 RPS21 RPS26 GPX4 LSM6 CAP1 RPL22 HMGN2 MS4A3 PET100 PFDN5 UBL5 RPL23A LSM2 CDCA7 NUCKS1 ITM2B LDHB HMGN3 AURKAIP1 LAMTOR4 RPL27 RPS16 COTL1 PGAM1 ZNF207 UBB UBC COX4I1 GTF2I SLC25A3 PPIA RPS13 PGP TMBIM6 COX7B MYL6 ARHGDIB LGALS1 AGO1 HSP90AA1\n",
    "The cell grows:\"\"\"\n",
    "\n",
    "inputs = tokenizer(input_prompt, return_tensors=\"pt\", truncation=True, max_length=1024)\n",
    "# Move inputs to the same device as model\n",
    "inputs = {k: v.to(device) for k, v in inputs.items()}\n",
    "\n",
    "tokens = model.generate(\n",
    "    **inputs, \n",
    "    max_new_tokens=50,  # Generate up to 50 new tokens\n",
    "    temperature=0.7,\n",
    "    do_sample=True,\n",
    "    pad_token_id=tokenizer.eos_token_id\n",
    ")\n",
    "print(tokenizer.decode(tokens[0]))"
   ]
  },
  {
   "cell_type": "code",
   "execution_count": null,
   "id": "34038314",
   "metadata": {},
   "outputs": [],
   "source": []
  }
 ],
 "metadata": {
  "kernelspec": {
   "display_name": "Python 3 (ipykernel)",
   "language": "python",
   "name": "python3"
  },
  "language_info": {
   "codemirror_mode": {
    "name": "ipython",
    "version": 3
   },
   "file_extension": ".py",
   "mimetype": "text/x-python",
   "name": "python",
   "nbconvert_exporter": "python",
   "pygments_lexer": "ipython3",
   "version": "3.8.20"
  }
 },
 "nbformat": 4,
 "nbformat_minor": 5
}
